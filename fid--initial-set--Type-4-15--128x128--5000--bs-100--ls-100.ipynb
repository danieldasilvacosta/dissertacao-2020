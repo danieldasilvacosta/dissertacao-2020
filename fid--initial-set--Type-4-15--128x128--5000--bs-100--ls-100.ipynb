{
 "cells": [
  {
   "cell_type": "code",
   "execution_count": 1,
   "metadata": {},
   "outputs": [],
   "source": [
    "images_dimensions = 128\n",
    "attribute = 'initial-set--Type-4-15'\n",
    "totalInputImages = 5000\n",
    "BATCH_SIZE = 100\n",
    "latent_dim = 100"
   ]
  },
  {
   "cell_type": "code",
   "execution_count": 2,
   "metadata": {},
   "outputs": [],
   "source": [
    "IMAGES_FOLDER = './images/'\n",
    "folderDimensionsSufix = str( images_dimensions ) + 'x' + str( images_dimensions )\n",
    "\n",
    "padronizedFolder = f'{IMAGES_FOLDER}padronized--{attribute}--{folderDimensionsSufix}--{totalInputImages}--bs-{BATCH_SIZE}--ls-{latent_dim}/'"
   ]
  },
  {
   "cell_type": "code",
   "execution_count": 3,
   "metadata": {},
   "outputs": [],
   "source": [
    "trainedModelFolder = f'./trained-model--{attribute}--{folderDimensionsSufix}--{totalInputImages}--bs-{BATCH_SIZE}--ls-{latent_dim}/'\n",
    "generatedFolder = trainedModelFolder + 'generated/'"
   ]
  },
  {
   "cell_type": "code",
   "execution_count": 4,
   "metadata": {},
   "outputs": [
    {
     "name": "stderr",
     "output_type": "stream",
     "text": [
      "Using TensorFlow backend.\n"
     ]
    },
    {
     "name": "stdout",
     "output_type": "stream",
     "text": [
      "\n",
      "Processing...\n"
     ]
    },
    {
     "name": "stderr",
     "output_type": "stream",
     "text": [
      "100%|██████████| 5000/5000 [01:12<00:00, 68.82it/s]\n",
      "100%|██████████| 30/30 [00:00<00:00, 197.62it/s]"
     ]
    },
    {
     "name": "stdout",
     "output_type": "stream",
     "text": [
      "\n",
      "--------------------------------\n",
      "\n",
      "Epoch: 1\n"
     ]
    },
    {
     "name": "stderr",
     "output_type": "stream",
     "text": [
      "\n",
      " 63%|██████▎   | 19/30 [00:00<00:00, 185.14it/s]"
     ]
    },
    {
     "name": "stdout",
     "output_type": "stream",
     "text": [
      "\n",
      "FID: 434.4067\n",
      "Time: 0.13 min\n",
      "\n",
      "-- Partial --\n",
      "Best Epoch: epoch-1\n",
      "Best FID: 434.4067\n",
      "\n",
      "--------------------------------\n",
      "\n",
      "Epoch: 2\n"
     ]
    },
    {
     "name": "stderr",
     "output_type": "stream",
     "text": [
      "100%|██████████| 30/30 [00:00<00:00, 134.22it/s]\n",
      " 57%|█████▋    | 17/30 [00:00<00:00, 167.89it/s]"
     ]
    },
    {
     "name": "stdout",
     "output_type": "stream",
     "text": [
      "\n",
      "FID: 513.8948\n",
      "Time: 0.11 min\n",
      "\n",
      "-- Partial --\n",
      "Best Epoch: epoch-1\n",
      "Best FID: 434.4067\n",
      "\n",
      "--------------------------------\n",
      "\n",
      "Epoch: 3\n"
     ]
    },
    {
     "name": "stderr",
     "output_type": "stream",
     "text": [
      "100%|██████████| 30/30 [00:00<00:00, 177.19it/s]\n",
      " 60%|██████    | 18/30 [00:00<00:00, 176.25it/s]"
     ]
    },
    {
     "name": "stdout",
     "output_type": "stream",
     "text": [
      "\n",
      "FID: 417.4906\n",
      "Time: 0.12 min\n",
      "\n",
      "-- Partial --\n",
      "Best Epoch: epoch-3\n",
      "Best FID: 417.4906\n",
      "\n",
      "--------------------------------\n",
      "\n",
      "Epoch: 4\n"
     ]
    },
    {
     "name": "stderr",
     "output_type": "stream",
     "text": [
      "100%|██████████| 30/30 [00:00<00:00, 183.15it/s]\n",
      " 57%|█████▋    | 17/30 [00:00<00:00, 169.93it/s]"
     ]
    },
    {
     "name": "stdout",
     "output_type": "stream",
     "text": [
      "\n",
      "FID: 385.1199\n",
      "Time: 0.12 min\n",
      "\n",
      "-- Partial --\n",
      "Best Epoch: epoch-4\n",
      "Best FID: 385.1199\n",
      "\n",
      "--------------------------------\n",
      "\n",
      "Epoch: 5\n"
     ]
    },
    {
     "name": "stderr",
     "output_type": "stream",
     "text": [
      "100%|██████████| 30/30 [00:00<00:00, 180.39it/s]\n",
      " 60%|██████    | 18/30 [00:00<00:00, 177.27it/s]"
     ]
    },
    {
     "name": "stdout",
     "output_type": "stream",
     "text": [
      "\n",
      "FID: 408.7880\n",
      "Time: 0.13 min\n",
      "\n",
      "-- Partial --\n",
      "Best Epoch: epoch-4\n",
      "Best FID: 385.1199\n",
      "\n",
      "--------------------------------\n",
      "\n",
      "Epoch: 6\n"
     ]
    },
    {
     "name": "stderr",
     "output_type": "stream",
     "text": [
      "100%|██████████| 30/30 [00:00<00:00, 183.71it/s]\n",
      " 63%|██████▎   | 19/30 [00:00<00:00, 186.40it/s]"
     ]
    },
    {
     "name": "stdout",
     "output_type": "stream",
     "text": [
      "\n",
      "FID: 402.3597\n",
      "Time: 0.13 min\n",
      "\n",
      "-- Partial --\n",
      "Best Epoch: epoch-4\n",
      "Best FID: 385.1199\n",
      "\n",
      "--------------------------------\n",
      "\n",
      "Epoch: 7\n"
     ]
    },
    {
     "name": "stderr",
     "output_type": "stream",
     "text": [
      "100%|██████████| 30/30 [00:00<00:00, 187.72it/s]\n",
      " 57%|█████▋    | 17/30 [00:00<00:00, 168.26it/s]"
     ]
    },
    {
     "name": "stdout",
     "output_type": "stream",
     "text": [
      "\n",
      "FID: 399.0571\n",
      "Time: 0.13 min\n",
      "\n",
      "-- Partial --\n",
      "Best Epoch: epoch-4\n",
      "Best FID: 385.1199\n",
      "\n",
      "--------------------------------\n",
      "\n",
      "Epoch: 8\n"
     ]
    },
    {
     "name": "stderr",
     "output_type": "stream",
     "text": [
      "100%|██████████| 30/30 [00:00<00:00, 178.44it/s]\n",
      " 60%|██████    | 18/30 [00:00<00:00, 178.87it/s]"
     ]
    },
    {
     "name": "stdout",
     "output_type": "stream",
     "text": [
      "\n",
      "FID: 436.6983\n",
      "Time: 0.13 min\n",
      "\n",
      "-- Partial --\n",
      "Best Epoch: epoch-4\n",
      "Best FID: 385.1199\n",
      "\n",
      "--------------------------------\n",
      "\n",
      "Epoch: 9\n"
     ]
    },
    {
     "name": "stderr",
     "output_type": "stream",
     "text": [
      "100%|██████████| 30/30 [00:00<00:00, 185.14it/s]\n",
      " 63%|██████▎   | 19/30 [00:00<00:00, 185.89it/s]"
     ]
    },
    {
     "name": "stdout",
     "output_type": "stream",
     "text": [
      "\n",
      "FID: 407.9651\n",
      "Time: 0.13 min\n",
      "\n",
      "-- Partial --\n",
      "Best Epoch: epoch-4\n",
      "Best FID: 385.1199\n",
      "\n",
      "--------------------------------\n",
      "\n",
      "Epoch: 10\n"
     ]
    },
    {
     "name": "stderr",
     "output_type": "stream",
     "text": [
      "100%|██████████| 30/30 [00:00<00:00, 188.38it/s]\n",
      " 57%|█████▋    | 17/30 [00:00<00:00, 169.85it/s]"
     ]
    },
    {
     "name": "stdout",
     "output_type": "stream",
     "text": [
      "\n",
      "FID: 382.9282\n",
      "Time: 0.13 min\n",
      "\n",
      "-- Partial --\n",
      "Best Epoch: epoch-10\n",
      "Best FID: 382.9282\n",
      "\n",
      "--------------------------------\n",
      "\n",
      "Epoch: 11\n"
     ]
    },
    {
     "name": "stderr",
     "output_type": "stream",
     "text": [
      "100%|██████████| 30/30 [00:00<00:00, 175.77it/s]\n",
      "100%|██████████| 30/30 [00:00<00:00, 184.42it/s]"
     ]
    },
    {
     "name": "stdout",
     "output_type": "stream",
     "text": [
      "\n",
      "FID: 347.8809\n",
      "Time: 0.13 min\n",
      "\n",
      "-- Partial --\n",
      "Best Epoch: epoch-11\n",
      "Best FID: 347.8809\n",
      "\n",
      "--------------------------------\n",
      "\n",
      "Epoch: 12\n"
     ]
    },
    {
     "name": "stderr",
     "output_type": "stream",
     "text": [
      "\n",
      " 40%|████      | 12/30 [00:00<00:00, 117.65it/s]"
     ]
    },
    {
     "name": "stdout",
     "output_type": "stream",
     "text": [
      "\n",
      "FID: 259.3346\n",
      "Time: 0.13 min\n",
      "\n",
      "-- Partial --\n",
      "Best Epoch: epoch-12\n",
      "Best FID: 259.3346\n",
      "\n",
      "--------------------------------\n",
      "\n",
      "Epoch: 13\n"
     ]
    },
    {
     "name": "stderr",
     "output_type": "stream",
     "text": [
      "100%|██████████| 30/30 [00:00<00:00, 153.71it/s]\n",
      "100%|██████████| 30/30 [00:00<00:00, 189.57it/s]"
     ]
    },
    {
     "name": "stdout",
     "output_type": "stream",
     "text": [
      "\n",
      "FID: 268.3817\n",
      "Time: 0.13 min\n",
      "\n",
      "-- Partial --\n",
      "Best Epoch: epoch-12\n",
      "Best FID: 259.3346\n",
      "\n",
      "--------------------------------\n",
      "\n",
      "Epoch: 14\n"
     ]
    },
    {
     "name": "stderr",
     "output_type": "stream",
     "text": [
      "\n",
      " 67%|██████▋   | 20/30 [00:00<00:00, 191.18it/s]"
     ]
    },
    {
     "name": "stdout",
     "output_type": "stream",
     "text": [
      "\n",
      "FID: 246.6676\n",
      "Time: 0.13 min\n",
      "\n",
      "-- Partial --\n",
      "Best Epoch: epoch-14\n",
      "Best FID: 246.6676\n",
      "\n",
      "--------------------------------\n",
      "\n",
      "Epoch: 15\n"
     ]
    },
    {
     "name": "stderr",
     "output_type": "stream",
     "text": [
      "100%|██████████| 30/30 [00:00<00:00, 162.83it/s]\n",
      " 60%|██████    | 18/30 [00:00<00:00, 171.50it/s]"
     ]
    },
    {
     "name": "stdout",
     "output_type": "stream",
     "text": [
      "\n",
      "FID: 281.5580\n",
      "Time: 0.13 min\n",
      "\n",
      "-- Partial --\n",
      "Best Epoch: epoch-14\n",
      "Best FID: 246.6676\n",
      "\n",
      "--------------------------------\n",
      "\n",
      "Epoch: 16\n"
     ]
    },
    {
     "name": "stderr",
     "output_type": "stream",
     "text": [
      "100%|██████████| 30/30 [00:00<00:00, 180.71it/s]\n",
      " 60%|██████    | 18/30 [00:00<00:00, 174.94it/s]"
     ]
    },
    {
     "name": "stdout",
     "output_type": "stream",
     "text": [
      "\n",
      "FID: 189.7110\n",
      "Time: 0.13 min\n",
      "\n",
      "-- Partial --\n",
      "Best Epoch: epoch-16\n",
      "Best FID: 189.7110\n",
      "\n",
      "--------------------------------\n",
      "\n",
      "Epoch: 17\n"
     ]
    },
    {
     "name": "stderr",
     "output_type": "stream",
     "text": [
      "100%|██████████| 30/30 [00:00<00:00, 180.71it/s]\n",
      " 63%|██████▎   | 19/30 [00:00<00:00, 180.57it/s]"
     ]
    },
    {
     "name": "stdout",
     "output_type": "stream",
     "text": [
      "\n",
      "FID: 202.6380\n",
      "Time: 0.13 min\n",
      "\n",
      "-- Partial --\n",
      "Best Epoch: epoch-16\n",
      "Best FID: 189.7110\n",
      "\n",
      "--------------------------------\n",
      "\n",
      "Epoch: 18\n"
     ]
    },
    {
     "name": "stderr",
     "output_type": "stream",
     "text": [
      "100%|██████████| 30/30 [00:00<00:00, 185.13it/s]\n",
      "100%|██████████| 30/30 [00:00<00:00, 187.66it/s]"
     ]
    },
    {
     "name": "stdout",
     "output_type": "stream",
     "text": [
      "\n",
      "FID: 145.9628\n",
      "Time: 0.13 min\n",
      "\n",
      "-- Partial --\n",
      "Best Epoch: epoch-18\n",
      "Best FID: 145.9628\n",
      "\n",
      "--------------------------------\n",
      "\n",
      "Epoch: 19\n"
     ]
    },
    {
     "name": "stderr",
     "output_type": "stream",
     "text": [
      "\n",
      " 57%|█████▋    | 17/30 [00:00<00:00, 164.88it/s]"
     ]
    },
    {
     "name": "stdout",
     "output_type": "stream",
     "text": [
      "\n",
      "FID: 147.2147\n",
      "Time: 0.13 min\n",
      "\n",
      "-- Partial --\n",
      "Best Epoch: epoch-18\n",
      "Best FID: 145.9628\n",
      "\n",
      "--------------------------------\n",
      "\n",
      "Epoch: 20\n"
     ]
    },
    {
     "name": "stderr",
     "output_type": "stream",
     "text": [
      "100%|██████████| 30/30 [00:00<00:00, 174.79it/s]\n",
      " 30%|███       | 9/30 [00:00<00:00, 87.21it/s]"
     ]
    },
    {
     "name": "stdout",
     "output_type": "stream",
     "text": [
      "\n",
      "FID: 181.5327\n",
      "Time: 0.13 min\n",
      "\n",
      "-- Partial --\n",
      "Best Epoch: epoch-18\n",
      "Best FID: 145.9628\n",
      "\n",
      "--------------------------------\n",
      "\n",
      "Epoch: 21\n"
     ]
    },
    {
     "name": "stderr",
     "output_type": "stream",
     "text": [
      "100%|██████████| 30/30 [00:00<00:00, 140.73it/s]\n",
      " 60%|██████    | 18/30 [00:00<00:00, 173.26it/s]"
     ]
    },
    {
     "name": "stdout",
     "output_type": "stream",
     "text": [
      "\n",
      "FID: 151.7879\n",
      "Time: 0.13 min\n",
      "\n",
      "-- Partial --\n",
      "Best Epoch: epoch-18\n",
      "Best FID: 145.9628\n",
      "\n",
      "--------------------------------\n",
      "\n",
      "Epoch: 22\n"
     ]
    },
    {
     "name": "stderr",
     "output_type": "stream",
     "text": [
      "100%|██████████| 30/30 [00:00<00:00, 170.50it/s]\n",
      " 60%|██████    | 18/30 [00:00<00:00, 175.92it/s]"
     ]
    },
    {
     "name": "stdout",
     "output_type": "stream",
     "text": [
      "\n",
      "FID: 125.8864\n",
      "Time: 0.13 min\n",
      "\n",
      "-- Partial --\n",
      "Best Epoch: epoch-22\n",
      "Best FID: 125.8864\n",
      "\n",
      "--------------------------------\n",
      "\n",
      "Epoch: 23\n"
     ]
    },
    {
     "name": "stderr",
     "output_type": "stream",
     "text": [
      "100%|██████████| 30/30 [00:00<00:00, 152.96it/s]\n",
      " 60%|██████    | 18/30 [00:00<00:00, 176.31it/s]"
     ]
    },
    {
     "name": "stdout",
     "output_type": "stream",
     "text": [
      "\n",
      "FID: 126.0278\n",
      "Time: 0.13 min\n",
      "\n",
      "-- Partial --\n",
      "Best Epoch: epoch-22\n",
      "Best FID: 125.8864\n",
      "\n",
      "--------------------------------\n",
      "\n",
      "Epoch: 24\n"
     ]
    },
    {
     "name": "stderr",
     "output_type": "stream",
     "text": [
      "100%|██████████| 30/30 [00:00<00:00, 182.16it/s]\n",
      " 60%|██████    | 18/30 [00:00<00:00, 175.55it/s]"
     ]
    },
    {
     "name": "stdout",
     "output_type": "stream",
     "text": [
      "\n",
      "FID: 126.1502\n",
      "Time: 0.13 min\n",
      "\n",
      "-- Partial --\n",
      "Best Epoch: epoch-22\n",
      "Best FID: 125.8864\n",
      "\n",
      "--------------------------------\n",
      "\n",
      "Epoch: 25\n"
     ]
    },
    {
     "name": "stderr",
     "output_type": "stream",
     "text": [
      "100%|██████████| 30/30 [00:00<00:00, 178.50it/s]\n",
      " 60%|██████    | 18/30 [00:00<00:00, 179.38it/s]"
     ]
    },
    {
     "name": "stdout",
     "output_type": "stream",
     "text": [
      "\n",
      "FID: 110.0341\n",
      "Time: 0.13 min\n",
      "\n",
      "-- Partial --\n",
      "Best Epoch: epoch-25\n",
      "Best FID: 110.0341\n",
      "\n",
      "--------------------------------\n",
      "\n",
      "Epoch: 26\n"
     ]
    },
    {
     "name": "stderr",
     "output_type": "stream",
     "text": [
      "100%|██████████| 30/30 [00:00<00:00, 185.32it/s]\n",
      " 50%|█████     | 15/30 [00:00<00:00, 149.20it/s]"
     ]
    },
    {
     "name": "stdout",
     "output_type": "stream",
     "text": [
      "\n",
      "FID: 107.6379\n",
      "Time: 0.13 min\n",
      "\n",
      "-- Partial --\n",
      "Best Epoch: epoch-26\n",
      "Best FID: 107.6379\n",
      "\n",
      "--------------------------------\n",
      "\n",
      "Epoch: 27\n"
     ]
    },
    {
     "name": "stderr",
     "output_type": "stream",
     "text": [
      "100%|██████████| 30/30 [00:00<00:00, 169.92it/s]\n",
      " 57%|█████▋    | 17/30 [00:00<00:00, 163.71it/s]"
     ]
    },
    {
     "name": "stdout",
     "output_type": "stream",
     "text": [
      "\n",
      "FID: 113.7701\n",
      "Time: 0.13 min\n",
      "\n",
      "-- Partial --\n",
      "Best Epoch: epoch-26\n",
      "Best FID: 107.6379\n",
      "\n",
      "--------------------------------\n",
      "\n",
      "Epoch: 28\n"
     ]
    },
    {
     "name": "stderr",
     "output_type": "stream",
     "text": [
      "100%|██████████| 30/30 [00:00<00:00, 176.22it/s]\n",
      " 57%|█████▋    | 17/30 [00:00<00:00, 165.40it/s]"
     ]
    },
    {
     "name": "stdout",
     "output_type": "stream",
     "text": [
      "\n",
      "FID: 124.6732\n",
      "Time: 0.13 min\n",
      "\n",
      "-- Partial --\n",
      "Best Epoch: epoch-26\n",
      "Best FID: 107.6379\n",
      "\n",
      "--------------------------------\n",
      "\n",
      "Epoch: 29\n"
     ]
    },
    {
     "name": "stderr",
     "output_type": "stream",
     "text": [
      "100%|██████████| 30/30 [00:00<00:00, 178.15it/s]\n",
      " 60%|██████    | 18/30 [00:00<00:00, 175.15it/s]"
     ]
    },
    {
     "name": "stdout",
     "output_type": "stream",
     "text": [
      "\n",
      "FID: 109.9004\n",
      "Time: 0.13 min\n",
      "\n",
      "-- Partial --\n",
      "Best Epoch: epoch-26\n",
      "Best FID: 107.6379\n",
      "\n",
      "--------------------------------\n",
      "\n",
      "Epoch: 30\n"
     ]
    },
    {
     "name": "stderr",
     "output_type": "stream",
     "text": [
      "100%|██████████| 30/30 [00:00<00:00, 184.25it/s]\n",
      " 63%|██████▎   | 19/30 [00:00<00:00, 182.90it/s]"
     ]
    },
    {
     "name": "stdout",
     "output_type": "stream",
     "text": [
      "\n",
      "FID: 103.6596\n",
      "Time: 0.13 min\n",
      "\n",
      "-- Partial --\n",
      "Best Epoch: epoch-30\n",
      "Best FID: 103.6596\n",
      "\n",
      "--------------------------------\n",
      "\n",
      "Epoch: 31\n"
     ]
    },
    {
     "name": "stderr",
     "output_type": "stream",
     "text": [
      "100%|██████████| 30/30 [00:00<00:00, 186.42it/s]\n",
      " 63%|██████▎   | 19/30 [00:00<00:00, 182.16it/s]"
     ]
    },
    {
     "name": "stdout",
     "output_type": "stream",
     "text": [
      "\n",
      "FID: 91.9792\n",
      "Time: 0.13 min\n",
      "\n",
      "-- Partial --\n",
      "Best Epoch: epoch-31\n",
      "Best FID: 91.9792\n",
      "\n",
      "--------------------------------\n",
      "\n",
      "Epoch: 32\n"
     ]
    },
    {
     "name": "stderr",
     "output_type": "stream",
     "text": [
      "100%|██████████| 30/30 [00:00<00:00, 186.54it/s]\n",
      "100%|██████████| 30/30 [00:00<00:00, 173.25it/s]"
     ]
    },
    {
     "name": "stdout",
     "output_type": "stream",
     "text": [
      "\n",
      "FID: 108.0826\n",
      "Time: 0.13 min\n",
      "\n",
      "-- Partial --\n",
      "Best Epoch: epoch-31\n",
      "Best FID: 91.9792\n",
      "\n",
      "--------------------------------\n",
      "\n",
      "Epoch: 33\n"
     ]
    },
    {
     "name": "stderr",
     "output_type": "stream",
     "text": [
      "\n",
      " 57%|█████▋    | 17/30 [00:00<00:00, 166.85it/s]"
     ]
    },
    {
     "name": "stdout",
     "output_type": "stream",
     "text": [
      "\n",
      "FID: 116.3520\n",
      "Time: 0.13 min\n",
      "\n",
      "-- Partial --\n",
      "Best Epoch: epoch-31\n",
      "Best FID: 91.9792\n",
      "\n",
      "--------------------------------\n",
      "\n",
      "Epoch: 34\n"
     ]
    },
    {
     "name": "stderr",
     "output_type": "stream",
     "text": [
      "100%|██████████| 30/30 [00:00<00:00, 177.56it/s]\n",
      " 60%|██████    | 18/30 [00:00<00:00, 179.47it/s]"
     ]
    },
    {
     "name": "stdout",
     "output_type": "stream",
     "text": [
      "\n",
      "FID: 95.4285\n",
      "Time: 0.13 min\n",
      "\n",
      "-- Partial --\n",
      "Best Epoch: epoch-31\n",
      "Best FID: 91.9792\n",
      "\n",
      "--------------------------------\n",
      "\n",
      "Epoch: 35\n"
     ]
    },
    {
     "name": "stderr",
     "output_type": "stream",
     "text": [
      "100%|██████████| 30/30 [00:00<00:00, 185.97it/s]\n",
      " 57%|█████▋    | 17/30 [00:00<00:00, 161.76it/s]"
     ]
    },
    {
     "name": "stdout",
     "output_type": "stream",
     "text": [
      "\n",
      "FID: 109.9987\n",
      "Time: 0.13 min\n",
      "\n",
      "-- Partial --\n",
      "Best Epoch: epoch-31\n",
      "Best FID: 91.9792\n",
      "\n",
      "--------------------------------\n",
      "\n",
      "Epoch: 36\n"
     ]
    },
    {
     "name": "stderr",
     "output_type": "stream",
     "text": [
      "100%|██████████| 30/30 [00:00<00:00, 172.91it/s]\n",
      " 63%|██████▎   | 19/30 [00:00<00:00, 184.76it/s]"
     ]
    },
    {
     "name": "stdout",
     "output_type": "stream",
     "text": [
      "\n",
      "FID: 107.5349\n",
      "Time: 0.13 min\n",
      "\n",
      "-- Partial --\n",
      "Best Epoch: epoch-31\n",
      "Best FID: 91.9792\n",
      "\n",
      "--------------------------------\n",
      "\n",
      "Epoch: 37\n"
     ]
    },
    {
     "name": "stderr",
     "output_type": "stream",
     "text": [
      "100%|██████████| 30/30 [00:00<00:00, 188.69it/s]\n",
      " 57%|█████▋    | 17/30 [00:00<00:00, 169.86it/s]"
     ]
    },
    {
     "name": "stdout",
     "output_type": "stream",
     "text": [
      "\n",
      "FID: 95.2964\n",
      "Time: 0.13 min\n",
      "\n",
      "-- Partial --\n",
      "Best Epoch: epoch-31\n",
      "Best FID: 91.9792\n",
      "\n",
      "--------------------------------\n",
      "\n",
      "Epoch: 38\n"
     ]
    },
    {
     "name": "stderr",
     "output_type": "stream",
     "text": [
      "100%|██████████| 30/30 [00:00<00:00, 178.88it/s]\n",
      " 63%|██████▎   | 19/30 [00:00<00:00, 182.97it/s]"
     ]
    },
    {
     "name": "stdout",
     "output_type": "stream",
     "text": [
      "\n",
      "FID: 97.6184\n",
      "Time: 0.13 min\n",
      "\n",
      "-- Partial --\n",
      "Best Epoch: epoch-31\n",
      "Best FID: 91.9792\n",
      "\n",
      "--------------------------------\n",
      "\n",
      "Epoch: 39\n"
     ]
    },
    {
     "name": "stderr",
     "output_type": "stream",
     "text": [
      "100%|██████████| 30/30 [00:00<00:00, 188.81it/s]\n",
      " 57%|█████▋    | 17/30 [00:00<00:00, 169.26it/s]"
     ]
    },
    {
     "name": "stdout",
     "output_type": "stream",
     "text": [
      "\n",
      "FID: 94.2566\n",
      "Time: 0.13 min\n",
      "\n",
      "-- Partial --\n",
      "Best Epoch: epoch-31\n",
      "Best FID: 91.9792\n",
      "\n",
      "--------------------------------\n",
      "\n",
      "Epoch: 40\n"
     ]
    },
    {
     "name": "stderr",
     "output_type": "stream",
     "text": [
      "100%|██████████| 30/30 [00:00<00:00, 179.44it/s]\n",
      " 60%|██████    | 18/30 [00:00<00:00, 179.67it/s]"
     ]
    },
    {
     "name": "stdout",
     "output_type": "stream",
     "text": [
      "\n",
      "FID: 100.6699\n",
      "Time: 0.13 min\n",
      "\n",
      "-- Partial --\n",
      "Best Epoch: epoch-31\n",
      "Best FID: 91.9792\n",
      "\n",
      "--------------------------------\n",
      "\n",
      "Epoch: 41\n"
     ]
    },
    {
     "name": "stderr",
     "output_type": "stream",
     "text": [
      "100%|██████████| 30/30 [00:00<00:00, 184.72it/s]\n",
      " 60%|██████    | 18/30 [00:00<00:00, 173.09it/s]"
     ]
    },
    {
     "name": "stdout",
     "output_type": "stream",
     "text": [
      "\n",
      "FID: 93.2806\n",
      "Time: 0.13 min\n",
      "\n",
      "-- Partial --\n",
      "Best Epoch: epoch-31\n",
      "Best FID: 91.9792\n",
      "\n",
      "--------------------------------\n",
      "\n",
      "Epoch: 42\n"
     ]
    },
    {
     "name": "stderr",
     "output_type": "stream",
     "text": [
      "100%|██████████| 30/30 [00:00<00:00, 181.90it/s]\n",
      " 60%|██████    | 18/30 [00:00<00:00, 175.17it/s]"
     ]
    },
    {
     "name": "stdout",
     "output_type": "stream",
     "text": [
      "\n",
      "FID: 92.4885\n",
      "Time: 0.13 min\n",
      "\n",
      "-- Partial --\n",
      "Best Epoch: epoch-31\n",
      "Best FID: 91.9792\n",
      "\n",
      "--------------------------------\n",
      "\n",
      "Epoch: 43\n"
     ]
    },
    {
     "name": "stderr",
     "output_type": "stream",
     "text": [
      "100%|██████████| 30/30 [00:00<00:00, 181.51it/s]\n",
      " 53%|█████▎    | 16/30 [00:00<00:00, 158.31it/s]"
     ]
    },
    {
     "name": "stdout",
     "output_type": "stream",
     "text": [
      "\n",
      "FID: 86.2546\n",
      "Time: 0.13 min\n",
      "\n",
      "-- Partial --\n",
      "Best Epoch: epoch-43\n",
      "Best FID: 86.2546\n",
      "\n",
      "--------------------------------\n",
      "\n",
      "Epoch: 44\n"
     ]
    },
    {
     "name": "stderr",
     "output_type": "stream",
     "text": [
      "100%|██████████| 30/30 [00:00<00:00, 171.29it/s]\n",
      " 60%|██████    | 18/30 [00:00<00:00, 177.75it/s]"
     ]
    },
    {
     "name": "stdout",
     "output_type": "stream",
     "text": [
      "\n",
      "FID: 94.5676\n",
      "Time: 0.13 min\n",
      "\n",
      "-- Partial --\n",
      "Best Epoch: epoch-43\n",
      "Best FID: 86.2546\n",
      "\n",
      "--------------------------------\n",
      "\n",
      "Epoch: 45\n"
     ]
    },
    {
     "name": "stderr",
     "output_type": "stream",
     "text": [
      "100%|██████████| 30/30 [00:00<00:00, 183.69it/s]\n",
      " 60%|██████    | 18/30 [00:00<00:00, 171.77it/s]"
     ]
    },
    {
     "name": "stdout",
     "output_type": "stream",
     "text": [
      "\n",
      "FID: 79.3576\n",
      "Time: 0.13 min\n",
      "\n",
      "-- Partial --\n",
      "Best Epoch: epoch-45\n",
      "Best FID: 79.3576\n",
      "\n",
      "--------------------------------\n",
      "\n",
      "Epoch: 46\n"
     ]
    },
    {
     "name": "stderr",
     "output_type": "stream",
     "text": [
      "100%|██████████| 30/30 [00:00<00:00, 180.52it/s]\n",
      " 60%|██████    | 18/30 [00:00<00:00, 176.82it/s]"
     ]
    },
    {
     "name": "stdout",
     "output_type": "stream",
     "text": [
      "\n",
      "FID: 93.8884\n",
      "Time: 0.13 min\n",
      "\n",
      "-- Partial --\n",
      "Best Epoch: epoch-45\n",
      "Best FID: 79.3576\n",
      "\n",
      "--------------------------------\n",
      "\n",
      "Epoch: 47\n"
     ]
    },
    {
     "name": "stderr",
     "output_type": "stream",
     "text": [
      "100%|██████████| 30/30 [00:00<00:00, 183.09it/s]\n",
      " 33%|███▎      | 10/30 [00:00<00:00, 99.92it/s]"
     ]
    },
    {
     "name": "stdout",
     "output_type": "stream",
     "text": [
      "\n",
      "FID: 89.4650\n",
      "Time: 0.13 min\n",
      "\n",
      "-- Partial --\n",
      "Best Epoch: epoch-45\n",
      "Best FID: 79.3576\n",
      "\n",
      "--------------------------------\n",
      "\n",
      "Epoch: 48\n"
     ]
    },
    {
     "name": "stderr",
     "output_type": "stream",
     "text": [
      "100%|██████████| 30/30 [00:00<00:00, 146.53it/s]\n",
      "100%|██████████| 30/30 [00:00<00:00, 184.43it/s]"
     ]
    },
    {
     "name": "stdout",
     "output_type": "stream",
     "text": [
      "\n",
      "FID: 94.8722\n",
      "Time: 0.13 min\n",
      "\n",
      "-- Partial --\n",
      "Best Epoch: epoch-45\n",
      "Best FID: 79.3576\n",
      "\n",
      "--------------------------------\n",
      "\n",
      "Epoch: 49\n"
     ]
    },
    {
     "name": "stderr",
     "output_type": "stream",
     "text": [
      "\n",
      "100%|██████████| 30/30 [00:00<00:00, 188.50it/s]"
     ]
    },
    {
     "name": "stdout",
     "output_type": "stream",
     "text": [
      "\n",
      "FID: 81.0772\n",
      "Time: 0.13 min\n",
      "\n",
      "-- Partial --\n",
      "Best Epoch: epoch-45\n",
      "Best FID: 79.3576\n",
      "\n",
      "--------------------------------\n",
      "\n",
      "Epoch: 50\n"
     ]
    },
    {
     "name": "stderr",
     "output_type": "stream",
     "text": [
      "\n",
      "100%|██████████| 30/30 [00:00<00:00, 184.64it/s]"
     ]
    },
    {
     "name": "stdout",
     "output_type": "stream",
     "text": [
      "\n",
      "FID: 90.3251\n",
      "Time: 0.13 min\n",
      "\n",
      "-- Partial --\n",
      "Best Epoch: epoch-45\n",
      "Best FID: 79.3576\n",
      "\n",
      "--------------------------------\n",
      "\n",
      "Epoch: 51\n"
     ]
    },
    {
     "name": "stderr",
     "output_type": "stream",
     "text": [
      "\n",
      " 53%|█████▎    | 16/30 [00:00<00:00, 154.96it/s]"
     ]
    },
    {
     "name": "stdout",
     "output_type": "stream",
     "text": [
      "\n",
      "FID: 92.9754\n",
      "Time: 0.13 min\n",
      "\n",
      "-- Partial --\n",
      "Best Epoch: epoch-45\n",
      "Best FID: 79.3576\n",
      "\n",
      "--------------------------------\n",
      "\n",
      "Epoch: 52\n"
     ]
    },
    {
     "name": "stderr",
     "output_type": "stream",
     "text": [
      "100%|██████████| 30/30 [00:00<00:00, 169.41it/s]\n",
      " 57%|█████▋    | 17/30 [00:00<00:00, 169.07it/s]"
     ]
    },
    {
     "name": "stdout",
     "output_type": "stream",
     "text": [
      "\n",
      "FID: 121.9072\n",
      "Time: 0.13 min\n",
      "\n",
      "-- Partial --\n",
      "Best Epoch: epoch-45\n",
      "Best FID: 79.3576\n",
      "\n",
      "--------------------------------\n",
      "\n",
      "Epoch: 53\n"
     ]
    },
    {
     "name": "stderr",
     "output_type": "stream",
     "text": [
      "100%|██████████| 30/30 [00:00<00:00, 180.05it/s]\n",
      " 57%|█████▋    | 17/30 [00:00<00:00, 168.11it/s]"
     ]
    },
    {
     "name": "stdout",
     "output_type": "stream",
     "text": [
      "\n",
      "FID: 99.6560\n",
      "Time: 0.13 min\n",
      "\n",
      "-- Partial --\n",
      "Best Epoch: epoch-45\n",
      "Best FID: 79.3576\n",
      "\n",
      "--------------------------------\n",
      "\n",
      "Epoch: 54\n"
     ]
    },
    {
     "name": "stderr",
     "output_type": "stream",
     "text": [
      "100%|██████████| 30/30 [00:00<00:00, 178.95it/s]\n",
      " 57%|█████▋    | 17/30 [00:00<00:00, 165.55it/s]"
     ]
    },
    {
     "name": "stdout",
     "output_type": "stream",
     "text": [
      "\n",
      "FID: 83.9650\n",
      "Time: 0.13 min\n",
      "\n",
      "-- Partial --\n",
      "Best Epoch: epoch-45\n",
      "Best FID: 79.3576\n",
      "\n",
      "--------------------------------\n",
      "\n",
      "Epoch: 55\n"
     ]
    },
    {
     "name": "stderr",
     "output_type": "stream",
     "text": [
      "100%|██████████| 30/30 [00:00<00:00, 176.73it/s]\n",
      " 57%|█████▋    | 17/30 [00:00<00:00, 168.68it/s]"
     ]
    },
    {
     "name": "stdout",
     "output_type": "stream",
     "text": [
      "\n",
      "FID: 90.3647\n",
      "Time: 0.13 min\n",
      "\n",
      "-- Partial --\n",
      "Best Epoch: epoch-45\n",
      "Best FID: 79.3576\n",
      "\n",
      "--------------------------------\n",
      "\n",
      "Epoch: 56\n"
     ]
    },
    {
     "name": "stderr",
     "output_type": "stream",
     "text": [
      "100%|██████████| 30/30 [00:00<00:00, 178.43it/s]\n",
      " 57%|█████▋    | 17/30 [00:00<00:00, 168.80it/s]"
     ]
    },
    {
     "name": "stdout",
     "output_type": "stream",
     "text": [
      "\n",
      "FID: 94.2157\n",
      "Time: 0.13 min\n",
      "\n",
      "-- Partial --\n",
      "Best Epoch: epoch-45\n",
      "Best FID: 79.3576\n",
      "\n",
      "--------------------------------\n",
      "\n",
      "Epoch: 57\n"
     ]
    },
    {
     "name": "stderr",
     "output_type": "stream",
     "text": [
      "100%|██████████| 30/30 [00:00<00:00, 179.89it/s]\n",
      " 60%|██████    | 18/30 [00:00<00:00, 179.68it/s]"
     ]
    },
    {
     "name": "stdout",
     "output_type": "stream",
     "text": [
      "\n",
      "FID: 88.4056\n",
      "Time: 0.13 min\n",
      "\n",
      "-- Partial --\n",
      "Best Epoch: epoch-45\n",
      "Best FID: 79.3576\n",
      "\n",
      "--------------------------------\n",
      "\n",
      "Epoch: 58\n"
     ]
    },
    {
     "name": "stderr",
     "output_type": "stream",
     "text": [
      "100%|██████████| 30/30 [00:00<00:00, 188.88it/s]\n",
      " 63%|██████▎   | 19/30 [00:00<00:00, 184.58it/s]"
     ]
    },
    {
     "name": "stdout",
     "output_type": "stream",
     "text": [
      "\n",
      "FID: 103.7600\n",
      "Time: 0.13 min\n",
      "\n",
      "-- Partial --\n",
      "Best Epoch: epoch-45\n",
      "Best FID: 79.3576\n",
      "\n",
      "--------------------------------\n",
      "\n",
      "Epoch: 59\n"
     ]
    },
    {
     "name": "stderr",
     "output_type": "stream",
     "text": [
      "100%|██████████| 30/30 [00:00<00:00, 190.91it/s]\n",
      " 40%|████      | 12/30 [00:00<00:00, 96.91it/s]"
     ]
    },
    {
     "name": "stdout",
     "output_type": "stream",
     "text": [
      "\n",
      "FID: 93.9102\n",
      "Time: 0.13 min\n",
      "\n",
      "-- Partial --\n",
      "Best Epoch: epoch-45\n",
      "Best FID: 79.3576\n",
      "\n",
      "--------------------------------\n",
      "\n",
      "Epoch: 60\n"
     ]
    },
    {
     "name": "stderr",
     "output_type": "stream",
     "text": [
      "100%|██████████| 30/30 [00:00<00:00, 137.68it/s]\n",
      " 63%|██████▎   | 19/30 [00:00<00:00, 186.11it/s]"
     ]
    },
    {
     "name": "stdout",
     "output_type": "stream",
     "text": [
      "\n",
      "FID: 91.9854\n",
      "Time: 0.13 min\n",
      "\n",
      "-- Partial --\n",
      "Best Epoch: epoch-45\n",
      "Best FID: 79.3576\n",
      "\n",
      "--------------------------------\n",
      "\n",
      "Epoch: 61\n"
     ]
    },
    {
     "name": "stderr",
     "output_type": "stream",
     "text": [
      "100%|██████████| 30/30 [00:00<00:00, 190.41it/s]\n",
      "100%|██████████| 30/30 [00:00<00:00, 182.80it/s]"
     ]
    },
    {
     "name": "stdout",
     "output_type": "stream",
     "text": [
      "\n",
      "FID: 94.8241\n",
      "Time: 0.13 min\n",
      "\n",
      "-- Partial --\n",
      "Best Epoch: epoch-45\n",
      "Best FID: 79.3576\n",
      "\n",
      "--------------------------------\n",
      "\n",
      "Epoch: 62\n"
     ]
    },
    {
     "name": "stderr",
     "output_type": "stream",
     "text": [
      "\n",
      " 63%|██████▎   | 19/30 [00:00<00:00, 181.73it/s]"
     ]
    },
    {
     "name": "stdout",
     "output_type": "stream",
     "text": [
      "\n",
      "FID: 93.1984\n",
      "Time: 0.13 min\n",
      "\n",
      "-- Partial --\n",
      "Best Epoch: epoch-45\n",
      "Best FID: 79.3576\n",
      "\n",
      "--------------------------------\n",
      "\n",
      "Epoch: 63\n"
     ]
    },
    {
     "name": "stderr",
     "output_type": "stream",
     "text": [
      "100%|██████████| 30/30 [00:00<00:00, 185.71it/s]\n",
      " 63%|██████▎   | 19/30 [00:00<00:00, 183.18it/s]"
     ]
    },
    {
     "name": "stdout",
     "output_type": "stream",
     "text": [
      "\n",
      "FID: 90.8768\n",
      "Time: 0.13 min\n",
      "\n",
      "-- Partial --\n",
      "Best Epoch: epoch-45\n",
      "Best FID: 79.3576\n",
      "\n",
      "--------------------------------\n",
      "\n",
      "Epoch: 64\n"
     ]
    },
    {
     "name": "stderr",
     "output_type": "stream",
     "text": [
      "100%|██████████| 30/30 [00:00<00:00, 187.42it/s]\n",
      "100%|██████████| 30/30 [00:00<00:00, 185.10it/s]"
     ]
    },
    {
     "name": "stdout",
     "output_type": "stream",
     "text": [
      "\n",
      "FID: 77.6898\n",
      "Time: 0.13 min\n",
      "\n",
      "-- Partial --\n",
      "Best Epoch: epoch-64\n",
      "Best FID: 77.6898\n",
      "\n",
      "--------------------------------\n",
      "\n",
      "Epoch: 65\n"
     ]
    },
    {
     "name": "stderr",
     "output_type": "stream",
     "text": [
      "\n",
      " 60%|██████    | 18/30 [00:00<00:00, 179.71it/s]"
     ]
    },
    {
     "name": "stdout",
     "output_type": "stream",
     "text": [
      "\n",
      "FID: 89.3154\n",
      "Time: 0.13 min\n",
      "\n",
      "-- Partial --\n",
      "Best Epoch: epoch-64\n",
      "Best FID: 77.6898\n",
      "\n",
      "--------------------------------\n",
      "\n",
      "Epoch: 66\n"
     ]
    },
    {
     "name": "stderr",
     "output_type": "stream",
     "text": [
      "100%|██████████| 30/30 [00:00<00:00, 186.09it/s]\n",
      " 60%|██████    | 18/30 [00:00<00:00, 177.24it/s]"
     ]
    },
    {
     "name": "stdout",
     "output_type": "stream",
     "text": [
      "\n",
      "FID: 90.8263\n",
      "Time: 0.13 min\n",
      "\n",
      "-- Partial --\n",
      "Best Epoch: epoch-64\n",
      "Best FID: 77.6898\n",
      "\n",
      "--------------------------------\n",
      "\n",
      "Epoch: 67\n"
     ]
    },
    {
     "name": "stderr",
     "output_type": "stream",
     "text": [
      "100%|██████████| 30/30 [00:00<00:00, 183.41it/s]\n",
      " 57%|█████▋    | 17/30 [00:00<00:00, 166.50it/s]"
     ]
    },
    {
     "name": "stdout",
     "output_type": "stream",
     "text": [
      "\n",
      "FID: 83.0187\n",
      "Time: 0.13 min\n",
      "\n",
      "-- Partial --\n",
      "Best Epoch: epoch-64\n",
      "Best FID: 77.6898\n",
      "\n",
      "--------------------------------\n",
      "\n",
      "Epoch: 68\n"
     ]
    },
    {
     "name": "stderr",
     "output_type": "stream",
     "text": [
      "100%|██████████| 30/30 [00:00<00:00, 161.80it/s]\n",
      " 60%|██████    | 18/30 [00:00<00:00, 172.56it/s]"
     ]
    },
    {
     "name": "stdout",
     "output_type": "stream",
     "text": [
      "\n",
      "FID: 81.1345\n",
      "Time: 0.13 min\n",
      "\n",
      "-- Partial --\n",
      "Best Epoch: epoch-64\n",
      "Best FID: 77.6898\n",
      "\n",
      "--------------------------------\n",
      "\n",
      "Epoch: 69\n"
     ]
    },
    {
     "name": "stderr",
     "output_type": "stream",
     "text": [
      "100%|██████████| 30/30 [00:00<00:00, 182.52it/s]\n",
      " 60%|██████    | 18/30 [00:00<00:00, 177.95it/s]"
     ]
    },
    {
     "name": "stdout",
     "output_type": "stream",
     "text": [
      "\n",
      "FID: 86.0216\n",
      "Time: 0.13 min\n",
      "\n",
      "-- Partial --\n",
      "Best Epoch: epoch-64\n",
      "Best FID: 77.6898\n",
      "\n",
      "--------------------------------\n",
      "\n",
      "Epoch: 70\n"
     ]
    },
    {
     "name": "stderr",
     "output_type": "stream",
     "text": [
      "100%|██████████| 30/30 [00:00<00:00, 184.95it/s]\n",
      "100%|██████████| 30/30 [00:00<00:00, 180.18it/s]"
     ]
    },
    {
     "name": "stdout",
     "output_type": "stream",
     "text": [
      "\n",
      "FID: 90.0551\n",
      "Time: 0.13 min\n",
      "\n",
      "-- Partial --\n",
      "Best Epoch: epoch-64\n",
      "Best FID: 77.6898\n",
      "\n",
      "--------------------------------\n",
      "\n",
      "Epoch: 71\n"
     ]
    },
    {
     "name": "stderr",
     "output_type": "stream",
     "text": [
      "\n",
      " 60%|██████    | 18/30 [00:00<00:00, 176.50it/s]"
     ]
    },
    {
     "name": "stdout",
     "output_type": "stream",
     "text": [
      "\n",
      "FID: 87.7587\n",
      "Time: 0.13 min\n",
      "\n",
      "-- Partial --\n",
      "Best Epoch: epoch-64\n",
      "Best FID: 77.6898\n",
      "\n",
      "--------------------------------\n",
      "\n",
      "Epoch: 72\n"
     ]
    },
    {
     "name": "stderr",
     "output_type": "stream",
     "text": [
      "100%|██████████| 30/30 [00:00<00:00, 184.01it/s]\n",
      " 63%|██████▎   | 19/30 [00:00<00:00, 184.67it/s]"
     ]
    },
    {
     "name": "stdout",
     "output_type": "stream",
     "text": [
      "\n",
      "FID: 83.6975\n",
      "Time: 0.13 min\n",
      "\n",
      "-- Partial --\n",
      "Best Epoch: epoch-64\n",
      "Best FID: 77.6898\n",
      "\n",
      "--------------------------------\n",
      "\n",
      "Epoch: 73\n"
     ]
    },
    {
     "name": "stderr",
     "output_type": "stream",
     "text": [
      "100%|██████████| 30/30 [00:00<00:00, 187.60it/s]\n",
      " 57%|█████▋    | 17/30 [00:00<00:00, 168.80it/s]"
     ]
    },
    {
     "name": "stdout",
     "output_type": "stream",
     "text": [
      "\n",
      "FID: 89.9701\n",
      "Time: 0.13 min\n",
      "\n",
      "-- Partial --\n",
      "Best Epoch: epoch-64\n",
      "Best FID: 77.6898\n",
      "\n",
      "--------------------------------\n",
      "\n",
      "Epoch: 74\n"
     ]
    },
    {
     "name": "stderr",
     "output_type": "stream",
     "text": [
      "100%|██████████| 30/30 [00:00<00:00, 179.88it/s]\n",
      " 60%|██████    | 18/30 [00:00<00:00, 179.01it/s]"
     ]
    },
    {
     "name": "stdout",
     "output_type": "stream",
     "text": [
      "\n",
      "FID: 90.1935\n",
      "Time: 0.13 min\n",
      "\n",
      "-- Partial --\n",
      "Best Epoch: epoch-64\n",
      "Best FID: 77.6898\n",
      "\n",
      "--------------------------------\n",
      "\n",
      "Epoch: 75\n"
     ]
    },
    {
     "name": "stderr",
     "output_type": "stream",
     "text": [
      "100%|██████████| 30/30 [00:00<00:00, 183.82it/s]\n",
      " 60%|██████    | 18/30 [00:00<00:00, 173.79it/s]"
     ]
    },
    {
     "name": "stdout",
     "output_type": "stream",
     "text": [
      "\n",
      "FID: 88.8575\n",
      "Time: 0.13 min\n",
      "\n",
      "-- Partial --\n",
      "Best Epoch: epoch-64\n",
      "Best FID: 77.6898\n",
      "\n",
      "--------------------------------\n",
      "\n",
      "Epoch: 76\n"
     ]
    },
    {
     "name": "stderr",
     "output_type": "stream",
     "text": [
      "100%|██████████| 30/30 [00:00<00:00, 159.41it/s]\n",
      " 60%|██████    | 18/30 [00:00<00:00, 172.44it/s]"
     ]
    },
    {
     "name": "stdout",
     "output_type": "stream",
     "text": [
      "\n",
      "FID: 90.5823\n",
      "Time: 0.13 min\n",
      "\n",
      "-- Partial --\n",
      "Best Epoch: epoch-64\n",
      "Best FID: 77.6898\n",
      "\n",
      "--------------------------------\n",
      "\n",
      "Epoch: 77\n"
     ]
    },
    {
     "name": "stderr",
     "output_type": "stream",
     "text": [
      "100%|██████████| 30/30 [00:00<00:00, 181.02it/s]\n",
      " 60%|██████    | 18/30 [00:00<00:00, 177.21it/s]"
     ]
    },
    {
     "name": "stdout",
     "output_type": "stream",
     "text": [
      "\n",
      "FID: 91.9562\n",
      "Time: 0.13 min\n",
      "\n",
      "-- Partial --\n",
      "Best Epoch: epoch-64\n",
      "Best FID: 77.6898\n",
      "\n",
      "--------------------------------\n",
      "\n",
      "Epoch: 78\n"
     ]
    },
    {
     "name": "stderr",
     "output_type": "stream",
     "text": [
      "100%|██████████| 30/30 [00:00<00:00, 183.34it/s]\n",
      " 57%|█████▋    | 17/30 [00:00<00:00, 168.86it/s]"
     ]
    },
    {
     "name": "stdout",
     "output_type": "stream",
     "text": [
      "\n",
      "FID: 87.9961\n",
      "Time: 0.13 min\n",
      "\n",
      "-- Partial --\n",
      "Best Epoch: epoch-64\n",
      "Best FID: 77.6898\n",
      "\n",
      "--------------------------------\n",
      "\n",
      "Epoch: 79\n"
     ]
    },
    {
     "name": "stderr",
     "output_type": "stream",
     "text": [
      "100%|██████████| 30/30 [00:00<00:00, 177.80it/s]\n",
      " 60%|██████    | 18/30 [00:00<00:00, 174.60it/s]"
     ]
    },
    {
     "name": "stdout",
     "output_type": "stream",
     "text": [
      "\n",
      "FID: 100.2257\n",
      "Time: 0.13 min\n",
      "\n",
      "-- Partial --\n",
      "Best Epoch: epoch-64\n",
      "Best FID: 77.6898\n",
      "\n",
      "--------------------------------\n",
      "\n",
      "Epoch: 80\n"
     ]
    },
    {
     "name": "stderr",
     "output_type": "stream",
     "text": [
      "100%|██████████| 30/30 [00:00<00:00, 180.55it/s]\n",
      " 63%|██████▎   | 19/30 [00:00<00:00, 183.29it/s]"
     ]
    },
    {
     "name": "stdout",
     "output_type": "stream",
     "text": [
      "\n",
      "FID: 96.9239\n",
      "Time: 0.13 min\n",
      "\n",
      "-- Partial --\n",
      "Best Epoch: epoch-64\n",
      "Best FID: 77.6898\n",
      "\n",
      "--------------------------------\n",
      "\n",
      "Epoch: 81\n"
     ]
    },
    {
     "name": "stderr",
     "output_type": "stream",
     "text": [
      "100%|██████████| 30/30 [00:00<00:00, 179.96it/s]\n",
      " 57%|█████▋    | 17/30 [00:00<00:00, 165.93it/s]"
     ]
    },
    {
     "name": "stdout",
     "output_type": "stream",
     "text": [
      "\n",
      "FID: 84.8832\n",
      "Time: 0.13 min\n",
      "\n",
      "-- Partial --\n",
      "Best Epoch: epoch-64\n",
      "Best FID: 77.6898\n",
      "\n",
      "--------------------------------\n",
      "\n",
      "Epoch: 82\n"
     ]
    },
    {
     "name": "stderr",
     "output_type": "stream",
     "text": [
      "100%|██████████| 30/30 [00:00<00:00, 174.86it/s]\n",
      " 63%|██████▎   | 19/30 [00:00<00:00, 181.66it/s]"
     ]
    },
    {
     "name": "stdout",
     "output_type": "stream",
     "text": [
      "\n",
      "FID: 92.3429\n",
      "Time: 0.13 min\n",
      "\n",
      "-- Partial --\n",
      "Best Epoch: epoch-64\n",
      "Best FID: 77.6898\n",
      "\n",
      "--------------------------------\n",
      "\n",
      "Epoch: 83\n"
     ]
    },
    {
     "name": "stderr",
     "output_type": "stream",
     "text": [
      "100%|██████████| 30/30 [00:00<00:00, 183.34it/s]\n",
      " 57%|█████▋    | 17/30 [00:00<00:00, 169.68it/s]"
     ]
    },
    {
     "name": "stdout",
     "output_type": "stream",
     "text": [
      "\n",
      "FID: 94.9758\n",
      "Time: 0.13 min\n",
      "\n",
      "-- Partial --\n",
      "Best Epoch: epoch-64\n",
      "Best FID: 77.6898\n",
      "\n",
      "--------------------------------\n",
      "\n",
      "Epoch: 84\n"
     ]
    },
    {
     "name": "stderr",
     "output_type": "stream",
     "text": [
      "100%|██████████| 30/30 [00:00<00:00, 177.59it/s]\n",
      " 60%|██████    | 18/30 [00:00<00:00, 174.87it/s]"
     ]
    },
    {
     "name": "stdout",
     "output_type": "stream",
     "text": [
      "\n",
      "FID: 83.8825\n",
      "Time: 0.13 min\n",
      "\n",
      "-- Partial --\n",
      "Best Epoch: epoch-64\n",
      "Best FID: 77.6898\n",
      "\n",
      "--------------------------------\n",
      "\n",
      "Epoch: 85\n"
     ]
    },
    {
     "name": "stderr",
     "output_type": "stream",
     "text": [
      "100%|██████████| 30/30 [00:00<00:00, 179.39it/s]\n",
      " 60%|██████    | 18/30 [00:00<00:00, 177.31it/s]"
     ]
    },
    {
     "name": "stdout",
     "output_type": "stream",
     "text": [
      "\n",
      "FID: 87.0191\n",
      "Time: 0.13 min\n",
      "\n",
      "-- Partial --\n",
      "Best Epoch: epoch-64\n",
      "Best FID: 77.6898\n",
      "\n",
      "--------------------------------\n",
      "\n",
      "Epoch: 86\n"
     ]
    },
    {
     "name": "stderr",
     "output_type": "stream",
     "text": [
      "100%|██████████| 30/30 [00:00<00:00, 180.09it/s]\n",
      " 60%|██████    | 18/30 [00:00<00:00, 175.49it/s]"
     ]
    },
    {
     "name": "stdout",
     "output_type": "stream",
     "text": [
      "\n",
      "FID: 77.3746\n",
      "Time: 0.13 min\n",
      "\n",
      "-- Partial --\n",
      "Best Epoch: epoch-86\n",
      "Best FID: 77.3746\n",
      "\n",
      "--------------------------------\n",
      "\n",
      "Epoch: 87\n"
     ]
    },
    {
     "name": "stderr",
     "output_type": "stream",
     "text": [
      "100%|██████████| 30/30 [00:00<00:00, 181.00it/s]\n",
      " 57%|█████▋    | 17/30 [00:00<00:00, 164.88it/s]"
     ]
    },
    {
     "name": "stdout",
     "output_type": "stream",
     "text": [
      "\n",
      "FID: 79.1962\n",
      "Time: 0.13 min\n",
      "\n",
      "-- Partial --\n",
      "Best Epoch: epoch-86\n",
      "Best FID: 77.3746\n",
      "\n",
      "--------------------------------\n",
      "\n",
      "Epoch: 88\n"
     ]
    },
    {
     "name": "stderr",
     "output_type": "stream",
     "text": [
      "100%|██████████| 30/30 [00:00<00:00, 172.65it/s]\n",
      " 57%|█████▋    | 17/30 [00:00<00:00, 169.28it/s]"
     ]
    },
    {
     "name": "stdout",
     "output_type": "stream",
     "text": [
      "\n",
      "FID: 86.0029\n",
      "Time: 0.13 min\n",
      "\n",
      "-- Partial --\n",
      "Best Epoch: epoch-86\n",
      "Best FID: 77.3746\n",
      "\n",
      "--------------------------------\n",
      "\n",
      "Epoch: 89\n"
     ]
    },
    {
     "name": "stderr",
     "output_type": "stream",
     "text": [
      "100%|██████████| 30/30 [00:00<00:00, 178.72it/s]\n",
      " 60%|██████    | 18/30 [00:00<00:00, 174.26it/s]"
     ]
    },
    {
     "name": "stdout",
     "output_type": "stream",
     "text": [
      "\n",
      "FID: 80.7819\n",
      "Time: 0.13 min\n",
      "\n",
      "-- Partial --\n",
      "Best Epoch: epoch-86\n",
      "Best FID: 77.3746\n",
      "\n",
      "--------------------------------\n",
      "\n",
      "Epoch: 90\n"
     ]
    },
    {
     "name": "stderr",
     "output_type": "stream",
     "text": [
      "100%|██████████| 30/30 [00:00<00:00, 180.63it/s]\n",
      " 60%|██████    | 18/30 [00:00<00:00, 176.91it/s]"
     ]
    },
    {
     "name": "stdout",
     "output_type": "stream",
     "text": [
      "\n",
      "FID: 92.5393\n",
      "Time: 0.13 min\n",
      "\n",
      "-- Partial --\n",
      "Best Epoch: epoch-86\n",
      "Best FID: 77.3746\n",
      "\n",
      "--------------------------------\n",
      "\n",
      "Epoch: 91\n"
     ]
    },
    {
     "name": "stderr",
     "output_type": "stream",
     "text": [
      "100%|██████████| 30/30 [00:00<00:00, 184.17it/s]\n",
      " 60%|██████    | 18/30 [00:00<00:00, 173.91it/s]"
     ]
    },
    {
     "name": "stdout",
     "output_type": "stream",
     "text": [
      "\n",
      "FID: 80.9526\n",
      "Time: 0.13 min\n",
      "\n",
      "-- Partial --\n",
      "Best Epoch: epoch-86\n",
      "Best FID: 77.3746\n",
      "\n",
      "--------------------------------\n",
      "\n",
      "Epoch: 92\n"
     ]
    },
    {
     "name": "stderr",
     "output_type": "stream",
     "text": [
      "100%|██████████| 30/30 [00:00<00:00, 181.20it/s]\n",
      " 63%|██████▎   | 19/30 [00:00<00:00, 186.86it/s]"
     ]
    },
    {
     "name": "stdout",
     "output_type": "stream",
     "text": [
      "\n",
      "FID: 85.7338\n",
      "Time: 0.13 min\n",
      "\n",
      "-- Partial --\n",
      "Best Epoch: epoch-86\n",
      "Best FID: 77.3746\n",
      "\n",
      "--------------------------------\n",
      "\n",
      "Epoch: 93\n"
     ]
    },
    {
     "name": "stderr",
     "output_type": "stream",
     "text": [
      "100%|██████████| 30/30 [00:00<00:00, 189.00it/s]\n",
      " 33%|███▎      | 10/30 [00:00<00:00, 95.96it/s]"
     ]
    },
    {
     "name": "stdout",
     "output_type": "stream",
     "text": [
      "\n",
      "FID: 77.9249\n",
      "Time: 0.13 min\n",
      "\n",
      "-- Partial --\n",
      "Best Epoch: epoch-86\n",
      "Best FID: 77.3746\n",
      "\n",
      "--------------------------------\n",
      "\n",
      "Epoch: 94\n"
     ]
    },
    {
     "name": "stderr",
     "output_type": "stream",
     "text": [
      "100%|██████████| 30/30 [00:00<00:00, 134.60it/s]\n",
      " 60%|██████    | 18/30 [00:00<00:00, 173.81it/s]"
     ]
    },
    {
     "name": "stdout",
     "output_type": "stream",
     "text": [
      "\n",
      "FID: 81.2141\n",
      "Time: 0.13 min\n",
      "\n",
      "-- Partial --\n",
      "Best Epoch: epoch-86\n",
      "Best FID: 77.3746\n",
      "\n",
      "--------------------------------\n",
      "\n",
      "Epoch: 95\n"
     ]
    },
    {
     "name": "stderr",
     "output_type": "stream",
     "text": [
      "100%|██████████| 30/30 [00:00<00:00, 178.99it/s]\n",
      " 60%|██████    | 18/30 [00:00<00:00, 179.65it/s]"
     ]
    },
    {
     "name": "stdout",
     "output_type": "stream",
     "text": [
      "\n",
      "FID: 91.2954\n",
      "Time: 0.13 min\n",
      "\n",
      "-- Partial --\n",
      "Best Epoch: epoch-86\n",
      "Best FID: 77.3746\n",
      "\n",
      "--------------------------------\n",
      "\n",
      "Epoch: 96\n"
     ]
    },
    {
     "name": "stderr",
     "output_type": "stream",
     "text": [
      "100%|██████████| 30/30 [00:00<00:00, 185.47it/s]\n",
      "100%|██████████| 30/30 [00:00<00:00, 190.71it/s]"
     ]
    },
    {
     "name": "stdout",
     "output_type": "stream",
     "text": [
      "\n",
      "FID: 86.4760\n",
      "Time: 0.13 min\n",
      "\n",
      "-- Partial --\n",
      "Best Epoch: epoch-86\n",
      "Best FID: 77.3746\n",
      "\n",
      "--------------------------------\n",
      "\n",
      "Epoch: 97\n"
     ]
    },
    {
     "name": "stderr",
     "output_type": "stream",
     "text": [
      "\n",
      " 40%|████      | 12/30 [00:00<00:00, 119.53it/s]"
     ]
    },
    {
     "name": "stdout",
     "output_type": "stream",
     "text": [
      "\n",
      "FID: 86.0329\n",
      "Time: 0.13 min\n",
      "\n",
      "-- Partial --\n",
      "Best Epoch: epoch-86\n",
      "Best FID: 77.3746\n",
      "\n",
      "--------------------------------\n",
      "\n",
      "Epoch: 98\n"
     ]
    },
    {
     "name": "stderr",
     "output_type": "stream",
     "text": [
      "100%|██████████| 30/30 [00:00<00:00, 153.48it/s]\n",
      " 60%|██████    | 18/30 [00:00<00:00, 172.19it/s]"
     ]
    },
    {
     "name": "stdout",
     "output_type": "stream",
     "text": [
      "\n",
      "FID: 74.7117\n",
      "Time: 0.13 min\n",
      "\n",
      "-- Partial --\n",
      "Best Epoch: epoch-98\n",
      "Best FID: 74.7117\n",
      "\n",
      "--------------------------------\n",
      "\n",
      "Epoch: 99\n"
     ]
    },
    {
     "name": "stderr",
     "output_type": "stream",
     "text": [
      "100%|██████████| 30/30 [00:00<00:00, 181.18it/s]\n",
      " 57%|█████▋    | 17/30 [00:00<00:00, 163.86it/s]"
     ]
    },
    {
     "name": "stdout",
     "output_type": "stream",
     "text": [
      "\n",
      "FID: 81.8339\n",
      "Time: 0.13 min\n",
      "\n",
      "-- Partial --\n",
      "Best Epoch: epoch-98\n",
      "Best FID: 74.7117\n",
      "\n",
      "--------------------------------\n",
      "\n",
      "Epoch: 100\n"
     ]
    },
    {
     "name": "stderr",
     "output_type": "stream",
     "text": [
      "100%|██████████| 30/30 [00:00<00:00, 176.11it/s]\n",
      " 60%|██████    | 18/30 [00:00<00:00, 177.77it/s]"
     ]
    },
    {
     "name": "stdout",
     "output_type": "stream",
     "text": [
      "\n",
      "FID: 81.9775\n",
      "Time: 0.13 min\n",
      "\n",
      "-- Partial --\n",
      "Best Epoch: epoch-98\n",
      "Best FID: 74.7117\n",
      "\n",
      "--------------------------------\n",
      "\n",
      "Epoch: 101\n"
     ]
    },
    {
     "name": "stderr",
     "output_type": "stream",
     "text": [
      "100%|██████████| 30/30 [00:00<00:00, 184.06it/s]\n",
      "100%|██████████| 30/30 [00:00<00:00, 184.07it/s]"
     ]
    },
    {
     "name": "stdout",
     "output_type": "stream",
     "text": [
      "\n",
      "FID: 83.6519\n",
      "Time: 0.13 min\n",
      "\n",
      "-- Partial --\n",
      "Best Epoch: epoch-98\n",
      "Best FID: 74.7117\n",
      "\n",
      "--------------------------------\n",
      "\n",
      "Epoch: 102\n"
     ]
    },
    {
     "name": "stderr",
     "output_type": "stream",
     "text": [
      "\n",
      " 60%|██████    | 18/30 [00:00<00:00, 175.57it/s]"
     ]
    },
    {
     "name": "stdout",
     "output_type": "stream",
     "text": [
      "\n",
      "FID: 85.7346\n",
      "Time: 0.13 min\n",
      "\n",
      "-- Partial --\n",
      "Best Epoch: epoch-98\n",
      "Best FID: 74.7117\n",
      "\n",
      "--------------------------------\n",
      "\n",
      "Epoch: 103\n"
     ]
    },
    {
     "name": "stderr",
     "output_type": "stream",
     "text": [
      "100%|██████████| 30/30 [00:00<00:00, 182.22it/s]\n",
      " 60%|██████    | 18/30 [00:00<00:00, 172.01it/s]"
     ]
    },
    {
     "name": "stdout",
     "output_type": "stream",
     "text": [
      "\n",
      "FID: 89.7548\n",
      "Time: 0.13 min\n",
      "\n",
      "-- Partial --\n",
      "Best Epoch: epoch-98\n",
      "Best FID: 74.7117\n",
      "\n",
      "--------------------------------\n",
      "\n",
      "Epoch: 104\n"
     ]
    },
    {
     "name": "stderr",
     "output_type": "stream",
     "text": [
      "100%|██████████| 30/30 [00:00<00:00, 180.84it/s]\n",
      " 60%|██████    | 18/30 [00:00<00:00, 178.92it/s]"
     ]
    },
    {
     "name": "stdout",
     "output_type": "stream",
     "text": [
      "\n",
      "FID: 90.1877\n",
      "Time: 0.13 min\n",
      "\n",
      "-- Partial --\n",
      "Best Epoch: epoch-98\n",
      "Best FID: 74.7117\n",
      "\n",
      "--------------------------------\n",
      "\n",
      "Epoch: 105\n"
     ]
    },
    {
     "name": "stderr",
     "output_type": "stream",
     "text": [
      "100%|██████████| 30/30 [00:00<00:00, 184.43it/s]\n",
      "100%|██████████| 30/30 [00:00<00:00, 177.08it/s]"
     ]
    },
    {
     "name": "stdout",
     "output_type": "stream",
     "text": [
      "\n",
      "FID: 85.3486\n",
      "Time: 0.13 min\n",
      "\n",
      "-- Partial --\n",
      "Best Epoch: epoch-98\n",
      "Best FID: 74.7117\n",
      "\n",
      "--------------------------------\n",
      "\n",
      "Epoch: 106\n"
     ]
    },
    {
     "name": "stderr",
     "output_type": "stream",
     "text": [
      "\n",
      " 60%|██████    | 18/30 [00:00<00:00, 179.42it/s]"
     ]
    },
    {
     "name": "stdout",
     "output_type": "stream",
     "text": [
      "\n",
      "FID: 86.2525\n",
      "Time: 0.13 min\n",
      "\n",
      "-- Partial --\n",
      "Best Epoch: epoch-98\n",
      "Best FID: 74.7117\n",
      "\n",
      "--------------------------------\n",
      "\n",
      "Epoch: 107\n"
     ]
    },
    {
     "name": "stderr",
     "output_type": "stream",
     "text": [
      "100%|██████████| 30/30 [00:00<00:00, 185.38it/s]\n",
      " 57%|█████▋    | 17/30 [00:00<00:00, 161.97it/s]"
     ]
    },
    {
     "name": "stdout",
     "output_type": "stream",
     "text": [
      "\n",
      "FID: 91.4096\n",
      "Time: 0.13 min\n",
      "\n",
      "-- Partial --\n",
      "Best Epoch: epoch-98\n",
      "Best FID: 74.7117\n",
      "\n",
      "--------------------------------\n",
      "\n",
      "Epoch: 108\n"
     ]
    },
    {
     "name": "stderr",
     "output_type": "stream",
     "text": [
      "100%|██████████| 30/30 [00:00<00:00, 173.90it/s]\n",
      " 63%|██████▎   | 19/30 [00:00<00:00, 180.25it/s]"
     ]
    },
    {
     "name": "stdout",
     "output_type": "stream",
     "text": [
      "\n",
      "FID: 87.0845\n",
      "Time: 0.13 min\n",
      "\n",
      "-- Partial --\n",
      "Best Epoch: epoch-98\n",
      "Best FID: 74.7117\n",
      "\n",
      "--------------------------------\n",
      "\n",
      "Epoch: 109\n"
     ]
    },
    {
     "name": "stderr",
     "output_type": "stream",
     "text": [
      "100%|██████████| 30/30 [00:00<00:00, 186.96it/s]\n",
      " 57%|█████▋    | 17/30 [00:00<00:00, 165.45it/s]"
     ]
    },
    {
     "name": "stdout",
     "output_type": "stream",
     "text": [
      "\n",
      "FID: 78.7748\n",
      "Time: 0.13 min\n",
      "\n",
      "-- Partial --\n",
      "Best Epoch: epoch-98\n",
      "Best FID: 74.7117\n",
      "\n",
      "--------------------------------\n",
      "\n",
      "Epoch: 110\n"
     ]
    },
    {
     "name": "stderr",
     "output_type": "stream",
     "text": [
      "100%|██████████| 30/30 [00:00<00:00, 173.57it/s]\n",
      " 40%|████      | 12/30 [00:00<00:00, 119.91it/s]"
     ]
    },
    {
     "name": "stdout",
     "output_type": "stream",
     "text": [
      "\n",
      "FID: 80.7015\n",
      "Time: 0.13 min\n",
      "\n",
      "-- Partial --\n",
      "Best Epoch: epoch-98\n",
      "Best FID: 74.7117\n",
      "\n",
      "--------------------------------\n",
      "\n",
      "Epoch: 111\n"
     ]
    },
    {
     "name": "stderr",
     "output_type": "stream",
     "text": [
      "100%|██████████| 30/30 [00:00<00:00, 154.54it/s]\n",
      " 60%|██████    | 18/30 [00:00<00:00, 171.89it/s]"
     ]
    },
    {
     "name": "stdout",
     "output_type": "stream",
     "text": [
      "\n",
      "FID: 75.8564\n",
      "Time: 0.13 min\n",
      "\n",
      "-- Partial --\n",
      "Best Epoch: epoch-98\n",
      "Best FID: 74.7117\n",
      "\n",
      "--------------------------------\n",
      "\n",
      "Epoch: 112\n"
     ]
    },
    {
     "name": "stderr",
     "output_type": "stream",
     "text": [
      "100%|██████████| 30/30 [00:00<00:00, 179.90it/s]\n",
      "100%|██████████| 30/30 [00:00<00:00, 183.51it/s]"
     ]
    },
    {
     "name": "stdout",
     "output_type": "stream",
     "text": [
      "\n",
      "FID: 90.6967\n",
      "Time: 0.13 min\n",
      "\n",
      "-- Partial --\n",
      "Best Epoch: epoch-98\n",
      "Best FID: 74.7117\n",
      "\n",
      "--------------------------------\n",
      "\n",
      "Epoch: 113\n"
     ]
    },
    {
     "name": "stderr",
     "output_type": "stream",
     "text": [
      "\n",
      " 57%|█████▋    | 17/30 [00:00<00:00, 168.86it/s]"
     ]
    },
    {
     "name": "stdout",
     "output_type": "stream",
     "text": [
      "\n",
      "FID: 85.8574\n",
      "Time: 0.13 min\n",
      "\n",
      "-- Partial --\n",
      "Best Epoch: epoch-98\n",
      "Best FID: 74.7117\n",
      "\n",
      "--------------------------------\n",
      "\n",
      "Epoch: 114\n"
     ]
    },
    {
     "name": "stderr",
     "output_type": "stream",
     "text": [
      "100%|██████████| 30/30 [00:00<00:00, 179.93it/s]\n",
      "100%|██████████| 30/30 [00:00<00:00, 182.51it/s]"
     ]
    },
    {
     "name": "stdout",
     "output_type": "stream",
     "text": [
      "\n",
      "FID: 76.7200\n",
      "Time: 0.13 min\n",
      "\n",
      "-- Partial --\n",
      "Best Epoch: epoch-98\n",
      "Best FID: 74.7117\n",
      "\n",
      "--------------------------------\n",
      "\n",
      "Epoch: 115\n"
     ]
    },
    {
     "name": "stderr",
     "output_type": "stream",
     "text": [
      "\n",
      " 53%|█████▎    | 16/30 [00:00<00:00, 158.39it/s]"
     ]
    },
    {
     "name": "stdout",
     "output_type": "stream",
     "text": [
      "\n",
      "FID: 89.7732\n",
      "Time: 0.13 min\n",
      "\n",
      "-- Partial --\n",
      "Best Epoch: epoch-98\n",
      "Best FID: 74.7117\n",
      "\n",
      "--------------------------------\n",
      "\n",
      "Epoch: 116\n"
     ]
    },
    {
     "name": "stderr",
     "output_type": "stream",
     "text": [
      "100%|██████████| 30/30 [00:00<00:00, 172.33it/s]\n",
      "100%|██████████| 30/30 [00:00<00:00, 183.04it/s]"
     ]
    },
    {
     "name": "stdout",
     "output_type": "stream",
     "text": [
      "\n",
      "FID: 85.0484\n",
      "Time: 0.13 min\n",
      "\n",
      "-- Partial --\n",
      "Best Epoch: epoch-98\n",
      "Best FID: 74.7117\n",
      "\n",
      "--------------------------------\n",
      "\n",
      "Epoch: 117\n"
     ]
    },
    {
     "name": "stderr",
     "output_type": "stream",
     "text": [
      "\n",
      " 60%|██████    | 18/30 [00:00<00:00, 173.73it/s]"
     ]
    },
    {
     "name": "stdout",
     "output_type": "stream",
     "text": [
      "\n",
      "FID: 80.1580\n",
      "Time: 0.13 min\n",
      "\n",
      "-- Partial --\n",
      "Best Epoch: epoch-98\n",
      "Best FID: 74.7117\n",
      "\n",
      "--------------------------------\n",
      "\n",
      "Epoch: 118\n"
     ]
    },
    {
     "name": "stderr",
     "output_type": "stream",
     "text": [
      "100%|██████████| 30/30 [00:00<00:00, 180.01it/s]\n",
      " 37%|███▋      | 11/30 [00:00<00:00, 106.64it/s]"
     ]
    },
    {
     "name": "stdout",
     "output_type": "stream",
     "text": [
      "\n",
      "FID: 79.6256\n",
      "Time: 0.13 min\n",
      "\n",
      "-- Partial --\n",
      "Best Epoch: epoch-98\n",
      "Best FID: 74.7117\n",
      "\n",
      "--------------------------------\n",
      "\n",
      "Epoch: 119\n"
     ]
    },
    {
     "name": "stderr",
     "output_type": "stream",
     "text": [
      "100%|██████████| 30/30 [00:00<00:00, 150.58it/s]\n",
      " 60%|██████    | 18/30 [00:00<00:00, 174.06it/s]"
     ]
    },
    {
     "name": "stdout",
     "output_type": "stream",
     "text": [
      "\n",
      "FID: 74.8340\n",
      "Time: 0.13 min\n",
      "\n",
      "-- Partial --\n",
      "Best Epoch: epoch-98\n",
      "Best FID: 74.7117\n",
      "\n",
      "--------------------------------\n",
      "\n",
      "Epoch: 120\n"
     ]
    },
    {
     "name": "stderr",
     "output_type": "stream",
     "text": [
      "100%|██████████| 30/30 [00:00<00:00, 182.40it/s]\n",
      " 60%|██████    | 18/30 [00:00<00:00, 174.88it/s]"
     ]
    },
    {
     "name": "stdout",
     "output_type": "stream",
     "text": [
      "\n",
      "FID: 81.3180\n",
      "Time: 0.13 min\n",
      "\n",
      "-- Partial --\n",
      "Best Epoch: epoch-98\n",
      "Best FID: 74.7117\n",
      "\n",
      "--------------------------------\n",
      "\n",
      "Epoch: 121\n"
     ]
    },
    {
     "name": "stderr",
     "output_type": "stream",
     "text": [
      "100%|██████████| 30/30 [00:00<00:00, 181.84it/s]\n",
      " 57%|█████▋    | 17/30 [00:00<00:00, 169.50it/s]"
     ]
    },
    {
     "name": "stdout",
     "output_type": "stream",
     "text": [
      "\n",
      "FID: 81.9647\n",
      "Time: 0.13 min\n",
      "\n",
      "-- Partial --\n",
      "Best Epoch: epoch-98\n",
      "Best FID: 74.7117\n",
      "\n",
      "--------------------------------\n",
      "\n",
      "Epoch: 122\n"
     ]
    },
    {
     "name": "stderr",
     "output_type": "stream",
     "text": [
      "100%|██████████| 30/30 [00:00<00:00, 179.56it/s]\n",
      " 57%|█████▋    | 17/30 [00:00<00:00, 165.22it/s]"
     ]
    },
    {
     "name": "stdout",
     "output_type": "stream",
     "text": [
      "\n",
      "FID: 80.1148\n",
      "Time: 0.13 min\n",
      "\n",
      "-- Partial --\n",
      "Best Epoch: epoch-98\n",
      "Best FID: 74.7117\n",
      "\n",
      "--------------------------------\n",
      "\n",
      "Epoch: 123\n"
     ]
    },
    {
     "name": "stderr",
     "output_type": "stream",
     "text": [
      "100%|██████████| 30/30 [00:00<00:00, 174.48it/s]\n",
      " 60%|██████    | 18/30 [00:00<00:00, 176.68it/s]"
     ]
    },
    {
     "name": "stdout",
     "output_type": "stream",
     "text": [
      "\n",
      "FID: 85.5804\n",
      "Time: 0.13 min\n",
      "\n",
      "-- Partial --\n",
      "Best Epoch: epoch-98\n",
      "Best FID: 74.7117\n",
      "\n",
      "--------------------------------\n",
      "\n",
      "Epoch: 124\n"
     ]
    },
    {
     "name": "stderr",
     "output_type": "stream",
     "text": [
      "100%|██████████| 30/30 [00:00<00:00, 182.43it/s]\n",
      " 63%|██████▎   | 19/30 [00:00<00:00, 183.07it/s]"
     ]
    },
    {
     "name": "stdout",
     "output_type": "stream",
     "text": [
      "\n",
      "FID: 84.1811\n",
      "Time: 0.13 min\n",
      "\n",
      "-- Partial --\n",
      "Best Epoch: epoch-98\n",
      "Best FID: 74.7117\n",
      "\n",
      "--------------------------------\n",
      "\n",
      "Epoch: 125\n"
     ]
    },
    {
     "name": "stderr",
     "output_type": "stream",
     "text": [
      "100%|██████████| 30/30 [00:00<00:00, 184.50it/s]\n",
      " 63%|██████▎   | 19/30 [00:00<00:00, 182.52it/s]"
     ]
    },
    {
     "name": "stdout",
     "output_type": "stream",
     "text": [
      "\n",
      "FID: 86.0572\n",
      "Time: 0.13 min\n",
      "\n",
      "-- Partial --\n",
      "Best Epoch: epoch-98\n",
      "Best FID: 74.7117\n",
      "\n",
      "--------------------------------\n",
      "\n",
      "Epoch: 126\n"
     ]
    },
    {
     "name": "stderr",
     "output_type": "stream",
     "text": [
      "100%|██████████| 30/30 [00:00<00:00, 185.02it/s]\n",
      " 63%|██████▎   | 19/30 [00:00<00:00, 186.56it/s]"
     ]
    },
    {
     "name": "stdout",
     "output_type": "stream",
     "text": [
      "\n",
      "FID: 90.9500\n",
      "Time: 0.13 min\n",
      "\n",
      "-- Partial --\n",
      "Best Epoch: epoch-98\n",
      "Best FID: 74.7117\n",
      "\n",
      "--------------------------------\n",
      "\n",
      "Epoch: 127\n"
     ]
    },
    {
     "name": "stderr",
     "output_type": "stream",
     "text": [
      "100%|██████████| 30/30 [00:00<00:00, 190.63it/s]\n",
      " 63%|██████▎   | 19/30 [00:00<00:00, 183.96it/s]"
     ]
    },
    {
     "name": "stdout",
     "output_type": "stream",
     "text": [
      "\n",
      "FID: 81.0354\n",
      "Time: 0.13 min\n",
      "\n",
      "-- Partial --\n",
      "Best Epoch: epoch-98\n",
      "Best FID: 74.7117\n",
      "\n",
      "--------------------------------\n",
      "\n",
      "Epoch: 128\n"
     ]
    },
    {
     "name": "stderr",
     "output_type": "stream",
     "text": [
      "100%|██████████| 30/30 [00:00<00:00, 187.12it/s]\n",
      " 60%|██████    | 18/30 [00:00<00:00, 176.96it/s]"
     ]
    },
    {
     "name": "stdout",
     "output_type": "stream",
     "text": [
      "\n",
      "FID: 84.8039\n",
      "Time: 0.13 min\n",
      "\n",
      "-- Partial --\n",
      "Best Epoch: epoch-98\n",
      "Best FID: 74.7117\n",
      "\n",
      "--------------------------------\n",
      "\n",
      "Epoch: 129\n"
     ]
    },
    {
     "name": "stderr",
     "output_type": "stream",
     "text": [
      "100%|██████████| 30/30 [00:00<00:00, 182.07it/s]\n",
      " 60%|██████    | 18/30 [00:00<00:00, 176.75it/s]"
     ]
    },
    {
     "name": "stdout",
     "output_type": "stream",
     "text": [
      "\n",
      "FID: 83.9350\n",
      "Time: 0.13 min\n",
      "\n",
      "-- Partial --\n",
      "Best Epoch: epoch-98\n",
      "Best FID: 74.7117\n",
      "\n",
      "--------------------------------\n",
      "\n",
      "Epoch: 130\n"
     ]
    },
    {
     "name": "stderr",
     "output_type": "stream",
     "text": [
      "100%|██████████| 30/30 [00:00<00:00, 183.05it/s]\n",
      " 60%|██████    | 18/30 [00:00<00:00, 179.42it/s]"
     ]
    },
    {
     "name": "stdout",
     "output_type": "stream",
     "text": [
      "\n",
      "FID: 81.7912\n",
      "Time: 0.13 min\n",
      "\n",
      "-- Partial --\n",
      "Best Epoch: epoch-98\n",
      "Best FID: 74.7117\n",
      "\n",
      "--------------------------------\n",
      "\n",
      "Epoch: 131\n"
     ]
    },
    {
     "name": "stderr",
     "output_type": "stream",
     "text": [
      "100%|██████████| 30/30 [00:00<00:00, 183.62it/s]\n",
      " 53%|█████▎    | 16/30 [00:00<00:00, 156.15it/s]"
     ]
    },
    {
     "name": "stdout",
     "output_type": "stream",
     "text": [
      "\n",
      "FID: 80.8499\n",
      "Time: 0.13 min\n",
      "\n",
      "-- Partial --\n",
      "Best Epoch: epoch-98\n",
      "Best FID: 74.7117\n",
      "\n",
      "--------------------------------\n",
      "\n",
      "Epoch: 132\n"
     ]
    },
    {
     "name": "stderr",
     "output_type": "stream",
     "text": [
      "100%|██████████| 30/30 [00:00<00:00, 172.32it/s]\n",
      " 57%|█████▋    | 17/30 [00:00<00:00, 164.85it/s]"
     ]
    },
    {
     "name": "stdout",
     "output_type": "stream",
     "text": [
      "\n",
      "FID: 83.8253\n",
      "Time: 0.13 min\n",
      "\n",
      "-- Partial --\n",
      "Best Epoch: epoch-98\n",
      "Best FID: 74.7117\n",
      "\n",
      "--------------------------------\n",
      "\n",
      "Epoch: 133\n"
     ]
    },
    {
     "name": "stderr",
     "output_type": "stream",
     "text": [
      "100%|██████████| 30/30 [00:00<00:00, 175.82it/s]\n",
      " 63%|██████▎   | 19/30 [00:00<00:00, 181.72it/s]"
     ]
    },
    {
     "name": "stdout",
     "output_type": "stream",
     "text": [
      "\n",
      "FID: 79.1994\n",
      "Time: 0.13 min\n",
      "\n",
      "-- Partial --\n",
      "Best Epoch: epoch-98\n",
      "Best FID: 74.7117\n",
      "\n",
      "--------------------------------\n",
      "\n",
      "Epoch: 134\n"
     ]
    },
    {
     "name": "stderr",
     "output_type": "stream",
     "text": [
      "100%|██████████| 30/30 [00:00<00:00, 187.31it/s]\n",
      " 63%|██████▎   | 19/30 [00:00<00:00, 181.63it/s]"
     ]
    },
    {
     "name": "stdout",
     "output_type": "stream",
     "text": [
      "\n",
      "FID: 78.4996\n",
      "Time: 0.13 min\n",
      "\n",
      "-- Partial --\n",
      "Best Epoch: epoch-98\n",
      "Best FID: 74.7117\n",
      "\n",
      "--------------------------------\n",
      "\n",
      "Epoch: 135\n"
     ]
    },
    {
     "name": "stderr",
     "output_type": "stream",
     "text": [
      "100%|██████████| 30/30 [00:00<00:00, 185.48it/s]\n",
      " 60%|██████    | 18/30 [00:00<00:00, 173.67it/s]"
     ]
    },
    {
     "name": "stdout",
     "output_type": "stream",
     "text": [
      "\n",
      "FID: 76.5815\n",
      "Time: 0.13 min\n",
      "\n",
      "-- Partial --\n",
      "Best Epoch: epoch-98\n",
      "Best FID: 74.7117\n",
      "\n",
      "--------------------------------\n",
      "\n",
      "Epoch: 136\n"
     ]
    },
    {
     "name": "stderr",
     "output_type": "stream",
     "text": [
      "100%|██████████| 30/30 [00:00<00:00, 180.07it/s]\n",
      " 60%|██████    | 18/30 [00:00<00:00, 172.78it/s]"
     ]
    },
    {
     "name": "stdout",
     "output_type": "stream",
     "text": [
      "\n",
      "FID: 79.9583\n",
      "Time: 0.13 min\n",
      "\n",
      "-- Partial --\n",
      "Best Epoch: epoch-98\n",
      "Best FID: 74.7117\n",
      "\n",
      "--------------------------------\n",
      "\n",
      "Epoch: 137\n"
     ]
    },
    {
     "name": "stderr",
     "output_type": "stream",
     "text": [
      "100%|██████████| 30/30 [00:00<00:00, 178.32it/s]\n",
      " 60%|██████    | 18/30 [00:00<00:00, 179.28it/s]"
     ]
    },
    {
     "name": "stdout",
     "output_type": "stream",
     "text": [
      "\n",
      "FID: 81.0056\n",
      "Time: 0.13 min\n",
      "\n",
      "-- Partial --\n",
      "Best Epoch: epoch-98\n",
      "Best FID: 74.7117\n",
      "\n",
      "--------------------------------\n",
      "\n",
      "Epoch: 138\n"
     ]
    },
    {
     "name": "stderr",
     "output_type": "stream",
     "text": [
      "100%|██████████| 30/30 [00:00<00:00, 184.69it/s]\n",
      " 57%|█████▋    | 17/30 [00:00<00:00, 167.18it/s]"
     ]
    },
    {
     "name": "stdout",
     "output_type": "stream",
     "text": [
      "\n",
      "FID: 80.4106\n",
      "Time: 0.13 min\n",
      "\n",
      "-- Partial --\n",
      "Best Epoch: epoch-98\n",
      "Best FID: 74.7117\n",
      "\n",
      "--------------------------------\n",
      "\n",
      "Epoch: 139\n"
     ]
    },
    {
     "name": "stderr",
     "output_type": "stream",
     "text": [
      "100%|██████████| 30/30 [00:00<00:00, 176.73it/s]\n",
      " 57%|█████▋    | 17/30 [00:00<00:00, 163.33it/s]"
     ]
    },
    {
     "name": "stdout",
     "output_type": "stream",
     "text": [
      "\n",
      "FID: 84.0114\n",
      "Time: 0.13 min\n",
      "\n",
      "-- Partial --\n",
      "Best Epoch: epoch-98\n",
      "Best FID: 74.7117\n",
      "\n",
      "--------------------------------\n",
      "\n",
      "Epoch: 140\n"
     ]
    },
    {
     "name": "stderr",
     "output_type": "stream",
     "text": [
      "100%|██████████| 30/30 [00:00<00:00, 175.29it/s]\n",
      " 57%|█████▋    | 17/30 [00:00<00:00, 168.15it/s]"
     ]
    },
    {
     "name": "stdout",
     "output_type": "stream",
     "text": [
      "\n",
      "FID: 87.1059\n",
      "Time: 0.13 min\n",
      "\n",
      "-- Partial --\n",
      "Best Epoch: epoch-98\n",
      "Best FID: 74.7117\n",
      "\n",
      "--------------------------------\n",
      "\n",
      "Epoch: 141\n"
     ]
    },
    {
     "name": "stderr",
     "output_type": "stream",
     "text": [
      "100%|██████████| 30/30 [00:00<00:00, 178.40it/s]\n",
      " 60%|██████    | 18/30 [00:00<00:00, 176.33it/s]"
     ]
    },
    {
     "name": "stdout",
     "output_type": "stream",
     "text": [
      "\n",
      "FID: 74.2203\n",
      "Time: 0.13 min\n",
      "\n",
      "-- Partial --\n",
      "Best Epoch: epoch-141\n",
      "Best FID: 74.2203\n",
      "\n",
      "--------------------------------\n",
      "\n",
      "Epoch: 142\n"
     ]
    },
    {
     "name": "stderr",
     "output_type": "stream",
     "text": [
      "100%|██████████| 30/30 [00:00<00:00, 180.55it/s]\n",
      "100%|██████████| 30/30 [00:00<00:00, 185.69it/s]"
     ]
    },
    {
     "name": "stdout",
     "output_type": "stream",
     "text": [
      "\n",
      "FID: 80.2506\n",
      "Time: 0.13 min\n",
      "\n",
      "-- Partial --\n",
      "Best Epoch: epoch-141\n",
      "Best FID: 74.2203\n",
      "\n",
      "--------------------------------\n",
      "\n",
      "Epoch: 143\n"
     ]
    },
    {
     "name": "stderr",
     "output_type": "stream",
     "text": [
      "\n",
      " 57%|█████▋    | 17/30 [00:00<00:00, 166.00it/s]"
     ]
    },
    {
     "name": "stdout",
     "output_type": "stream",
     "text": [
      "\n",
      "FID: 81.3771\n",
      "Time: 0.13 min\n",
      "\n",
      "-- Partial --\n",
      "Best Epoch: epoch-141\n",
      "Best FID: 74.2203\n",
      "\n",
      "--------------------------------\n",
      "\n",
      "Epoch: 144\n"
     ]
    },
    {
     "name": "stderr",
     "output_type": "stream",
     "text": [
      "100%|██████████| 30/30 [00:00<00:00, 177.09it/s]\n",
      " 60%|██████    | 18/30 [00:00<00:00, 174.75it/s]"
     ]
    },
    {
     "name": "stdout",
     "output_type": "stream",
     "text": [
      "\n",
      "FID: 84.5560\n",
      "Time: 0.13 min\n",
      "\n",
      "-- Partial --\n",
      "Best Epoch: epoch-141\n",
      "Best FID: 74.2203\n",
      "\n",
      "--------------------------------\n",
      "\n",
      "Epoch: 145\n"
     ]
    },
    {
     "name": "stderr",
     "output_type": "stream",
     "text": [
      "100%|██████████| 30/30 [00:00<00:00, 181.75it/s]\n",
      " 63%|██████▎   | 19/30 [00:00<00:00, 181.49it/s]"
     ]
    },
    {
     "name": "stdout",
     "output_type": "stream",
     "text": [
      "\n",
      "FID: 81.3752\n",
      "Time: 0.13 min\n",
      "\n",
      "-- Partial --\n",
      "Best Epoch: epoch-141\n",
      "Best FID: 74.2203\n",
      "\n",
      "--------------------------------\n",
      "\n",
      "Epoch: 146\n"
     ]
    },
    {
     "name": "stderr",
     "output_type": "stream",
     "text": [
      "100%|██████████| 30/30 [00:00<00:00, 184.12it/s]\n",
      " 57%|█████▋    | 17/30 [00:00<00:00, 166.32it/s]"
     ]
    },
    {
     "name": "stdout",
     "output_type": "stream",
     "text": [
      "\n",
      "FID: 86.7101\n",
      "Time: 0.13 min\n",
      "\n",
      "-- Partial --\n",
      "Best Epoch: epoch-141\n",
      "Best FID: 74.2203\n",
      "\n",
      "--------------------------------\n",
      "\n",
      "Epoch: 147\n"
     ]
    },
    {
     "name": "stderr",
     "output_type": "stream",
     "text": [
      "100%|██████████| 30/30 [00:00<00:00, 174.14it/s]\n",
      " 53%|█████▎    | 16/30 [00:00<00:00, 159.84it/s]"
     ]
    },
    {
     "name": "stdout",
     "output_type": "stream",
     "text": [
      "\n",
      "FID: 81.5445\n",
      "Time: 0.13 min\n",
      "\n",
      "-- Partial --\n",
      "Best Epoch: epoch-141\n",
      "Best FID: 74.2203\n",
      "\n",
      "--------------------------------\n",
      "\n",
      "Epoch: 148\n"
     ]
    },
    {
     "name": "stderr",
     "output_type": "stream",
     "text": [
      "100%|██████████| 30/30 [00:00<00:00, 172.26it/s]\n",
      " 97%|█████████▋| 29/30 [00:00<00:00, 107.52it/s]"
     ]
    },
    {
     "name": "stdout",
     "output_type": "stream",
     "text": [
      "\n",
      "FID: 79.4778\n",
      "Time: 0.13 min\n",
      "\n",
      "-- Partial --\n",
      "Best Epoch: epoch-141\n",
      "Best FID: 74.2203\n",
      "\n",
      "--------------------------------\n",
      "\n",
      "Epoch: 149\n"
     ]
    },
    {
     "name": "stderr",
     "output_type": "stream",
     "text": [
      "100%|██████████| 30/30 [00:00<00:00, 143.97it/s]\n",
      " 60%|██████    | 18/30 [00:00<00:00, 174.99it/s]"
     ]
    },
    {
     "name": "stdout",
     "output_type": "stream",
     "text": [
      "\n",
      "FID: 83.3814\n",
      "Time: 0.13 min\n",
      "\n",
      "-- Partial --\n",
      "Best Epoch: epoch-141\n",
      "Best FID: 74.2203\n",
      "\n",
      "--------------------------------\n",
      "\n",
      "Epoch: 150\n"
     ]
    },
    {
     "name": "stderr",
     "output_type": "stream",
     "text": [
      "100%|██████████| 30/30 [00:00<00:00, 182.66it/s]\n",
      " 60%|██████    | 18/30 [00:00<00:00, 179.84it/s]"
     ]
    },
    {
     "name": "stdout",
     "output_type": "stream",
     "text": [
      "\n",
      "FID: 83.9608\n",
      "Time: 0.13 min\n",
      "\n",
      "-- Partial --\n",
      "Best Epoch: epoch-141\n",
      "Best FID: 74.2203\n",
      "\n",
      "--------------------------------\n",
      "\n",
      "Epoch: 151\n"
     ]
    },
    {
     "name": "stderr",
     "output_type": "stream",
     "text": [
      "100%|██████████| 30/30 [00:00<00:00, 183.64it/s]\n",
      " 33%|███▎      | 10/30 [00:00<00:00, 97.04it/s]"
     ]
    },
    {
     "name": "stdout",
     "output_type": "stream",
     "text": [
      "\n",
      "FID: 77.7320\n",
      "Time: 0.13 min\n",
      "\n",
      "-- Partial --\n",
      "Best Epoch: epoch-141\n",
      "Best FID: 74.2203\n",
      "\n",
      "--------------------------------\n",
      "\n",
      "Epoch: 152\n"
     ]
    },
    {
     "name": "stderr",
     "output_type": "stream",
     "text": [
      "100%|██████████| 30/30 [00:00<00:00, 144.13it/s]\n",
      " 60%|██████    | 18/30 [00:00<00:00, 174.59it/s]"
     ]
    },
    {
     "name": "stdout",
     "output_type": "stream",
     "text": [
      "\n",
      "FID: 84.6096\n",
      "Time: 0.13 min\n",
      "\n",
      "-- Partial --\n",
      "Best Epoch: epoch-141\n",
      "Best FID: 74.2203\n",
      "\n",
      "--------------------------------\n",
      "\n",
      "Epoch: 153\n"
     ]
    },
    {
     "name": "stderr",
     "output_type": "stream",
     "text": [
      "100%|██████████| 30/30 [00:00<00:00, 181.75it/s]\n",
      "100%|██████████| 30/30 [00:00<00:00, 176.30it/s]"
     ]
    },
    {
     "name": "stdout",
     "output_type": "stream",
     "text": [
      "\n",
      "FID: 78.8408\n",
      "Time: 0.13 min\n",
      "\n",
      "-- Partial --\n",
      "Best Epoch: epoch-141\n",
      "Best FID: 74.2203\n",
      "\n",
      "--------------------------------\n",
      "\n",
      "Epoch: 154\n"
     ]
    },
    {
     "name": "stderr",
     "output_type": "stream",
     "text": [
      "\n",
      " 57%|█████▋    | 17/30 [00:00<00:00, 164.18it/s]"
     ]
    },
    {
     "name": "stdout",
     "output_type": "stream",
     "text": [
      "\n",
      "FID: 79.5769\n",
      "Time: 0.13 min\n",
      "\n",
      "-- Partial --\n",
      "Best Epoch: epoch-141\n",
      "Best FID: 74.2203\n",
      "\n",
      "--------------------------------\n",
      "\n",
      "Epoch: 155\n"
     ]
    },
    {
     "name": "stderr",
     "output_type": "stream",
     "text": [
      "100%|██████████| 30/30 [00:00<00:00, 176.87it/s]\n",
      " 57%|█████▋    | 17/30 [00:00<00:00, 164.90it/s]"
     ]
    },
    {
     "name": "stdout",
     "output_type": "stream",
     "text": [
      "\n",
      "FID: 86.4745\n",
      "Time: 0.13 min\n",
      "\n",
      "-- Partial --\n",
      "Best Epoch: epoch-141\n",
      "Best FID: 74.2203\n",
      "\n",
      "--------------------------------\n",
      "\n",
      "Epoch: 156\n"
     ]
    },
    {
     "name": "stderr",
     "output_type": "stream",
     "text": [
      "100%|██████████| 30/30 [00:00<00:00, 176.31it/s]\n",
      " 60%|██████    | 18/30 [00:00<00:00, 176.48it/s]"
     ]
    },
    {
     "name": "stdout",
     "output_type": "stream",
     "text": [
      "\n",
      "FID: 80.8533\n",
      "Time: 0.13 min\n",
      "\n",
      "-- Partial --\n",
      "Best Epoch: epoch-141\n",
      "Best FID: 74.2203\n",
      "\n",
      "--------------------------------\n",
      "\n",
      "Epoch: 157\n"
     ]
    },
    {
     "name": "stderr",
     "output_type": "stream",
     "text": [
      "100%|██████████| 30/30 [00:00<00:00, 183.07it/s]\n",
      " 57%|█████▋    | 17/30 [00:00<00:00, 164.22it/s]"
     ]
    },
    {
     "name": "stdout",
     "output_type": "stream",
     "text": [
      "\n",
      "FID: 89.3059\n",
      "Time: 0.13 min\n",
      "\n",
      "-- Partial --\n",
      "Best Epoch: epoch-141\n",
      "Best FID: 74.2203\n",
      "\n",
      "--------------------------------\n",
      "\n",
      "Epoch: 158\n"
     ]
    },
    {
     "name": "stderr",
     "output_type": "stream",
     "text": [
      "100%|██████████| 30/30 [00:00<00:00, 177.16it/s]\n",
      " 63%|██████▎   | 19/30 [00:00<00:00, 182.72it/s]"
     ]
    },
    {
     "name": "stdout",
     "output_type": "stream",
     "text": [
      "\n",
      "FID: 82.7622\n",
      "Time: 0.13 min\n",
      "\n",
      "-- Partial --\n",
      "Best Epoch: epoch-141\n",
      "Best FID: 74.2203\n",
      "\n",
      "--------------------------------\n",
      "\n",
      "Epoch: 159\n"
     ]
    },
    {
     "name": "stderr",
     "output_type": "stream",
     "text": [
      "100%|██████████| 30/30 [00:00<00:00, 187.47it/s]\n",
      " 57%|█████▋    | 17/30 [00:00<00:00, 168.43it/s]"
     ]
    },
    {
     "name": "stdout",
     "output_type": "stream",
     "text": [
      "\n",
      "FID: 84.0472\n",
      "Time: 0.13 min\n",
      "\n",
      "-- Partial --\n",
      "Best Epoch: epoch-141\n",
      "Best FID: 74.2203\n",
      "\n",
      "--------------------------------\n",
      "\n",
      "Epoch: 160\n"
     ]
    },
    {
     "name": "stderr",
     "output_type": "stream",
     "text": [
      "100%|██████████| 30/30 [00:00<00:00, 180.74it/s]\n",
      " 60%|██████    | 18/30 [00:00<00:00, 172.92it/s]"
     ]
    },
    {
     "name": "stdout",
     "output_type": "stream",
     "text": [
      "\n",
      "FID: 81.8071\n",
      "Time: 0.13 min\n",
      "\n",
      "-- Partial --\n",
      "Best Epoch: epoch-141\n",
      "Best FID: 74.2203\n",
      "\n",
      "--------------------------------\n",
      "\n",
      "Epoch: 161\n"
     ]
    },
    {
     "name": "stderr",
     "output_type": "stream",
     "text": [
      "100%|██████████| 30/30 [00:00<00:00, 180.56it/s]\n",
      " 60%|██████    | 18/30 [00:00<00:00, 173.38it/s]"
     ]
    },
    {
     "name": "stdout",
     "output_type": "stream",
     "text": [
      "\n",
      "FID: 83.7348\n",
      "Time: 0.13 min\n",
      "\n",
      "-- Partial --\n",
      "Best Epoch: epoch-141\n",
      "Best FID: 74.2203\n",
      "\n",
      "--------------------------------\n",
      "\n",
      "Epoch: 162\n"
     ]
    },
    {
     "name": "stderr",
     "output_type": "stream",
     "text": [
      "100%|██████████| 30/30 [00:00<00:00, 152.37it/s]\n",
      " 63%|██████▎   | 19/30 [00:00<00:00, 182.47it/s]"
     ]
    },
    {
     "name": "stdout",
     "output_type": "stream",
     "text": [
      "\n",
      "FID: 79.4340\n",
      "Time: 0.13 min\n",
      "\n",
      "-- Partial --\n",
      "Best Epoch: epoch-141\n",
      "Best FID: 74.2203\n",
      "\n",
      "--------------------------------\n",
      "\n",
      "Epoch: 163\n"
     ]
    },
    {
     "name": "stderr",
     "output_type": "stream",
     "text": [
      "100%|██████████| 30/30 [00:00<00:00, 186.71it/s]\n",
      " 63%|██████▎   | 19/30 [00:00<00:00, 185.79it/s]"
     ]
    },
    {
     "name": "stdout",
     "output_type": "stream",
     "text": [
      "\n",
      "FID: 78.0499\n",
      "Time: 0.13 min\n",
      "\n",
      "-- Partial --\n",
      "Best Epoch: epoch-141\n",
      "Best FID: 74.2203\n",
      "\n",
      "--------------------------------\n",
      "\n",
      "Epoch: 164\n"
     ]
    },
    {
     "name": "stderr",
     "output_type": "stream",
     "text": [
      "100%|██████████| 30/30 [00:00<00:00, 187.14it/s]\n",
      "100%|██████████| 30/30 [00:00<00:00, 181.96it/s]"
     ]
    },
    {
     "name": "stdout",
     "output_type": "stream",
     "text": [
      "\n",
      "FID: 77.1179\n",
      "Time: 0.13 min\n",
      "\n",
      "-- Partial --\n",
      "Best Epoch: epoch-141\n",
      "Best FID: 74.2203\n",
      "\n",
      "--------------------------------\n",
      "\n",
      "Epoch: 165\n"
     ]
    },
    {
     "name": "stderr",
     "output_type": "stream",
     "text": [
      "\n",
      " 53%|█████▎    | 16/30 [00:00<00:00, 154.14it/s]"
     ]
    },
    {
     "name": "stdout",
     "output_type": "stream",
     "text": [
      "\n",
      "FID: 79.3055\n",
      "Time: 0.13 min\n",
      "\n",
      "-- Partial --\n",
      "Best Epoch: epoch-141\n",
      "Best FID: 74.2203\n",
      "\n",
      "--------------------------------\n",
      "\n",
      "Epoch: 166\n"
     ]
    },
    {
     "name": "stderr",
     "output_type": "stream",
     "text": [
      "100%|██████████| 30/30 [00:00<00:00, 171.69it/s]\n",
      " 60%|██████    | 18/30 [00:00<00:00, 173.81it/s]"
     ]
    },
    {
     "name": "stdout",
     "output_type": "stream",
     "text": [
      "\n",
      "FID: 79.1018\n",
      "Time: 0.13 min\n",
      "\n",
      "-- Partial --\n",
      "Best Epoch: epoch-141\n",
      "Best FID: 74.2203\n",
      "\n",
      "--------------------------------\n",
      "\n",
      "Epoch: 167\n"
     ]
    },
    {
     "name": "stderr",
     "output_type": "stream",
     "text": [
      "100%|██████████| 30/30 [00:00<00:00, 181.65it/s]\n",
      " 60%|██████    | 18/30 [00:00<00:00, 178.39it/s]"
     ]
    },
    {
     "name": "stdout",
     "output_type": "stream",
     "text": [
      "\n",
      "FID: 77.7256\n",
      "Time: 0.13 min\n",
      "\n",
      "-- Partial --\n",
      "Best Epoch: epoch-141\n",
      "Best FID: 74.2203\n",
      "\n",
      "--------------------------------\n",
      "\n",
      "Epoch: 168\n"
     ]
    },
    {
     "name": "stderr",
     "output_type": "stream",
     "text": [
      "100%|██████████| 30/30 [00:00<00:00, 182.97it/s]\n",
      " 57%|█████▋    | 17/30 [00:00<00:00, 168.15it/s]"
     ]
    },
    {
     "name": "stdout",
     "output_type": "stream",
     "text": [
      "\n",
      "FID: 78.7937\n",
      "Time: 0.13 min\n",
      "\n",
      "-- Partial --\n",
      "Best Epoch: epoch-141\n",
      "Best FID: 74.2203\n",
      "\n",
      "--------------------------------\n",
      "\n",
      "Epoch: 169\n"
     ]
    },
    {
     "name": "stderr",
     "output_type": "stream",
     "text": [
      "100%|██████████| 30/30 [00:00<00:00, 177.36it/s]\n",
      " 63%|██████▎   | 19/30 [00:00<00:00, 189.83it/s]"
     ]
    },
    {
     "name": "stdout",
     "output_type": "stream",
     "text": [
      "\n",
      "FID: 80.9938\n",
      "Time: 0.13 min\n",
      "\n",
      "-- Partial --\n",
      "Best Epoch: epoch-141\n",
      "Best FID: 74.2203\n",
      "\n",
      "--------------------------------\n",
      "\n",
      "Epoch: 170\n"
     ]
    },
    {
     "name": "stderr",
     "output_type": "stream",
     "text": [
      "100%|██████████| 30/30 [00:00<00:00, 192.13it/s]\n",
      " 57%|█████▋    | 17/30 [00:00<00:00, 169.18it/s]"
     ]
    },
    {
     "name": "stdout",
     "output_type": "stream",
     "text": [
      "\n",
      "FID: 92.7139\n",
      "Time: 0.13 min\n",
      "\n",
      "-- Partial --\n",
      "Best Epoch: epoch-141\n",
      "Best FID: 74.2203\n",
      "\n",
      "--------------------------------\n",
      "\n",
      "Epoch: 171\n"
     ]
    },
    {
     "name": "stderr",
     "output_type": "stream",
     "text": [
      "100%|██████████| 30/30 [00:00<00:00, 179.04it/s]\n",
      " 57%|█████▋    | 17/30 [00:00<00:00, 169.48it/s]"
     ]
    },
    {
     "name": "stdout",
     "output_type": "stream",
     "text": [
      "\n",
      "FID: 91.5571\n",
      "Time: 0.13 min\n",
      "\n",
      "-- Partial --\n",
      "Best Epoch: epoch-141\n",
      "Best FID: 74.2203\n",
      "\n",
      "--------------------------------\n",
      "\n",
      "Epoch: 172\n"
     ]
    },
    {
     "name": "stderr",
     "output_type": "stream",
     "text": [
      "100%|██████████| 30/30 [00:00<00:00, 177.14it/s]\n",
      " 57%|█████▋    | 17/30 [00:00<00:00, 168.70it/s]"
     ]
    },
    {
     "name": "stdout",
     "output_type": "stream",
     "text": [
      "\n",
      "FID: 83.9170\n",
      "Time: 0.13 min\n",
      "\n",
      "-- Partial --\n",
      "Best Epoch: epoch-141\n",
      "Best FID: 74.2203\n",
      "\n",
      "--------------------------------\n",
      "\n",
      "Epoch: 173\n"
     ]
    },
    {
     "name": "stderr",
     "output_type": "stream",
     "text": [
      "100%|██████████| 30/30 [00:00<00:00, 180.02it/s]\n",
      " 60%|██████    | 18/30 [00:00<00:00, 178.54it/s]"
     ]
    },
    {
     "name": "stdout",
     "output_type": "stream",
     "text": [
      "\n",
      "FID: 82.8254\n",
      "Time: 0.13 min\n",
      "\n",
      "-- Partial --\n",
      "Best Epoch: epoch-141\n",
      "Best FID: 74.2203\n",
      "\n",
      "--------------------------------\n",
      "\n",
      "Epoch: 174\n"
     ]
    },
    {
     "name": "stderr",
     "output_type": "stream",
     "text": [
      "100%|██████████| 30/30 [00:00<00:00, 185.54it/s]\n",
      "  0%|          | 0/30 [00:00<?, ?it/s]"
     ]
    },
    {
     "name": "stdout",
     "output_type": "stream",
     "text": [
      "\n",
      "FID: 83.6986\n",
      "Time: 0.13 min\n",
      "\n",
      "-- Partial --\n",
      "Best Epoch: epoch-141\n",
      "Best FID: 74.2203\n",
      "\n",
      "--------------------------------\n",
      "\n",
      "Epoch: 175\n"
     ]
    },
    {
     "name": "stderr",
     "output_type": "stream",
     "text": [
      "100%|██████████| 30/30 [00:00<00:00, 86.05it/s]\n",
      " 60%|██████    | 18/30 [00:00<00:00, 173.12it/s]"
     ]
    },
    {
     "name": "stdout",
     "output_type": "stream",
     "text": [
      "\n",
      "FID: 86.6421\n",
      "Time: 0.13 min\n",
      "\n",
      "-- Partial --\n",
      "Best Epoch: epoch-141\n",
      "Best FID: 74.2203\n",
      "\n",
      "--------------------------------\n",
      "\n",
      "Epoch: 176\n"
     ]
    },
    {
     "name": "stderr",
     "output_type": "stream",
     "text": [
      "100%|██████████| 30/30 [00:00<00:00, 180.67it/s]\n",
      " 57%|█████▋    | 17/30 [00:00<00:00, 169.83it/s]"
     ]
    },
    {
     "name": "stdout",
     "output_type": "stream",
     "text": [
      "\n",
      "FID: 84.2864\n",
      "Time: 0.13 min\n",
      "\n",
      "-- Partial --\n",
      "Best Epoch: epoch-141\n",
      "Best FID: 74.2203\n",
      "\n",
      "--------------------------------\n",
      "\n",
      "Epoch: 177\n"
     ]
    },
    {
     "name": "stderr",
     "output_type": "stream",
     "text": [
      "100%|██████████| 30/30 [00:00<00:00, 179.47it/s]\n",
      " 37%|███▋      | 11/30 [00:00<00:00, 107.70it/s]"
     ]
    },
    {
     "name": "stdout",
     "output_type": "stream",
     "text": [
      "\n",
      "FID: 80.5151\n",
      "Time: 0.13 min\n",
      "\n",
      "-- Partial --\n",
      "Best Epoch: epoch-141\n",
      "Best FID: 74.2203\n",
      "\n",
      "--------------------------------\n",
      "\n",
      "Epoch: 178\n"
     ]
    },
    {
     "name": "stderr",
     "output_type": "stream",
     "text": [
      "100%|██████████| 30/30 [00:00<00:00, 151.89it/s]\n",
      " 37%|███▋      | 11/30 [00:00<00:00, 105.58it/s]"
     ]
    },
    {
     "name": "stdout",
     "output_type": "stream",
     "text": [
      "\n",
      "FID: 80.5934\n",
      "Time: 0.13 min\n",
      "\n",
      "-- Partial --\n",
      "Best Epoch: epoch-141\n",
      "Best FID: 74.2203\n",
      "\n",
      "--------------------------------\n",
      "\n",
      "Epoch: 179\n"
     ]
    },
    {
     "name": "stderr",
     "output_type": "stream",
     "text": [
      "100%|██████████| 30/30 [00:00<00:00, 148.38it/s]\n",
      "100%|██████████| 30/30 [00:00<00:00, 170.34it/s]"
     ]
    },
    {
     "name": "stdout",
     "output_type": "stream",
     "text": [
      "\n",
      "FID: 75.5799\n",
      "Time: 0.13 min\n",
      "\n",
      "-- Partial --\n",
      "Best Epoch: epoch-141\n",
      "Best FID: 74.2203\n",
      "\n",
      "--------------------------------\n",
      "\n",
      "Epoch: 180\n"
     ]
    },
    {
     "name": "stderr",
     "output_type": "stream",
     "text": [
      "\n",
      " 57%|█████▋    | 17/30 [00:00<00:00, 164.85it/s]"
     ]
    },
    {
     "name": "stdout",
     "output_type": "stream",
     "text": [
      "\n",
      "FID: 87.3537\n",
      "Time: 0.13 min\n",
      "\n",
      "-- Partial --\n",
      "Best Epoch: epoch-141\n",
      "Best FID: 74.2203\n",
      "\n",
      "--------------------------------\n",
      "\n",
      "Epoch: 181\n"
     ]
    },
    {
     "name": "stderr",
     "output_type": "stream",
     "text": [
      "100%|██████████| 30/30 [00:00<00:00, 176.28it/s]\n",
      " 60%|██████    | 18/30 [00:00<00:00, 175.23it/s]"
     ]
    },
    {
     "name": "stdout",
     "output_type": "stream",
     "text": [
      "\n",
      "FID: 92.0614\n",
      "Time: 0.13 min\n",
      "\n",
      "-- Partial --\n",
      "Best Epoch: epoch-141\n",
      "Best FID: 74.2203\n",
      "\n",
      "--------------------------------\n",
      "\n",
      "Epoch: 182\n"
     ]
    },
    {
     "name": "stderr",
     "output_type": "stream",
     "text": [
      "100%|██████████| 30/30 [00:00<00:00, 182.07it/s]\n",
      " 57%|█████▋    | 17/30 [00:00<00:00, 167.24it/s]"
     ]
    },
    {
     "name": "stdout",
     "output_type": "stream",
     "text": [
      "\n",
      "FID: 79.7559\n",
      "Time: 0.13 min\n",
      "\n",
      "-- Partial --\n",
      "Best Epoch: epoch-141\n",
      "Best FID: 74.2203\n",
      "\n",
      "--------------------------------\n",
      "\n",
      "Epoch: 183\n"
     ]
    },
    {
     "name": "stderr",
     "output_type": "stream",
     "text": [
      "100%|██████████| 30/30 [00:00<00:00, 177.83it/s]\n",
      " 57%|█████▋    | 17/30 [00:00<00:00, 169.86it/s]"
     ]
    },
    {
     "name": "stdout",
     "output_type": "stream",
     "text": [
      "\n",
      "FID: 71.1636\n",
      "Time: 0.13 min\n",
      "\n",
      "-- Partial --\n",
      "Best Epoch: epoch-183\n",
      "Best FID: 71.1636\n",
      "\n",
      "--------------------------------\n",
      "\n",
      "Epoch: 184\n"
     ]
    },
    {
     "name": "stderr",
     "output_type": "stream",
     "text": [
      "100%|██████████| 30/30 [00:00<00:00, 179.97it/s]\n",
      " 63%|██████▎   | 19/30 [00:00<00:00, 187.38it/s]"
     ]
    },
    {
     "name": "stdout",
     "output_type": "stream",
     "text": [
      "\n",
      "FID: 79.9491\n",
      "Time: 0.13 min\n",
      "\n",
      "-- Partial --\n",
      "Best Epoch: epoch-183\n",
      "Best FID: 71.1636\n",
      "\n",
      "--------------------------------\n",
      "\n",
      "Epoch: 185\n"
     ]
    },
    {
     "name": "stderr",
     "output_type": "stream",
     "text": [
      "100%|██████████| 30/30 [00:00<00:00, 189.93it/s]\n",
      " 60%|██████    | 18/30 [00:00<00:00, 175.05it/s]"
     ]
    },
    {
     "name": "stdout",
     "output_type": "stream",
     "text": [
      "\n",
      "FID: 73.0332\n",
      "Time: 0.13 min\n",
      "\n",
      "-- Partial --\n",
      "Best Epoch: epoch-183\n",
      "Best FID: 71.1636\n",
      "\n",
      "--------------------------------\n",
      "\n",
      "Epoch: 186\n"
     ]
    },
    {
     "name": "stderr",
     "output_type": "stream",
     "text": [
      "100%|██████████| 30/30 [00:00<00:00, 179.77it/s]\n",
      " 63%|██████▎   | 19/30 [00:00<00:00, 185.57it/s]"
     ]
    },
    {
     "name": "stdout",
     "output_type": "stream",
     "text": [
      "\n",
      "FID: 76.2691\n",
      "Time: 0.13 min\n",
      "\n",
      "-- Partial --\n",
      "Best Epoch: epoch-183\n",
      "Best FID: 71.1636\n",
      "\n",
      "--------------------------------\n",
      "\n",
      "Epoch: 187\n"
     ]
    },
    {
     "name": "stderr",
     "output_type": "stream",
     "text": [
      "100%|██████████| 30/30 [00:00<00:00, 187.93it/s]\n",
      " 57%|█████▋    | 17/30 [00:00<00:00, 162.67it/s]"
     ]
    },
    {
     "name": "stdout",
     "output_type": "stream",
     "text": [
      "\n",
      "FID: 85.6291\n",
      "Time: 0.13 min\n",
      "\n",
      "-- Partial --\n",
      "Best Epoch: epoch-183\n",
      "Best FID: 71.1636\n",
      "\n",
      "--------------------------------\n",
      "\n",
      "Epoch: 188\n"
     ]
    },
    {
     "name": "stderr",
     "output_type": "stream",
     "text": [
      "100%|██████████| 30/30 [00:00<00:00, 171.90it/s]\n",
      " 60%|██████    | 18/30 [00:00<00:00, 172.32it/s]"
     ]
    },
    {
     "name": "stdout",
     "output_type": "stream",
     "text": [
      "\n",
      "FID: 76.1505\n",
      "Time: 0.13 min\n",
      "\n",
      "-- Partial --\n",
      "Best Epoch: epoch-183\n",
      "Best FID: 71.1636\n",
      "\n",
      "--------------------------------\n",
      "\n",
      "Epoch: 189\n"
     ]
    },
    {
     "name": "stderr",
     "output_type": "stream",
     "text": [
      "100%|██████████| 30/30 [00:00<00:00, 176.98it/s]\n",
      " 57%|█████▋    | 17/30 [00:00<00:00, 168.67it/s]"
     ]
    },
    {
     "name": "stdout",
     "output_type": "stream",
     "text": [
      "\n",
      "FID: 86.2984\n",
      "Time: 0.13 min\n",
      "\n",
      "-- Partial --\n",
      "Best Epoch: epoch-183\n",
      "Best FID: 71.1636\n",
      "\n",
      "--------------------------------\n",
      "\n",
      "Epoch: 190\n"
     ]
    },
    {
     "name": "stderr",
     "output_type": "stream",
     "text": [
      "100%|██████████| 30/30 [00:00<00:00, 175.39it/s]\n",
      " 57%|█████▋    | 17/30 [00:00<00:00, 166.57it/s]"
     ]
    },
    {
     "name": "stdout",
     "output_type": "stream",
     "text": [
      "\n",
      "FID: 89.8872\n",
      "Time: 0.13 min\n",
      "\n",
      "-- Partial --\n",
      "Best Epoch: epoch-183\n",
      "Best FID: 71.1636\n",
      "\n",
      "--------------------------------\n",
      "\n",
      "Epoch: 191\n"
     ]
    },
    {
     "name": "stderr",
     "output_type": "stream",
     "text": [
      "100%|██████████| 30/30 [00:00<00:00, 176.34it/s]\n",
      "100%|██████████| 30/30 [00:00<00:00, 177.53it/s]"
     ]
    },
    {
     "name": "stdout",
     "output_type": "stream",
     "text": [
      "\n",
      "FID: 82.1132\n",
      "Time: 0.13 min\n",
      "\n",
      "-- Partial --\n",
      "Best Epoch: epoch-183\n",
      "Best FID: 71.1636\n",
      "\n",
      "--------------------------------\n",
      "\n",
      "Epoch: 192\n"
     ]
    },
    {
     "name": "stderr",
     "output_type": "stream",
     "text": [
      "\n",
      " 57%|█████▋    | 17/30 [00:00<00:00, 168.21it/s]"
     ]
    },
    {
     "name": "stdout",
     "output_type": "stream",
     "text": [
      "\n",
      "FID: 76.7811\n",
      "Time: 0.13 min\n",
      "\n",
      "-- Partial --\n",
      "Best Epoch: epoch-183\n",
      "Best FID: 71.1636\n",
      "\n",
      "--------------------------------\n",
      "\n",
      "Epoch: 193\n"
     ]
    },
    {
     "name": "stderr",
     "output_type": "stream",
     "text": [
      "100%|██████████| 30/30 [00:00<00:00, 159.95it/s]\n",
      " 57%|█████▋    | 17/30 [00:00<00:00, 166.79it/s]"
     ]
    },
    {
     "name": "stdout",
     "output_type": "stream",
     "text": [
      "\n",
      "FID: 71.3442\n",
      "Time: 0.13 min\n",
      "\n",
      "-- Partial --\n",
      "Best Epoch: epoch-183\n",
      "Best FID: 71.1636\n",
      "\n",
      "--------------------------------\n",
      "\n",
      "Epoch: 194\n"
     ]
    },
    {
     "name": "stderr",
     "output_type": "stream",
     "text": [
      "100%|██████████| 30/30 [00:00<00:00, 177.21it/s]\n",
      " 63%|██████▎   | 19/30 [00:00<00:00, 184.30it/s]"
     ]
    },
    {
     "name": "stdout",
     "output_type": "stream",
     "text": [
      "\n",
      "FID: 76.3163\n",
      "Time: 0.13 min\n",
      "\n",
      "-- Partial --\n",
      "Best Epoch: epoch-183\n",
      "Best FID: 71.1636\n",
      "\n",
      "--------------------------------\n",
      "\n",
      "Epoch: 195\n"
     ]
    },
    {
     "name": "stderr",
     "output_type": "stream",
     "text": [
      "100%|██████████| 30/30 [00:00<00:00, 187.30it/s]\n",
      " 63%|██████▎   | 19/30 [00:00<00:00, 182.37it/s]"
     ]
    },
    {
     "name": "stdout",
     "output_type": "stream",
     "text": [
      "\n",
      "FID: 75.4083\n",
      "Time: 0.13 min\n",
      "\n",
      "-- Partial --\n",
      "Best Epoch: epoch-183\n",
      "Best FID: 71.1636\n",
      "\n",
      "--------------------------------\n",
      "\n",
      "Epoch: 196\n"
     ]
    },
    {
     "name": "stderr",
     "output_type": "stream",
     "text": [
      "100%|██████████| 30/30 [00:00<00:00, 186.50it/s]\n",
      " 57%|█████▋    | 17/30 [00:00<00:00, 164.84it/s]"
     ]
    },
    {
     "name": "stdout",
     "output_type": "stream",
     "text": [
      "\n",
      "FID: 75.5077\n",
      "Time: 0.13 min\n",
      "\n",
      "-- Partial --\n",
      "Best Epoch: epoch-183\n",
      "Best FID: 71.1636\n",
      "\n",
      "--------------------------------\n",
      "\n",
      "Epoch: 197\n"
     ]
    },
    {
     "name": "stderr",
     "output_type": "stream",
     "text": [
      "100%|██████████| 30/30 [00:00<00:00, 175.25it/s]\n",
      " 57%|█████▋    | 17/30 [00:00<00:00, 165.38it/s]"
     ]
    },
    {
     "name": "stdout",
     "output_type": "stream",
     "text": [
      "\n",
      "FID: 85.4227\n",
      "Time: 0.13 min\n",
      "\n",
      "-- Partial --\n",
      "Best Epoch: epoch-183\n",
      "Best FID: 71.1636\n",
      "\n",
      "--------------------------------\n",
      "\n",
      "Epoch: 198\n"
     ]
    },
    {
     "name": "stderr",
     "output_type": "stream",
     "text": [
      "100%|██████████| 30/30 [00:00<00:00, 176.39it/s]\n",
      "100%|██████████| 30/30 [00:00<00:00, 184.18it/s]"
     ]
    },
    {
     "name": "stdout",
     "output_type": "stream",
     "text": [
      "\n",
      "FID: 81.6298\n",
      "Time: 0.13 min\n",
      "\n",
      "-- Partial --\n",
      "Best Epoch: epoch-183\n",
      "Best FID: 71.1636\n",
      "\n",
      "--------------------------------\n",
      "\n",
      "Epoch: 199\n"
     ]
    },
    {
     "name": "stderr",
     "output_type": "stream",
     "text": [
      "\n",
      " 63%|██████▎   | 19/30 [00:00<00:00, 183.21it/s]"
     ]
    },
    {
     "name": "stdout",
     "output_type": "stream",
     "text": [
      "\n",
      "FID: 82.7710\n",
      "Time: 0.13 min\n",
      "\n",
      "-- Partial --\n",
      "Best Epoch: epoch-183\n",
      "Best FID: 71.1636\n",
      "\n",
      "--------------------------------\n",
      "\n",
      "Epoch: 200\n"
     ]
    },
    {
     "name": "stderr",
     "output_type": "stream",
     "text": [
      "100%|██████████| 30/30 [00:00<00:00, 184.33it/s]\n"
     ]
    },
    {
     "name": "stdout",
     "output_type": "stream",
     "text": [
      "\n",
      "FID: 77.2622\n",
      "Time: 0.13 min\n",
      "\n",
      "-- Partial --\n",
      "Best Epoch: epoch-183\n",
      "Best FID: 71.1636\n",
      "\n",
      "----------------------------------------------------\n",
      "Finalized\n",
      "Notebook Time: 2.8e+01 min\n",
      "Best Epoch: epoch-183\n",
      "Best FID: 71.1636\n"
     ]
    }
   ],
   "source": [
    "# example of calculating the frechet inception distance in Keras\n",
    "import numpy\n",
    "from numpy import cov\n",
    "from numpy import trace\n",
    "from numpy import iscomplexobj\n",
    "from numpy import asarray\n",
    "from numpy.random import randint\n",
    "from scipy.linalg import sqrtm\n",
    "from keras.applications.inception_v3 import InceptionV3\n",
    "from keras.applications.inception_v3 import preprocess_input\n",
    "from skimage.transform import resize\n",
    "\n",
    "# Daniel\n",
    "import os\n",
    "from tqdm import tqdm\n",
    "import cv2\n",
    "import numpy as np\n",
    "import time\n",
    "import gc\n",
    "\n",
    "lastTimeNotebook = time.time()\n",
    "\n",
    "def scale_images(images, new_shape):\n",
    "    \n",
    "    images_list = list()\n",
    "    for image in images:\n",
    "        \n",
    "        new_image = resize(image, new_shape, 0)\n",
    "        images_list.append(new_image)\n",
    "        \n",
    "    return asarray(images_list)\n",
    "\n",
    "def calculate_fid(model, images1, mu2, sigma2):\n",
    "    \n",
    "    # calculate activations\n",
    "    act1 = model.predict(images1)\n",
    "    \n",
    "    # calculate mean and covariance statistics\n",
    "    mu1, sigma1 = act1.mean(axis=0), cov(act1, rowvar=False)\n",
    "    \n",
    "    # calculate sum squared difference between means\n",
    "    ssdiff = numpy.sum((mu1 - mu2)**2.0)\n",
    "    \n",
    "    # Daniel\n",
    "    sigma1 = np.array(sigma1, ndmin=2) # https://stackoverflow.com/questions/31698242/python-how-can-i-force-1-element-numpy-arrays-to-be-two-dimensional\n",
    "    \n",
    "    # calculate sqrt of product between cov\n",
    "    covmean = sqrtm(sigma1.dot(sigma2))\n",
    "    \n",
    "    # check and correct imaginary numbers from sqrt\n",
    "    if iscomplexobj(covmean):\n",
    "        covmean = covmean.real\n",
    "        \n",
    "    # calculate score\n",
    "    fid = ssdiff + trace(sigma1 + sigma2 - 2.0 * covmean)\n",
    "    \n",
    "    return fid\n",
    "\n",
    "def loadImages(folder):\n",
    "    \n",
    "    path, dirs, files = next( os.walk( folder ) )\n",
    "\n",
    "    images = []\n",
    "    contador = 0\n",
    "    for file in tqdm(files):\n",
    "\n",
    "        image = cv2.imread( folder + file )\n",
    "        images.append( image )\n",
    "        contador += 1\n",
    "        \n",
    "    images = np.asarray(images)\n",
    "    return images\n",
    "\n",
    "def compareTwoGroups(model, images1, mu2, sigma2):\n",
    "\n",
    "    # convert integer to floating point values\n",
    "    images1 = images1.astype('float32')\n",
    "    \n",
    "    # resize images\n",
    "    images1 = scale_images(images1, (299,299,3))\n",
    "\n",
    "    # pre-process images\n",
    "    images1 = preprocess_input(images1)\n",
    "\n",
    "    # fid between images1 and images2\n",
    "    fid = calculate_fid(model, images1, mu2, sigma2)\n",
    "    \n",
    "    return fid\n",
    "\n",
    "# ---\n",
    "\n",
    "print( '\\nProcessing...' )\n",
    "\n",
    "# prepare the inception v3 model\n",
    "model = InceptionV3(include_top=False, pooling='avg', input_shape=(299,299,3))\n",
    "\n",
    "# Real Images used in training\n",
    "realImages = loadImages(padronizedFolder)\n",
    "gc.collect()\n",
    "realImages = realImages.astype('float32')\n",
    "gc.collect()\n",
    "realImages = scale_images(realImages, (299,299,3))\n",
    "gc.collect()\n",
    "realImages = preprocess_input(realImages)\n",
    "gc.collect()\n",
    "\n",
    "act2 = model.predict(realImages)\n",
    "gc.collect()\n",
    "mu2, sigma2 = act2.mean(axis=0), cov(act2, rowvar=False)\n",
    "gc.collect()\n",
    "sigma2 = np.array(sigma2, ndmin=2) # https://stackoverflow.com/questions/31698242/python-how-can-i-force-1-element-numpy-arrays-to-be-two-dimensional\n",
    "gc.collect()\n",
    "\n",
    "epochsFolders = os.listdir(generatedFolder)\n",
    "totalEpochs = len(epochsFolders)\n",
    "\n",
    "bestEpoch = ''\n",
    "bestFID = 9999\n",
    "\n",
    "lastTime = time.time()\n",
    "for i in range(1, totalEpochs + 1):\n",
    "\n",
    "    print('\\n--------------------------------\\n')\n",
    "    print(f'Epoch: {i}')\n",
    "    \n",
    "    epoch = 'epoch-' + str(i)\n",
    "    generatedImages = loadImages( f'{generatedFolder}/{epoch}/' )\n",
    "\n",
    "    fid = compareTwoGroups(model, generatedImages, mu2, sigma2)\n",
    "\n",
    "    print()\n",
    "    print('FID: %.4f' % fid)\n",
    "\n",
    "    if fid < bestFID:\n",
    "        bestFID = fid\n",
    "        bestEpoch = epoch\n",
    "        \n",
    "    # Time\n",
    "    now = time.time()\n",
    "    interval = now - lastTime\n",
    "    lastTime = now\n",
    "    print('Time: %.2f min' % (interval / 60))\n",
    "    print()\n",
    "    print('-- Partial --')\n",
    "    print(f'Best Epoch: {bestEpoch}')\n",
    "    print('Best FID: %.4f' % bestFID)\n",
    "\n",
    "\n",
    "print( '\\n----------------------------------------------------' )\n",
    "print( 'Finalized' )\n",
    "\n",
    "# Time\n",
    "now = time.time()\n",
    "interval = now - lastTimeNotebook\n",
    "print(f'Notebook Time: {(interval / 60):.2} min')\n",
    "\n",
    "print(f'Best Epoch: {bestEpoch}')\n",
    "print('Best FID: %.4f' % bestFID)"
   ]
  }
 ],
 "metadata": {
  "kernelspec": {
   "display_name": "Python 3",
   "language": "python",
   "name": "python3"
  },
  "language_info": {
   "codemirror_mode": {
    "name": "ipython",
    "version": 3
   },
   "file_extension": ".py",
   "mimetype": "text/x-python",
   "name": "python",
   "nbconvert_exporter": "python",
   "pygments_lexer": "ipython3",
   "version": "3.7.7"
  }
 },
 "nbformat": 4,
 "nbformat_minor": 4
}
