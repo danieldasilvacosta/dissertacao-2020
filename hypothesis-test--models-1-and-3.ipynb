{
 "cells": [
  {
   "cell_type": "markdown",
   "metadata": {},
   "source": [
    "### H0: fidType3 é igual a fidType3Oval\n",
    "### H1: fidType3Oval é diferente que fidType3"
   ]
  },
  {
   "cell_type": "code",
   "execution_count": 15,
   "metadata": {},
   "outputs": [],
   "source": [
    "import pandas as pd\n",
    "import numpy as np\n",
    "import matplotlib.pyplot as plt\n",
    "import datetime\n",
    "from scipy.stats import shapiro\n",
    "from scipy.stats import normaltest\n",
    "from scipy.stats import anderson\n",
    "from scipy.stats import bartlett\n",
    "from scipy.stats import levene\n",
    "from scipy.stats import pearsonr\n",
    "from scipy.stats import spearmanr\n",
    "from scipy.stats import ttest_ind"
   ]
  },
  {
   "cell_type": "code",
   "execution_count": 2,
   "metadata": {},
   "outputs": [],
   "source": [
    "pd.set_option('display.max_columns', None)\n",
    "# pd.set_option('display.max_rows', None)"
   ]
  },
  {
   "cell_type": "code",
   "execution_count": 4,
   "metadata": {},
   "outputs": [],
   "source": [
    "# Grupo A\n",
    "fidType3 = [\n",
    "    73.13, 74.91, 70.73, 74.44, 70.32, 77.77, 71.62, 73.01, 66.96, 69.90,\n",
    "    71.88, 73.21, 72.92, 71.81, 71.16, 72.81, 72.36, 73.07, 73.18, 72.25,\n",
    "    71.26, 73.15, 73.49, 71.40, 73.90, 72.05, 72.94, 73.00, 72.87, 74.57]\n",
    "\n",
    "# Grupo B\n",
    "fidType3Oval = [\n",
    "    62.18, 60.03, 62.86, 59.23, 61.83, 66.56, 63.93, 62.38, 65.29, 63.98, \n",
    "    65.94, 62.19, 60.95, 63.33, 65.13, 62.72, 62.99, 66.92, 69.72, 63.60, \n",
    "    65.42, 63.19, 63.82, 64.56, 64.72, 61.43, 61.42, 65.85, 58.65, 62.83]"
   ]
  },
  {
   "cell_type": "markdown",
   "metadata": {},
   "source": [
    "##### Medidas de tendência central e de dispersão"
   ]
  },
  {
   "cell_type": "code",
   "execution_count": 18,
   "metadata": {},
   "outputs": [
    {
     "name": "stdout",
     "output_type": "stream",
     "text": [
      "Descriptive analysis\n",
      "\n",
      "Array = [73.13, 74.91, 70.73, 74.44, 70.32, 77.77, 71.62, 73.01, 66.96, 69.9, 71.88, 73.21, 72.92, 71.81, 71.16, 72.81, 72.36, 73.07, 73.18, 72.25, 71.26, 73.15, 73.49, 71.4, 73.9, 72.05, 72.94, 73.0, 72.87, 74.57]\n",
      "\n",
      "Measures of Central Tendency\n",
      "\n",
      "Mean = 72.53566666666667\n",
      "Median = 72.89500000000001\n",
      "\n",
      "Measures of Dispersion\n",
      "\n",
      "Minimum = 66.96\n",
      "Maximum = 77.77\n",
      "Range = 10.810000000000002\n",
      "Varience = 3.3184978888888863\n",
      "Standard Deviation = 1.8216744739082464\n"
     ]
    }
   ],
   "source": [
    "# Grupo A\n",
    "arr = fidType3\n",
    "  \n",
    "# measures of central tendency \n",
    "mean = np.mean(arr) \n",
    "median = np.median(arr) \n",
    "  \n",
    "# measures of dispersion \n",
    "min = np.amin(arr) \n",
    "max = np.amax(arr) \n",
    "range = np.ptp(arr) \n",
    "varience = np.var(arr) \n",
    "sd = np.std(arr) \n",
    "  \n",
    "print(\"Descriptive analysis\") \n",
    "print()\n",
    "print(\"Array =\", arr) \n",
    "print()\n",
    "print(\"Measures of Central Tendency\") \n",
    "print()\n",
    "print(\"Mean =\", mean) \n",
    "print(\"Median =\", median) \n",
    "print()\n",
    "print(\"Measures of Dispersion\") \n",
    "print()\n",
    "print(\"Minimum =\", min) \n",
    "print(\"Maximum =\", max) \n",
    "print(\"Range =\", range) \n",
    "print(\"Varience =\", varience) \n",
    "print(\"Standard Deviation =\", sd) "
   ]
  },
  {
   "cell_type": "code",
   "execution_count": 6,
   "metadata": {},
   "outputs": [
    {
     "name": "stdout",
     "output_type": "stream",
     "text": [
      "Descriptive analysis\n",
      "\n",
      "Array = [62.18, 60.03, 62.86, 59.23, 61.83, 66.56, 63.93, 62.38, 65.29, 63.98, 65.94, 62.19, 60.95, 63.33, 65.13, 62.72, 62.99, 66.92, 69.72, 63.6, 65.42, 63.19, 63.82, 64.56, 64.72, 61.43, 61.42, 65.85, 58.65, 62.83]\n",
      "\n",
      "Measures of Central Tendency\n",
      "\n",
      "Mean = 63.455000000000005\n",
      "Median = 63.26\n",
      "\n",
      "Measures of Dispersion\n",
      "\n",
      "Minimum = 58.65\n",
      "Maximum = 69.72\n",
      "Range = 11.07\n",
      "Varience = 5.403825\n",
      "Standard Deviation = 2.324612870995943\n"
     ]
    }
   ],
   "source": [
    "# Grupo B\n",
    "arr = fidType3Oval\n",
    "  \n",
    "# measures of central tendency \n",
    "mean = np.mean(arr) \n",
    "median = np.median(arr) \n",
    "  \n",
    "# measures of dispersion \n",
    "min = np.amin(arr) \n",
    "max = np.amax(arr) \n",
    "range = np.ptp(arr) \n",
    "varience = np.var(arr) \n",
    "sd = np.std(arr) \n",
    "  \n",
    "print(\"Descriptive analysis\") \n",
    "print()\n",
    "print(\"Array =\", arr) \n",
    "print()\n",
    "print(\"Measures of Central Tendency\") \n",
    "print()\n",
    "print(\"Mean =\", mean) \n",
    "print(\"Median =\", median) \n",
    "print()\n",
    "print(\"Measures of Dispersion\") \n",
    "print()\n",
    "print(\"Minimum =\", min) \n",
    "print(\"Maximum =\", max) \n",
    "print(\"Range =\", range) \n",
    "print(\"Varience =\", varience) \n",
    "print(\"Standard Deviation =\", sd) "
   ]
  },
  {
   "cell_type": "markdown",
   "metadata": {},
   "source": [
    "##### Boxplots"
   ]
  },
  {
   "cell_type": "code",
   "execution_count": 7,
   "metadata": {},
   "outputs": [
    {
     "data": {
      "text/plain": [
       "{'whiskers': [<matplotlib.lines.Line2D at 0x205b697ba88>,\n",
       "  <matplotlib.lines.Line2D at 0x205b6969ac8>,\n",
       "  <matplotlib.lines.Line2D at 0x205b6998f48>,\n",
       "  <matplotlib.lines.Line2D at 0x205b6990c08>],\n",
       " 'caps': [<matplotlib.lines.Line2D at 0x205b6979f88>,\n",
       "  <matplotlib.lines.Line2D at 0x205b6990788>,\n",
       "  <matplotlib.lines.Line2D at 0x205b699cd88>,\n",
       "  <matplotlib.lines.Line2D at 0x205b699cf08>],\n",
       " 'boxes': [<matplotlib.lines.Line2D at 0x205b6969c88>,\n",
       "  <matplotlib.lines.Line2D at 0x205b6990e48>],\n",
       " 'medians': [<matplotlib.lines.Line2D at 0x205b6990c88>,\n",
       "  <matplotlib.lines.Line2D at 0x205b69a4bc8>],\n",
       " 'fliers': [<matplotlib.lines.Line2D at 0x205b6990dc8>,\n",
       "  <matplotlib.lines.Line2D at 0x205b69a4d48>],\n",
       " 'means': []}"
      ]
     },
     "execution_count": 7,
     "metadata": {},
     "output_type": "execute_result"
    },
    {
     "data": {
      "image/png": "[encoded data removed]",
      "text/plain": [
       "<Figure size 360x360 with 1 Axes>"
      ]
     },
     "metadata": {
      "needs_background": "light"
     },
     "output_type": "display_data"
    }
   ],
   "source": [
    "fig, ax = plt.subplots(figsize=(5, 5))\n",
    "plt.xticks(rotation=90)\n",
    "\n",
    "ax.set_xlabel('Modelos')\n",
    "ax.set_ylabel('FID')\n",
    "\n",
    "labelsList = ['Grupo A', 'Grupo B']\n",
    "\n",
    "ax.yaxis.grid(color='lightgray', linestyle='dashed')\n",
    "\n",
    "ax.boxplot(\n",
    "    [fidType3, fidType3Oval], \n",
    "    labels=labelsList)"
   ]
  },
  {
   "cell_type": "markdown",
   "metadata": {},
   "source": [
    "##### Testando a normalidade dos conjuntos de fids e medianas\n",
    "\n",
    "https://machinelearningmastery.com/statistical-hypothesis-tests-in-python-cheat-sheet/"
   ]
  },
  {
   "cell_type": "code",
   "execution_count": 8,
   "metadata": {},
   "outputs": [
    {
     "name": "stdout",
     "output_type": "stream",
     "text": [
      "-- Teste dos fidType3Oval --\n",
      "stat=0.986, p=0.948\n",
      "Probably Gaussian\n",
      "\n",
      "-- Teste das fidType3 --\n",
      "stat=0.926, p=0.038\n",
      "Probably not Gaussian\n"
     ]
    }
   ],
   "source": [
    "# Shapiro-Wilk Test\n",
    "\n",
    "print('-- Teste dos fidType3Oval --')\n",
    "stat, p = shapiro(fidType3Oval)\n",
    "print('stat=%.3f, p=%.3f' % (stat, p))\n",
    "if p > 0.05:\n",
    "    print('Probably Gaussian')\n",
    "else:\n",
    "    print('Probably not Gaussian')\n",
    "\n",
    "print()\n",
    "    \n",
    "print('-- Teste das fidType3 --')\n",
    "stat, p = shapiro(fidType3)\n",
    "print('stat=%.3f, p=%.3f' % (stat, p))\n",
    "if p > 0.05:\n",
    "    print('Probably Gaussian')\n",
    "else:\n",
    "    print('Probably not Gaussian')"
   ]
  },
  {
   "cell_type": "code",
   "execution_count": 9,
   "metadata": {},
   "outputs": [
    {
     "name": "stdout",
     "output_type": "stream",
     "text": [
      "-- Teste dos fidType3Oval --\n",
      "stat=1.426, p=0.490\n",
      "Probably Gaussian\n",
      "\n",
      "-- Teste das fidType3 --\n",
      "stat=6.882, p=0.032\n",
      "Probably not Gaussian\n"
     ]
    }
   ],
   "source": [
    "# D’Agostino’s K^2 Test\n",
    "\n",
    "print('-- Teste dos fidType3Oval --')\n",
    "stat, p = normaltest(fidType3Oval)\n",
    "print('stat=%.3f, p=%.3f' % (stat, p))\n",
    "if p > 0.05:\n",
    "    print('Probably Gaussian')\n",
    "else:\n",
    "    print('Probably not Gaussian')\n",
    "\n",
    "print()\n",
    "    \n",
    "print('-- Teste das fidType3 --')\n",
    "stat, p = normaltest(fidType3)\n",
    "print('stat=%.3f, p=%.3f' % (stat, p))\n",
    "if p > 0.05:\n",
    "    print('Probably Gaussian')\n",
    "else:\n",
    "    print('Probably not Gaussian')"
   ]
  },
  {
   "cell_type": "code",
   "execution_count": 11,
   "metadata": {},
   "outputs": [
    {
     "name": "stdout",
     "output_type": "stream",
     "text": [
      "-- Teste dos fidType3Oval --\n",
      "stat=0.162\n"
     ]
    },
    {
     "ename": "TypeError",
     "evalue": "'numpy.float64' object is not callable",
     "output_type": "error",
     "traceback": [
      "\u001b[1;31m---------------------------------------------------------------------------\u001b[0m",
      "\u001b[1;31mTypeError\u001b[0m                                 Traceback (most recent call last)",
      "\u001b[1;32m<ipython-input-11-f6f39b8fc1d8>\u001b[0m in \u001b[0;36m<module>\u001b[1;34m\u001b[0m\n\u001b[0;32m      4\u001b[0m \u001b[0mresult\u001b[0m \u001b[1;33m=\u001b[0m \u001b[0manderson\u001b[0m\u001b[1;33m(\u001b[0m\u001b[0mfidType3Oval\u001b[0m\u001b[1;33m)\u001b[0m\u001b[1;33m\u001b[0m\u001b[1;33m\u001b[0m\u001b[0m\n\u001b[0;32m      5\u001b[0m \u001b[0mprint\u001b[0m\u001b[1;33m(\u001b[0m\u001b[1;34m'stat=%.3f'\u001b[0m \u001b[1;33m%\u001b[0m \u001b[1;33m(\u001b[0m\u001b[0mresult\u001b[0m\u001b[1;33m.\u001b[0m\u001b[0mstatistic\u001b[0m\u001b[1;33m)\u001b[0m\u001b[1;33m)\u001b[0m\u001b[1;33m\u001b[0m\u001b[1;33m\u001b[0m\u001b[0m\n\u001b[1;32m----> 6\u001b[1;33m \u001b[1;32mfor\u001b[0m \u001b[0mi\u001b[0m \u001b[1;32min\u001b[0m \u001b[0mrange\u001b[0m\u001b[1;33m(\u001b[0m\u001b[0mlen\u001b[0m\u001b[1;33m(\u001b[0m\u001b[0mresult\u001b[0m\u001b[1;33m.\u001b[0m\u001b[0mcritical_values\u001b[0m\u001b[1;33m)\u001b[0m\u001b[1;33m)\u001b[0m\u001b[1;33m:\u001b[0m\u001b[1;33m\u001b[0m\u001b[1;33m\u001b[0m\u001b[0m\n\u001b[0m\u001b[0;32m      7\u001b[0m     \u001b[0msl\u001b[0m\u001b[1;33m,\u001b[0m \u001b[0mcv\u001b[0m \u001b[1;33m=\u001b[0m \u001b[0mresult\u001b[0m\u001b[1;33m.\u001b[0m\u001b[0msignificance_level\u001b[0m\u001b[1;33m[\u001b[0m\u001b[0mi\u001b[0m\u001b[1;33m]\u001b[0m\u001b[1;33m,\u001b[0m \u001b[0mresult\u001b[0m\u001b[1;33m.\u001b[0m\u001b[0mcritical_values\u001b[0m\u001b[1;33m[\u001b[0m\u001b[0mi\u001b[0m\u001b[1;33m]\u001b[0m\u001b[1;33m\u001b[0m\u001b[1;33m\u001b[0m\u001b[0m\n\u001b[0;32m      8\u001b[0m     \u001b[1;32mif\u001b[0m \u001b[0mresult\u001b[0m\u001b[1;33m.\u001b[0m\u001b[0mstatistic\u001b[0m \u001b[1;33m<\u001b[0m \u001b[0mcv\u001b[0m\u001b[1;33m:\u001b[0m\u001b[1;33m\u001b[0m\u001b[1;33m\u001b[0m\u001b[0m\n",
      "\u001b[1;31mTypeError\u001b[0m: 'numpy.float64' object is not callable"
     ]
    }
   ],
   "source": [
    "# Anderson-Darling Test\n",
    "\n",
    "print('-- Teste dos fidType3Oval --')\n",
    "result = anderson(fidType3Oval)\n",
    "print('stat=%.3f' % (result.statistic))\n",
    "for i in range(len(result.critical_values)):\n",
    "    sl, cv = result.significance_level[i], result.critical_values[i]\n",
    "    if result.statistic < cv:\n",
    "        print('Probably Gaussian at the %.1f%% level' % (sl))\n",
    "    else:\n",
    "        print('Probably not Gaussian at the %.1f%% level' % (sl))\n",
    "\n",
    "print()\n",
    "\n",
    "print('-- Teste dos fidType3 --')\n",
    "result = anderson(fidType3)\n",
    "print('stat=%.3f' % (result.statistic))\n",
    "for i in range(len(result.critical_values)):\n",
    "    sl, cv = result.significance_level[i], result.critical_values[i]\n",
    "    if result.statistic < cv:\n",
    "        print('Probably Gaussian at the %.1f%% level' % (sl))\n",
    "    else:\n",
    "        print('Probably not Gaussian at the %.1f%% level' % (sl))"
   ]
  },
  {
   "cell_type": "markdown",
   "metadata": {},
   "source": [
    "##### Verificando se as duas distribuições (fidType3Oval e fidType3) tem a mesma variância para decidir\n",
    "##### sobre qual teste de correlação utilizar"
   ]
  },
  {
   "cell_type": "code",
   "execution_count": 12,
   "metadata": {},
   "outputs": [
    {
     "name": "stdout",
     "output_type": "stream",
     "text": [
      "stat=1.678, p=0.195\n",
      "Probably the same variance\n"
     ]
    }
   ],
   "source": [
    "# # https://docs.scipy.org/doc/scipy/reference/generated/scipy.stats.bartlett.html\n",
    "\n",
    "# stat, p = bartlett(fidType3Oval, fidType3)\n",
    "# print('stat=%.3f, p=%.3f' % (stat, p))\n",
    "# if p > 0.05:\n",
    "#     print('Probably the same variance')\n",
    "# else:\n",
    "#     print('Probably not the same variance')"
   ]
  },
  {
   "cell_type": "code",
   "execution_count": 16,
   "metadata": {},
   "outputs": [
    {
     "name": "stdout",
     "output_type": "stream",
     "text": [
      "stat=2.152, p=0.148\n",
      "Probably the same variance\n"
     ]
    }
   ],
   "source": [
    "# Levene\n",
    "# https://docs.scipy.org/doc/scipy/reference/generated/scipy.stats.levene.html?highlight=levene#scipy.stats.levene\n",
    "\n",
    "stat, p = levene(fidType3Oval, fidType3)\n",
    "print('stat=%.3f, p=%.3f' % (stat, p))\n",
    "if p > 0.05:\n",
    "    print('Probably the same variance')\n",
    "else:\n",
    "    print('Probably not the same variance')\n"
   ]
  },
  {
   "cell_type": "markdown",
   "metadata": {},
   "source": [
    "#### Teste de Hipótese - Teste T de Student"
   ]
  },
  {
   "cell_type": "code",
   "execution_count": 13,
   "metadata": {},
   "outputs": [
    {
     "name": "stdout",
     "output_type": "stream",
     "text": [
      "stat=-16.558, p=0.000\n",
      "Probably different distributions\n"
     ]
    }
   ],
   "source": [
    "stat, p = ttest_ind(fidType3Oval, fidType3)\n",
    "\n",
    "print('stat=%.3f, p=%.3f' % (stat, p))\n",
    "\n",
    "if p > 0.05:\n",
    "    print('Probably the same distribution')\n",
    "else:\n",
    "    print('Probably different distributions')"
   ]
  },
  {
   "cell_type": "code",
   "execution_count": null,
   "metadata": {},
   "outputs": [],
   "source": []
  },
  {
   "cell_type": "code",
   "execution_count": null,
   "metadata": {},
   "outputs": [],
   "source": []
  }
 ],
 "metadata": {
  "kernelspec": {
   "display_name": "Python 3",
   "language": "python",
   "name": "python3"
  },
  "language_info": {
   "codemirror_mode": {
    "name": "ipython",
    "version": 3
   },
   "file_extension": ".py",
   "mimetype": "text/x-python",
   "name": "python",
   "nbconvert_exporter": "python",
   "pygments_lexer": "ipython3",
   "version": "3.7.7"
  }
 },
 "nbformat": 4,
 "nbformat_minor": 4
}
