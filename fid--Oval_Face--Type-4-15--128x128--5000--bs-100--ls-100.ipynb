{
 "cells": [
  {
   "cell_type": "code",
   "execution_count": 1,
   "metadata": {},
   "outputs": [],
   "source": [
    "images_dimensions = 128\n",
    "attribute = 'Oval_Face--Type-4-15'\n",
    "totalInputImages = 5000\n",
    "BATCH_SIZE = 100\n",
    "latent_dim = 100"
   ]
  },
  {
   "cell_type": "code",
   "execution_count": 2,
   "metadata": {},
   "outputs": [],
   "source": [
    "IMAGES_FOLDER = './images/'\n",
    "folderDimensionsSufix = str( images_dimensions ) + 'x' + str( images_dimensions )\n",
    "\n",
    "padronizedFolder = f'{IMAGES_FOLDER}padronized--{attribute}--{folderDimensionsSufix}--{totalInputImages}--bs-{BATCH_SIZE}--ls-{latent_dim}/'"
   ]
  },
  {
   "cell_type": "code",
   "execution_count": 3,
   "metadata": {},
   "outputs": [],
   "source": [
    "trainedModelFolder = f'./trained-model--{attribute}--{folderDimensionsSufix}--{totalInputImages}--bs-{BATCH_SIZE}--ls-{latent_dim}/'\n",
    "generatedFolder = trainedModelFolder + 'generated/'"
   ]
  },
  {
   "cell_type": "code",
   "execution_count": 4,
   "metadata": {},
   "outputs": [
    {
     "name": "stderr",
     "output_type": "stream",
     "text": [
      "Using TensorFlow backend.\n"
     ]
    },
    {
     "name": "stdout",
     "output_type": "stream",
     "text": [
      "\n",
      "Processing...\n"
     ]
    },
    {
     "name": "stderr",
     "output_type": "stream",
     "text": [
      "100%|██████████| 5000/5000 [01:49<00:00, 45.70it/s]\n",
      " 50%|█████     | 15/30 [00:00<00:00, 147.22it/s]"
     ]
    },
    {
     "name": "stdout",
     "output_type": "stream",
     "text": [
      "\n",
      "--------------------------------\n",
      "\n",
      "Epoch: 1\n"
     ]
    },
    {
     "name": "stderr",
     "output_type": "stream",
     "text": [
      "100%|██████████| 30/30 [00:00<00:00, 148.03it/s]\n",
      " 37%|███▋      | 11/30 [00:00<00:00, 103.78it/s]"
     ]
    },
    {
     "name": "stdout",
     "output_type": "stream",
     "text": [
      "\n",
      "FID: 586.7092\n",
      "Time: 0.14 min\n",
      "\n",
      "-- Partial --\n",
      "Best Epoch: epoch-1\n",
      "Best FID: 586.7092\n",
      "\n",
      "--------------------------------\n",
      "\n",
      "Epoch: 2\n"
     ]
    },
    {
     "name": "stderr",
     "output_type": "stream",
     "text": [
      "100%|██████████| 30/30 [00:00<00:00, 127.36it/s]\n",
      " 47%|████▋     | 14/30 [00:00<00:00, 133.74it/s]"
     ]
    },
    {
     "name": "stdout",
     "output_type": "stream",
     "text": [
      "\n",
      "FID: 401.0249\n",
      "Time: 0.11 min\n",
      "\n",
      "-- Partial --\n",
      "Best Epoch: epoch-2\n",
      "Best FID: 401.0249\n",
      "\n",
      "--------------------------------\n",
      "\n",
      "Epoch: 3\n"
     ]
    },
    {
     "name": "stderr",
     "output_type": "stream",
     "text": [
      "100%|██████████| 30/30 [00:00<00:00, 130.04it/s]\n",
      " 50%|█████     | 15/30 [00:00<00:00, 148.53it/s]"
     ]
    },
    {
     "name": "stdout",
     "output_type": "stream",
     "text": [
      "\n",
      "FID: 515.1344\n",
      "Time: 0.11 min\n",
      "\n",
      "-- Partial --\n",
      "Best Epoch: epoch-2\n",
      "Best FID: 401.0249\n",
      "\n",
      "--------------------------------\n",
      "\n",
      "Epoch: 4\n"
     ]
    },
    {
     "name": "stderr",
     "output_type": "stream",
     "text": [
      "100%|██████████| 30/30 [00:00<00:00, 142.96it/s]\n",
      " 70%|███████   | 21/30 [00:00<00:00, 204.35it/s]"
     ]
    },
    {
     "name": "stdout",
     "output_type": "stream",
     "text": [
      "\n",
      "FID: 421.2070\n",
      "Time: 0.12 min\n",
      "\n",
      "-- Partial --\n",
      "Best Epoch: epoch-2\n",
      "Best FID: 401.0249\n",
      "\n",
      "--------------------------------\n",
      "\n",
      "Epoch: 5\n"
     ]
    },
    {
     "name": "stderr",
     "output_type": "stream",
     "text": [
      "100%|██████████| 30/30 [00:00<00:00, 203.88it/s]\n",
      " 47%|████▋     | 14/30 [00:00<00:00, 138.31it/s]"
     ]
    },
    {
     "name": "stdout",
     "output_type": "stream",
     "text": [
      "\n",
      "FID: 359.3868\n",
      "Time: 0.12 min\n",
      "\n",
      "-- Partial --\n",
      "Best Epoch: epoch-5\n",
      "Best FID: 359.3868\n",
      "\n",
      "--------------------------------\n",
      "\n",
      "Epoch: 6\n"
     ]
    },
    {
     "name": "stderr",
     "output_type": "stream",
     "text": [
      "100%|██████████| 30/30 [00:00<00:00, 127.66it/s]\n",
      " 63%|██████▎   | 19/30 [00:00<00:00, 186.50it/s]"
     ]
    },
    {
     "name": "stdout",
     "output_type": "stream",
     "text": [
      "\n",
      "FID: 431.2975\n",
      "Time: 0.12 min\n",
      "\n",
      "-- Partial --\n",
      "Best Epoch: epoch-5\n",
      "Best FID: 359.3868\n",
      "\n",
      "--------------------------------\n",
      "\n",
      "Epoch: 7\n"
     ]
    },
    {
     "name": "stderr",
     "output_type": "stream",
     "text": [
      "100%|██████████| 30/30 [00:00<00:00, 191.99it/s]\n",
      " 60%|██████    | 18/30 [00:00<00:00, 176.67it/s]"
     ]
    },
    {
     "name": "stdout",
     "output_type": "stream",
     "text": [
      "\n",
      "FID: 396.7061\n",
      "Time: 0.12 min\n",
      "\n",
      "-- Partial --\n",
      "Best Epoch: epoch-5\n",
      "Best FID: 359.3868\n",
      "\n",
      "--------------------------------\n",
      "\n",
      "Epoch: 8\n"
     ]
    },
    {
     "name": "stderr",
     "output_type": "stream",
     "text": [
      "100%|██████████| 30/30 [00:00<00:00, 171.32it/s]\n",
      " 53%|█████▎    | 16/30 [00:00<00:00, 152.41it/s]"
     ]
    },
    {
     "name": "stdout",
     "output_type": "stream",
     "text": [
      "\n",
      "FID: 401.4742\n",
      "Time: 0.12 min\n",
      "\n",
      "-- Partial --\n",
      "Best Epoch: epoch-5\n",
      "Best FID: 359.3868\n",
      "\n",
      "--------------------------------\n",
      "\n",
      "Epoch: 9\n"
     ]
    },
    {
     "name": "stderr",
     "output_type": "stream",
     "text": [
      "100%|██████████| 30/30 [00:00<00:00, 164.43it/s]\n",
      " 70%|███████   | 21/30 [00:00<00:00, 203.94it/s]"
     ]
    },
    {
     "name": "stdout",
     "output_type": "stream",
     "text": [
      "\n",
      "FID: 422.0487\n",
      "Time: 0.12 min\n",
      "\n",
      "-- Partial --\n",
      "Best Epoch: epoch-5\n",
      "Best FID: 359.3868\n",
      "\n",
      "--------------------------------\n",
      "\n",
      "Epoch: 10\n"
     ]
    },
    {
     "name": "stderr",
     "output_type": "stream",
     "text": [
      "100%|██████████| 30/30 [00:00<00:00, 202.19it/s]\n",
      " 63%|██████▎   | 19/30 [00:00<00:00, 187.60it/s]"
     ]
    },
    {
     "name": "stdout",
     "output_type": "stream",
     "text": [
      "\n",
      "FID: 385.8262\n",
      "Time: 0.12 min\n",
      "\n",
      "-- Partial --\n",
      "Best Epoch: epoch-5\n",
      "Best FID: 359.3868\n",
      "\n",
      "--------------------------------\n",
      "\n",
      "Epoch: 11\n"
     ]
    },
    {
     "name": "stderr",
     "output_type": "stream",
     "text": [
      "100%|██████████| 30/30 [00:00<00:00, 172.04it/s]\n",
      " 60%|██████    | 18/30 [00:00<00:00, 176.71it/s]"
     ]
    },
    {
     "name": "stdout",
     "output_type": "stream",
     "text": [
      "\n",
      "FID: 314.3082\n",
      "Time: 0.12 min\n",
      "\n",
      "-- Partial --\n",
      "Best Epoch: epoch-11\n",
      "Best FID: 314.3082\n",
      "\n",
      "--------------------------------\n",
      "\n",
      "Epoch: 12\n"
     ]
    },
    {
     "name": "stderr",
     "output_type": "stream",
     "text": [
      "100%|██████████| 30/30 [00:00<00:00, 179.74it/s]\n",
      " 60%|██████    | 18/30 [00:00<00:00, 175.21it/s]"
     ]
    },
    {
     "name": "stdout",
     "output_type": "stream",
     "text": [
      "\n",
      "FID: 321.9145\n",
      "Time: 0.13 min\n",
      "\n",
      "-- Partial --\n",
      "Best Epoch: epoch-11\n",
      "Best FID: 314.3082\n",
      "\n",
      "--------------------------------\n",
      "\n",
      "Epoch: 13\n"
     ]
    },
    {
     "name": "stderr",
     "output_type": "stream",
     "text": [
      "100%|██████████| 30/30 [00:00<00:00, 150.68it/s]\n",
      "100%|██████████| 30/30 [00:00<00:00, 186.09it/s]"
     ]
    },
    {
     "name": "stdout",
     "output_type": "stream",
     "text": [
      "\n",
      "FID: 225.8937\n",
      "Time: 0.12 min\n",
      "\n",
      "-- Partial --\n",
      "Best Epoch: epoch-13\n",
      "Best FID: 225.8937\n",
      "\n",
      "--------------------------------\n",
      "\n",
      "Epoch: 14\n"
     ]
    },
    {
     "name": "stderr",
     "output_type": "stream",
     "text": [
      "\n",
      " 67%|██████▋   | 20/30 [00:00<00:00, 193.67it/s]"
     ]
    },
    {
     "name": "stdout",
     "output_type": "stream",
     "text": [
      "\n",
      "FID: 159.6331\n",
      "Time: 0.12 min\n",
      "\n",
      "-- Partial --\n",
      "Best Epoch: epoch-14\n",
      "Best FID: 159.6331\n",
      "\n",
      "--------------------------------\n",
      "\n",
      "Epoch: 15\n"
     ]
    },
    {
     "name": "stderr",
     "output_type": "stream",
     "text": [
      "100%|██████████| 30/30 [00:00<00:00, 183.83it/s]\n",
      " 70%|███████   | 21/30 [00:00<00:00, 204.45it/s]"
     ]
    },
    {
     "name": "stdout",
     "output_type": "stream",
     "text": [
      "\n",
      "FID: 170.2798\n",
      "Time: 0.12 min\n",
      "\n",
      "-- Partial --\n",
      "Best Epoch: epoch-14\n",
      "Best FID: 159.6331\n",
      "\n",
      "--------------------------------\n",
      "\n",
      "Epoch: 16\n"
     ]
    },
    {
     "name": "stderr",
     "output_type": "stream",
     "text": [
      "100%|██████████| 30/30 [00:00<00:00, 204.43it/s]\n",
      " 63%|██████▎   | 19/30 [00:00<00:00, 185.58it/s]"
     ]
    },
    {
     "name": "stdout",
     "output_type": "stream",
     "text": [
      "\n",
      "FID: 177.8371\n",
      "Time: 0.12 min\n",
      "\n",
      "-- Partial --\n",
      "Best Epoch: epoch-14\n",
      "Best FID: 159.6331\n",
      "\n",
      "--------------------------------\n",
      "\n",
      "Epoch: 17\n"
     ]
    },
    {
     "name": "stderr",
     "output_type": "stream",
     "text": [
      "100%|██████████| 30/30 [00:00<00:00, 183.41it/s]\n",
      "100%|██████████| 30/30 [00:00<00:00, 187.34it/s]"
     ]
    },
    {
     "name": "stdout",
     "output_type": "stream",
     "text": [
      "\n",
      "FID: 139.4549\n",
      "Time: 0.12 min\n",
      "\n",
      "-- Partial --\n",
      "Best Epoch: epoch-17\n",
      "Best FID: 139.4549\n",
      "\n",
      "--------------------------------\n",
      "\n",
      "Epoch: 18\n"
     ]
    },
    {
     "name": "stderr",
     "output_type": "stream",
     "text": [
      "\n",
      "  0%|          | 0/30 [00:00<?, ?it/s]"
     ]
    },
    {
     "name": "stdout",
     "output_type": "stream",
     "text": [
      "\n",
      "FID: 145.2679\n",
      "Time: 0.12 min\n",
      "\n",
      "-- Partial --\n",
      "Best Epoch: epoch-17\n",
      "Best FID: 139.4549\n",
      "\n",
      "--------------------------------\n",
      "\n",
      "Epoch: 19\n"
     ]
    },
    {
     "name": "stderr",
     "output_type": "stream",
     "text": [
      "100%|██████████| 30/30 [00:00<00:00, 153.47it/s]\n",
      "100%|██████████| 30/30 [00:00<00:00, 180.94it/s]"
     ]
    },
    {
     "name": "stdout",
     "output_type": "stream",
     "text": [
      "\n",
      "FID: 150.0290\n",
      "Time: 0.12 min\n",
      "\n",
      "-- Partial --\n",
      "Best Epoch: epoch-17\n",
      "Best FID: 139.4549\n",
      "\n",
      "--------------------------------\n",
      "\n",
      "Epoch: 20\n"
     ]
    },
    {
     "name": "stderr",
     "output_type": "stream",
     "text": [
      "\n",
      " 60%|██████    | 18/30 [00:00<00:00, 179.31it/s]"
     ]
    },
    {
     "name": "stdout",
     "output_type": "stream",
     "text": [
      "\n",
      "FID: 118.8004\n",
      "Time: 0.12 min\n",
      "\n",
      "-- Partial --\n",
      "Best Epoch: epoch-20\n",
      "Best FID: 118.8004\n",
      "\n",
      "--------------------------------\n",
      "\n",
      "Epoch: 21\n"
     ]
    },
    {
     "name": "stderr",
     "output_type": "stream",
     "text": [
      "100%|██████████| 30/30 [00:00<00:00, 165.90it/s]\n",
      " 67%|██████▋   | 20/30 [00:00<00:00, 196.86it/s]"
     ]
    },
    {
     "name": "stdout",
     "output_type": "stream",
     "text": [
      "\n",
      "FID: 118.1641\n",
      "Time: 0.12 min\n",
      "\n",
      "-- Partial --\n",
      "Best Epoch: epoch-21\n",
      "Best FID: 118.1641\n",
      "\n",
      "--------------------------------\n",
      "\n",
      "Epoch: 22\n"
     ]
    },
    {
     "name": "stderr",
     "output_type": "stream",
     "text": [
      "100%|██████████| 30/30 [00:00<00:00, 158.77it/s]\n",
      " 67%|██████▋   | 20/30 [00:00<00:00, 194.07it/s]"
     ]
    },
    {
     "name": "stdout",
     "output_type": "stream",
     "text": [
      "\n",
      "FID: 104.7573\n",
      "Time: 0.12 min\n",
      "\n",
      "-- Partial --\n",
      "Best Epoch: epoch-22\n",
      "Best FID: 104.7573\n",
      "\n",
      "--------------------------------\n",
      "\n",
      "Epoch: 23\n"
     ]
    },
    {
     "name": "stderr",
     "output_type": "stream",
     "text": [
      "100%|██████████| 30/30 [00:00<00:00, 182.85it/s]\n",
      " 67%|██████▋   | 20/30 [00:00<00:00, 197.27it/s]"
     ]
    },
    {
     "name": "stdout",
     "output_type": "stream",
     "text": [
      "\n",
      "FID: 87.4579\n",
      "Time: 0.12 min\n",
      "\n",
      "-- Partial --\n",
      "Best Epoch: epoch-23\n",
      "Best FID: 87.4579\n",
      "\n",
      "--------------------------------\n",
      "\n",
      "Epoch: 24\n"
     ]
    },
    {
     "name": "stderr",
     "output_type": "stream",
     "text": [
      "100%|██████████| 30/30 [00:00<00:00, 200.76it/s]\n",
      "100%|██████████| 30/30 [00:00<00:00, 193.63it/s]"
     ]
    },
    {
     "name": "stdout",
     "output_type": "stream",
     "text": [
      "\n",
      "FID: 100.3860\n",
      "Time: 0.12 min\n",
      "\n",
      "-- Partial --\n",
      "Best Epoch: epoch-23\n",
      "Best FID: 87.4579\n",
      "\n",
      "--------------------------------\n",
      "\n",
      "Epoch: 25\n"
     ]
    },
    {
     "name": "stderr",
     "output_type": "stream",
     "text": [
      "\n",
      " 57%|█████▋    | 17/30 [00:00<00:00, 166.48it/s]"
     ]
    },
    {
     "name": "stdout",
     "output_type": "stream",
     "text": [
      "\n",
      "FID: 103.1276\n",
      "Time: 0.12 min\n",
      "\n",
      "-- Partial --\n",
      "Best Epoch: epoch-23\n",
      "Best FID: 87.4579\n",
      "\n",
      "--------------------------------\n",
      "\n",
      "Epoch: 26\n"
     ]
    },
    {
     "name": "stderr",
     "output_type": "stream",
     "text": [
      "100%|██████████| 30/30 [00:00<00:00, 164.40it/s]\n",
      "100%|██████████| 30/30 [00:00<00:00, 204.96it/s]"
     ]
    },
    {
     "name": "stdout",
     "output_type": "stream",
     "text": [
      "\n",
      "FID: 92.2982\n",
      "Time: 0.12 min\n",
      "\n",
      "-- Partial --\n",
      "Best Epoch: epoch-23\n",
      "Best FID: 87.4579\n",
      "\n",
      "--------------------------------\n",
      "\n",
      "Epoch: 27\n"
     ]
    },
    {
     "name": "stderr",
     "output_type": "stream",
     "text": [
      "\n",
      " 67%|██████▋   | 20/30 [00:00<00:00, 194.33it/s]"
     ]
    },
    {
     "name": "stdout",
     "output_type": "stream",
     "text": [
      "\n",
      "FID: 105.2496\n",
      "Time: 0.12 min\n",
      "\n",
      "-- Partial --\n",
      "Best Epoch: epoch-23\n",
      "Best FID: 87.4579\n",
      "\n",
      "--------------------------------\n",
      "\n",
      "Epoch: 28\n"
     ]
    },
    {
     "name": "stderr",
     "output_type": "stream",
     "text": [
      "100%|██████████| 30/30 [00:00<00:00, 187.68it/s]\n",
      " 60%|██████    | 18/30 [00:00<00:00, 178.06it/s]"
     ]
    },
    {
     "name": "stdout",
     "output_type": "stream",
     "text": [
      "\n",
      "FID: 103.7060\n",
      "Time: 0.12 min\n",
      "\n",
      "-- Partial --\n",
      "Best Epoch: epoch-23\n",
      "Best FID: 87.4579\n",
      "\n",
      "--------------------------------\n",
      "\n",
      "Epoch: 29\n"
     ]
    },
    {
     "name": "stderr",
     "output_type": "stream",
     "text": [
      "100%|██████████| 30/30 [00:00<00:00, 187.11it/s]\n",
      "100%|██████████| 30/30 [00:00<00:00, 156.49it/s]"
     ]
    },
    {
     "name": "stdout",
     "output_type": "stream",
     "text": [
      "\n",
      "FID: 93.6773\n",
      "Time: 0.12 min\n",
      "\n",
      "-- Partial --\n",
      "Best Epoch: epoch-23\n",
      "Best FID: 87.4579\n",
      "\n",
      "--------------------------------\n",
      "\n",
      "Epoch: 30\n"
     ]
    },
    {
     "name": "stderr",
     "output_type": "stream",
     "text": [
      "\n",
      "100%|██████████| 30/30 [00:00<00:00, 192.38it/s]"
     ]
    },
    {
     "name": "stdout",
     "output_type": "stream",
     "text": [
      "\n",
      "FID: 98.0839\n",
      "Time: 0.12 min\n",
      "\n",
      "-- Partial --\n",
      "Best Epoch: epoch-23\n",
      "Best FID: 87.4579\n",
      "\n",
      "--------------------------------\n",
      "\n",
      "Epoch: 31\n"
     ]
    },
    {
     "name": "stderr",
     "output_type": "stream",
     "text": [
      "\n",
      " 70%|███████   | 21/30 [00:00<00:00, 200.02it/s]"
     ]
    },
    {
     "name": "stdout",
     "output_type": "stream",
     "text": [
      "\n",
      "FID: 87.4115\n",
      "Time: 0.12 min\n",
      "\n",
      "-- Partial --\n",
      "Best Epoch: epoch-31\n",
      "Best FID: 87.4115\n",
      "\n",
      "--------------------------------\n",
      "\n",
      "Epoch: 32\n"
     ]
    },
    {
     "name": "stderr",
     "output_type": "stream",
     "text": [
      "100%|██████████| 30/30 [00:00<00:00, 204.04it/s]\n",
      "  0%|          | 0/30 [00:00<?, ?it/s]"
     ]
    },
    {
     "name": "stdout",
     "output_type": "stream",
     "text": [
      "\n",
      "FID: 90.5941\n",
      "Time: 0.12 min\n",
      "\n",
      "-- Partial --\n",
      "Best Epoch: epoch-31\n",
      "Best FID: 87.4115\n",
      "\n",
      "--------------------------------\n",
      "\n",
      "Epoch: 33\n"
     ]
    },
    {
     "name": "stderr",
     "output_type": "stream",
     "text": [
      "100%|██████████| 30/30 [00:00<00:00, 157.76it/s]\n",
      " 60%|██████    | 18/30 [00:00<00:00, 173.10it/s]"
     ]
    },
    {
     "name": "stdout",
     "output_type": "stream",
     "text": [
      "\n",
      "FID: 95.2468\n",
      "Time: 0.12 min\n",
      "\n",
      "-- Partial --\n",
      "Best Epoch: epoch-31\n",
      "Best FID: 87.4115\n",
      "\n",
      "--------------------------------\n",
      "\n",
      "Epoch: 34\n"
     ]
    },
    {
     "name": "stderr",
     "output_type": "stream",
     "text": [
      "100%|██████████| 30/30 [00:00<00:00, 169.46it/s]\n",
      "  0%|          | 0/30 [00:00<?, ?it/s]"
     ]
    },
    {
     "name": "stdout",
     "output_type": "stream",
     "text": [
      "\n",
      "FID: 97.4321\n",
      "Time: 0.12 min\n",
      "\n",
      "-- Partial --\n",
      "Best Epoch: epoch-31\n",
      "Best FID: 87.4115\n",
      "\n",
      "--------------------------------\n",
      "\n",
      "Epoch: 35\n"
     ]
    },
    {
     "name": "stderr",
     "output_type": "stream",
     "text": [
      "100%|██████████| 30/30 [00:00<00:00, 207.11it/s]\n",
      " 53%|█████▎    | 16/30 [00:00<00:00, 157.76it/s]"
     ]
    },
    {
     "name": "stdout",
     "output_type": "stream",
     "text": [
      "\n",
      "FID: 80.9605\n",
      "Time: 0.12 min\n",
      "\n",
      "-- Partial --\n",
      "Best Epoch: epoch-35\n",
      "Best FID: 80.9605\n",
      "\n",
      "--------------------------------\n",
      "\n",
      "Epoch: 36\n"
     ]
    },
    {
     "name": "stderr",
     "output_type": "stream",
     "text": [
      "100%|██████████| 30/30 [00:00<00:00, 164.72it/s]\n",
      " 60%|██████    | 18/30 [00:00<00:00, 177.11it/s]"
     ]
    },
    {
     "name": "stdout",
     "output_type": "stream",
     "text": [
      "\n",
      "FID: 88.0798\n",
      "Time: 0.12 min\n",
      "\n",
      "-- Partial --\n",
      "Best Epoch: epoch-35\n",
      "Best FID: 80.9605\n",
      "\n",
      "--------------------------------\n",
      "\n",
      "Epoch: 37\n"
     ]
    },
    {
     "name": "stderr",
     "output_type": "stream",
     "text": [
      "100%|██████████| 30/30 [00:00<00:00, 165.98it/s]\n",
      " 50%|█████     | 15/30 [00:00<00:00, 147.94it/s]"
     ]
    },
    {
     "name": "stdout",
     "output_type": "stream",
     "text": [
      "\n",
      "FID: 76.3988\n",
      "Time: 0.12 min\n",
      "\n",
      "-- Partial --\n",
      "Best Epoch: epoch-37\n",
      "Best FID: 76.3988\n",
      "\n",
      "--------------------------------\n",
      "\n",
      "Epoch: 38\n"
     ]
    },
    {
     "name": "stderr",
     "output_type": "stream",
     "text": [
      "100%|██████████| 30/30 [00:00<00:00, 162.10it/s]\n",
      " 70%|███████   | 21/30 [00:00<00:00, 208.64it/s]"
     ]
    },
    {
     "name": "stdout",
     "output_type": "stream",
     "text": [
      "\n",
      "FID: 81.9226\n",
      "Time: 0.12 min\n",
      "\n",
      "-- Partial --\n",
      "Best Epoch: epoch-37\n",
      "Best FID: 76.3988\n",
      "\n",
      "--------------------------------\n",
      "\n",
      "Epoch: 39\n"
     ]
    },
    {
     "name": "stderr",
     "output_type": "stream",
     "text": [
      "100%|██████████| 30/30 [00:00<00:00, 158.88it/s]\n",
      " 63%|██████▎   | 19/30 [00:00<00:00, 182.58it/s]"
     ]
    },
    {
     "name": "stdout",
     "output_type": "stream",
     "text": [
      "\n",
      "FID: 89.3910\n",
      "Time: 0.12 min\n",
      "\n",
      "-- Partial --\n",
      "Best Epoch: epoch-37\n",
      "Best FID: 76.3988\n",
      "\n",
      "--------------------------------\n",
      "\n",
      "Epoch: 40\n"
     ]
    },
    {
     "name": "stderr",
     "output_type": "stream",
     "text": [
      "100%|██████████| 30/30 [00:00<00:00, 175.46it/s]\n",
      " 63%|██████▎   | 19/30 [00:00<00:00, 183.89it/s]"
     ]
    },
    {
     "name": "stdout",
     "output_type": "stream",
     "text": [
      "\n",
      "FID: 92.3843\n",
      "Time: 0.12 min\n",
      "\n",
      "-- Partial --\n",
      "Best Epoch: epoch-37\n",
      "Best FID: 76.3988\n",
      "\n",
      "--------------------------------\n",
      "\n",
      "Epoch: 41\n"
     ]
    },
    {
     "name": "stderr",
     "output_type": "stream",
     "text": [
      "100%|██████████| 30/30 [00:00<00:00, 176.01it/s]\n",
      " 70%|███████   | 21/30 [00:00<00:00, 205.69it/s]"
     ]
    },
    {
     "name": "stdout",
     "output_type": "stream",
     "text": [
      "\n",
      "FID: 81.4292\n",
      "Time: 0.12 min\n",
      "\n",
      "-- Partial --\n",
      "Best Epoch: epoch-37\n",
      "Best FID: 76.3988\n",
      "\n",
      "--------------------------------\n",
      "\n",
      "Epoch: 42\n"
     ]
    },
    {
     "name": "stderr",
     "output_type": "stream",
     "text": [
      "100%|██████████| 30/30 [00:00<00:00, 204.15it/s]\n",
      " 37%|███▋      | 11/30 [00:00<00:00, 105.46it/s]"
     ]
    },
    {
     "name": "stdout",
     "output_type": "stream",
     "text": [
      "\n",
      "FID: 88.8693\n",
      "Time: 0.12 min\n",
      "\n",
      "-- Partial --\n",
      "Best Epoch: epoch-37\n",
      "Best FID: 76.3988\n",
      "\n",
      "--------------------------------\n",
      "\n",
      "Epoch: 43\n"
     ]
    },
    {
     "name": "stderr",
     "output_type": "stream",
     "text": [
      "100%|██████████| 30/30 [00:00<00:00, 146.87it/s]\n",
      " 70%|███████   | 21/30 [00:00<00:00, 201.45it/s]"
     ]
    },
    {
     "name": "stdout",
     "output_type": "stream",
     "text": [
      "\n",
      "FID: 85.8678\n",
      "Time: 0.12 min\n",
      "\n",
      "-- Partial --\n",
      "Best Epoch: epoch-37\n",
      "Best FID: 76.3988\n",
      "\n",
      "--------------------------------\n",
      "\n",
      "Epoch: 44\n"
     ]
    },
    {
     "name": "stderr",
     "output_type": "stream",
     "text": [
      "100%|██████████| 30/30 [00:00<00:00, 180.39it/s]\n",
      "100%|██████████| 30/30 [00:00<00:00, 213.42it/s]"
     ]
    },
    {
     "name": "stdout",
     "output_type": "stream",
     "text": [
      "\n",
      "FID: 87.7531\n",
      "Time: 0.12 min\n",
      "\n",
      "-- Partial --\n",
      "Best Epoch: epoch-37\n",
      "Best FID: 76.3988\n",
      "\n",
      "--------------------------------\n",
      "\n",
      "Epoch: 45\n"
     ]
    },
    {
     "name": "stderr",
     "output_type": "stream",
     "text": [
      "\n",
      " 63%|██████▎   | 19/30 [00:00<00:00, 189.64it/s]"
     ]
    },
    {
     "name": "stdout",
     "output_type": "stream",
     "text": [
      "\n",
      "FID: 90.1308\n",
      "Time: 0.12 min\n",
      "\n",
      "-- Partial --\n",
      "Best Epoch: epoch-37\n",
      "Best FID: 76.3988\n",
      "\n",
      "--------------------------------\n",
      "\n",
      "Epoch: 46\n"
     ]
    },
    {
     "name": "stderr",
     "output_type": "stream",
     "text": [
      "100%|██████████| 30/30 [00:00<00:00, 175.19it/s]\n",
      " 70%|███████   | 21/30 [00:00<00:00, 207.35it/s]"
     ]
    },
    {
     "name": "stdout",
     "output_type": "stream",
     "text": [
      "\n",
      "FID: 78.6906\n",
      "Time: 0.12 min\n",
      "\n",
      "-- Partial --\n",
      "Best Epoch: epoch-37\n",
      "Best FID: 76.3988\n",
      "\n",
      "--------------------------------\n",
      "\n",
      "Epoch: 47\n"
     ]
    },
    {
     "name": "stderr",
     "output_type": "stream",
     "text": [
      "100%|██████████| 30/30 [00:00<00:00, 190.02it/s]\n",
      " 70%|███████   | 21/30 [00:00<00:00, 204.63it/s]"
     ]
    },
    {
     "name": "stdout",
     "output_type": "stream",
     "text": [
      "\n",
      "FID: 92.0976\n",
      "Time: 0.12 min\n",
      "\n",
      "-- Partial --\n",
      "Best Epoch: epoch-37\n",
      "Best FID: 76.3988\n",
      "\n",
      "--------------------------------\n",
      "\n",
      "Epoch: 48\n"
     ]
    },
    {
     "name": "stderr",
     "output_type": "stream",
     "text": [
      "100%|██████████| 30/30 [00:00<00:00, 200.95it/s]\n",
      " 63%|██████▎   | 19/30 [00:00<00:00, 182.12it/s]"
     ]
    },
    {
     "name": "stdout",
     "output_type": "stream",
     "text": [
      "\n",
      "FID: 87.5176\n",
      "Time: 0.12 min\n",
      "\n",
      "-- Partial --\n",
      "Best Epoch: epoch-37\n",
      "Best FID: 76.3988\n",
      "\n",
      "--------------------------------\n",
      "\n",
      "Epoch: 49\n"
     ]
    },
    {
     "name": "stderr",
     "output_type": "stream",
     "text": [
      "100%|██████████| 30/30 [00:00<00:00, 191.86it/s]\n",
      "100%|██████████| 30/30 [00:00<00:00, 201.16it/s]"
     ]
    },
    {
     "name": "stdout",
     "output_type": "stream",
     "text": [
      "\n",
      "FID: 82.6420\n",
      "Time: 0.12 min\n",
      "\n",
      "-- Partial --\n",
      "Best Epoch: epoch-37\n",
      "Best FID: 76.3988\n",
      "\n",
      "--------------------------------\n",
      "\n",
      "Epoch: 50\n"
     ]
    },
    {
     "name": "stderr",
     "output_type": "stream",
     "text": [
      "\n",
      " 70%|███████   | 21/30 [00:00<00:00, 208.02it/s]"
     ]
    },
    {
     "name": "stdout",
     "output_type": "stream",
     "text": [
      "\n",
      "FID: 89.4311\n",
      "Time: 0.12 min\n",
      "\n",
      "-- Partial --\n",
      "Best Epoch: epoch-37\n",
      "Best FID: 76.3988\n",
      "\n",
      "--------------------------------\n",
      "\n",
      "Epoch: 51\n"
     ]
    },
    {
     "name": "stderr",
     "output_type": "stream",
     "text": [
      "100%|██████████| 30/30 [00:00<00:00, 208.58it/s]\n",
      " 47%|████▋     | 14/30 [00:00<00:00, 138.45it/s]"
     ]
    },
    {
     "name": "stdout",
     "output_type": "stream",
     "text": [
      "\n",
      "FID: 94.4413\n",
      "Time: 0.12 min\n",
      "\n",
      "-- Partial --\n",
      "Best Epoch: epoch-37\n",
      "Best FID: 76.3988\n",
      "\n",
      "--------------------------------\n",
      "\n",
      "Epoch: 52\n"
     ]
    },
    {
     "name": "stderr",
     "output_type": "stream",
     "text": [
      "100%|██████████| 30/30 [00:00<00:00, 170.60it/s]\n",
      " 67%|██████▋   | 20/30 [00:00<00:00, 194.99it/s]"
     ]
    },
    {
     "name": "stdout",
     "output_type": "stream",
     "text": [
      "\n",
      "FID: 87.8107\n",
      "Time: 0.12 min\n",
      "\n",
      "-- Partial --\n",
      "Best Epoch: epoch-37\n",
      "Best FID: 76.3988\n",
      "\n",
      "--------------------------------\n",
      "\n",
      "Epoch: 53\n"
     ]
    },
    {
     "name": "stderr",
     "output_type": "stream",
     "text": [
      "100%|██████████| 30/30 [00:00<00:00, 171.86it/s]\n",
      " 67%|██████▋   | 20/30 [00:00<00:00, 197.84it/s]"
     ]
    },
    {
     "name": "stdout",
     "output_type": "stream",
     "text": [
      "\n",
      "FID: 85.9449\n",
      "Time: 0.12 min\n",
      "\n",
      "-- Partial --\n",
      "Best Epoch: epoch-37\n",
      "Best FID: 76.3988\n",
      "\n",
      "--------------------------------\n",
      "\n",
      "Epoch: 54\n"
     ]
    },
    {
     "name": "stderr",
     "output_type": "stream",
     "text": [
      "100%|██████████| 30/30 [00:00<00:00, 201.16it/s]\n",
      " 63%|██████▎   | 19/30 [00:00<00:00, 189.06it/s]"
     ]
    },
    {
     "name": "stdout",
     "output_type": "stream",
     "text": [
      "\n",
      "FID: 83.3714\n",
      "Time: 0.12 min\n",
      "\n",
      "-- Partial --\n",
      "Best Epoch: epoch-37\n",
      "Best FID: 76.3988\n",
      "\n",
      "--------------------------------\n",
      "\n",
      "Epoch: 55\n"
     ]
    },
    {
     "name": "stderr",
     "output_type": "stream",
     "text": [
      "100%|██████████| 30/30 [00:00<00:00, 197.44it/s]\n",
      " 63%|██████▎   | 19/30 [00:00<00:00, 181.98it/s]"
     ]
    },
    {
     "name": "stdout",
     "output_type": "stream",
     "text": [
      "\n",
      "FID: 68.4849\n",
      "Time: 0.12 min\n",
      "\n",
      "-- Partial --\n",
      "Best Epoch: epoch-55\n",
      "Best FID: 68.4849\n",
      "\n",
      "--------------------------------\n",
      "\n",
      "Epoch: 56\n"
     ]
    },
    {
     "name": "stderr",
     "output_type": "stream",
     "text": [
      "100%|██████████| 30/30 [00:00<00:00, 178.31it/s]\n",
      " 57%|█████▋    | 17/30 [00:00<00:00, 165.84it/s]"
     ]
    },
    {
     "name": "stdout",
     "output_type": "stream",
     "text": [
      "\n",
      "FID: 75.9644\n",
      "Time: 0.12 min\n",
      "\n",
      "-- Partial --\n",
      "Best Epoch: epoch-55\n",
      "Best FID: 68.4849\n",
      "\n",
      "--------------------------------\n",
      "\n",
      "Epoch: 57\n"
     ]
    },
    {
     "name": "stderr",
     "output_type": "stream",
     "text": [
      "100%|██████████| 30/30 [00:00<00:00, 169.19it/s]\n",
      " 70%|███████   | 21/30 [00:00<00:00, 203.10it/s]"
     ]
    },
    {
     "name": "stdout",
     "output_type": "stream",
     "text": [
      "\n",
      "FID: 86.2281\n",
      "Time: 0.12 min\n",
      "\n",
      "-- Partial --\n",
      "Best Epoch: epoch-55\n",
      "Best FID: 68.4849\n",
      "\n",
      "--------------------------------\n",
      "\n",
      "Epoch: 58\n"
     ]
    },
    {
     "name": "stderr",
     "output_type": "stream",
     "text": [
      "100%|██████████| 30/30 [00:00<00:00, 185.63it/s]\n",
      " 70%|███████   | 21/30 [00:00<00:00, 206.65it/s]"
     ]
    },
    {
     "name": "stdout",
     "output_type": "stream",
     "text": [
      "\n",
      "FID: 79.2481\n",
      "Time: 0.12 min\n",
      "\n",
      "-- Partial --\n",
      "Best Epoch: epoch-55\n",
      "Best FID: 68.4849\n",
      "\n",
      "--------------------------------\n",
      "\n",
      "Epoch: 59\n"
     ]
    },
    {
     "name": "stderr",
     "output_type": "stream",
     "text": [
      "100%|██████████| 30/30 [00:00<00:00, 204.28it/s]\n",
      " 60%|██████    | 18/30 [00:00<00:00, 177.66it/s]"
     ]
    },
    {
     "name": "stdout",
     "output_type": "stream",
     "text": [
      "\n",
      "FID: 76.8364\n",
      "Time: 0.12 min\n",
      "\n",
      "-- Partial --\n",
      "Best Epoch: epoch-55\n",
      "Best FID: 68.4849\n",
      "\n",
      "--------------------------------\n",
      "\n",
      "Epoch: 60\n"
     ]
    },
    {
     "name": "stderr",
     "output_type": "stream",
     "text": [
      "100%|██████████| 30/30 [00:00<00:00, 185.48it/s]\n",
      " 63%|██████▎   | 19/30 [00:00<00:00, 186.48it/s]"
     ]
    },
    {
     "name": "stdout",
     "output_type": "stream",
     "text": [
      "\n",
      "FID: 72.8042\n",
      "Time: 0.12 min\n",
      "\n",
      "-- Partial --\n",
      "Best Epoch: epoch-55\n",
      "Best FID: 68.4849\n",
      "\n",
      "--------------------------------\n",
      "\n",
      "Epoch: 61\n"
     ]
    },
    {
     "name": "stderr",
     "output_type": "stream",
     "text": [
      "100%|██████████| 30/30 [00:00<00:00, 181.87it/s]\n",
      "100%|██████████| 30/30 [00:00<00:00, 209.35it/s]"
     ]
    },
    {
     "name": "stdout",
     "output_type": "stream",
     "text": [
      "\n",
      "FID: 89.4086\n",
      "Time: 0.12 min\n",
      "\n",
      "-- Partial --\n",
      "Best Epoch: epoch-55\n",
      "Best FID: 68.4849\n",
      "\n",
      "--------------------------------\n",
      "\n",
      "Epoch: 62\n"
     ]
    },
    {
     "name": "stderr",
     "output_type": "stream",
     "text": [
      "\n",
      "100%|██████████| 30/30 [00:00<00:00, 163.27it/s]"
     ]
    },
    {
     "name": "stdout",
     "output_type": "stream",
     "text": [
      "\n",
      "FID: 82.5836\n",
      "Time: 0.12 min\n",
      "\n",
      "-- Partial --\n",
      "Best Epoch: epoch-55\n",
      "Best FID: 68.4849\n",
      "\n",
      "--------------------------------\n",
      "\n",
      "Epoch: 63\n"
     ]
    },
    {
     "name": "stderr",
     "output_type": "stream",
     "text": [
      "\n",
      "100%|██████████| 30/30 [00:00<00:00, 198.07it/s]"
     ]
    },
    {
     "name": "stdout",
     "output_type": "stream",
     "text": [
      "\n",
      "FID: 72.5826\n",
      "Time: 0.12 min\n",
      "\n",
      "-- Partial --\n",
      "Best Epoch: epoch-55\n",
      "Best FID: 68.4849\n",
      "\n",
      "--------------------------------\n",
      "\n",
      "Epoch: 64\n"
     ]
    },
    {
     "name": "stderr",
     "output_type": "stream",
     "text": [
      "\n",
      " 60%|██████    | 18/30 [00:00<00:00, 177.84it/s]"
     ]
    },
    {
     "name": "stdout",
     "output_type": "stream",
     "text": [
      "\n",
      "FID: 83.1244\n",
      "Time: 0.12 min\n",
      "\n",
      "-- Partial --\n",
      "Best Epoch: epoch-55\n",
      "Best FID: 68.4849\n",
      "\n",
      "--------------------------------\n",
      "\n",
      "Epoch: 65\n"
     ]
    },
    {
     "name": "stderr",
     "output_type": "stream",
     "text": [
      "100%|██████████| 30/30 [00:00<00:00, 178.28it/s]\n",
      " 70%|███████   | 21/30 [00:00<00:00, 207.09it/s]"
     ]
    },
    {
     "name": "stdout",
     "output_type": "stream",
     "text": [
      "\n",
      "FID: 80.4688\n",
      "Time: 0.12 min\n",
      "\n",
      "-- Partial --\n",
      "Best Epoch: epoch-55\n",
      "Best FID: 68.4849\n",
      "\n",
      "--------------------------------\n",
      "\n",
      "Epoch: 66\n"
     ]
    },
    {
     "name": "stderr",
     "output_type": "stream",
     "text": [
      "100%|██████████| 30/30 [00:00<00:00, 191.77it/s]\n",
      "  0%|          | 0/30 [00:00<?, ?it/s]"
     ]
    },
    {
     "name": "stdout",
     "output_type": "stream",
     "text": [
      "\n",
      "FID: 83.9517\n",
      "Time: 0.12 min\n",
      "\n",
      "-- Partial --\n",
      "Best Epoch: epoch-55\n",
      "Best FID: 68.4849\n",
      "\n",
      "--------------------------------\n",
      "\n",
      "Epoch: 67\n"
     ]
    },
    {
     "name": "stderr",
     "output_type": "stream",
     "text": [
      "100%|██████████| 30/30 [00:00<00:00, 185.04it/s]\n",
      " 60%|██████    | 18/30 [00:00<00:00, 177.65it/s]"
     ]
    },
    {
     "name": "stdout",
     "output_type": "stream",
     "text": [
      "\n",
      "FID: 79.3146\n",
      "Time: 0.12 min\n",
      "\n",
      "-- Partial --\n",
      "Best Epoch: epoch-55\n",
      "Best FID: 68.4849\n",
      "\n",
      "--------------------------------\n",
      "\n",
      "Epoch: 68\n"
     ]
    },
    {
     "name": "stderr",
     "output_type": "stream",
     "text": [
      "100%|██████████| 30/30 [00:00<00:00, 175.52it/s]\n",
      " 70%|███████   | 21/30 [00:00<00:00, 205.83it/s]"
     ]
    },
    {
     "name": "stdout",
     "output_type": "stream",
     "text": [
      "\n",
      "FID: 70.7025\n",
      "Time: 0.12 min\n",
      "\n",
      "-- Partial --\n",
      "Best Epoch: epoch-55\n",
      "Best FID: 68.4849\n",
      "\n",
      "--------------------------------\n",
      "\n",
      "Epoch: 69\n"
     ]
    },
    {
     "name": "stderr",
     "output_type": "stream",
     "text": [
      "100%|██████████| 30/30 [00:00<00:00, 189.67it/s]\n",
      " 63%|██████▎   | 19/30 [00:00<00:00, 185.77it/s]"
     ]
    },
    {
     "name": "stdout",
     "output_type": "stream",
     "text": [
      "\n",
      "FID: 72.6333\n",
      "Time: 0.12 min\n",
      "\n",
      "-- Partial --\n",
      "Best Epoch: epoch-55\n",
      "Best FID: 68.4849\n",
      "\n",
      "--------------------------------\n",
      "\n",
      "Epoch: 70\n"
     ]
    },
    {
     "name": "stderr",
     "output_type": "stream",
     "text": [
      "100%|██████████| 30/30 [00:00<00:00, 193.03it/s]\n",
      " 60%|██████    | 18/30 [00:00<00:00, 176.50it/s]"
     ]
    },
    {
     "name": "stdout",
     "output_type": "stream",
     "text": [
      "\n",
      "FID: 70.3072\n",
      "Time: 0.12 min\n",
      "\n",
      "-- Partial --\n",
      "Best Epoch: epoch-55\n",
      "Best FID: 68.4849\n",
      "\n",
      "--------------------------------\n",
      "\n",
      "Epoch: 71\n"
     ]
    },
    {
     "name": "stderr",
     "output_type": "stream",
     "text": [
      "100%|██████████| 30/30 [00:00<00:00, 173.89it/s]\n",
      " 63%|██████▎   | 19/30 [00:00<00:00, 183.67it/s]"
     ]
    },
    {
     "name": "stdout",
     "output_type": "stream",
     "text": [
      "\n",
      "FID: 90.6207\n",
      "Time: 0.12 min\n",
      "\n",
      "-- Partial --\n",
      "Best Epoch: epoch-55\n",
      "Best FID: 68.4849\n",
      "\n",
      "--------------------------------\n",
      "\n",
      "Epoch: 72\n"
     ]
    },
    {
     "name": "stderr",
     "output_type": "stream",
     "text": [
      "100%|██████████| 30/30 [00:00<00:00, 174.91it/s]\n",
      "100%|██████████| 30/30 [00:00<00:00, 150.73it/s]"
     ]
    },
    {
     "name": "stdout",
     "output_type": "stream",
     "text": [
      "\n",
      "FID: 80.2780\n",
      "Time: 0.12 min\n",
      "\n",
      "-- Partial --\n",
      "Best Epoch: epoch-55\n",
      "Best FID: 68.4849\n",
      "\n",
      "--------------------------------\n",
      "\n",
      "Epoch: 73\n"
     ]
    },
    {
     "name": "stderr",
     "output_type": "stream",
     "text": [
      "\n",
      " 70%|███████   | 21/30 [00:00<00:00, 207.01it/s]"
     ]
    },
    {
     "name": "stdout",
     "output_type": "stream",
     "text": [
      "\n",
      "FID: 80.0282\n",
      "Time: 0.12 min\n",
      "\n",
      "-- Partial --\n",
      "Best Epoch: epoch-55\n",
      "Best FID: 68.4849\n",
      "\n",
      "--------------------------------\n",
      "\n",
      "Epoch: 74\n"
     ]
    },
    {
     "name": "stderr",
     "output_type": "stream",
     "text": [
      "100%|██████████| 30/30 [00:00<00:00, 183.48it/s]\n",
      "100%|██████████| 30/30 [00:00<00:00, 208.17it/s]"
     ]
    },
    {
     "name": "stdout",
     "output_type": "stream",
     "text": [
      "\n",
      "FID: 73.7820\n",
      "Time: 0.12 min\n",
      "\n",
      "-- Partial --\n",
      "Best Epoch: epoch-55\n",
      "Best FID: 68.4849\n",
      "\n",
      "--------------------------------\n",
      "\n",
      "Epoch: 75\n"
     ]
    },
    {
     "name": "stderr",
     "output_type": "stream",
     "text": [
      "\n",
      " 57%|█████▋    | 17/30 [00:00<00:00, 169.11it/s]"
     ]
    },
    {
     "name": "stdout",
     "output_type": "stream",
     "text": [
      "\n",
      "FID: 80.8464\n",
      "Time: 0.12 min\n",
      "\n",
      "-- Partial --\n",
      "Best Epoch: epoch-55\n",
      "Best FID: 68.4849\n",
      "\n",
      "--------------------------------\n",
      "\n",
      "Epoch: 76\n"
     ]
    },
    {
     "name": "stderr",
     "output_type": "stream",
     "text": [
      "100%|██████████| 30/30 [00:00<00:00, 164.02it/s]\n",
      " 70%|███████   | 21/30 [00:00<00:00, 203.99it/s]"
     ]
    },
    {
     "name": "stdout",
     "output_type": "stream",
     "text": [
      "\n",
      "FID: 76.8136\n",
      "Time: 0.12 min\n",
      "\n",
      "-- Partial --\n",
      "Best Epoch: epoch-55\n",
      "Best FID: 68.4849\n",
      "\n",
      "--------------------------------\n",
      "\n",
      "Epoch: 77\n"
     ]
    },
    {
     "name": "stderr",
     "output_type": "stream",
     "text": [
      "100%|██████████| 30/30 [00:00<00:00, 192.26it/s]\n",
      " 70%|███████   | 21/30 [00:00<00:00, 203.19it/s]"
     ]
    },
    {
     "name": "stdout",
     "output_type": "stream",
     "text": [
      "\n",
      "FID: 77.0845\n",
      "Time: 0.12 min\n",
      "\n",
      "-- Partial --\n",
      "Best Epoch: epoch-55\n",
      "Best FID: 68.4849\n",
      "\n",
      "--------------------------------\n",
      "\n",
      "Epoch: 78\n"
     ]
    },
    {
     "name": "stderr",
     "output_type": "stream",
     "text": [
      "100%|██████████| 30/30 [00:00<00:00, 202.15it/s]\n",
      " 60%|██████    | 18/30 [00:00<00:00, 177.68it/s]"
     ]
    },
    {
     "name": "stdout",
     "output_type": "stream",
     "text": [
      "\n",
      "FID: 83.2440\n",
      "Time: 0.12 min\n",
      "\n",
      "-- Partial --\n",
      "Best Epoch: epoch-55\n",
      "Best FID: 68.4849\n",
      "\n",
      "--------------------------------\n",
      "\n",
      "Epoch: 79\n"
     ]
    },
    {
     "name": "stderr",
     "output_type": "stream",
     "text": [
      "100%|██████████| 30/30 [00:00<00:00, 190.29it/s]\n",
      "100%|██████████| 30/30 [00:00<00:00, 202.76it/s]"
     ]
    },
    {
     "name": "stdout",
     "output_type": "stream",
     "text": [
      "\n",
      "FID: 78.4846\n",
      "Time: 0.12 min\n",
      "\n",
      "-- Partial --\n",
      "Best Epoch: epoch-55\n",
      "Best FID: 68.4849\n",
      "\n",
      "--------------------------------\n",
      "\n",
      "Epoch: 80\n"
     ]
    },
    {
     "name": "stderr",
     "output_type": "stream",
     "text": [
      "\n",
      " 60%|██████    | 18/30 [00:00<00:00, 173.08it/s]"
     ]
    },
    {
     "name": "stdout",
     "output_type": "stream",
     "text": [
      "\n",
      "FID: 75.4129\n",
      "Time: 0.12 min\n",
      "\n",
      "-- Partial --\n",
      "Best Epoch: epoch-55\n",
      "Best FID: 68.4849\n",
      "\n",
      "--------------------------------\n",
      "\n",
      "Epoch: 81\n"
     ]
    },
    {
     "name": "stderr",
     "output_type": "stream",
     "text": [
      "100%|██████████| 30/30 [00:00<00:00, 178.49it/s]\n",
      " 70%|███████   | 21/30 [00:00<00:00, 203.16it/s]"
     ]
    },
    {
     "name": "stdout",
     "output_type": "stream",
     "text": [
      "\n",
      "FID: 81.2519\n",
      "Time: 0.12 min\n",
      "\n",
      "-- Partial --\n",
      "Best Epoch: epoch-55\n",
      "Best FID: 68.4849\n",
      "\n",
      "--------------------------------\n",
      "\n",
      "Epoch: 82\n"
     ]
    },
    {
     "name": "stderr",
     "output_type": "stream",
     "text": [
      "100%|██████████| 30/30 [00:00<00:00, 150.33it/s]\n",
      "  0%|          | 0/30 [00:00<?, ?it/s]"
     ]
    },
    {
     "name": "stdout",
     "output_type": "stream",
     "text": [
      "\n",
      "FID: 77.0421\n",
      "Time: 0.12 min\n",
      "\n",
      "-- Partial --\n",
      "Best Epoch: epoch-55\n",
      "Best FID: 68.4849\n",
      "\n",
      "--------------------------------\n",
      "\n",
      "Epoch: 83\n"
     ]
    },
    {
     "name": "stderr",
     "output_type": "stream",
     "text": [
      "100%|██████████| 30/30 [00:00<00:00, 177.74it/s]\n",
      "100%|██████████| 30/30 [00:00<00:00, 204.97it/s]"
     ]
    },
    {
     "name": "stdout",
     "output_type": "stream",
     "text": [
      "\n",
      "FID: 76.9135\n",
      "Time: 0.12 min\n",
      "\n",
      "-- Partial --\n",
      "Best Epoch: epoch-55\n",
      "Best FID: 68.4849\n",
      "\n",
      "--------------------------------\n",
      "\n",
      "Epoch: 84\n"
     ]
    },
    {
     "name": "stderr",
     "output_type": "stream",
     "text": [
      "\n",
      " 63%|██████▎   | 19/30 [00:00<00:00, 184.26it/s]"
     ]
    },
    {
     "name": "stdout",
     "output_type": "stream",
     "text": [
      "\n",
      "FID: 76.4879\n",
      "Time: 0.12 min\n",
      "\n",
      "-- Partial --\n",
      "Best Epoch: epoch-55\n",
      "Best FID: 68.4849\n",
      "\n",
      "--------------------------------\n",
      "\n",
      "Epoch: 85\n"
     ]
    },
    {
     "name": "stderr",
     "output_type": "stream",
     "text": [
      "100%|██████████| 30/30 [00:00<00:00, 188.48it/s]\n",
      "100%|██████████| 30/30 [00:00<00:00, 199.60it/s]"
     ]
    },
    {
     "name": "stdout",
     "output_type": "stream",
     "text": [
      "\n",
      "FID: 80.2021\n",
      "Time: 0.12 min\n",
      "\n",
      "-- Partial --\n",
      "Best Epoch: epoch-55\n",
      "Best FID: 68.4849\n",
      "\n",
      "--------------------------------\n",
      "\n",
      "Epoch: 86\n"
     ]
    },
    {
     "name": "stderr",
     "output_type": "stream",
     "text": [
      "\n",
      " 40%|████      | 12/30 [00:00<00:00, 119.85it/s]"
     ]
    },
    {
     "name": "stdout",
     "output_type": "stream",
     "text": [
      "\n",
      "FID: 75.9515\n",
      "Time: 0.12 min\n",
      "\n",
      "-- Partial --\n",
      "Best Epoch: epoch-55\n",
      "Best FID: 68.4849\n",
      "\n",
      "--------------------------------\n",
      "\n",
      "Epoch: 87\n"
     ]
    },
    {
     "name": "stderr",
     "output_type": "stream",
     "text": [
      "100%|██████████| 30/30 [00:00<00:00, 164.18it/s]\n",
      " 63%|██████▎   | 19/30 [00:00<00:00, 183.69it/s]"
     ]
    },
    {
     "name": "stdout",
     "output_type": "stream",
     "text": [
      "\n",
      "FID: 81.6832\n",
      "Time: 0.12 min\n",
      "\n",
      "-- Partial --\n",
      "Best Epoch: epoch-55\n",
      "Best FID: 68.4849\n",
      "\n",
      "--------------------------------\n",
      "\n",
      "Epoch: 88\n"
     ]
    },
    {
     "name": "stderr",
     "output_type": "stream",
     "text": [
      "100%|██████████| 30/30 [00:00<00:00, 188.10it/s]\n",
      "  0%|          | 0/30 [00:00<?, ?it/s]"
     ]
    },
    {
     "name": "stdout",
     "output_type": "stream",
     "text": [
      "\n",
      "FID: 81.3934\n",
      "Time: 0.12 min\n",
      "\n",
      "-- Partial --\n",
      "Best Epoch: epoch-55\n",
      "Best FID: 68.4849\n",
      "\n",
      "--------------------------------\n",
      "\n",
      "Epoch: 89\n"
     ]
    },
    {
     "name": "stderr",
     "output_type": "stream",
     "text": [
      "100%|██████████| 30/30 [00:00<00:00, 84.45it/s]\n",
      " 70%|███████   | 21/30 [00:00<00:00, 205.53it/s]"
     ]
    },
    {
     "name": "stdout",
     "output_type": "stream",
     "text": [
      "\n",
      "FID: 75.7069\n",
      "Time: 0.12 min\n",
      "\n",
      "-- Partial --\n",
      "Best Epoch: epoch-55\n",
      "Best FID: 68.4849\n",
      "\n",
      "--------------------------------\n",
      "\n",
      "Epoch: 90\n"
     ]
    },
    {
     "name": "stderr",
     "output_type": "stream",
     "text": [
      "100%|██████████| 30/30 [00:00<00:00, 192.52it/s]\n",
      " 70%|███████   | 21/30 [00:00<00:00, 207.20it/s]"
     ]
    },
    {
     "name": "stdout",
     "output_type": "stream",
     "text": [
      "\n",
      "FID: 78.8330\n",
      "Time: 0.12 min\n",
      "\n",
      "-- Partial --\n",
      "Best Epoch: epoch-55\n",
      "Best FID: 68.4849\n",
      "\n",
      "--------------------------------\n",
      "\n",
      "Epoch: 91\n"
     ]
    },
    {
     "name": "stderr",
     "output_type": "stream",
     "text": [
      "100%|██████████| 30/30 [00:00<00:00, 196.07it/s]\n",
      "  0%|          | 0/30 [00:00<?, ?it/s]"
     ]
    },
    {
     "name": "stdout",
     "output_type": "stream",
     "text": [
      "\n",
      "FID: 74.2366\n",
      "Time: 0.12 min\n",
      "\n",
      "-- Partial --\n",
      "Best Epoch: epoch-55\n",
      "Best FID: 68.4849\n",
      "\n",
      "--------------------------------\n",
      "\n",
      "Epoch: 92\n"
     ]
    },
    {
     "name": "stderr",
     "output_type": "stream",
     "text": [
      "100%|██████████| 30/30 [00:00<00:00, 187.48it/s]\n",
      "100%|██████████| 30/30 [00:00<00:00, 205.69it/s]"
     ]
    },
    {
     "name": "stdout",
     "output_type": "stream",
     "text": [
      "\n",
      "FID: 80.6382\n",
      "Time: 0.12 min\n",
      "\n",
      "-- Partial --\n",
      "Best Epoch: epoch-55\n",
      "Best FID: 68.4849\n",
      "\n",
      "--------------------------------\n",
      "\n",
      "Epoch: 93\n"
     ]
    },
    {
     "name": "stderr",
     "output_type": "stream",
     "text": [
      "\n",
      " 70%|███████   | 21/30 [00:00<00:00, 209.39it/s]"
     ]
    },
    {
     "name": "stdout",
     "output_type": "stream",
     "text": [
      "\n",
      "FID: 79.3874\n",
      "Time: 0.12 min\n",
      "\n",
      "-- Partial --\n",
      "Best Epoch: epoch-55\n",
      "Best FID: 68.4849\n",
      "\n",
      "--------------------------------\n",
      "\n",
      "Epoch: 94\n"
     ]
    },
    {
     "name": "stderr",
     "output_type": "stream",
     "text": [
      "100%|██████████| 30/30 [00:00<00:00, 207.86it/s]\n",
      " 63%|██████▎   | 19/30 [00:00<00:00, 183.79it/s]"
     ]
    },
    {
     "name": "stdout",
     "output_type": "stream",
     "text": [
      "\n",
      "FID: 95.3000\n",
      "Time: 0.12 min\n",
      "\n",
      "-- Partial --\n",
      "Best Epoch: epoch-55\n",
      "Best FID: 68.4849\n",
      "\n",
      "--------------------------------\n",
      "\n",
      "Epoch: 95\n"
     ]
    },
    {
     "name": "stderr",
     "output_type": "stream",
     "text": [
      "100%|██████████| 30/30 [00:00<00:00, 192.29it/s]\n",
      "100%|██████████| 30/30 [00:00<00:00, 191.46it/s]"
     ]
    },
    {
     "name": "stdout",
     "output_type": "stream",
     "text": [
      "\n",
      "FID: 80.7039\n",
      "Time: 0.12 min\n",
      "\n",
      "-- Partial --\n",
      "Best Epoch: epoch-55\n",
      "Best FID: 68.4849\n",
      "\n",
      "--------------------------------\n",
      "\n",
      "Epoch: 96\n"
     ]
    },
    {
     "name": "stderr",
     "output_type": "stream",
     "text": [
      "\n",
      "  0%|          | 0/30 [00:00<?, ?it/s]"
     ]
    },
    {
     "name": "stdout",
     "output_type": "stream",
     "text": [
      "\n",
      "FID: 75.9331\n",
      "Time: 0.12 min\n",
      "\n",
      "-- Partial --\n",
      "Best Epoch: epoch-55\n",
      "Best FID: 68.4849\n",
      "\n",
      "--------------------------------\n",
      "\n",
      "Epoch: 97\n"
     ]
    },
    {
     "name": "stderr",
     "output_type": "stream",
     "text": [
      "100%|██████████| 30/30 [00:00<00:00, 188.55it/s]\n",
      " 63%|██████▎   | 19/30 [00:00<00:00, 183.33it/s]"
     ]
    },
    {
     "name": "stdout",
     "output_type": "stream",
     "text": [
      "\n",
      "FID: 89.7685\n",
      "Time: 0.12 min\n",
      "\n",
      "-- Partial --\n",
      "Best Epoch: epoch-55\n",
      "Best FID: 68.4849\n",
      "\n",
      "--------------------------------\n",
      "\n",
      "Epoch: 98\n"
     ]
    },
    {
     "name": "stderr",
     "output_type": "stream",
     "text": [
      "100%|██████████| 30/30 [00:00<00:00, 173.49it/s]\n",
      " 73%|███████▎  | 22/30 [00:00<00:00, 213.19it/s]"
     ]
    },
    {
     "name": "stdout",
     "output_type": "stream",
     "text": [
      "\n",
      "FID: 76.9080\n",
      "Time: 0.12 min\n",
      "\n",
      "-- Partial --\n",
      "Best Epoch: epoch-55\n",
      "Best FID: 68.4849\n",
      "\n",
      "--------------------------------\n",
      "\n",
      "Epoch: 99\n"
     ]
    },
    {
     "name": "stderr",
     "output_type": "stream",
     "text": [
      "100%|██████████| 30/30 [00:00<00:00, 202.39it/s]\n",
      " 53%|█████▎    | 16/30 [00:00<00:00, 156.32it/s]"
     ]
    },
    {
     "name": "stdout",
     "output_type": "stream",
     "text": [
      "\n",
      "FID: 80.7585\n",
      "Time: 0.12 min\n",
      "\n",
      "-- Partial --\n",
      "Best Epoch: epoch-55\n",
      "Best FID: 68.4849\n",
      "\n",
      "--------------------------------\n",
      "\n",
      "Epoch: 100\n"
     ]
    },
    {
     "name": "stderr",
     "output_type": "stream",
     "text": [
      "100%|██████████| 30/30 [00:00<00:00, 165.93it/s]\n",
      " 63%|██████▎   | 19/30 [00:00<00:00, 184.25it/s]"
     ]
    },
    {
     "name": "stdout",
     "output_type": "stream",
     "text": [
      "\n",
      "FID: 79.5614\n",
      "Time: 0.12 min\n",
      "\n",
      "-- Partial --\n",
      "Best Epoch: epoch-55\n",
      "Best FID: 68.4849\n",
      "\n",
      "--------------------------------\n",
      "\n",
      "Epoch: 101\n"
     ]
    },
    {
     "name": "stderr",
     "output_type": "stream",
     "text": [
      "100%|██████████| 30/30 [00:00<00:00, 164.55it/s]\n",
      " 70%|███████   | 21/30 [00:00<00:00, 207.06it/s]"
     ]
    },
    {
     "name": "stdout",
     "output_type": "stream",
     "text": [
      "\n",
      "FID: 80.2857\n",
      "Time: 0.12 min\n",
      "\n",
      "-- Partial --\n",
      "Best Epoch: epoch-55\n",
      "Best FID: 68.4849\n",
      "\n",
      "--------------------------------\n",
      "\n",
      "Epoch: 102\n"
     ]
    },
    {
     "name": "stderr",
     "output_type": "stream",
     "text": [
      "100%|██████████| 30/30 [00:00<00:00, 207.19it/s]\n",
      " 63%|██████▎   | 19/30 [00:00<00:00, 187.95it/s]"
     ]
    },
    {
     "name": "stdout",
     "output_type": "stream",
     "text": [
      "\n",
      "FID: 73.9556\n",
      "Time: 0.12 min\n",
      "\n",
      "-- Partial --\n",
      "Best Epoch: epoch-55\n",
      "Best FID: 68.4849\n",
      "\n",
      "--------------------------------\n",
      "\n",
      "Epoch: 103\n"
     ]
    },
    {
     "name": "stderr",
     "output_type": "stream",
     "text": [
      "100%|██████████| 30/30 [00:00<00:00, 192.13it/s]\n",
      " 67%|██████▋   | 20/30 [00:00<00:00, 194.53it/s]"
     ]
    },
    {
     "name": "stdout",
     "output_type": "stream",
     "text": [
      "\n",
      "FID: 78.4907\n",
      "Time: 0.12 min\n",
      "\n",
      "-- Partial --\n",
      "Best Epoch: epoch-55\n",
      "Best FID: 68.4849\n",
      "\n",
      "--------------------------------\n",
      "\n",
      "Epoch: 104\n"
     ]
    },
    {
     "name": "stderr",
     "output_type": "stream",
     "text": [
      "100%|██████████| 30/30 [00:00<00:00, 196.42it/s]\n",
      "100%|██████████| 30/30 [00:00<00:00, 189.94it/s]"
     ]
    },
    {
     "name": "stdout",
     "output_type": "stream",
     "text": [
      "\n",
      "FID: 71.4776\n",
      "Time: 0.12 min\n",
      "\n",
      "-- Partial --\n",
      "Best Epoch: epoch-55\n",
      "Best FID: 68.4849\n",
      "\n",
      "--------------------------------\n",
      "\n",
      "Epoch: 105\n"
     ]
    },
    {
     "name": "stderr",
     "output_type": "stream",
     "text": [
      "\n",
      " 63%|██████▎   | 19/30 [00:00<00:00, 189.33it/s]"
     ]
    },
    {
     "name": "stdout",
     "output_type": "stream",
     "text": [
      "\n",
      "FID: 80.2314\n",
      "Time: 0.12 min\n",
      "\n",
      "-- Partial --\n",
      "Best Epoch: epoch-55\n",
      "Best FID: 68.4849\n",
      "\n",
      "--------------------------------\n",
      "\n",
      "Epoch: 106\n"
     ]
    },
    {
     "name": "stderr",
     "output_type": "stream",
     "text": [
      "100%|██████████| 30/30 [00:00<00:00, 187.02it/s]\n",
      " 43%|████▎     | 13/30 [00:00<00:00, 127.24it/s]"
     ]
    },
    {
     "name": "stdout",
     "output_type": "stream",
     "text": [
      "\n",
      "FID: 93.9237\n",
      "Time: 0.12 min\n",
      "\n",
      "-- Partial --\n",
      "Best Epoch: epoch-55\n",
      "Best FID: 68.4849\n",
      "\n",
      "--------------------------------\n",
      "\n",
      "Epoch: 107\n"
     ]
    },
    {
     "name": "stderr",
     "output_type": "stream",
     "text": [
      "100%|██████████| 30/30 [00:00<00:00, 167.03it/s]\n",
      " 60%|██████    | 18/30 [00:00<00:00, 175.05it/s]"
     ]
    },
    {
     "name": "stdout",
     "output_type": "stream",
     "text": [
      "\n",
      "FID: 82.8328\n",
      "Time: 0.12 min\n",
      "\n",
      "-- Partial --\n",
      "Best Epoch: epoch-55\n",
      "Best FID: 68.4849\n",
      "\n",
      "--------------------------------\n",
      "\n",
      "Epoch: 108\n"
     ]
    },
    {
     "name": "stderr",
     "output_type": "stream",
     "text": [
      "100%|██████████| 30/30 [00:00<00:00, 172.62it/s]\n",
      " 37%|███▋      | 11/30 [00:00<00:00, 109.91it/s]"
     ]
    },
    {
     "name": "stdout",
     "output_type": "stream",
     "text": [
      "\n",
      "FID: 78.1460\n",
      "Time: 0.12 min\n",
      "\n",
      "-- Partial --\n",
      "Best Epoch: epoch-55\n",
      "Best FID: 68.4849\n",
      "\n",
      "--------------------------------\n",
      "\n",
      "Epoch: 109\n"
     ]
    },
    {
     "name": "stderr",
     "output_type": "stream",
     "text": [
      "100%|██████████| 30/30 [00:00<00:00, 152.93it/s]\n",
      " 60%|██████    | 18/30 [00:00<00:00, 173.68it/s]"
     ]
    },
    {
     "name": "stdout",
     "output_type": "stream",
     "text": [
      "\n",
      "FID: 76.5631\n",
      "Time: 0.12 min\n",
      "\n",
      "-- Partial --\n",
      "Best Epoch: epoch-55\n",
      "Best FID: 68.4849\n",
      "\n",
      "--------------------------------\n",
      "\n",
      "Epoch: 110\n"
     ]
    },
    {
     "name": "stderr",
     "output_type": "stream",
     "text": [
      "100%|██████████| 30/30 [00:00<00:00, 184.77it/s]\n",
      " 60%|██████    | 18/30 [00:00<00:00, 179.84it/s]"
     ]
    },
    {
     "name": "stdout",
     "output_type": "stream",
     "text": [
      "\n",
      "FID: 77.6145\n",
      "Time: 0.12 min\n",
      "\n",
      "-- Partial --\n",
      "Best Epoch: epoch-55\n",
      "Best FID: 68.4849\n",
      "\n",
      "--------------------------------\n",
      "\n",
      "Epoch: 111\n"
     ]
    },
    {
     "name": "stderr",
     "output_type": "stream",
     "text": [
      "100%|██████████| 30/30 [00:00<00:00, 168.98it/s]\n",
      " 70%|███████   | 21/30 [00:00<00:00, 206.02it/s]"
     ]
    },
    {
     "name": "stdout",
     "output_type": "stream",
     "text": [
      "\n",
      "FID: 84.7924\n",
      "Time: 0.12 min\n",
      "\n",
      "-- Partial --\n",
      "Best Epoch: epoch-55\n",
      "Best FID: 68.4849\n",
      "\n",
      "--------------------------------\n",
      "\n",
      "Epoch: 112\n"
     ]
    },
    {
     "name": "stderr",
     "output_type": "stream",
     "text": [
      "100%|██████████| 30/30 [00:00<00:00, 161.34it/s]\n",
      " 63%|██████▎   | 19/30 [00:00<00:00, 188.61it/s]"
     ]
    },
    {
     "name": "stdout",
     "output_type": "stream",
     "text": [
      "\n",
      "FID: 78.3781\n",
      "Time: 0.12 min\n",
      "\n",
      "-- Partial --\n",
      "Best Epoch: epoch-55\n",
      "Best FID: 68.4849\n",
      "\n",
      "--------------------------------\n",
      "\n",
      "Epoch: 113\n"
     ]
    },
    {
     "name": "stderr",
     "output_type": "stream",
     "text": [
      "100%|██████████| 30/30 [00:00<00:00, 195.88it/s]\n",
      " 60%|██████    | 18/30 [00:00<00:00, 172.79it/s]"
     ]
    },
    {
     "name": "stdout",
     "output_type": "stream",
     "text": [
      "\n",
      "FID: 75.3654\n",
      "Time: 0.12 min\n",
      "\n",
      "-- Partial --\n",
      "Best Epoch: epoch-55\n",
      "Best FID: 68.4849\n",
      "\n",
      "--------------------------------\n",
      "\n",
      "Epoch: 114\n"
     ]
    },
    {
     "name": "stderr",
     "output_type": "stream",
     "text": [
      "100%|██████████| 30/30 [00:00<00:00, 184.55it/s]\n",
      " 63%|██████▎   | 19/30 [00:00<00:00, 184.06it/s]"
     ]
    },
    {
     "name": "stdout",
     "output_type": "stream",
     "text": [
      "\n",
      "FID: 80.8695\n",
      "Time: 0.12 min\n",
      "\n",
      "-- Partial --\n",
      "Best Epoch: epoch-55\n",
      "Best FID: 68.4849\n",
      "\n",
      "--------------------------------\n",
      "\n",
      "Epoch: 115\n"
     ]
    },
    {
     "name": "stderr",
     "output_type": "stream",
     "text": [
      "100%|██████████| 30/30 [00:00<00:00, 192.00it/s]\n",
      " 60%|██████    | 18/30 [00:00<00:00, 178.79it/s]"
     ]
    },
    {
     "name": "stdout",
     "output_type": "stream",
     "text": [
      "\n",
      "FID: 72.8748\n",
      "Time: 0.12 min\n",
      "\n",
      "-- Partial --\n",
      "Best Epoch: epoch-55\n",
      "Best FID: 68.4849\n",
      "\n",
      "--------------------------------\n",
      "\n",
      "Epoch: 116\n"
     ]
    },
    {
     "name": "stderr",
     "output_type": "stream",
     "text": [
      "100%|██████████| 30/30 [00:00<00:00, 179.83it/s]\n",
      " 60%|██████    | 18/30 [00:00<00:00, 172.92it/s]"
     ]
    },
    {
     "name": "stdout",
     "output_type": "stream",
     "text": [
      "\n",
      "FID: 81.6719\n",
      "Time: 0.12 min\n",
      "\n",
      "-- Partial --\n",
      "Best Epoch: epoch-55\n",
      "Best FID: 68.4849\n",
      "\n",
      "--------------------------------\n",
      "\n",
      "Epoch: 117\n"
     ]
    },
    {
     "name": "stderr",
     "output_type": "stream",
     "text": [
      "100%|██████████| 30/30 [00:00<00:00, 158.46it/s]\n",
      " 67%|██████▋   | 20/30 [00:00<00:00, 192.21it/s]"
     ]
    },
    {
     "name": "stdout",
     "output_type": "stream",
     "text": [
      "\n",
      "FID: 92.6849\n",
      "Time: 0.12 min\n",
      "\n",
      "-- Partial --\n",
      "Best Epoch: epoch-55\n",
      "Best FID: 68.4849\n",
      "\n",
      "--------------------------------\n",
      "\n",
      "Epoch: 118\n"
     ]
    },
    {
     "name": "stderr",
     "output_type": "stream",
     "text": [
      "100%|██████████| 30/30 [00:00<00:00, 166.63it/s]\n",
      " 60%|██████    | 18/30 [00:00<00:00, 178.93it/s]"
     ]
    },
    {
     "name": "stdout",
     "output_type": "stream",
     "text": [
      "\n",
      "FID: 87.8722\n",
      "Time: 0.12 min\n",
      "\n",
      "-- Partial --\n",
      "Best Epoch: epoch-55\n",
      "Best FID: 68.4849\n",
      "\n",
      "--------------------------------\n",
      "\n",
      "Epoch: 119\n"
     ]
    },
    {
     "name": "stderr",
     "output_type": "stream",
     "text": [
      "100%|██████████| 30/30 [00:00<00:00, 171.60it/s]\n",
      "  0%|          | 0/30 [00:00<?, ?it/s]"
     ]
    },
    {
     "name": "stdout",
     "output_type": "stream",
     "text": [
      "\n",
      "FID: 75.5330\n",
      "Time: 0.12 min\n",
      "\n",
      "-- Partial --\n",
      "Best Epoch: epoch-55\n",
      "Best FID: 68.4849\n",
      "\n",
      "--------------------------------\n",
      "\n",
      "Epoch: 120\n"
     ]
    },
    {
     "name": "stderr",
     "output_type": "stream",
     "text": [
      "100%|██████████| 30/30 [00:00<00:00, 164.83it/s]\n",
      "100%|██████████| 30/30 [00:00<00:00, 198.29it/s]"
     ]
    },
    {
     "name": "stdout",
     "output_type": "stream",
     "text": [
      "\n",
      "FID: 81.8641\n",
      "Time: 0.12 min\n",
      "\n",
      "-- Partial --\n",
      "Best Epoch: epoch-55\n",
      "Best FID: 68.4849\n",
      "\n",
      "--------------------------------\n",
      "\n",
      "Epoch: 121\n"
     ]
    },
    {
     "name": "stderr",
     "output_type": "stream",
     "text": [
      "\n",
      "  0%|          | 0/30 [00:00<?, ?it/s]"
     ]
    },
    {
     "name": "stdout",
     "output_type": "stream",
     "text": [
      "\n",
      "FID: 78.7481\n",
      "Time: 0.12 min\n",
      "\n",
      "-- Partial --\n",
      "Best Epoch: epoch-55\n",
      "Best FID: 68.4849\n",
      "\n",
      "--------------------------------\n",
      "\n",
      "Epoch: 122\n"
     ]
    },
    {
     "name": "stderr",
     "output_type": "stream",
     "text": [
      "100%|██████████| 30/30 [00:00<00:00, 177.42it/s]\n",
      " 70%|███████   | 21/30 [00:00<00:00, 205.40it/s]"
     ]
    },
    {
     "name": "stdout",
     "output_type": "stream",
     "text": [
      "\n",
      "FID: 73.6001\n",
      "Time: 0.12 min\n",
      "\n",
      "-- Partial --\n",
      "Best Epoch: epoch-55\n",
      "Best FID: 68.4849\n",
      "\n",
      "--------------------------------\n",
      "\n",
      "Epoch: 123\n"
     ]
    },
    {
     "name": "stderr",
     "output_type": "stream",
     "text": [
      "100%|██████████| 30/30 [00:00<00:00, 208.16it/s]\n",
      " 67%|██████▋   | 20/30 [00:00<00:00, 195.94it/s]"
     ]
    },
    {
     "name": "stdout",
     "output_type": "stream",
     "text": [
      "\n",
      "FID: 79.4508\n",
      "Time: 0.12 min\n",
      "\n",
      "-- Partial --\n",
      "Best Epoch: epoch-55\n",
      "Best FID: 68.4849\n",
      "\n",
      "--------------------------------\n",
      "\n",
      "Epoch: 124\n"
     ]
    },
    {
     "name": "stderr",
     "output_type": "stream",
     "text": [
      "100%|██████████| 30/30 [00:00<00:00, 185.03it/s]\n",
      "100%|██████████| 30/30 [00:00<00:00, 163.24it/s]"
     ]
    },
    {
     "name": "stdout",
     "output_type": "stream",
     "text": [
      "\n",
      "FID: 76.6830\n",
      "Time: 0.12 min\n",
      "\n",
      "-- Partial --\n",
      "Best Epoch: epoch-55\n",
      "Best FID: 68.4849\n",
      "\n",
      "--------------------------------\n",
      "\n",
      "Epoch: 125\n"
     ]
    },
    {
     "name": "stderr",
     "output_type": "stream",
     "text": [
      "\n",
      "  0%|          | 0/30 [00:00<?, ?it/s]"
     ]
    },
    {
     "name": "stdout",
     "output_type": "stream",
     "text": [
      "\n",
      "FID: 76.5860\n",
      "Time: 0.12 min\n",
      "\n",
      "-- Partial --\n",
      "Best Epoch: epoch-55\n",
      "Best FID: 68.4849\n",
      "\n",
      "--------------------------------\n",
      "\n",
      "Epoch: 126\n"
     ]
    },
    {
     "name": "stderr",
     "output_type": "stream",
     "text": [
      "100%|██████████| 30/30 [00:00<00:00, 173.13it/s]\n",
      "  0%|          | 0/30 [00:00<?, ?it/s]"
     ]
    },
    {
     "name": "stdout",
     "output_type": "stream",
     "text": [
      "\n",
      "FID: 72.6661\n",
      "Time: 0.12 min\n",
      "\n",
      "-- Partial --\n",
      "Best Epoch: epoch-55\n",
      "Best FID: 68.4849\n",
      "\n",
      "--------------------------------\n",
      "\n",
      "Epoch: 127\n"
     ]
    },
    {
     "name": "stderr",
     "output_type": "stream",
     "text": [
      "100%|██████████| 30/30 [00:00<00:00, 182.22it/s]\n",
      " 43%|████▎     | 13/30 [00:00<00:00, 129.78it/s]"
     ]
    },
    {
     "name": "stdout",
     "output_type": "stream",
     "text": [
      "\n",
      "FID: 74.3073\n",
      "Time: 0.12 min\n",
      "\n",
      "-- Partial --\n",
      "Best Epoch: epoch-55\n",
      "Best FID: 68.4849\n",
      "\n",
      "--------------------------------\n",
      "\n",
      "Epoch: 128\n"
     ]
    },
    {
     "name": "stderr",
     "output_type": "stream",
     "text": [
      "100%|██████████| 30/30 [00:00<00:00, 164.90it/s]\n",
      "  0%|          | 0/30 [00:00<?, ?it/s]"
     ]
    },
    {
     "name": "stdout",
     "output_type": "stream",
     "text": [
      "\n",
      "FID: 76.1171\n",
      "Time: 0.12 min\n",
      "\n",
      "-- Partial --\n",
      "Best Epoch: epoch-55\n",
      "Best FID: 68.4849\n",
      "\n",
      "--------------------------------\n",
      "\n",
      "Epoch: 129\n"
     ]
    },
    {
     "name": "stderr",
     "output_type": "stream",
     "text": [
      "100%|██████████| 30/30 [00:00<00:00, 202.13it/s]\n",
      " 63%|██████▎   | 19/30 [00:00<00:00, 183.67it/s]"
     ]
    },
    {
     "name": "stdout",
     "output_type": "stream",
     "text": [
      "\n",
      "FID: 81.1534\n",
      "Time: 0.12 min\n",
      "\n",
      "-- Partial --\n",
      "Best Epoch: epoch-55\n",
      "Best FID: 68.4849\n",
      "\n",
      "--------------------------------\n",
      "\n",
      "Epoch: 130\n"
     ]
    },
    {
     "name": "stderr",
     "output_type": "stream",
     "text": [
      "100%|██████████| 30/30 [00:00<00:00, 192.78it/s]\n",
      " 60%|██████    | 18/30 [00:00<00:00, 177.18it/s]"
     ]
    },
    {
     "name": "stdout",
     "output_type": "stream",
     "text": [
      "\n",
      "FID: 70.2534\n",
      "Time: 0.12 min\n",
      "\n",
      "-- Partial --\n",
      "Best Epoch: epoch-55\n",
      "Best FID: 68.4849\n",
      "\n",
      "--------------------------------\n",
      "\n",
      "Epoch: 131\n"
     ]
    },
    {
     "name": "stderr",
     "output_type": "stream",
     "text": [
      "100%|██████████| 30/30 [00:00<00:00, 185.73it/s]\n",
      " 40%|████      | 12/30 [00:00<00:00, 117.64it/s]"
     ]
    },
    {
     "name": "stdout",
     "output_type": "stream",
     "text": [
      "\n",
      "FID: 78.9543\n",
      "Time: 0.12 min\n",
      "\n",
      "-- Partial --\n",
      "Best Epoch: epoch-55\n",
      "Best FID: 68.4849\n",
      "\n",
      "--------------------------------\n",
      "\n",
      "Epoch: 132\n"
     ]
    },
    {
     "name": "stderr",
     "output_type": "stream",
     "text": [
      "100%|██████████| 30/30 [00:00<00:00, 159.50it/s]\n",
      " 30%|███       | 9/30 [00:00<00:00, 88.29it/s]"
     ]
    },
    {
     "name": "stdout",
     "output_type": "stream",
     "text": [
      "\n",
      "FID: 79.8161\n",
      "Time: 0.12 min\n",
      "\n",
      "-- Partial --\n",
      "Best Epoch: epoch-55\n",
      "Best FID: 68.4849\n",
      "\n",
      "--------------------------------\n",
      "\n",
      "Epoch: 133\n"
     ]
    },
    {
     "name": "stderr",
     "output_type": "stream",
     "text": [
      "100%|██████████| 30/30 [00:00<00:00, 129.11it/s]\n",
      " 70%|███████   | 21/30 [00:00<00:00, 203.79it/s]"
     ]
    },
    {
     "name": "stdout",
     "output_type": "stream",
     "text": [
      "\n",
      "FID: 82.2486\n",
      "Time: 0.12 min\n",
      "\n",
      "-- Partial --\n",
      "Best Epoch: epoch-55\n",
      "Best FID: 68.4849\n",
      "\n",
      "--------------------------------\n",
      "\n",
      "Epoch: 134\n"
     ]
    },
    {
     "name": "stderr",
     "output_type": "stream",
     "text": [
      "100%|██████████| 30/30 [00:00<00:00, 194.02it/s]\n",
      "100%|██████████| 30/30 [00:00<00:00, 189.65it/s]"
     ]
    },
    {
     "name": "stdout",
     "output_type": "stream",
     "text": [
      "\n",
      "FID: 81.4702\n",
      "Time: 0.12 min\n",
      "\n",
      "-- Partial --\n",
      "Best Epoch: epoch-55\n",
      "Best FID: 68.4849\n",
      "\n",
      "--------------------------------\n",
      "\n",
      "Epoch: 135\n"
     ]
    },
    {
     "name": "stderr",
     "output_type": "stream",
     "text": [
      "\n",
      " 63%|██████▎   | 19/30 [00:00<00:00, 182.14it/s]"
     ]
    },
    {
     "name": "stdout",
     "output_type": "stream",
     "text": [
      "\n",
      "FID: 75.8553\n",
      "Time: 0.12 min\n",
      "\n",
      "-- Partial --\n",
      "Best Epoch: epoch-55\n",
      "Best FID: 68.4849\n",
      "\n",
      "--------------------------------\n",
      "\n",
      "Epoch: 136\n"
     ]
    },
    {
     "name": "stderr",
     "output_type": "stream",
     "text": [
      "100%|██████████| 30/30 [00:00<00:00, 184.24it/s]\n",
      " 70%|███████   | 21/30 [00:00<00:00, 203.22it/s]"
     ]
    },
    {
     "name": "stdout",
     "output_type": "stream",
     "text": [
      "\n",
      "FID: 81.1176\n",
      "Time: 0.12 min\n",
      "\n",
      "-- Partial --\n",
      "Best Epoch: epoch-55\n",
      "Best FID: 68.4849\n",
      "\n",
      "--------------------------------\n",
      "\n",
      "Epoch: 137\n"
     ]
    },
    {
     "name": "stderr",
     "output_type": "stream",
     "text": [
      "100%|██████████| 30/30 [00:00<00:00, 204.54it/s]\n",
      " 37%|███▋      | 11/30 [00:00<00:00, 105.53it/s]"
     ]
    },
    {
     "name": "stdout",
     "output_type": "stream",
     "text": [
      "\n",
      "FID: 84.7951\n",
      "Time: 0.12 min\n",
      "\n",
      "-- Partial --\n",
      "Best Epoch: epoch-55\n",
      "Best FID: 68.4849\n",
      "\n",
      "--------------------------------\n",
      "\n",
      "Epoch: 138\n"
     ]
    },
    {
     "name": "stderr",
     "output_type": "stream",
     "text": [
      "100%|██████████| 30/30 [00:00<00:00, 133.13it/s]\n",
      "100%|██████████| 30/30 [00:00<00:00, 162.13it/s]"
     ]
    },
    {
     "name": "stdout",
     "output_type": "stream",
     "text": [
      "\n",
      "FID: 83.7056\n",
      "Time: 0.12 min\n",
      "\n",
      "-- Partial --\n",
      "Best Epoch: epoch-55\n",
      "Best FID: 68.4849\n",
      "\n",
      "--------------------------------\n",
      "\n",
      "Epoch: 139\n"
     ]
    },
    {
     "name": "stderr",
     "output_type": "stream",
     "text": [
      "\n",
      " 57%|█████▋    | 17/30 [00:00<00:00, 159.37it/s]"
     ]
    },
    {
     "name": "stdout",
     "output_type": "stream",
     "text": [
      "\n",
      "FID: 84.4913\n",
      "Time: 0.12 min\n",
      "\n",
      "-- Partial --\n",
      "Best Epoch: epoch-55\n",
      "Best FID: 68.4849\n",
      "\n",
      "--------------------------------\n",
      "\n",
      "Epoch: 140\n"
     ]
    },
    {
     "name": "stderr",
     "output_type": "stream",
     "text": [
      "100%|██████████| 30/30 [00:00<00:00, 168.64it/s]\n",
      "100%|██████████| 30/30 [00:00<00:00, 200.74it/s]"
     ]
    },
    {
     "name": "stdout",
     "output_type": "stream",
     "text": [
      "\n",
      "FID: 76.3483\n",
      "Time: 0.12 min\n",
      "\n",
      "-- Partial --\n",
      "Best Epoch: epoch-55\n",
      "Best FID: 68.4849\n",
      "\n",
      "--------------------------------\n",
      "\n",
      "Epoch: 141\n"
     ]
    },
    {
     "name": "stderr",
     "output_type": "stream",
     "text": [
      "\n",
      "100%|██████████| 30/30 [00:00<00:00, 207.01it/s]"
     ]
    },
    {
     "name": "stdout",
     "output_type": "stream",
     "text": [
      "\n",
      "FID: 75.3550\n",
      "Time: 0.12 min\n",
      "\n",
      "-- Partial --\n",
      "Best Epoch: epoch-55\n",
      "Best FID: 68.4849\n",
      "\n",
      "--------------------------------\n",
      "\n",
      "Epoch: 142\n"
     ]
    },
    {
     "name": "stderr",
     "output_type": "stream",
     "text": [
      "\n",
      " 63%|██████▎   | 19/30 [00:00<00:00, 187.71it/s]"
     ]
    },
    {
     "name": "stdout",
     "output_type": "stream",
     "text": [
      "\n",
      "FID: 75.5237\n",
      "Time: 0.12 min\n",
      "\n",
      "-- Partial --\n",
      "Best Epoch: epoch-55\n",
      "Best FID: 68.4849\n",
      "\n",
      "--------------------------------\n",
      "\n",
      "Epoch: 143\n"
     ]
    },
    {
     "name": "stderr",
     "output_type": "stream",
     "text": [
      "100%|██████████| 30/30 [00:00<00:00, 166.53it/s]\n",
      " 50%|█████     | 15/30 [00:00<00:00, 148.73it/s]"
     ]
    },
    {
     "name": "stdout",
     "output_type": "stream",
     "text": [
      "\n",
      "FID: 77.8054\n",
      "Time: 0.12 min\n",
      "\n",
      "-- Partial --\n",
      "Best Epoch: epoch-55\n",
      "Best FID: 68.4849\n",
      "\n",
      "--------------------------------\n",
      "\n",
      "Epoch: 144\n"
     ]
    },
    {
     "name": "stderr",
     "output_type": "stream",
     "text": [
      "100%|██████████| 30/30 [00:00<00:00, 160.92it/s]\n",
      " 70%|███████   | 21/30 [00:00<00:00, 195.39it/s]"
     ]
    },
    {
     "name": "stdout",
     "output_type": "stream",
     "text": [
      "\n",
      "FID: 82.5115\n",
      "Time: 0.12 min\n",
      "\n",
      "-- Partial --\n",
      "Best Epoch: epoch-55\n",
      "Best FID: 68.4849\n",
      "\n",
      "--------------------------------\n",
      "\n",
      "Epoch: 145\n"
     ]
    },
    {
     "name": "stderr",
     "output_type": "stream",
     "text": [
      "100%|██████████| 30/30 [00:00<00:00, 198.13it/s]\n",
      " 63%|██████▎   | 19/30 [00:00<00:00, 189.27it/s]"
     ]
    },
    {
     "name": "stdout",
     "output_type": "stream",
     "text": [
      "\n",
      "FID: 75.7502\n",
      "Time: 0.12 min\n",
      "\n",
      "-- Partial --\n",
      "Best Epoch: epoch-55\n",
      "Best FID: 68.4849\n",
      "\n",
      "--------------------------------\n",
      "\n",
      "Epoch: 146\n"
     ]
    },
    {
     "name": "stderr",
     "output_type": "stream",
     "text": [
      "100%|██████████| 30/30 [00:00<00:00, 195.81it/s]\n",
      " 63%|██████▎   | 19/30 [00:00<00:00, 189.30it/s]"
     ]
    },
    {
     "name": "stdout",
     "output_type": "stream",
     "text": [
      "\n",
      "FID: 73.8057\n",
      "Time: 0.12 min\n",
      "\n",
      "-- Partial --\n",
      "Best Epoch: epoch-55\n",
      "Best FID: 68.4849\n",
      "\n",
      "--------------------------------\n",
      "\n",
      "Epoch: 147\n"
     ]
    },
    {
     "name": "stderr",
     "output_type": "stream",
     "text": [
      "100%|██████████| 30/30 [00:00<00:00, 181.78it/s]\n",
      "100%|██████████| 30/30 [00:00<00:00, 202.95it/s]"
     ]
    },
    {
     "name": "stdout",
     "output_type": "stream",
     "text": [
      "\n",
      "FID: 73.6714\n",
      "Time: 0.12 min\n",
      "\n",
      "-- Partial --\n",
      "Best Epoch: epoch-55\n",
      "Best FID: 68.4849\n",
      "\n",
      "--------------------------------\n",
      "\n",
      "Epoch: 148\n"
     ]
    },
    {
     "name": "stderr",
     "output_type": "stream",
     "text": [
      "\n",
      " 63%|██████▎   | 19/30 [00:00<00:00, 186.91it/s]"
     ]
    },
    {
     "name": "stdout",
     "output_type": "stream",
     "text": [
      "\n",
      "FID: 75.8553\n",
      "Time: 0.12 min\n",
      "\n",
      "-- Partial --\n",
      "Best Epoch: epoch-55\n",
      "Best FID: 68.4849\n",
      "\n",
      "--------------------------------\n",
      "\n",
      "Epoch: 149\n"
     ]
    },
    {
     "name": "stderr",
     "output_type": "stream",
     "text": [
      "100%|██████████| 30/30 [00:00<00:00, 179.69it/s]\n",
      " 63%|██████▎   | 19/30 [00:00<00:00, 189.85it/s]"
     ]
    },
    {
     "name": "stdout",
     "output_type": "stream",
     "text": [
      "\n",
      "FID: 78.4020\n",
      "Time: 0.12 min\n",
      "\n",
      "-- Partial --\n",
      "Best Epoch: epoch-55\n",
      "Best FID: 68.4849\n",
      "\n",
      "--------------------------------\n",
      "\n",
      "Epoch: 150\n"
     ]
    },
    {
     "name": "stderr",
     "output_type": "stream",
     "text": [
      "100%|██████████| 30/30 [00:00<00:00, 177.23it/s]\n",
      " 63%|██████▎   | 19/30 [00:00<00:00, 181.72it/s]"
     ]
    },
    {
     "name": "stdout",
     "output_type": "stream",
     "text": [
      "\n",
      "FID: 92.5035\n",
      "Time: 0.12 min\n",
      "\n",
      "-- Partial --\n",
      "Best Epoch: epoch-55\n",
      "Best FID: 68.4849\n",
      "\n",
      "--------------------------------\n",
      "\n",
      "Epoch: 151\n"
     ]
    },
    {
     "name": "stderr",
     "output_type": "stream",
     "text": [
      "100%|██████████| 30/30 [00:00<00:00, 184.79it/s]\n",
      " 60%|██████    | 18/30 [00:00<00:00, 178.34it/s]"
     ]
    },
    {
     "name": "stdout",
     "output_type": "stream",
     "text": [
      "\n",
      "FID: 81.9247\n",
      "Time: 0.12 min\n",
      "\n",
      "-- Partial --\n",
      "Best Epoch: epoch-55\n",
      "Best FID: 68.4849\n",
      "\n",
      "--------------------------------\n",
      "\n",
      "Epoch: 152\n"
     ]
    },
    {
     "name": "stderr",
     "output_type": "stream",
     "text": [
      "100%|██████████| 30/30 [00:00<00:00, 171.23it/s]\n",
      " 70%|███████   | 21/30 [00:00<00:00, 203.52it/s]"
     ]
    },
    {
     "name": "stdout",
     "output_type": "stream",
     "text": [
      "\n",
      "FID: 87.4927\n",
      "Time: 0.12 min\n",
      "\n",
      "-- Partial --\n",
      "Best Epoch: epoch-55\n",
      "Best FID: 68.4849\n",
      "\n",
      "--------------------------------\n",
      "\n",
      "Epoch: 153\n"
     ]
    },
    {
     "name": "stderr",
     "output_type": "stream",
     "text": [
      "100%|██████████| 30/30 [00:00<00:00, 190.41it/s]\n",
      " 60%|██████    | 18/30 [00:00<00:00, 178.90it/s]"
     ]
    },
    {
     "name": "stdout",
     "output_type": "stream",
     "text": [
      "\n",
      "FID: 85.7283\n",
      "Time: 0.12 min\n",
      "\n",
      "-- Partial --\n",
      "Best Epoch: epoch-55\n",
      "Best FID: 68.4849\n",
      "\n",
      "--------------------------------\n",
      "\n",
      "Epoch: 154\n"
     ]
    },
    {
     "name": "stderr",
     "output_type": "stream",
     "text": [
      "100%|██████████| 30/30 [00:00<00:00, 172.37it/s]\n",
      " 60%|██████    | 18/30 [00:00<00:00, 173.11it/s]"
     ]
    },
    {
     "name": "stdout",
     "output_type": "stream",
     "text": [
      "\n",
      "FID: 81.4304\n",
      "Time: 0.12 min\n",
      "\n",
      "-- Partial --\n",
      "Best Epoch: epoch-55\n",
      "Best FID: 68.4849\n",
      "\n",
      "--------------------------------\n",
      "\n",
      "Epoch: 155\n"
     ]
    },
    {
     "name": "stderr",
     "output_type": "stream",
     "text": [
      "100%|██████████| 30/30 [00:00<00:00, 173.36it/s]\n",
      " 60%|██████    | 18/30 [00:00<00:00, 174.09it/s]"
     ]
    },
    {
     "name": "stdout",
     "output_type": "stream",
     "text": [
      "\n",
      "FID: 73.6514\n",
      "Time: 0.12 min\n",
      "\n",
      "-- Partial --\n",
      "Best Epoch: epoch-55\n",
      "Best FID: 68.4849\n",
      "\n",
      "--------------------------------\n",
      "\n",
      "Epoch: 156\n"
     ]
    },
    {
     "name": "stderr",
     "output_type": "stream",
     "text": [
      "100%|██████████| 30/30 [00:00<00:00, 175.57it/s]\n",
      "100%|██████████| 30/30 [00:00<00:00, 177.56it/s]"
     ]
    },
    {
     "name": "stdout",
     "output_type": "stream",
     "text": [
      "\n",
      "FID: 74.3618\n",
      "Time: 0.12 min\n",
      "\n",
      "-- Partial --\n",
      "Best Epoch: epoch-55\n",
      "Best FID: 68.4849\n",
      "\n",
      "--------------------------------\n",
      "\n",
      "Epoch: 157\n"
     ]
    },
    {
     "name": "stderr",
     "output_type": "stream",
     "text": [
      "\n",
      "100%|██████████| 30/30 [00:00<00:00, 188.89it/s]"
     ]
    },
    {
     "name": "stdout",
     "output_type": "stream",
     "text": [
      "\n",
      "FID: 84.6110\n",
      "Time: 0.12 min\n",
      "\n",
      "-- Partial --\n",
      "Best Epoch: epoch-55\n",
      "Best FID: 68.4849\n",
      "\n",
      "--------------------------------\n",
      "\n",
      "Epoch: 158\n"
     ]
    },
    {
     "name": "stderr",
     "output_type": "stream",
     "text": [
      "\n",
      " 60%|██████    | 18/30 [00:00<00:00, 178.06it/s]"
     ]
    },
    {
     "name": "stdout",
     "output_type": "stream",
     "text": [
      "\n",
      "FID: 85.2750\n",
      "Time: 0.12 min\n",
      "\n",
      "-- Partial --\n",
      "Best Epoch: epoch-55\n",
      "Best FID: 68.4849\n",
      "\n",
      "--------------------------------\n",
      "\n",
      "Epoch: 159\n"
     ]
    },
    {
     "name": "stderr",
     "output_type": "stream",
     "text": [
      "100%|██████████| 30/30 [00:00<00:00, 175.08it/s]\n",
      " 40%|████      | 12/30 [00:00<00:00, 119.10it/s]"
     ]
    },
    {
     "name": "stdout",
     "output_type": "stream",
     "text": [
      "\n",
      "FID: 78.9356\n",
      "Time: 0.12 min\n",
      "\n",
      "-- Partial --\n",
      "Best Epoch: epoch-55\n",
      "Best FID: 68.4849\n",
      "\n",
      "--------------------------------\n",
      "\n",
      "Epoch: 160\n"
     ]
    },
    {
     "name": "stderr",
     "output_type": "stream",
     "text": [
      "100%|██████████| 30/30 [00:00<00:00, 153.93it/s]\n",
      " 47%|████▋     | 14/30 [00:00<00:00, 138.69it/s]"
     ]
    },
    {
     "name": "stdout",
     "output_type": "stream",
     "text": [
      "\n",
      "FID: 82.4457\n",
      "Time: 0.12 min\n",
      "\n",
      "-- Partial --\n",
      "Best Epoch: epoch-55\n",
      "Best FID: 68.4849\n",
      "\n",
      "--------------------------------\n",
      "\n",
      "Epoch: 161\n"
     ]
    },
    {
     "name": "stderr",
     "output_type": "stream",
     "text": [
      "100%|██████████| 30/30 [00:00<00:00, 161.77it/s]\n",
      " 50%|█████     | 15/30 [00:00<00:00, 146.91it/s]"
     ]
    },
    {
     "name": "stdout",
     "output_type": "stream",
     "text": [
      "\n",
      "FID: 84.4674\n",
      "Time: 0.12 min\n",
      "\n",
      "-- Partial --\n",
      "Best Epoch: epoch-55\n",
      "Best FID: 68.4849\n",
      "\n",
      "--------------------------------\n",
      "\n",
      "Epoch: 162\n"
     ]
    },
    {
     "name": "stderr",
     "output_type": "stream",
     "text": [
      "100%|██████████| 30/30 [00:00<00:00, 161.47it/s]\n",
      " 47%|████▋     | 14/30 [00:00<00:00, 138.47it/s]"
     ]
    },
    {
     "name": "stdout",
     "output_type": "stream",
     "text": [
      "\n",
      "FID: 73.6470\n",
      "Time: 0.12 min\n",
      "\n",
      "-- Partial --\n",
      "Best Epoch: epoch-55\n",
      "Best FID: 68.4849\n",
      "\n",
      "--------------------------------\n",
      "\n",
      "Epoch: 163\n"
     ]
    },
    {
     "name": "stderr",
     "output_type": "stream",
     "text": [
      "100%|██████████| 30/30 [00:00<00:00, 164.84it/s]\n",
      " 60%|██████    | 18/30 [00:00<00:00, 176.28it/s]"
     ]
    },
    {
     "name": "stdout",
     "output_type": "stream",
     "text": [
      "\n",
      "FID: 78.7096\n",
      "Time: 0.12 min\n",
      "\n",
      "-- Partial --\n",
      "Best Epoch: epoch-55\n",
      "Best FID: 68.4849\n",
      "\n",
      "--------------------------------\n",
      "\n",
      "Epoch: 164\n"
     ]
    },
    {
     "name": "stderr",
     "output_type": "stream",
     "text": [
      "100%|██████████| 30/30 [00:00<00:00, 183.97it/s]\n",
      " 63%|██████▎   | 19/30 [00:00<00:00, 186.07it/s]"
     ]
    },
    {
     "name": "stdout",
     "output_type": "stream",
     "text": [
      "\n",
      "FID: 77.1157\n",
      "Time: 0.12 min\n",
      "\n",
      "-- Partial --\n",
      "Best Epoch: epoch-55\n",
      "Best FID: 68.4849\n",
      "\n",
      "--------------------------------\n",
      "\n",
      "Epoch: 165\n"
     ]
    },
    {
     "name": "stderr",
     "output_type": "stream",
     "text": [
      "100%|██████████| 30/30 [00:00<00:00, 180.54it/s]\n",
      " 67%|██████▋   | 20/30 [00:00<00:00, 199.33it/s]"
     ]
    },
    {
     "name": "stdout",
     "output_type": "stream",
     "text": [
      "\n",
      "FID: 76.6088\n",
      "Time: 0.12 min\n",
      "\n",
      "-- Partial --\n",
      "Best Epoch: epoch-55\n",
      "Best FID: 68.4849\n",
      "\n",
      "--------------------------------\n",
      "\n",
      "Epoch: 166\n"
     ]
    },
    {
     "name": "stderr",
     "output_type": "stream",
     "text": [
      "100%|██████████| 30/30 [00:00<00:00, 196.21it/s]\n",
      " 47%|████▋     | 14/30 [00:00<00:00, 139.57it/s]"
     ]
    },
    {
     "name": "stdout",
     "output_type": "stream",
     "text": [
      "\n",
      "FID: 67.6787\n",
      "Time: 0.12 min\n",
      "\n",
      "-- Partial --\n",
      "Best Epoch: epoch-166\n",
      "Best FID: 67.6787\n",
      "\n",
      "--------------------------------\n",
      "\n",
      "Epoch: 167\n"
     ]
    },
    {
     "name": "stderr",
     "output_type": "stream",
     "text": [
      "100%|██████████| 30/30 [00:00<00:00, 169.09it/s]\n",
      "  0%|          | 0/30 [00:00<?, ?it/s]"
     ]
    },
    {
     "name": "stdout",
     "output_type": "stream",
     "text": [
      "\n",
      "FID: 85.4165\n",
      "Time: 0.12 min\n",
      "\n",
      "-- Partial --\n",
      "Best Epoch: epoch-166\n",
      "Best FID: 67.6787\n",
      "\n",
      "--------------------------------\n",
      "\n",
      "Epoch: 168\n"
     ]
    },
    {
     "name": "stderr",
     "output_type": "stream",
     "text": [
      "100%|██████████| 30/30 [00:00<00:00, 165.94it/s]\n",
      "100%|██████████| 30/30 [00:00<00:00, 197.92it/s]"
     ]
    },
    {
     "name": "stdout",
     "output_type": "stream",
     "text": [
      "\n",
      "FID: 70.6769\n",
      "Time: 0.12 min\n",
      "\n",
      "-- Partial --\n",
      "Best Epoch: epoch-166\n",
      "Best FID: 67.6787\n",
      "\n",
      "--------------------------------\n",
      "\n",
      "Epoch: 169\n"
     ]
    },
    {
     "name": "stderr",
     "output_type": "stream",
     "text": [
      "\n",
      " 63%|██████▎   | 19/30 [00:00<00:00, 184.51it/s]"
     ]
    },
    {
     "name": "stdout",
     "output_type": "stream",
     "text": [
      "\n",
      "FID: 71.6134\n",
      "Time: 0.12 min\n",
      "\n",
      "-- Partial --\n",
      "Best Epoch: epoch-166\n",
      "Best FID: 67.6787\n",
      "\n",
      "--------------------------------\n",
      "\n",
      "Epoch: 170\n"
     ]
    },
    {
     "name": "stderr",
     "output_type": "stream",
     "text": [
      "100%|██████████| 30/30 [00:00<00:00, 189.83it/s]\n",
      " 67%|██████▋   | 20/30 [00:00<00:00, 190.08it/s]"
     ]
    },
    {
     "name": "stdout",
     "output_type": "stream",
     "text": [
      "\n",
      "FID: 78.3097\n",
      "Time: 0.12 min\n",
      "\n",
      "-- Partial --\n",
      "Best Epoch: epoch-166\n",
      "Best FID: 67.6787\n",
      "\n",
      "--------------------------------\n",
      "\n",
      "Epoch: 171\n"
     ]
    },
    {
     "name": "stderr",
     "output_type": "stream",
     "text": [
      "100%|██████████| 30/30 [00:00<00:00, 197.49it/s]\n",
      " 60%|██████    | 18/30 [00:00<00:00, 177.54it/s]"
     ]
    },
    {
     "name": "stdout",
     "output_type": "stream",
     "text": [
      "\n",
      "FID: 76.7037\n",
      "Time: 0.12 min\n",
      "\n",
      "-- Partial --\n",
      "Best Epoch: epoch-166\n",
      "Best FID: 67.6787\n",
      "\n",
      "--------------------------------\n",
      "\n",
      "Epoch: 172\n"
     ]
    },
    {
     "name": "stderr",
     "output_type": "stream",
     "text": [
      "100%|██████████| 30/30 [00:00<00:00, 180.45it/s]\n",
      "  0%|          | 0/30 [00:00<?, ?it/s]"
     ]
    },
    {
     "name": "stdout",
     "output_type": "stream",
     "text": [
      "\n",
      "FID: 69.5952\n",
      "Time: 0.12 min\n",
      "\n",
      "-- Partial --\n",
      "Best Epoch: epoch-166\n",
      "Best FID: 67.6787\n",
      "\n",
      "--------------------------------\n",
      "\n",
      "Epoch: 173\n"
     ]
    },
    {
     "name": "stderr",
     "output_type": "stream",
     "text": [
      "100%|██████████| 30/30 [00:00<00:00, 84.77it/s]\n",
      " 60%|██████    | 18/30 [00:00<00:00, 173.75it/s]"
     ]
    },
    {
     "name": "stdout",
     "output_type": "stream",
     "text": [
      "\n",
      "FID: 74.1033\n",
      "Time: 0.12 min\n",
      "\n",
      "-- Partial --\n",
      "Best Epoch: epoch-166\n",
      "Best FID: 67.6787\n",
      "\n",
      "--------------------------------\n",
      "\n",
      "Epoch: 174\n"
     ]
    },
    {
     "name": "stderr",
     "output_type": "stream",
     "text": [
      "100%|██████████| 30/30 [00:00<00:00, 181.10it/s]\n",
      " 60%|██████    | 18/30 [00:00<00:00, 178.78it/s]"
     ]
    },
    {
     "name": "stdout",
     "output_type": "stream",
     "text": [
      "\n",
      "FID: 67.5732\n",
      "Time: 0.12 min\n",
      "\n",
      "-- Partial --\n",
      "Best Epoch: epoch-174\n",
      "Best FID: 67.5732\n",
      "\n",
      "--------------------------------\n",
      "\n",
      "Epoch: 175\n"
     ]
    },
    {
     "name": "stderr",
     "output_type": "stream",
     "text": [
      "100%|██████████| 30/30 [00:00<00:00, 174.22it/s]\n",
      " 67%|██████▋   | 20/30 [00:00<00:00, 196.46it/s]"
     ]
    },
    {
     "name": "stdout",
     "output_type": "stream",
     "text": [
      "\n",
      "FID: 72.4666\n",
      "Time: 0.12 min\n",
      "\n",
      "-- Partial --\n",
      "Best Epoch: epoch-174\n",
      "Best FID: 67.5732\n",
      "\n",
      "--------------------------------\n",
      "\n",
      "Epoch: 176\n"
     ]
    },
    {
     "name": "stderr",
     "output_type": "stream",
     "text": [
      "100%|██████████| 30/30 [00:00<00:00, 179.78it/s]\n",
      " 60%|██████    | 18/30 [00:00<00:00, 178.06it/s]"
     ]
    },
    {
     "name": "stdout",
     "output_type": "stream",
     "text": [
      "\n",
      "FID: 72.0606\n",
      "Time: 0.12 min\n",
      "\n",
      "-- Partial --\n",
      "Best Epoch: epoch-174\n",
      "Best FID: 67.5732\n",
      "\n",
      "--------------------------------\n",
      "\n",
      "Epoch: 177\n"
     ]
    },
    {
     "name": "stderr",
     "output_type": "stream",
     "text": [
      "100%|██████████| 30/30 [00:00<00:00, 189.70it/s]\n",
      " 60%|██████    | 18/30 [00:00<00:00, 176.54it/s]"
     ]
    },
    {
     "name": "stdout",
     "output_type": "stream",
     "text": [
      "\n",
      "FID: 71.0643\n",
      "Time: 0.12 min\n",
      "\n",
      "-- Partial --\n",
      "Best Epoch: epoch-174\n",
      "Best FID: 67.5732\n",
      "\n",
      "--------------------------------\n",
      "\n",
      "Epoch: 178\n"
     ]
    },
    {
     "name": "stderr",
     "output_type": "stream",
     "text": [
      "100%|██████████| 30/30 [00:00<00:00, 181.81it/s]\n",
      " 63%|██████▎   | 19/30 [00:00<00:00, 188.07it/s]"
     ]
    },
    {
     "name": "stdout",
     "output_type": "stream",
     "text": [
      "\n",
      "FID: 80.3886\n",
      "Time: 0.12 min\n",
      "\n",
      "-- Partial --\n",
      "Best Epoch: epoch-174\n",
      "Best FID: 67.5732\n",
      "\n",
      "--------------------------------\n",
      "\n",
      "Epoch: 179\n"
     ]
    },
    {
     "name": "stderr",
     "output_type": "stream",
     "text": [
      "100%|██████████| 30/30 [00:00<00:00, 173.39it/s]\n",
      "100%|██████████| 30/30 [00:00<00:00, 204.24it/s]"
     ]
    },
    {
     "name": "stdout",
     "output_type": "stream",
     "text": [
      "\n",
      "FID: 70.7912\n",
      "Time: 0.12 min\n",
      "\n",
      "-- Partial --\n",
      "Best Epoch: epoch-174\n",
      "Best FID: 67.5732\n",
      "\n",
      "--------------------------------\n",
      "\n",
      "Epoch: 180\n"
     ]
    },
    {
     "name": "stderr",
     "output_type": "stream",
     "text": [
      "\n",
      " 60%|██████    | 18/30 [00:00<00:00, 175.77it/s]"
     ]
    },
    {
     "name": "stdout",
     "output_type": "stream",
     "text": [
      "\n",
      "FID: 66.1961\n",
      "Time: 0.12 min\n",
      "\n",
      "-- Partial --\n",
      "Best Epoch: epoch-180\n",
      "Best FID: 66.1961\n",
      "\n",
      "--------------------------------\n",
      "\n",
      "Epoch: 181\n"
     ]
    },
    {
     "name": "stderr",
     "output_type": "stream",
     "text": [
      "100%|██████████| 30/30 [00:00<00:00, 186.79it/s]\n",
      " 63%|██████▎   | 19/30 [00:00<00:00, 184.12it/s]"
     ]
    },
    {
     "name": "stdout",
     "output_type": "stream",
     "text": [
      "\n",
      "FID: 75.1906\n",
      "Time: 0.12 min\n",
      "\n",
      "-- Partial --\n",
      "Best Epoch: epoch-180\n",
      "Best FID: 66.1961\n",
      "\n",
      "--------------------------------\n",
      "\n",
      "Epoch: 182\n"
     ]
    },
    {
     "name": "stderr",
     "output_type": "stream",
     "text": [
      "100%|██████████| 30/30 [00:00<00:00, 173.32it/s]\n",
      " 57%|█████▋    | 17/30 [00:00<00:00, 165.09it/s]"
     ]
    },
    {
     "name": "stdout",
     "output_type": "stream",
     "text": [
      "\n",
      "FID: 70.7610\n",
      "Time: 0.12 min\n",
      "\n",
      "-- Partial --\n",
      "Best Epoch: epoch-180\n",
      "Best FID: 66.1961\n",
      "\n",
      "--------------------------------\n",
      "\n",
      "Epoch: 183\n"
     ]
    },
    {
     "name": "stderr",
     "output_type": "stream",
     "text": [
      "100%|██████████| 30/30 [00:00<00:00, 180.81it/s]\n",
      " 60%|██████    | 18/30 [00:00<00:00, 176.27it/s]"
     ]
    },
    {
     "name": "stdout",
     "output_type": "stream",
     "text": [
      "\n",
      "FID: 74.7661\n",
      "Time: 0.12 min\n",
      "\n",
      "-- Partial --\n",
      "Best Epoch: epoch-180\n",
      "Best FID: 66.1961\n",
      "\n",
      "--------------------------------\n",
      "\n",
      "Epoch: 184\n"
     ]
    },
    {
     "name": "stderr",
     "output_type": "stream",
     "text": [
      "100%|██████████| 30/30 [00:00<00:00, 166.62it/s]\n",
      "100%|██████████| 30/30 [00:00<00:00, 201.49it/s]"
     ]
    },
    {
     "name": "stdout",
     "output_type": "stream",
     "text": [
      "\n",
      "FID: 72.6628\n",
      "Time: 0.12 min\n",
      "\n",
      "-- Partial --\n",
      "Best Epoch: epoch-180\n",
      "Best FID: 66.1961\n",
      "\n",
      "--------------------------------\n",
      "\n",
      "Epoch: 185\n"
     ]
    },
    {
     "name": "stderr",
     "output_type": "stream",
     "text": [
      "\n",
      " 63%|██████▎   | 19/30 [00:00<00:00, 182.19it/s]"
     ]
    },
    {
     "name": "stdout",
     "output_type": "stream",
     "text": [
      "\n",
      "FID: 77.5301\n",
      "Time: 0.12 min\n",
      "\n",
      "-- Partial --\n",
      "Best Epoch: epoch-180\n",
      "Best FID: 66.1961\n",
      "\n",
      "--------------------------------\n",
      "\n",
      "Epoch: 186\n"
     ]
    },
    {
     "name": "stderr",
     "output_type": "stream",
     "text": [
      "100%|██████████| 30/30 [00:00<00:00, 180.92it/s]\n",
      " 83%|████████▎ | 25/30 [00:00<00:00, 101.68it/s]"
     ]
    },
    {
     "name": "stdout",
     "output_type": "stream",
     "text": [
      "\n",
      "FID: 77.2278\n",
      "Time: 0.12 min\n",
      "\n",
      "-- Partial --\n",
      "Best Epoch: epoch-180\n",
      "Best FID: 66.1961\n",
      "\n",
      "--------------------------------\n",
      "\n",
      "Epoch: 187\n"
     ]
    },
    {
     "name": "stderr",
     "output_type": "stream",
     "text": [
      "100%|██████████| 30/30 [00:00<00:00, 131.81it/s]\n",
      " 60%|██████    | 18/30 [00:00<00:00, 178.87it/s]"
     ]
    },
    {
     "name": "stdout",
     "output_type": "stream",
     "text": [
      "\n",
      "FID: 77.7219\n",
      "Time: 0.12 min\n",
      "\n",
      "-- Partial --\n",
      "Best Epoch: epoch-180\n",
      "Best FID: 66.1961\n",
      "\n",
      "--------------------------------\n",
      "\n",
      "Epoch: 188\n"
     ]
    },
    {
     "name": "stderr",
     "output_type": "stream",
     "text": [
      "100%|██████████| 30/30 [00:00<00:00, 189.05it/s]\n",
      " 60%|██████    | 18/30 [00:00<00:00, 179.16it/s]"
     ]
    },
    {
     "name": "stdout",
     "output_type": "stream",
     "text": [
      "\n",
      "FID: 74.6252\n",
      "Time: 0.12 min\n",
      "\n",
      "-- Partial --\n",
      "Best Epoch: epoch-180\n",
      "Best FID: 66.1961\n",
      "\n",
      "--------------------------------\n",
      "\n",
      "Epoch: 189\n"
     ]
    },
    {
     "name": "stderr",
     "output_type": "stream",
     "text": [
      "100%|██████████| 30/30 [00:00<00:00, 190.44it/s]\n",
      " 60%|██████    | 18/30 [00:00<00:00, 174.71it/s]"
     ]
    },
    {
     "name": "stdout",
     "output_type": "stream",
     "text": [
      "\n",
      "FID: 70.7482\n",
      "Time: 0.12 min\n",
      "\n",
      "-- Partial --\n",
      "Best Epoch: epoch-180\n",
      "Best FID: 66.1961\n",
      "\n",
      "--------------------------------\n",
      "\n",
      "Epoch: 190\n"
     ]
    },
    {
     "name": "stderr",
     "output_type": "stream",
     "text": [
      "100%|██████████| 30/30 [00:00<00:00, 160.25it/s]\n",
      " 67%|██████▋   | 20/30 [00:00<00:00, 194.46it/s]"
     ]
    },
    {
     "name": "stdout",
     "output_type": "stream",
     "text": [
      "\n",
      "FID: 77.7502\n",
      "Time: 0.12 min\n",
      "\n",
      "-- Partial --\n",
      "Best Epoch: epoch-180\n",
      "Best FID: 66.1961\n",
      "\n",
      "--------------------------------\n",
      "\n",
      "Epoch: 191\n"
     ]
    },
    {
     "name": "stderr",
     "output_type": "stream",
     "text": [
      "100%|██████████| 30/30 [00:00<00:00, 197.50it/s]\n",
      " 60%|██████    | 18/30 [00:00<00:00, 177.70it/s]"
     ]
    },
    {
     "name": "stdout",
     "output_type": "stream",
     "text": [
      "\n",
      "FID: 75.2745\n",
      "Time: 0.12 min\n",
      "\n",
      "-- Partial --\n",
      "Best Epoch: epoch-180\n",
      "Best FID: 66.1961\n",
      "\n",
      "--------------------------------\n",
      "\n",
      "Epoch: 192\n"
     ]
    },
    {
     "name": "stderr",
     "output_type": "stream",
     "text": [
      "100%|██████████| 30/30 [00:00<00:00, 177.51it/s]\n",
      " 70%|███████   | 21/30 [00:00<00:00, 203.24it/s]"
     ]
    },
    {
     "name": "stdout",
     "output_type": "stream",
     "text": [
      "\n",
      "FID: 72.1943\n",
      "Time: 0.12 min\n",
      "\n",
      "-- Partial --\n",
      "Best Epoch: epoch-180\n",
      "Best FID: 66.1961\n",
      "\n",
      "--------------------------------\n",
      "\n",
      "Epoch: 193\n"
     ]
    },
    {
     "name": "stderr",
     "output_type": "stream",
     "text": [
      "100%|██████████| 30/30 [00:00<00:00, 203.56it/s]\n",
      " 60%|██████    | 18/30 [00:00<00:00, 179.80it/s]"
     ]
    },
    {
     "name": "stdout",
     "output_type": "stream",
     "text": [
      "\n",
      "FID: 69.3034\n",
      "Time: 0.12 min\n",
      "\n",
      "-- Partial --\n",
      "Best Epoch: epoch-180\n",
      "Best FID: 66.1961\n",
      "\n",
      "--------------------------------\n",
      "\n",
      "Epoch: 194\n"
     ]
    },
    {
     "name": "stderr",
     "output_type": "stream",
     "text": [
      "100%|██████████| 30/30 [00:00<00:00, 174.16it/s]\n",
      " 57%|█████▋    | 17/30 [00:00<00:00, 168.80it/s]"
     ]
    },
    {
     "name": "stdout",
     "output_type": "stream",
     "text": [
      "\n",
      "FID: 72.7150\n",
      "Time: 0.12 min\n",
      "\n",
      "-- Partial --\n",
      "Best Epoch: epoch-180\n",
      "Best FID: 66.1961\n",
      "\n",
      "--------------------------------\n",
      "\n",
      "Epoch: 195\n"
     ]
    },
    {
     "name": "stderr",
     "output_type": "stream",
     "text": [
      "100%|██████████| 30/30 [00:00<00:00, 163.12it/s]\n",
      "100%|██████████| 30/30 [00:00<00:00, 204.19it/s]"
     ]
    },
    {
     "name": "stdout",
     "output_type": "stream",
     "text": [
      "\n",
      "FID: 79.3447\n",
      "Time: 0.12 min\n",
      "\n",
      "-- Partial --\n",
      "Best Epoch: epoch-180\n",
      "Best FID: 66.1961\n",
      "\n",
      "--------------------------------\n",
      "\n",
      "Epoch: 196\n"
     ]
    },
    {
     "name": "stderr",
     "output_type": "stream",
     "text": [
      "\n",
      " 60%|██████    | 18/30 [00:00<00:00, 174.75it/s]"
     ]
    },
    {
     "name": "stdout",
     "output_type": "stream",
     "text": [
      "\n",
      "FID: 71.3097\n",
      "Time: 0.12 min\n",
      "\n",
      "-- Partial --\n",
      "Best Epoch: epoch-180\n",
      "Best FID: 66.1961\n",
      "\n",
      "--------------------------------\n",
      "\n",
      "Epoch: 197\n"
     ]
    },
    {
     "name": "stderr",
     "output_type": "stream",
     "text": [
      "100%|██████████| 30/30 [00:00<00:00, 186.28it/s]\n",
      " 67%|██████▋   | 20/30 [00:00<00:00, 190.29it/s]"
     ]
    },
    {
     "name": "stdout",
     "output_type": "stream",
     "text": [
      "\n",
      "FID: 65.5307\n",
      "Time: 0.12 min\n",
      "\n",
      "-- Partial --\n",
      "Best Epoch: epoch-197\n",
      "Best FID: 65.5307\n",
      "\n",
      "--------------------------------\n",
      "\n",
      "Epoch: 198\n"
     ]
    },
    {
     "name": "stderr",
     "output_type": "stream",
     "text": [
      "100%|██████████| 30/30 [00:00<00:00, 194.86it/s]\n",
      " 40%|████      | 12/30 [00:00<00:00, 117.37it/s]"
     ]
    },
    {
     "name": "stdout",
     "output_type": "stream",
     "text": [
      "\n",
      "FID: 65.1326\n",
      "Time: 0.12 min\n",
      "\n",
      "-- Partial --\n",
      "Best Epoch: epoch-198\n",
      "Best FID: 65.1326\n",
      "\n",
      "--------------------------------\n",
      "\n",
      "Epoch: 199\n"
     ]
    },
    {
     "name": "stderr",
     "output_type": "stream",
     "text": [
      "100%|██████████| 30/30 [00:00<00:00, 153.36it/s]\n",
      " 60%|██████    | 18/30 [00:00<00:00, 176.07it/s]"
     ]
    },
    {
     "name": "stdout",
     "output_type": "stream",
     "text": [
      "\n",
      "FID: 66.8399\n",
      "Time: 0.12 min\n",
      "\n",
      "-- Partial --\n",
      "Best Epoch: epoch-198\n",
      "Best FID: 65.1326\n",
      "\n",
      "--------------------------------\n",
      "\n",
      "Epoch: 200\n"
     ]
    },
    {
     "name": "stderr",
     "output_type": "stream",
     "text": [
      "100%|██████████| 30/30 [00:00<00:00, 174.80it/s]\n"
     ]
    },
    {
     "name": "stdout",
     "output_type": "stream",
     "text": [
      "\n",
      "FID: 75.1951\n",
      "Time: 0.12 min\n",
      "\n",
      "-- Partial --\n",
      "Best Epoch: epoch-198\n",
      "Best FID: 65.1326\n",
      "\n",
      "----------------------------------------------------\n",
      "Finalized\n",
      "Notebook Time: 2.7e+01 min\n",
      "Best Epoch: epoch-198\n",
      "Best FID: 65.1326\n"
     ]
    }
   ],
   "source": [
    "# example of calculating the frechet inception distance in Keras\n",
    "import numpy\n",
    "from numpy import cov\n",
    "from numpy import trace\n",
    "from numpy import iscomplexobj\n",
    "from numpy import asarray\n",
    "from numpy.random import randint\n",
    "from scipy.linalg import sqrtm\n",
    "from keras.applications.inception_v3 import InceptionV3\n",
    "from keras.applications.inception_v3 import preprocess_input\n",
    "from skimage.transform import resize\n",
    "\n",
    "# Daniel\n",
    "import os\n",
    "from tqdm import tqdm\n",
    "import cv2\n",
    "import numpy as np\n",
    "import time\n",
    "import gc\n",
    "\n",
    "lastTimeNotebook = time.time()\n",
    "\n",
    "def scale_images(images, new_shape):\n",
    "    \n",
    "    images_list = list()\n",
    "    for image in images:\n",
    "        \n",
    "        new_image = resize(image, new_shape, 0)\n",
    "        images_list.append(new_image)\n",
    "        \n",
    "    return asarray(images_list)\n",
    "\n",
    "def calculate_fid(model, images1, mu2, sigma2):\n",
    "    \n",
    "    # calculate activations\n",
    "    act1 = model.predict(images1)\n",
    "    \n",
    "    # calculate mean and covariance statistics\n",
    "    mu1, sigma1 = act1.mean(axis=0), cov(act1, rowvar=False)\n",
    "    \n",
    "    # calculate sum squared difference between means\n",
    "    ssdiff = numpy.sum((mu1 - mu2)**2.0)\n",
    "    \n",
    "    # Daniel\n",
    "    sigma1 = np.array(sigma1, ndmin=2) # https://stackoverflow.com/questions/31698242/python-how-can-i-force-1-element-numpy-arrays-to-be-two-dimensional\n",
    "    \n",
    "    # calculate sqrt of product between cov\n",
    "    covmean = sqrtm(sigma1.dot(sigma2))\n",
    "    \n",
    "    # check and correct imaginary numbers from sqrt\n",
    "    if iscomplexobj(covmean):\n",
    "        covmean = covmean.real\n",
    "        \n",
    "    # calculate score\n",
    "    fid = ssdiff + trace(sigma1 + sigma2 - 2.0 * covmean)\n",
    "    \n",
    "    return fid\n",
    "\n",
    "def loadImages(folder):\n",
    "    \n",
    "    path, dirs, files = next( os.walk( folder ) )\n",
    "\n",
    "    images = []\n",
    "    contador = 0\n",
    "    for file in tqdm(files):\n",
    "\n",
    "        image = cv2.imread( folder + file )\n",
    "        images.append( image )\n",
    "        contador += 1\n",
    "        \n",
    "    images = np.asarray(images)\n",
    "    return images\n",
    "\n",
    "def compareTwoGroups(model, images1, mu2, sigma2):\n",
    "\n",
    "    # convert integer to floating point values\n",
    "    images1 = images1.astype('float32')\n",
    "    \n",
    "    # resize images\n",
    "    images1 = scale_images(images1, (299,299,3))\n",
    "\n",
    "    # pre-process images\n",
    "    images1 = preprocess_input(images1)\n",
    "\n",
    "    # fid between images1 and images2\n",
    "    fid = calculate_fid(model, images1, mu2, sigma2)\n",
    "    \n",
    "    return fid\n",
    "\n",
    "# ---\n",
    "\n",
    "print( '\\nProcessing...' )\n",
    "\n",
    "# prepare the inception v3 model\n",
    "model = InceptionV3(include_top=False, pooling='avg', input_shape=(299,299,3))\n",
    "\n",
    "# Real Images used in training\n",
    "realImages = loadImages(padronizedFolder)\n",
    "gc.collect()\n",
    "realImages = realImages.astype('float32')\n",
    "gc.collect()\n",
    "realImages = scale_images(realImages, (299,299,3))\n",
    "gc.collect()\n",
    "realImages = preprocess_input(realImages)\n",
    "gc.collect()\n",
    "\n",
    "act2 = model.predict(realImages)\n",
    "gc.collect()\n",
    "mu2, sigma2 = act2.mean(axis=0), cov(act2, rowvar=False)\n",
    "gc.collect()\n",
    "sigma2 = np.array(sigma2, ndmin=2) # https://stackoverflow.com/questions/31698242/python-how-can-i-force-1-element-numpy-arrays-to-be-two-dimensional\n",
    "gc.collect()\n",
    "\n",
    "epochsFolders = os.listdir(generatedFolder)\n",
    "totalEpochs = len(epochsFolders)\n",
    "\n",
    "bestEpoch = ''\n",
    "bestFID = 9999\n",
    "\n",
    "lastTime = time.time()\n",
    "for i in range(1, totalEpochs + 1):\n",
    "\n",
    "    print('\\n--------------------------------\\n')\n",
    "    print(f'Epoch: {i}')\n",
    "    \n",
    "    epoch = 'epoch-' + str(i)\n",
    "    generatedImages = loadImages( f'{generatedFolder}/{epoch}/' )\n",
    "\n",
    "    fid = compareTwoGroups(model, generatedImages, mu2, sigma2)\n",
    "\n",
    "    print()\n",
    "    print('FID: %.4f' % fid)\n",
    "\n",
    "    if fid < bestFID:\n",
    "        bestFID = fid\n",
    "        bestEpoch = epoch\n",
    "        \n",
    "    # Time\n",
    "    now = time.time()\n",
    "    interval = now - lastTime\n",
    "    lastTime = now\n",
    "    print('Time: %.2f min' % (interval / 60))\n",
    "    print()\n",
    "    print('-- Partial --')\n",
    "    print(f'Best Epoch: {bestEpoch}')\n",
    "    print('Best FID: %.4f' % bestFID)\n",
    "\n",
    "\n",
    "print( '\\n----------------------------------------------------' )\n",
    "print( 'Finalized' )\n",
    "\n",
    "# Time\n",
    "now = time.time()\n",
    "interval = now - lastTimeNotebook\n",
    "print(f'Notebook Time: {(interval / 60):.2} min')\n",
    "\n",
    "print(f'Best Epoch: {bestEpoch}')\n",
    "print('Best FID: %.4f' % bestFID)"
   ]
  }
 ],
 "metadata": {
  "kernelspec": {
   "display_name": "Python 3",
   "language": "python",
   "name": "python3"
  },
  "language_info": {
   "codemirror_mode": {
    "name": "ipython",
    "version": 3
   },
   "file_extension": ".py",
   "mimetype": "text/x-python",
   "name": "python",
   "nbconvert_exporter": "python",
   "pygments_lexer": "ipython3",
   "version": "3.7.7"
  }
 },
 "nbformat": 4,
 "nbformat_minor": 4
}
