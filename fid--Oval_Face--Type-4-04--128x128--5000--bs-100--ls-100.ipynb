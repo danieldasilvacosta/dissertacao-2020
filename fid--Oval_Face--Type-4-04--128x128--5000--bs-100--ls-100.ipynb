{
 "cells": [
  {
   "cell_type": "code",
   "execution_count": 1,
   "metadata": {},
   "outputs": [],
   "source": [
    "images_dimensions = 128\n",
    "attribute = 'Oval_Face--Type-4-04'\n",
    "totalInputImages = 5000\n",
    "BATCH_SIZE = 100\n",
    "latent_dim = 100"
   ]
  },
  {
   "cell_type": "code",
   "execution_count": 2,
   "metadata": {},
   "outputs": [],
   "source": [
    "IMAGES_FOLDER = './images/'\n",
    "folderDimensionsSufix = str( images_dimensions ) + 'x' + str( images_dimensions )\n",
    "\n",
    "padronizedFolder = f'{IMAGES_FOLDER}padronized--{attribute}--{folderDimensionsSufix}--{totalInputImages}--bs-{BATCH_SIZE}--ls-{latent_dim}/'"
   ]
  },
  {
   "cell_type": "code",
   "execution_count": 3,
   "metadata": {},
   "outputs": [],
   "source": [
    "trainedModelFolder = f'./trained-model--{attribute}--{folderDimensionsSufix}--{totalInputImages}--bs-{BATCH_SIZE}--ls-{latent_dim}/'\n",
    "generatedFolder = trainedModelFolder + 'generated/'"
   ]
  },
  {
   "cell_type": "code",
   "execution_count": 4,
   "metadata": {},
   "outputs": [
    {
     "name": "stderr",
     "output_type": "stream",
     "text": [
      "Using TensorFlow backend.\n"
     ]
    },
    {
     "name": "stdout",
     "output_type": "stream",
     "text": [
      "\n",
      "Processing...\n"
     ]
    },
    {
     "name": "stderr",
     "output_type": "stream",
     "text": [
      "100%|██████████| 5000/5000 [00:02<00:00, 2455.97it/s]\n",
      "100%|██████████| 30/30 [00:00<00:00, 205.29it/s]"
     ]
    },
    {
     "name": "stdout",
     "output_type": "stream",
     "text": [
      "\n",
      "--------------------------------\n",
      "\n",
      "Epoch: 1\n"
     ]
    },
    {
     "name": "stderr",
     "output_type": "stream",
     "text": [
      "\n",
      "100%|██████████| 30/30 [00:00<00:00, 205.29it/s]"
     ]
    },
    {
     "name": "stdout",
     "output_type": "stream",
     "text": [
      "\n",
      "FID: 449.2825\n",
      "Time: 0.12 min\n",
      "\n",
      "-- Partial --\n",
      "Best Epoch: epoch-1\n",
      "Best FID: 449.2825\n",
      "\n",
      "--------------------------------\n",
      "\n",
      "Epoch: 2\n"
     ]
    },
    {
     "name": "stderr",
     "output_type": "stream",
     "text": [
      "\n",
      "100%|██████████| 30/30 [00:00<00:00, 218.78it/s]"
     ]
    },
    {
     "name": "stdout",
     "output_type": "stream",
     "text": [
      "\n",
      "FID: 431.1153\n",
      "Time: 0.11 min\n",
      "\n",
      "-- Partial --\n",
      "Best Epoch: epoch-2\n",
      "Best FID: 431.1153\n",
      "\n",
      "--------------------------------\n",
      "\n",
      "Epoch: 3\n"
     ]
    },
    {
     "name": "stderr",
     "output_type": "stream",
     "text": [
      "\n",
      "100%|██████████| 30/30 [00:00<00:00, 210.30it/s]"
     ]
    },
    {
     "name": "stdout",
     "output_type": "stream",
     "text": [
      "\n",
      "FID: 356.7184\n",
      "Time: 0.11 min\n",
      "\n",
      "-- Partial --\n",
      "Best Epoch: epoch-3\n",
      "Best FID: 356.7184\n",
      "\n",
      "--------------------------------\n",
      "\n",
      "Epoch: 4\n"
     ]
    },
    {
     "name": "stderr",
     "output_type": "stream",
     "text": [
      "\n",
      "100%|██████████| 30/30 [00:00<00:00, 218.49it/s]"
     ]
    },
    {
     "name": "stdout",
     "output_type": "stream",
     "text": [
      "\n",
      "FID: 359.3697\n",
      "Time: 0.12 min\n",
      "\n",
      "-- Partial --\n",
      "Best Epoch: epoch-3\n",
      "Best FID: 356.7184\n",
      "\n",
      "--------------------------------\n",
      "\n",
      "Epoch: 5\n"
     ]
    },
    {
     "name": "stderr",
     "output_type": "stream",
     "text": [
      "\n",
      "100%|██████████| 30/30 [00:00<00:00, 211.09it/s]"
     ]
    },
    {
     "name": "stdout",
     "output_type": "stream",
     "text": [
      "\n",
      "FID: 501.2911\n",
      "Time: 0.12 min\n",
      "\n",
      "-- Partial --\n",
      "Best Epoch: epoch-3\n",
      "Best FID: 356.7184\n",
      "\n",
      "--------------------------------\n",
      "\n",
      "Epoch: 6\n"
     ]
    },
    {
     "name": "stderr",
     "output_type": "stream",
     "text": [
      "\n",
      "100%|██████████| 30/30 [00:00<00:00, 214.10it/s]"
     ]
    },
    {
     "name": "stdout",
     "output_type": "stream",
     "text": [
      "\n",
      "FID: 434.8937\n",
      "Time: 0.12 min\n",
      "\n",
      "-- Partial --\n",
      "Best Epoch: epoch-3\n",
      "Best FID: 356.7184\n",
      "\n",
      "--------------------------------\n",
      "\n",
      "Epoch: 7\n"
     ]
    },
    {
     "name": "stderr",
     "output_type": "stream",
     "text": [
      "\n",
      "100%|██████████| 30/30 [00:00<00:00, 216.85it/s]"
     ]
    },
    {
     "name": "stdout",
     "output_type": "stream",
     "text": [
      "\n",
      "FID: 401.9356\n",
      "Time: 0.12 min\n",
      "\n",
      "-- Partial --\n",
      "Best Epoch: epoch-3\n",
      "Best FID: 356.7184\n",
      "\n",
      "--------------------------------\n",
      "\n",
      "Epoch: 8\n"
     ]
    },
    {
     "name": "stderr",
     "output_type": "stream",
     "text": [
      "\n",
      "100%|██████████| 30/30 [00:00<00:00, 208.21it/s]"
     ]
    },
    {
     "name": "stdout",
     "output_type": "stream",
     "text": [
      "\n",
      "FID: 418.4878\n",
      "Time: 0.12 min\n",
      "\n",
      "-- Partial --\n",
      "Best Epoch: epoch-3\n",
      "Best FID: 356.7184\n",
      "\n",
      "--------------------------------\n",
      "\n",
      "Epoch: 9\n"
     ]
    },
    {
     "name": "stderr",
     "output_type": "stream",
     "text": [
      "\n",
      "100%|██████████| 30/30 [00:00<00:00, 215.62it/s]"
     ]
    },
    {
     "name": "stdout",
     "output_type": "stream",
     "text": [
      "\n",
      "FID: 474.3136\n",
      "Time: 0.12 min\n",
      "\n",
      "-- Partial --\n",
      "Best Epoch: epoch-3\n",
      "Best FID: 356.7184\n",
      "\n",
      "--------------------------------\n",
      "\n",
      "Epoch: 10\n"
     ]
    },
    {
     "name": "stderr",
     "output_type": "stream",
     "text": [
      "\n",
      "100%|██████████| 30/30 [00:00<00:00, 217.83it/s]"
     ]
    },
    {
     "name": "stdout",
     "output_type": "stream",
     "text": [
      "\n",
      "FID: 375.5775\n",
      "Time: 0.12 min\n",
      "\n",
      "-- Partial --\n",
      "Best Epoch: epoch-3\n",
      "Best FID: 356.7184\n",
      "\n",
      "--------------------------------\n",
      "\n",
      "Epoch: 11\n"
     ]
    },
    {
     "name": "stderr",
     "output_type": "stream",
     "text": [
      "\n",
      "100%|██████████| 30/30 [00:00<00:00, 218.50it/s]"
     ]
    },
    {
     "name": "stdout",
     "output_type": "stream",
     "text": [
      "\n",
      "FID: 269.0028\n",
      "Time: 0.12 min\n",
      "\n",
      "-- Partial --\n",
      "Best Epoch: epoch-11\n",
      "Best FID: 269.0028\n",
      "\n",
      "--------------------------------\n",
      "\n",
      "Epoch: 12\n"
     ]
    },
    {
     "name": "stderr",
     "output_type": "stream",
     "text": [
      "\n",
      "100%|██████████| 30/30 [00:00<00:00, 215.34it/s]"
     ]
    },
    {
     "name": "stdout",
     "output_type": "stream",
     "text": [
      "\n",
      "FID: 253.1427\n",
      "Time: 0.12 min\n",
      "\n",
      "-- Partial --\n",
      "Best Epoch: epoch-12\n",
      "Best FID: 253.1427\n",
      "\n",
      "--------------------------------\n",
      "\n",
      "Epoch: 13\n"
     ]
    },
    {
     "name": "stderr",
     "output_type": "stream",
     "text": [
      "\n",
      "100%|██████████| 30/30 [00:00<00:00, 211.07it/s]"
     ]
    },
    {
     "name": "stdout",
     "output_type": "stream",
     "text": [
      "\n",
      "FID: 197.9113\n",
      "Time: 0.12 min\n",
      "\n",
      "-- Partial --\n",
      "Best Epoch: epoch-13\n",
      "Best FID: 197.9113\n",
      "\n",
      "--------------------------------\n",
      "\n",
      "Epoch: 14\n"
     ]
    },
    {
     "name": "stderr",
     "output_type": "stream",
     "text": [
      "\n",
      "100%|██████████| 30/30 [00:00<00:00, 213.25it/s]"
     ]
    },
    {
     "name": "stdout",
     "output_type": "stream",
     "text": [
      "\n",
      "FID: 140.6262\n",
      "Time: 0.12 min\n",
      "\n",
      "-- Partial --\n",
      "Best Epoch: epoch-14\n",
      "Best FID: 140.6262\n",
      "\n",
      "--------------------------------\n",
      "\n",
      "Epoch: 15\n"
     ]
    },
    {
     "name": "stderr",
     "output_type": "stream",
     "text": [
      "\n",
      "100%|██████████| 30/30 [00:00<00:00, 218.79it/s]"
     ]
    },
    {
     "name": "stdout",
     "output_type": "stream",
     "text": [
      "\n",
      "FID: 139.0091\n",
      "Time: 0.12 min\n",
      "\n",
      "-- Partial --\n",
      "Best Epoch: epoch-15\n",
      "Best FID: 139.0091\n",
      "\n",
      "--------------------------------\n",
      "\n",
      "Epoch: 16\n"
     ]
    },
    {
     "name": "stderr",
     "output_type": "stream",
     "text": [
      "\n",
      "100%|██████████| 30/30 [00:00<00:00, 211.91it/s]"
     ]
    },
    {
     "name": "stdout",
     "output_type": "stream",
     "text": [
      "\n",
      "FID: 126.8714\n",
      "Time: 0.12 min\n",
      "\n",
      "-- Partial --\n",
      "Best Epoch: epoch-16\n",
      "Best FID: 126.8714\n",
      "\n",
      "--------------------------------\n",
      "\n",
      "Epoch: 17\n"
     ]
    },
    {
     "name": "stderr",
     "output_type": "stream",
     "text": [
      "\n",
      "100%|██████████| 30/30 [00:00<00:00, 209.23it/s]"
     ]
    },
    {
     "name": "stdout",
     "output_type": "stream",
     "text": [
      "\n",
      "FID: 124.3326\n",
      "Time: 0.12 min\n",
      "\n",
      "-- Partial --\n",
      "Best Epoch: epoch-17\n",
      "Best FID: 124.3326\n",
      "\n",
      "--------------------------------\n",
      "\n",
      "Epoch: 18\n"
     ]
    },
    {
     "name": "stderr",
     "output_type": "stream",
     "text": [
      "\n",
      "100%|██████████| 30/30 [00:00<00:00, 219.41it/s]"
     ]
    },
    {
     "name": "stdout",
     "output_type": "stream",
     "text": [
      "\n",
      "FID: 107.1625\n",
      "Time: 0.12 min\n",
      "\n",
      "-- Partial --\n",
      "Best Epoch: epoch-18\n",
      "Best FID: 107.1625\n",
      "\n",
      "--------------------------------\n",
      "\n",
      "Epoch: 19\n"
     ]
    },
    {
     "name": "stderr",
     "output_type": "stream",
     "text": [
      "\n",
      "100%|██████████| 30/30 [00:00<00:00, 212.16it/s]"
     ]
    },
    {
     "name": "stdout",
     "output_type": "stream",
     "text": [
      "\n",
      "FID: 117.6544\n",
      "Time: 0.12 min\n",
      "\n",
      "-- Partial --\n",
      "Best Epoch: epoch-18\n",
      "Best FID: 107.1625\n",
      "\n",
      "--------------------------------\n",
      "\n",
      "Epoch: 20\n"
     ]
    },
    {
     "name": "stderr",
     "output_type": "stream",
     "text": [
      "\n",
      "100%|██████████| 30/30 [00:00<00:00, 218.95it/s]"
     ]
    },
    {
     "name": "stdout",
     "output_type": "stream",
     "text": [
      "\n",
      "FID: 112.3041\n",
      "Time: 0.12 min\n",
      "\n",
      "-- Partial --\n",
      "Best Epoch: epoch-18\n",
      "Best FID: 107.1625\n",
      "\n",
      "--------------------------------\n",
      "\n",
      "Epoch: 21\n"
     ]
    },
    {
     "name": "stderr",
     "output_type": "stream",
     "text": [
      "\n",
      "100%|██████████| 30/30 [00:00<00:00, 209.60it/s]"
     ]
    },
    {
     "name": "stdout",
     "output_type": "stream",
     "text": [
      "\n",
      "FID: 91.9667\n",
      "Time: 0.12 min\n",
      "\n",
      "-- Partial --\n",
      "Best Epoch: epoch-21\n",
      "Best FID: 91.9667\n",
      "\n",
      "--------------------------------\n",
      "\n",
      "Epoch: 22\n"
     ]
    },
    {
     "name": "stderr",
     "output_type": "stream",
     "text": [
      "\n",
      "100%|██████████| 30/30 [00:00<00:00, 215.63it/s]"
     ]
    },
    {
     "name": "stdout",
     "output_type": "stream",
     "text": [
      "\n",
      "FID: 101.5011\n",
      "Time: 0.12 min\n",
      "\n",
      "-- Partial --\n",
      "Best Epoch: epoch-21\n",
      "Best FID: 91.9667\n",
      "\n",
      "--------------------------------\n",
      "\n",
      "Epoch: 23\n"
     ]
    },
    {
     "name": "stderr",
     "output_type": "stream",
     "text": [
      "\n",
      "100%|██████████| 30/30 [00:00<00:00, 219.44it/s]"
     ]
    },
    {
     "name": "stdout",
     "output_type": "stream",
     "text": [
      "\n",
      "FID: 99.8650\n",
      "Time: 0.12 min\n",
      "\n",
      "-- Partial --\n",
      "Best Epoch: epoch-21\n",
      "Best FID: 91.9667\n",
      "\n",
      "--------------------------------\n",
      "\n",
      "Epoch: 24\n"
     ]
    },
    {
     "name": "stderr",
     "output_type": "stream",
     "text": [
      "\n",
      "100%|██████████| 30/30 [00:00<00:00, 217.68it/s]"
     ]
    },
    {
     "name": "stdout",
     "output_type": "stream",
     "text": [
      "\n",
      "FID: 100.7907\n",
      "Time: 0.12 min\n",
      "\n",
      "-- Partial --\n",
      "Best Epoch: epoch-21\n",
      "Best FID: 91.9667\n",
      "\n",
      "--------------------------------\n",
      "\n",
      "Epoch: 25\n"
     ]
    },
    {
     "name": "stderr",
     "output_type": "stream",
     "text": [
      "\n",
      "100%|██████████| 30/30 [00:00<00:00, 214.10it/s]"
     ]
    },
    {
     "name": "stdout",
     "output_type": "stream",
     "text": [
      "\n",
      "FID: 106.6108\n",
      "Time: 0.12 min\n",
      "\n",
      "-- Partial --\n",
      "Best Epoch: epoch-21\n",
      "Best FID: 91.9667\n",
      "\n",
      "--------------------------------\n",
      "\n",
      "Epoch: 26\n"
     ]
    },
    {
     "name": "stderr",
     "output_type": "stream",
     "text": [
      "\n",
      "100%|██████████| 30/30 [00:00<00:00, 215.62it/s]"
     ]
    },
    {
     "name": "stdout",
     "output_type": "stream",
     "text": [
      "\n",
      "FID: 120.8118\n",
      "Time: 0.12 min\n",
      "\n",
      "-- Partial --\n",
      "Best Epoch: epoch-21\n",
      "Best FID: 91.9667\n",
      "\n",
      "--------------------------------\n",
      "\n",
      "Epoch: 27\n"
     ]
    },
    {
     "name": "stderr",
     "output_type": "stream",
     "text": [
      "\n",
      "100%|██████████| 30/30 [00:00<00:00, 217.19it/s]"
     ]
    },
    {
     "name": "stdout",
     "output_type": "stream",
     "text": [
      "\n",
      "FID: 97.4467\n",
      "Time: 0.12 min\n",
      "\n",
      "-- Partial --\n",
      "Best Epoch: epoch-21\n",
      "Best FID: 91.9667\n",
      "\n",
      "--------------------------------\n",
      "\n",
      "Epoch: 28\n"
     ]
    },
    {
     "name": "stderr",
     "output_type": "stream",
     "text": [
      "\n",
      "100%|██████████| 30/30 [00:00<00:00, 212.08it/s]"
     ]
    },
    {
     "name": "stdout",
     "output_type": "stream",
     "text": [
      "\n",
      "FID: 85.9873\n",
      "Time: 0.12 min\n",
      "\n",
      "-- Partial --\n",
      "Best Epoch: epoch-28\n",
      "Best FID: 85.9873\n",
      "\n",
      "--------------------------------\n",
      "\n",
      "Epoch: 29\n"
     ]
    },
    {
     "name": "stderr",
     "output_type": "stream",
     "text": [
      "\n",
      "100%|██████████| 30/30 [00:00<00:00, 220.39it/s]"
     ]
    },
    {
     "name": "stdout",
     "output_type": "stream",
     "text": [
      "\n",
      "FID: 103.5047\n",
      "Time: 0.12 min\n",
      "\n",
      "-- Partial --\n",
      "Best Epoch: epoch-28\n",
      "Best FID: 85.9873\n",
      "\n",
      "--------------------------------\n",
      "\n",
      "Epoch: 30\n"
     ]
    },
    {
     "name": "stderr",
     "output_type": "stream",
     "text": [
      "\n",
      "100%|██████████| 30/30 [00:00<00:00, 215.63it/s]"
     ]
    },
    {
     "name": "stdout",
     "output_type": "stream",
     "text": [
      "\n",
      "FID: 79.5287\n",
      "Time: 0.12 min\n",
      "\n",
      "-- Partial --\n",
      "Best Epoch: epoch-30\n",
      "Best FID: 79.5287\n",
      "\n",
      "--------------------------------\n",
      "\n",
      "Epoch: 31\n"
     ]
    },
    {
     "name": "stderr",
     "output_type": "stream",
     "text": [
      "\n",
      "100%|██████████| 30/30 [00:00<00:00, 217.18it/s]"
     ]
    },
    {
     "name": "stdout",
     "output_type": "stream",
     "text": [
      "\n",
      "FID: 89.6082\n",
      "Time: 0.12 min\n",
      "\n",
      "-- Partial --\n",
      "Best Epoch: epoch-30\n",
      "Best FID: 79.5287\n",
      "\n",
      "--------------------------------\n",
      "\n",
      "Epoch: 32\n"
     ]
    },
    {
     "name": "stderr",
     "output_type": "stream",
     "text": [
      "\n",
      "100%|██████████| 30/30 [00:00<00:00, 218.78it/s]"
     ]
    },
    {
     "name": "stdout",
     "output_type": "stream",
     "text": [
      "\n",
      "FID: 87.2723\n",
      "Time: 0.12 min\n",
      "\n",
      "-- Partial --\n",
      "Best Epoch: epoch-30\n",
      "Best FID: 79.5287\n",
      "\n",
      "--------------------------------\n",
      "\n",
      "Epoch: 33\n"
     ]
    },
    {
     "name": "stderr",
     "output_type": "stream",
     "text": [
      "\n",
      "100%|██████████| 30/30 [00:00<00:00, 217.20it/s]"
     ]
    },
    {
     "name": "stdout",
     "output_type": "stream",
     "text": [
      "\n",
      "FID: 87.0102\n",
      "Time: 0.12 min\n",
      "\n",
      "-- Partial --\n",
      "Best Epoch: epoch-30\n",
      "Best FID: 79.5287\n",
      "\n",
      "--------------------------------\n",
      "\n",
      "Epoch: 34\n"
     ]
    },
    {
     "name": "stderr",
     "output_type": "stream",
     "text": [
      "\n",
      "100%|██████████| 30/30 [00:00<00:00, 219.26it/s]"
     ]
    },
    {
     "name": "stdout",
     "output_type": "stream",
     "text": [
      "\n",
      "FID: 92.9724\n",
      "Time: 0.12 min\n",
      "\n",
      "-- Partial --\n",
      "Best Epoch: epoch-30\n",
      "Best FID: 79.5287\n",
      "\n",
      "--------------------------------\n",
      "\n",
      "Epoch: 35\n"
     ]
    },
    {
     "name": "stderr",
     "output_type": "stream",
     "text": [
      "\n",
      "100%|██████████| 30/30 [00:00<00:00, 214.08it/s]"
     ]
    },
    {
     "name": "stdout",
     "output_type": "stream",
     "text": [
      "\n",
      "FID: 85.4700\n",
      "Time: 0.12 min\n",
      "\n",
      "-- Partial --\n",
      "Best Epoch: epoch-30\n",
      "Best FID: 79.5287\n",
      "\n",
      "--------------------------------\n",
      "\n",
      "Epoch: 36\n"
     ]
    },
    {
     "name": "stderr",
     "output_type": "stream",
     "text": [
      "\n",
      "100%|██████████| 30/30 [00:00<00:00, 218.76it/s]"
     ]
    },
    {
     "name": "stdout",
     "output_type": "stream",
     "text": [
      "\n",
      "FID: 86.8143\n",
      "Time: 0.12 min\n",
      "\n",
      "-- Partial --\n",
      "Best Epoch: epoch-30\n",
      "Best FID: 79.5287\n",
      "\n",
      "--------------------------------\n",
      "\n",
      "Epoch: 37\n"
     ]
    },
    {
     "name": "stderr",
     "output_type": "stream",
     "text": [
      "\n",
      "100%|██████████| 30/30 [00:00<00:00, 217.18it/s]"
     ]
    },
    {
     "name": "stdout",
     "output_type": "stream",
     "text": [
      "\n",
      "FID: 83.1086\n",
      "Time: 0.12 min\n",
      "\n",
      "-- Partial --\n",
      "Best Epoch: epoch-30\n",
      "Best FID: 79.5287\n",
      "\n",
      "--------------------------------\n",
      "\n",
      "Epoch: 38\n"
     ]
    },
    {
     "name": "stderr",
     "output_type": "stream",
     "text": [
      "\n",
      "100%|██████████| 30/30 [00:00<00:00, 217.19it/s]"
     ]
    },
    {
     "name": "stdout",
     "output_type": "stream",
     "text": [
      "\n",
      "FID: 81.7629\n",
      "Time: 0.12 min\n",
      "\n",
      "-- Partial --\n",
      "Best Epoch: epoch-30\n",
      "Best FID: 79.5287\n",
      "\n",
      "--------------------------------\n",
      "\n",
      "Epoch: 39\n"
     ]
    },
    {
     "name": "stderr",
     "output_type": "stream",
     "text": [
      "\n",
      "100%|██████████| 30/30 [00:00<00:00, 216.66it/s]"
     ]
    },
    {
     "name": "stdout",
     "output_type": "stream",
     "text": [
      "\n",
      "FID: 83.1114\n",
      "Time: 0.12 min\n",
      "\n",
      "-- Partial --\n",
      "Best Epoch: epoch-30\n",
      "Best FID: 79.5287\n",
      "\n",
      "--------------------------------\n",
      "\n",
      "Epoch: 40\n"
     ]
    },
    {
     "name": "stderr",
     "output_type": "stream",
     "text": [
      "\n",
      "100%|██████████| 30/30 [00:00<00:00, 216.02it/s]"
     ]
    },
    {
     "name": "stdout",
     "output_type": "stream",
     "text": [
      "\n",
      "FID: 94.1345\n",
      "Time: 0.12 min\n",
      "\n",
      "-- Partial --\n",
      "Best Epoch: epoch-30\n",
      "Best FID: 79.5287\n",
      "\n",
      "--------------------------------\n",
      "\n",
      "Epoch: 41\n"
     ]
    },
    {
     "name": "stderr",
     "output_type": "stream",
     "text": [
      "\n",
      "100%|██████████| 30/30 [00:00<00:00, 217.18it/s]"
     ]
    },
    {
     "name": "stdout",
     "output_type": "stream",
     "text": [
      "\n",
      "FID: 80.0098\n",
      "Time: 0.12 min\n",
      "\n",
      "-- Partial --\n",
      "Best Epoch: epoch-30\n",
      "Best FID: 79.5287\n",
      "\n",
      "--------------------------------\n",
      "\n",
      "Epoch: 42\n"
     ]
    },
    {
     "name": "stderr",
     "output_type": "stream",
     "text": [
      "\n",
      "100%|██████████| 30/30 [00:00<00:00, 216.47it/s]"
     ]
    },
    {
     "name": "stdout",
     "output_type": "stream",
     "text": [
      "\n",
      "FID: 88.3350\n",
      "Time: 0.12 min\n",
      "\n",
      "-- Partial --\n",
      "Best Epoch: epoch-30\n",
      "Best FID: 79.5287\n",
      "\n",
      "--------------------------------\n",
      "\n",
      "Epoch: 43\n"
     ]
    },
    {
     "name": "stderr",
     "output_type": "stream",
     "text": [
      "\n",
      "100%|██████████| 30/30 [00:00<00:00, 218.29it/s]"
     ]
    },
    {
     "name": "stdout",
     "output_type": "stream",
     "text": [
      "\n",
      "FID: 85.4558\n",
      "Time: 0.12 min\n",
      "\n",
      "-- Partial --\n",
      "Best Epoch: epoch-30\n",
      "Best FID: 79.5287\n",
      "\n",
      "--------------------------------\n",
      "\n",
      "Epoch: 44\n"
     ]
    },
    {
     "name": "stderr",
     "output_type": "stream",
     "text": [
      "\n",
      "100%|██████████| 30/30 [00:00<00:00, 218.78it/s]"
     ]
    },
    {
     "name": "stdout",
     "output_type": "stream",
     "text": [
      "\n",
      "FID: 79.4336\n",
      "Time: 0.12 min\n",
      "\n",
      "-- Partial --\n",
      "Best Epoch: epoch-44\n",
      "Best FID: 79.4336\n",
      "\n",
      "--------------------------------\n",
      "\n",
      "Epoch: 45\n"
     ]
    },
    {
     "name": "stderr",
     "output_type": "stream",
     "text": [
      "\n",
      "100%|██████████| 30/30 [00:00<00:00, 220.39it/s]"
     ]
    },
    {
     "name": "stdout",
     "output_type": "stream",
     "text": [
      "\n",
      "FID: 81.7683\n",
      "Time: 0.12 min\n",
      "\n",
      "-- Partial --\n",
      "Best Epoch: epoch-44\n",
      "Best FID: 79.4336\n",
      "\n",
      "--------------------------------\n",
      "\n",
      "Epoch: 46\n"
     ]
    },
    {
     "name": "stderr",
     "output_type": "stream",
     "text": [
      "\n",
      "100%|██████████| 30/30 [00:00<00:00, 202.52it/s]"
     ]
    },
    {
     "name": "stdout",
     "output_type": "stream",
     "text": [
      "\n",
      "FID: 90.4567\n",
      "Time: 0.12 min\n",
      "\n",
      "-- Partial --\n",
      "Best Epoch: epoch-44\n",
      "Best FID: 79.4336\n",
      "\n",
      "--------------------------------\n",
      "\n",
      "Epoch: 47\n"
     ]
    },
    {
     "name": "stderr",
     "output_type": "stream",
     "text": [
      "\n",
      "100%|██████████| 30/30 [00:00<00:00, 217.18it/s]"
     ]
    },
    {
     "name": "stdout",
     "output_type": "stream",
     "text": [
      "\n",
      "FID: 83.0029\n",
      "Time: 0.12 min\n",
      "\n",
      "-- Partial --\n",
      "Best Epoch: epoch-44\n",
      "Best FID: 79.4336\n",
      "\n",
      "--------------------------------\n",
      "\n",
      "Epoch: 48\n"
     ]
    },
    {
     "name": "stderr",
     "output_type": "stream",
     "text": [
      "\n",
      "100%|██████████| 30/30 [00:00<00:00, 222.55it/s]"
     ]
    },
    {
     "name": "stdout",
     "output_type": "stream",
     "text": [
      "\n",
      "FID: 77.3692\n",
      "Time: 0.12 min\n",
      "\n",
      "-- Partial --\n",
      "Best Epoch: epoch-48\n",
      "Best FID: 77.3692\n",
      "\n",
      "--------------------------------\n",
      "\n",
      "Epoch: 49\n"
     ]
    },
    {
     "name": "stderr",
     "output_type": "stream",
     "text": [
      "\n",
      "100%|██████████| 30/30 [00:00<00:00, 215.62it/s]"
     ]
    },
    {
     "name": "stdout",
     "output_type": "stream",
     "text": [
      "\n",
      "FID: 77.0839\n",
      "Time: 0.12 min\n",
      "\n",
      "-- Partial --\n",
      "Best Epoch: epoch-49\n",
      "Best FID: 77.0839\n",
      "\n",
      "--------------------------------\n",
      "\n",
      "Epoch: 50\n"
     ]
    },
    {
     "name": "stderr",
     "output_type": "stream",
     "text": [
      "\n",
      "100%|██████████| 30/30 [00:00<00:00, 213.87it/s]"
     ]
    },
    {
     "name": "stdout",
     "output_type": "stream",
     "text": [
      "\n",
      "FID: 75.4158\n",
      "Time: 0.12 min\n",
      "\n",
      "-- Partial --\n",
      "Best Epoch: epoch-50\n",
      "Best FID: 75.4158\n",
      "\n",
      "--------------------------------\n",
      "\n",
      "Epoch: 51\n"
     ]
    },
    {
     "name": "stderr",
     "output_type": "stream",
     "text": [
      "\n",
      "100%|██████████| 30/30 [00:00<00:00, 218.78it/s]"
     ]
    },
    {
     "name": "stdout",
     "output_type": "stream",
     "text": [
      "\n",
      "FID: 90.1526\n",
      "Time: 0.12 min\n",
      "\n",
      "-- Partial --\n",
      "Best Epoch: epoch-50\n",
      "Best FID: 75.4158\n",
      "\n",
      "--------------------------------\n",
      "\n",
      "Epoch: 52\n"
     ]
    },
    {
     "name": "stderr",
     "output_type": "stream",
     "text": [
      "\n",
      "100%|██████████| 30/30 [00:00<00:00, 213.94it/s]"
     ]
    },
    {
     "name": "stdout",
     "output_type": "stream",
     "text": [
      "\n",
      "FID: 91.3948\n",
      "Time: 0.12 min\n",
      "\n",
      "-- Partial --\n",
      "Best Epoch: epoch-50\n",
      "Best FID: 75.4158\n",
      "\n",
      "--------------------------------\n",
      "\n",
      "Epoch: 53\n"
     ]
    },
    {
     "name": "stderr",
     "output_type": "stream",
     "text": [
      "\n",
      "100%|██████████| 30/30 [00:00<00:00, 217.19it/s]"
     ]
    },
    {
     "name": "stdout",
     "output_type": "stream",
     "text": [
      "\n",
      "FID: 84.7866\n",
      "Time: 0.12 min\n",
      "\n",
      "-- Partial --\n",
      "Best Epoch: epoch-50\n",
      "Best FID: 75.4158\n",
      "\n",
      "--------------------------------\n",
      "\n",
      "Epoch: 54\n"
     ]
    },
    {
     "name": "stderr",
     "output_type": "stream",
     "text": [
      "\n",
      "100%|██████████| 30/30 [00:00<00:00, 213.16it/s]"
     ]
    },
    {
     "name": "stdout",
     "output_type": "stream",
     "text": [
      "\n",
      "FID: 86.4195\n",
      "Time: 0.12 min\n",
      "\n",
      "-- Partial --\n",
      "Best Epoch: epoch-50\n",
      "Best FID: 75.4158\n",
      "\n",
      "--------------------------------\n",
      "\n",
      "Epoch: 55\n"
     ]
    },
    {
     "name": "stderr",
     "output_type": "stream",
     "text": [
      "\n",
      "100%|██████████| 30/30 [00:00<00:00, 208.14it/s]"
     ]
    },
    {
     "name": "stdout",
     "output_type": "stream",
     "text": [
      "\n",
      "FID: 87.2734\n",
      "Time: 0.12 min\n",
      "\n",
      "-- Partial --\n",
      "Best Epoch: epoch-50\n",
      "Best FID: 75.4158\n",
      "\n",
      "--------------------------------\n",
      "\n",
      "Epoch: 56\n"
     ]
    },
    {
     "name": "stderr",
     "output_type": "stream",
     "text": [
      "\n",
      "100%|██████████| 30/30 [00:00<00:00, 218.78it/s]"
     ]
    },
    {
     "name": "stdout",
     "output_type": "stream",
     "text": [
      "\n",
      "FID: 83.2022\n",
      "Time: 0.12 min\n",
      "\n",
      "-- Partial --\n",
      "Best Epoch: epoch-50\n",
      "Best FID: 75.4158\n",
      "\n",
      "--------------------------------\n",
      "\n",
      "Epoch: 57\n"
     ]
    },
    {
     "name": "stderr",
     "output_type": "stream",
     "text": [
      "\n",
      "100%|██████████| 30/30 [00:00<00:00, 217.18it/s]"
     ]
    },
    {
     "name": "stdout",
     "output_type": "stream",
     "text": [
      "\n",
      "FID: 78.4555\n",
      "Time: 0.12 min\n",
      "\n",
      "-- Partial --\n",
      "Best Epoch: epoch-50\n",
      "Best FID: 75.4158\n",
      "\n",
      "--------------------------------\n",
      "\n",
      "Epoch: 58\n"
     ]
    },
    {
     "name": "stderr",
     "output_type": "stream",
     "text": [
      "\n",
      "100%|██████████| 30/30 [00:00<00:00, 217.18it/s]"
     ]
    },
    {
     "name": "stdout",
     "output_type": "stream",
     "text": [
      "\n",
      "FID: 77.0665\n",
      "Time: 0.12 min\n",
      "\n",
      "-- Partial --\n",
      "Best Epoch: epoch-50\n",
      "Best FID: 75.4158\n",
      "\n",
      "--------------------------------\n",
      "\n",
      "Epoch: 59\n"
     ]
    },
    {
     "name": "stderr",
     "output_type": "stream",
     "text": [
      "\n",
      "100%|██████████| 30/30 [00:00<00:00, 218.55it/s]"
     ]
    },
    {
     "name": "stdout",
     "output_type": "stream",
     "text": [
      "\n",
      "FID: 86.2835\n",
      "Time: 0.12 min\n",
      "\n",
      "-- Partial --\n",
      "Best Epoch: epoch-50\n",
      "Best FID: 75.4158\n",
      "\n",
      "--------------------------------\n",
      "\n",
      "Epoch: 60\n"
     ]
    },
    {
     "name": "stderr",
     "output_type": "stream",
     "text": [
      "\n",
      "100%|██████████| 30/30 [00:00<00:00, 211.47it/s]"
     ]
    },
    {
     "name": "stdout",
     "output_type": "stream",
     "text": [
      "\n",
      "FID: 81.5075\n",
      "Time: 0.12 min\n",
      "\n",
      "-- Partial --\n",
      "Best Epoch: epoch-50\n",
      "Best FID: 75.4158\n",
      "\n",
      "--------------------------------\n",
      "\n",
      "Epoch: 61\n"
     ]
    },
    {
     "name": "stderr",
     "output_type": "stream",
     "text": [
      "\n",
      "100%|██████████| 30/30 [00:00<00:00, 218.78it/s]"
     ]
    },
    {
     "name": "stdout",
     "output_type": "stream",
     "text": [
      "\n",
      "FID: 82.9564\n",
      "Time: 0.12 min\n",
      "\n",
      "-- Partial --\n",
      "Best Epoch: epoch-50\n",
      "Best FID: 75.4158\n",
      "\n",
      "--------------------------------\n",
      "\n",
      "Epoch: 62\n"
     ]
    },
    {
     "name": "stderr",
     "output_type": "stream",
     "text": [
      "\n",
      "100%|██████████| 30/30 [00:00<00:00, 217.38it/s]"
     ]
    },
    {
     "name": "stdout",
     "output_type": "stream",
     "text": [
      "\n",
      "FID: 79.3711\n",
      "Time: 0.12 min\n",
      "\n",
      "-- Partial --\n",
      "Best Epoch: epoch-50\n",
      "Best FID: 75.4158\n",
      "\n",
      "--------------------------------\n",
      "\n",
      "Epoch: 63\n"
     ]
    },
    {
     "name": "stderr",
     "output_type": "stream",
     "text": [
      "\n",
      "100%|██████████| 30/30 [00:00<00:00, 215.65it/s]"
     ]
    },
    {
     "name": "stdout",
     "output_type": "stream",
     "text": [
      "\n",
      "FID: 77.0618\n",
      "Time: 0.12 min\n",
      "\n",
      "-- Partial --\n",
      "Best Epoch: epoch-50\n",
      "Best FID: 75.4158\n",
      "\n",
      "--------------------------------\n",
      "\n",
      "Epoch: 64\n"
     ]
    },
    {
     "name": "stderr",
     "output_type": "stream",
     "text": [
      "\n",
      "100%|██████████| 30/30 [00:00<00:00, 214.52it/s]"
     ]
    },
    {
     "name": "stdout",
     "output_type": "stream",
     "text": [
      "\n",
      "FID: 77.1420\n",
      "Time: 0.12 min\n",
      "\n",
      "-- Partial --\n",
      "Best Epoch: epoch-50\n",
      "Best FID: 75.4158\n",
      "\n",
      "--------------------------------\n",
      "\n",
      "Epoch: 65\n"
     ]
    },
    {
     "name": "stderr",
     "output_type": "stream",
     "text": [
      "\n",
      "100%|██████████| 30/30 [00:00<00:00, 217.18it/s]"
     ]
    },
    {
     "name": "stdout",
     "output_type": "stream",
     "text": [
      "\n",
      "FID: 79.9319\n",
      "Time: 0.12 min\n",
      "\n",
      "-- Partial --\n",
      "Best Epoch: epoch-50\n",
      "Best FID: 75.4158\n",
      "\n",
      "--------------------------------\n",
      "\n",
      "Epoch: 66\n"
     ]
    },
    {
     "name": "stderr",
     "output_type": "stream",
     "text": [
      "\n",
      "100%|██████████| 30/30 [00:00<00:00, 214.09it/s]"
     ]
    },
    {
     "name": "stdout",
     "output_type": "stream",
     "text": [
      "\n",
      "FID: 79.2530\n",
      "Time: 0.12 min\n",
      "\n",
      "-- Partial --\n",
      "Best Epoch: epoch-50\n",
      "Best FID: 75.4158\n",
      "\n",
      "--------------------------------\n",
      "\n",
      "Epoch: 67\n"
     ]
    },
    {
     "name": "stderr",
     "output_type": "stream",
     "text": [
      "\n",
      "100%|██████████| 30/30 [00:00<00:00, 221.77it/s]"
     ]
    },
    {
     "name": "stdout",
     "output_type": "stream",
     "text": [
      "\n",
      "FID: 81.6455\n",
      "Time: 0.12 min\n",
      "\n",
      "-- Partial --\n",
      "Best Epoch: epoch-50\n",
      "Best FID: 75.4158\n",
      "\n",
      "--------------------------------\n",
      "\n",
      "Epoch: 68\n"
     ]
    },
    {
     "name": "stderr",
     "output_type": "stream",
     "text": [
      "\n",
      "100%|██████████| 30/30 [00:00<00:00, 215.63it/s]"
     ]
    },
    {
     "name": "stdout",
     "output_type": "stream",
     "text": [
      "\n",
      "FID: 67.9490\n",
      "Time: 0.12 min\n",
      "\n",
      "-- Partial --\n",
      "Best Epoch: epoch-68\n",
      "Best FID: 67.9490\n",
      "\n",
      "--------------------------------\n",
      "\n",
      "Epoch: 69\n"
     ]
    },
    {
     "name": "stderr",
     "output_type": "stream",
     "text": [
      "\n",
      "100%|██████████| 30/30 [00:00<00:00, 212.42it/s]"
     ]
    },
    {
     "name": "stdout",
     "output_type": "stream",
     "text": [
      "\n",
      "FID: 75.1715\n",
      "Time: 0.12 min\n",
      "\n",
      "-- Partial --\n",
      "Best Epoch: epoch-68\n",
      "Best FID: 67.9490\n",
      "\n",
      "--------------------------------\n",
      "\n",
      "Epoch: 70\n"
     ]
    },
    {
     "name": "stderr",
     "output_type": "stream",
     "text": [
      "\n",
      "100%|██████████| 30/30 [00:00<00:00, 217.19it/s]"
     ]
    },
    {
     "name": "stdout",
     "output_type": "stream",
     "text": [
      "\n",
      "FID: 77.2607\n",
      "Time: 0.12 min\n",
      "\n",
      "-- Partial --\n",
      "Best Epoch: epoch-68\n",
      "Best FID: 67.9490\n",
      "\n",
      "--------------------------------\n",
      "\n",
      "Epoch: 71\n"
     ]
    },
    {
     "name": "stderr",
     "output_type": "stream",
     "text": [
      "\n",
      "100%|██████████| 30/30 [00:00<00:00, 218.57it/s]"
     ]
    },
    {
     "name": "stdout",
     "output_type": "stream",
     "text": [
      "\n",
      "FID: 74.9143\n",
      "Time: 0.12 min\n",
      "\n",
      "-- Partial --\n",
      "Best Epoch: epoch-68\n",
      "Best FID: 67.9490\n",
      "\n",
      "--------------------------------\n",
      "\n",
      "Epoch: 72\n"
     ]
    },
    {
     "name": "stderr",
     "output_type": "stream",
     "text": [
      "\n",
      "100%|██████████| 30/30 [00:00<00:00, 206.71it/s]"
     ]
    },
    {
     "name": "stdout",
     "output_type": "stream",
     "text": [
      "\n",
      "FID: 73.3507\n",
      "Time: 0.12 min\n",
      "\n",
      "-- Partial --\n",
      "Best Epoch: epoch-68\n",
      "Best FID: 67.9490\n",
      "\n",
      "--------------------------------\n",
      "\n",
      "Epoch: 73\n"
     ]
    },
    {
     "name": "stderr",
     "output_type": "stream",
     "text": [
      "\n",
      "100%|██████████| 30/30 [00:00<00:00, 199.82it/s]"
     ]
    },
    {
     "name": "stdout",
     "output_type": "stream",
     "text": [
      "\n",
      "FID: 82.3704\n",
      "Time: 0.12 min\n",
      "\n",
      "-- Partial --\n",
      "Best Epoch: epoch-68\n",
      "Best FID: 67.9490\n",
      "\n",
      "--------------------------------\n",
      "\n",
      "Epoch: 74\n"
     ]
    },
    {
     "name": "stderr",
     "output_type": "stream",
     "text": [
      "\n",
      "100%|██████████| 30/30 [00:00<00:00, 211.07it/s]"
     ]
    },
    {
     "name": "stdout",
     "output_type": "stream",
     "text": [
      "\n",
      "FID: 71.5014\n",
      "Time: 0.12 min\n",
      "\n",
      "-- Partial --\n",
      "Best Epoch: epoch-68\n",
      "Best FID: 67.9490\n",
      "\n",
      "--------------------------------\n",
      "\n",
      "Epoch: 75\n"
     ]
    },
    {
     "name": "stderr",
     "output_type": "stream",
     "text": [
      "\n",
      "100%|██████████| 30/30 [00:00<00:00, 215.63it/s]"
     ]
    },
    {
     "name": "stdout",
     "output_type": "stream",
     "text": [
      "\n",
      "FID: 77.1305\n",
      "Time: 0.12 min\n",
      "\n",
      "-- Partial --\n",
      "Best Epoch: epoch-68\n",
      "Best FID: 67.9490\n",
      "\n",
      "--------------------------------\n",
      "\n",
      "Epoch: 76\n"
     ]
    },
    {
     "name": "stderr",
     "output_type": "stream",
     "text": [
      "\n",
      "100%|██████████| 30/30 [00:00<00:00, 218.79it/s]"
     ]
    },
    {
     "name": "stdout",
     "output_type": "stream",
     "text": [
      "\n",
      "FID: 73.5369\n",
      "Time: 0.12 min\n",
      "\n",
      "-- Partial --\n",
      "Best Epoch: epoch-68\n",
      "Best FID: 67.9490\n",
      "\n",
      "--------------------------------\n",
      "\n",
      "Epoch: 77\n"
     ]
    },
    {
     "name": "stderr",
     "output_type": "stream",
     "text": [
      "\n",
      "100%|██████████| 30/30 [00:00<00:00, 216.75it/s]"
     ]
    },
    {
     "name": "stdout",
     "output_type": "stream",
     "text": [
      "\n",
      "FID: 76.2743\n",
      "Time: 0.12 min\n",
      "\n",
      "-- Partial --\n",
      "Best Epoch: epoch-68\n",
      "Best FID: 67.9490\n",
      "\n",
      "--------------------------------\n",
      "\n",
      "Epoch: 78\n"
     ]
    },
    {
     "name": "stderr",
     "output_type": "stream",
     "text": [
      "\n",
      "100%|██████████| 30/30 [00:00<00:00, 223.66it/s]"
     ]
    },
    {
     "name": "stdout",
     "output_type": "stream",
     "text": [
      "\n",
      "FID: 73.2117\n",
      "Time: 0.12 min\n",
      "\n",
      "-- Partial --\n",
      "Best Epoch: epoch-68\n",
      "Best FID: 67.9490\n",
      "\n",
      "--------------------------------\n",
      "\n",
      "Epoch: 79\n"
     ]
    },
    {
     "name": "stderr",
     "output_type": "stream",
     "text": [
      "\n",
      "100%|██████████| 30/30 [00:00<00:00, 212.33it/s]"
     ]
    },
    {
     "name": "stdout",
     "output_type": "stream",
     "text": [
      "\n",
      "FID: 82.7189\n",
      "Time: 0.12 min\n",
      "\n",
      "-- Partial --\n",
      "Best Epoch: epoch-68\n",
      "Best FID: 67.9490\n",
      "\n",
      "--------------------------------\n",
      "\n",
      "Epoch: 80\n"
     ]
    },
    {
     "name": "stderr",
     "output_type": "stream",
     "text": [
      "\n",
      "100%|██████████| 30/30 [00:00<00:00, 215.37it/s]"
     ]
    },
    {
     "name": "stdout",
     "output_type": "stream",
     "text": [
      "\n",
      "FID: 73.8007\n",
      "Time: 0.12 min\n",
      "\n",
      "-- Partial --\n",
      "Best Epoch: epoch-68\n",
      "Best FID: 67.9490\n",
      "\n",
      "--------------------------------\n",
      "\n",
      "Epoch: 81\n"
     ]
    },
    {
     "name": "stderr",
     "output_type": "stream",
     "text": [
      "\n",
      "100%|██████████| 30/30 [00:00<00:00, 206.71it/s]"
     ]
    },
    {
     "name": "stdout",
     "output_type": "stream",
     "text": [
      "\n",
      "FID: 84.7298\n",
      "Time: 0.12 min\n",
      "\n",
      "-- Partial --\n",
      "Best Epoch: epoch-68\n",
      "Best FID: 67.9490\n",
      "\n",
      "--------------------------------\n",
      "\n",
      "Epoch: 82\n"
     ]
    },
    {
     "name": "stderr",
     "output_type": "stream",
     "text": [
      "\n",
      "100%|██████████| 30/30 [00:00<00:00, 217.18it/s]"
     ]
    },
    {
     "name": "stdout",
     "output_type": "stream",
     "text": [
      "\n",
      "FID: 78.0558\n",
      "Time: 0.12 min\n",
      "\n",
      "-- Partial --\n",
      "Best Epoch: epoch-68\n",
      "Best FID: 67.9490\n",
      "\n",
      "--------------------------------\n",
      "\n",
      "Epoch: 83\n"
     ]
    },
    {
     "name": "stderr",
     "output_type": "stream",
     "text": [
      "\n",
      "100%|██████████| 30/30 [00:00<00:00, 218.76it/s]"
     ]
    },
    {
     "name": "stdout",
     "output_type": "stream",
     "text": [
      "\n",
      "FID: 73.9851\n",
      "Time: 0.12 min\n",
      "\n",
      "-- Partial --\n",
      "Best Epoch: epoch-68\n",
      "Best FID: 67.9490\n",
      "\n",
      "--------------------------------\n",
      "\n",
      "Epoch: 84\n"
     ]
    },
    {
     "name": "stderr",
     "output_type": "stream",
     "text": [
      "\n",
      "100%|██████████| 30/30 [00:00<00:00, 217.20it/s]"
     ]
    },
    {
     "name": "stdout",
     "output_type": "stream",
     "text": [
      "\n",
      "FID: 81.0777\n",
      "Time: 0.12 min\n",
      "\n",
      "-- Partial --\n",
      "Best Epoch: epoch-68\n",
      "Best FID: 67.9490\n",
      "\n",
      "--------------------------------\n",
      "\n",
      "Epoch: 85\n"
     ]
    },
    {
     "name": "stderr",
     "output_type": "stream",
     "text": [
      "\n",
      "100%|██████████| 30/30 [00:00<00:00, 218.78it/s]"
     ]
    },
    {
     "name": "stdout",
     "output_type": "stream",
     "text": [
      "\n",
      "FID: 84.4081\n",
      "Time: 0.12 min\n",
      "\n",
      "-- Partial --\n",
      "Best Epoch: epoch-68\n",
      "Best FID: 67.9490\n",
      "\n",
      "--------------------------------\n",
      "\n",
      "Epoch: 86\n"
     ]
    },
    {
     "name": "stderr",
     "output_type": "stream",
     "text": [
      "\n",
      "100%|██████████| 30/30 [00:00<00:00, 214.70it/s]"
     ]
    },
    {
     "name": "stdout",
     "output_type": "stream",
     "text": [
      "\n",
      "FID: 84.6944\n",
      "Time: 0.12 min\n",
      "\n",
      "-- Partial --\n",
      "Best Epoch: epoch-68\n",
      "Best FID: 67.9490\n",
      "\n",
      "--------------------------------\n",
      "\n",
      "Epoch: 87\n"
     ]
    },
    {
     "name": "stderr",
     "output_type": "stream",
     "text": [
      "\n",
      "100%|██████████| 30/30 [00:00<00:00, 209.56it/s]"
     ]
    },
    {
     "name": "stdout",
     "output_type": "stream",
     "text": [
      "\n",
      "FID: 76.2018\n",
      "Time: 0.12 min\n",
      "\n",
      "-- Partial --\n",
      "Best Epoch: epoch-68\n",
      "Best FID: 67.9490\n",
      "\n",
      "--------------------------------\n",
      "\n",
      "Epoch: 88\n"
     ]
    },
    {
     "name": "stderr",
     "output_type": "stream",
     "text": [
      "\n",
      "100%|██████████| 30/30 [00:00<00:00, 214.09it/s]"
     ]
    },
    {
     "name": "stdout",
     "output_type": "stream",
     "text": [
      "\n",
      "FID: 84.4656\n",
      "Time: 0.12 min\n",
      "\n",
      "-- Partial --\n",
      "Best Epoch: epoch-68\n",
      "Best FID: 67.9490\n",
      "\n",
      "--------------------------------\n",
      "\n",
      "Epoch: 89\n"
     ]
    },
    {
     "name": "stderr",
     "output_type": "stream",
     "text": [
      "\n",
      "100%|██████████| 30/30 [00:00<00:00, 198.93it/s]"
     ]
    },
    {
     "name": "stdout",
     "output_type": "stream",
     "text": [
      "\n",
      "FID: 76.4813\n",
      "Time: 0.12 min\n",
      "\n",
      "-- Partial --\n",
      "Best Epoch: epoch-68\n",
      "Best FID: 67.9490\n",
      "\n",
      "--------------------------------\n",
      "\n",
      "Epoch: 90\n"
     ]
    },
    {
     "name": "stderr",
     "output_type": "stream",
     "text": [
      "\n",
      "100%|██████████| 30/30 [00:00<00:00, 215.62it/s]"
     ]
    },
    {
     "name": "stdout",
     "output_type": "stream",
     "text": [
      "\n",
      "FID: 76.1858\n",
      "Time: 0.12 min\n",
      "\n",
      "-- Partial --\n",
      "Best Epoch: epoch-68\n",
      "Best FID: 67.9490\n",
      "\n",
      "--------------------------------\n",
      "\n",
      "Epoch: 91\n"
     ]
    },
    {
     "name": "stderr",
     "output_type": "stream",
     "text": [
      "\n",
      "100%|██████████| 30/30 [00:00<00:00, 212.57it/s]"
     ]
    },
    {
     "name": "stdout",
     "output_type": "stream",
     "text": [
      "\n",
      "FID: 71.4768\n",
      "Time: 0.12 min\n",
      "\n",
      "-- Partial --\n",
      "Best Epoch: epoch-68\n",
      "Best FID: 67.9490\n",
      "\n",
      "--------------------------------\n",
      "\n",
      "Epoch: 92\n"
     ]
    },
    {
     "name": "stderr",
     "output_type": "stream",
     "text": [
      "\n",
      "100%|██████████| 30/30 [00:00<00:00, 212.56it/s]"
     ]
    },
    {
     "name": "stdout",
     "output_type": "stream",
     "text": [
      "\n",
      "FID: 76.8471\n",
      "Time: 0.12 min\n",
      "\n",
      "-- Partial --\n",
      "Best Epoch: epoch-68\n",
      "Best FID: 67.9490\n",
      "\n",
      "--------------------------------\n",
      "\n",
      "Epoch: 93\n"
     ]
    },
    {
     "name": "stderr",
     "output_type": "stream",
     "text": [
      "\n",
      "100%|██████████| 30/30 [00:00<00:00, 215.64it/s]"
     ]
    },
    {
     "name": "stdout",
     "output_type": "stream",
     "text": [
      "\n",
      "FID: 75.5121\n",
      "Time: 0.12 min\n",
      "\n",
      "-- Partial --\n",
      "Best Epoch: epoch-68\n",
      "Best FID: 67.9490\n",
      "\n",
      "--------------------------------\n",
      "\n",
      "Epoch: 94\n"
     ]
    },
    {
     "name": "stderr",
     "output_type": "stream",
     "text": [
      "\n",
      "100%|██████████| 30/30 [00:00<00:00, 217.18it/s]"
     ]
    },
    {
     "name": "stdout",
     "output_type": "stream",
     "text": [
      "\n",
      "FID: 69.6993\n",
      "Time: 0.12 min\n",
      "\n",
      "-- Partial --\n",
      "Best Epoch: epoch-68\n",
      "Best FID: 67.9490\n",
      "\n",
      "--------------------------------\n",
      "\n",
      "Epoch: 95\n"
     ]
    },
    {
     "name": "stderr",
     "output_type": "stream",
     "text": [
      "\n",
      "100%|██████████| 30/30 [00:00<00:00, 217.18it/s]"
     ]
    },
    {
     "name": "stdout",
     "output_type": "stream",
     "text": [
      "\n",
      "FID: 71.9040\n",
      "Time: 0.12 min\n",
      "\n",
      "-- Partial --\n",
      "Best Epoch: epoch-68\n",
      "Best FID: 67.9490\n",
      "\n",
      "--------------------------------\n",
      "\n",
      "Epoch: 96\n"
     ]
    },
    {
     "name": "stderr",
     "output_type": "stream",
     "text": [
      "\n",
      "100%|██████████| 30/30 [00:00<00:00, 208.13it/s]"
     ]
    },
    {
     "name": "stdout",
     "output_type": "stream",
     "text": [
      "\n",
      "FID: 81.3181\n",
      "Time: 0.12 min\n",
      "\n",
      "-- Partial --\n",
      "Best Epoch: epoch-68\n",
      "Best FID: 67.9490\n",
      "\n",
      "--------------------------------\n",
      "\n",
      "Epoch: 97\n"
     ]
    },
    {
     "name": "stderr",
     "output_type": "stream",
     "text": [
      "\n",
      "100%|██████████| 30/30 [00:00<00:00, 216.52it/s]"
     ]
    },
    {
     "name": "stdout",
     "output_type": "stream",
     "text": [
      "\n",
      "FID: 73.0542\n",
      "Time: 0.12 min\n",
      "\n",
      "-- Partial --\n",
      "Best Epoch: epoch-68\n",
      "Best FID: 67.9490\n",
      "\n",
      "--------------------------------\n",
      "\n",
      "Epoch: 98\n"
     ]
    },
    {
     "name": "stderr",
     "output_type": "stream",
     "text": [
      "\n",
      "100%|██████████| 30/30 [00:00<00:00, 211.06it/s]"
     ]
    },
    {
     "name": "stdout",
     "output_type": "stream",
     "text": [
      "\n",
      "FID: 77.8996\n",
      "Time: 0.12 min\n",
      "\n",
      "-- Partial --\n",
      "Best Epoch: epoch-68\n",
      "Best FID: 67.9490\n",
      "\n",
      "--------------------------------\n",
      "\n",
      "Epoch: 99\n"
     ]
    },
    {
     "name": "stderr",
     "output_type": "stream",
     "text": [
      "\n",
      "100%|██████████| 30/30 [00:00<00:00, 215.36it/s]"
     ]
    },
    {
     "name": "stdout",
     "output_type": "stream",
     "text": [
      "\n",
      "FID: 73.4167\n",
      "Time: 0.12 min\n",
      "\n",
      "-- Partial --\n",
      "Best Epoch: epoch-68\n",
      "Best FID: 67.9490\n",
      "\n",
      "--------------------------------\n",
      "\n",
      "Epoch: 100\n"
     ]
    },
    {
     "name": "stderr",
     "output_type": "stream",
     "text": [
      "\n",
      "100%|██████████| 30/30 [00:00<00:00, 215.67it/s]"
     ]
    },
    {
     "name": "stdout",
     "output_type": "stream",
     "text": [
      "\n",
      "FID: 75.2754\n",
      "Time: 0.12 min\n",
      "\n",
      "-- Partial --\n",
      "Best Epoch: epoch-68\n",
      "Best FID: 67.9490\n",
      "\n",
      "--------------------------------\n",
      "\n",
      "Epoch: 101\n"
     ]
    },
    {
     "name": "stderr",
     "output_type": "stream",
     "text": [
      "\n",
      "100%|██████████| 30/30 [00:00<00:00, 215.58it/s]"
     ]
    },
    {
     "name": "stdout",
     "output_type": "stream",
     "text": [
      "\n",
      "FID: 79.5675\n",
      "Time: 0.12 min\n",
      "\n",
      "-- Partial --\n",
      "Best Epoch: epoch-68\n",
      "Best FID: 67.9490\n",
      "\n",
      "--------------------------------\n",
      "\n",
      "Epoch: 102\n"
     ]
    },
    {
     "name": "stderr",
     "output_type": "stream",
     "text": [
      "\n",
      "100%|██████████| 30/30 [00:00<00:00, 217.19it/s]"
     ]
    },
    {
     "name": "stdout",
     "output_type": "stream",
     "text": [
      "\n",
      "FID: 78.5340\n",
      "Time: 0.12 min\n",
      "\n",
      "-- Partial --\n",
      "Best Epoch: epoch-68\n",
      "Best FID: 67.9490\n",
      "\n",
      "--------------------------------\n",
      "\n",
      "Epoch: 103\n"
     ]
    },
    {
     "name": "stderr",
     "output_type": "stream",
     "text": [
      "\n",
      "100%|██████████| 30/30 [00:00<00:00, 197.19it/s]"
     ]
    },
    {
     "name": "stdout",
     "output_type": "stream",
     "text": [
      "\n",
      "FID: 80.5949\n",
      "Time: 0.12 min\n",
      "\n",
      "-- Partial --\n",
      "Best Epoch: epoch-68\n",
      "Best FID: 67.9490\n",
      "\n",
      "--------------------------------\n",
      "\n",
      "Epoch: 104\n"
     ]
    },
    {
     "name": "stderr",
     "output_type": "stream",
     "text": [
      "\n",
      "100%|██████████| 30/30 [00:00<00:00, 208.61it/s]"
     ]
    },
    {
     "name": "stdout",
     "output_type": "stream",
     "text": [
      "\n",
      "FID: 76.0049\n",
      "Time: 0.12 min\n",
      "\n",
      "-- Partial --\n",
      "Best Epoch: epoch-68\n",
      "Best FID: 67.9490\n",
      "\n",
      "--------------------------------\n",
      "\n",
      "Epoch: 105\n"
     ]
    },
    {
     "name": "stderr",
     "output_type": "stream",
     "text": [
      "\n",
      "100%|██████████| 30/30 [00:00<00:00, 218.25it/s]"
     ]
    },
    {
     "name": "stdout",
     "output_type": "stream",
     "text": [
      "\n",
      "FID: 79.5203\n",
      "Time: 0.12 min\n",
      "\n",
      "-- Partial --\n",
      "Best Epoch: epoch-68\n",
      "Best FID: 67.9490\n",
      "\n",
      "--------------------------------\n",
      "\n",
      "Epoch: 106\n"
     ]
    },
    {
     "name": "stderr",
     "output_type": "stream",
     "text": [
      "\n",
      "100%|██████████| 30/30 [00:00<00:00, 215.41it/s]"
     ]
    },
    {
     "name": "stdout",
     "output_type": "stream",
     "text": [
      "\n",
      "FID: 76.4808\n",
      "Time: 0.12 min\n",
      "\n",
      "-- Partial --\n",
      "Best Epoch: epoch-68\n",
      "Best FID: 67.9490\n",
      "\n",
      "--------------------------------\n",
      "\n",
      "Epoch: 107\n"
     ]
    },
    {
     "name": "stderr",
     "output_type": "stream",
     "text": [
      "\n",
      "100%|██████████| 30/30 [00:00<00:00, 215.65it/s]"
     ]
    },
    {
     "name": "stdout",
     "output_type": "stream",
     "text": [
      "\n",
      "FID: 81.0660\n",
      "Time: 0.12 min\n",
      "\n",
      "-- Partial --\n",
      "Best Epoch: epoch-68\n",
      "Best FID: 67.9490\n",
      "\n",
      "--------------------------------\n",
      "\n",
      "Epoch: 108\n"
     ]
    },
    {
     "name": "stderr",
     "output_type": "stream",
     "text": [
      "\n",
      "100%|██████████| 30/30 [00:00<00:00, 208.36it/s]"
     ]
    },
    {
     "name": "stdout",
     "output_type": "stream",
     "text": [
      "\n",
      "FID: 84.8387\n",
      "Time: 0.12 min\n",
      "\n",
      "-- Partial --\n",
      "Best Epoch: epoch-68\n",
      "Best FID: 67.9490\n",
      "\n",
      "--------------------------------\n",
      "\n",
      "Epoch: 109\n"
     ]
    },
    {
     "name": "stderr",
     "output_type": "stream",
     "text": [
      "\n",
      "100%|██████████| 30/30 [00:00<00:00, 220.38it/s]"
     ]
    },
    {
     "name": "stdout",
     "output_type": "stream",
     "text": [
      "\n",
      "FID: 85.1762\n",
      "Time: 0.12 min\n",
      "\n",
      "-- Partial --\n",
      "Best Epoch: epoch-68\n",
      "Best FID: 67.9490\n",
      "\n",
      "--------------------------------\n",
      "\n",
      "Epoch: 110\n"
     ]
    },
    {
     "name": "stderr",
     "output_type": "stream",
     "text": [
      "\n",
      "100%|██████████| 30/30 [00:00<00:00, 215.62it/s]"
     ]
    },
    {
     "name": "stdout",
     "output_type": "stream",
     "text": [
      "\n",
      "FID: 78.3705\n",
      "Time: 0.12 min\n",
      "\n",
      "-- Partial --\n",
      "Best Epoch: epoch-68\n",
      "Best FID: 67.9490\n",
      "\n",
      "--------------------------------\n",
      "\n",
      "Epoch: 111\n"
     ]
    },
    {
     "name": "stderr",
     "output_type": "stream",
     "text": [
      "\n",
      "100%|██████████| 30/30 [00:00<00:00, 209.59it/s]"
     ]
    },
    {
     "name": "stdout",
     "output_type": "stream",
     "text": [
      "\n",
      "FID: 81.3606\n",
      "Time: 0.12 min\n",
      "\n",
      "-- Partial --\n",
      "Best Epoch: epoch-68\n",
      "Best FID: 67.9490\n",
      "\n",
      "--------------------------------\n",
      "\n",
      "Epoch: 112\n"
     ]
    },
    {
     "name": "stderr",
     "output_type": "stream",
     "text": [
      "\n",
      "100%|██████████| 30/30 [00:00<00:00, 219.16it/s]"
     ]
    },
    {
     "name": "stdout",
     "output_type": "stream",
     "text": [
      "\n",
      "FID: 78.0319\n",
      "Time: 0.12 min\n",
      "\n",
      "-- Partial --\n",
      "Best Epoch: epoch-68\n",
      "Best FID: 67.9490\n",
      "\n",
      "--------------------------------\n",
      "\n",
      "Epoch: 113\n"
     ]
    },
    {
     "name": "stderr",
     "output_type": "stream",
     "text": [
      "\n",
      "100%|██████████| 30/30 [00:00<00:00, 216.29it/s]"
     ]
    },
    {
     "name": "stdout",
     "output_type": "stream",
     "text": [
      "\n",
      "FID: 77.8858\n",
      "Time: 0.12 min\n",
      "\n",
      "-- Partial --\n",
      "Best Epoch: epoch-68\n",
      "Best FID: 67.9490\n",
      "\n",
      "--------------------------------\n",
      "\n",
      "Epoch: 114\n"
     ]
    },
    {
     "name": "stderr",
     "output_type": "stream",
     "text": [
      "\n",
      "100%|██████████| 30/30 [00:00<00:00, 215.63it/s]"
     ]
    },
    {
     "name": "stdout",
     "output_type": "stream",
     "text": [
      "\n",
      "FID: 72.1505\n",
      "Time: 0.12 min\n",
      "\n",
      "-- Partial --\n",
      "Best Epoch: epoch-68\n",
      "Best FID: 67.9490\n",
      "\n",
      "--------------------------------\n",
      "\n",
      "Epoch: 115\n"
     ]
    },
    {
     "name": "stderr",
     "output_type": "stream",
     "text": [
      "\n",
      "100%|██████████| 30/30 [00:00<00:00, 211.08it/s]"
     ]
    },
    {
     "name": "stdout",
     "output_type": "stream",
     "text": [
      "\n",
      "FID: 79.6098\n",
      "Time: 0.12 min\n",
      "\n",
      "-- Partial --\n",
      "Best Epoch: epoch-68\n",
      "Best FID: 67.9490\n",
      "\n",
      "--------------------------------\n",
      "\n",
      "Epoch: 116\n"
     ]
    },
    {
     "name": "stderr",
     "output_type": "stream",
     "text": [
      "\n",
      "100%|██████████| 30/30 [00:00<00:00, 217.21it/s]"
     ]
    },
    {
     "name": "stdout",
     "output_type": "stream",
     "text": [
      "\n",
      "FID: 73.5605\n",
      "Time: 0.12 min\n",
      "\n",
      "-- Partial --\n",
      "Best Epoch: epoch-68\n",
      "Best FID: 67.9490\n",
      "\n",
      "--------------------------------\n",
      "\n",
      "Epoch: 117\n"
     ]
    },
    {
     "name": "stderr",
     "output_type": "stream",
     "text": [
      "\n",
      "100%|██████████| 30/30 [00:00<00:00, 211.89it/s]"
     ]
    },
    {
     "name": "stdout",
     "output_type": "stream",
     "text": [
      "\n",
      "FID: 74.3049\n",
      "Time: 0.12 min\n",
      "\n",
      "-- Partial --\n",
      "Best Epoch: epoch-68\n",
      "Best FID: 67.9490\n",
      "\n",
      "--------------------------------\n",
      "\n",
      "Epoch: 118\n"
     ]
    },
    {
     "name": "stderr",
     "output_type": "stream",
     "text": [
      "\n",
      "100%|██████████| 30/30 [00:00<00:00, 179.48it/s]"
     ]
    },
    {
     "name": "stdout",
     "output_type": "stream",
     "text": [
      "\n",
      "FID: 76.4048\n",
      "Time: 0.12 min\n",
      "\n",
      "-- Partial --\n",
      "Best Epoch: epoch-68\n",
      "Best FID: 67.9490\n",
      "\n",
      "--------------------------------\n",
      "\n",
      "Epoch: 119\n"
     ]
    },
    {
     "name": "stderr",
     "output_type": "stream",
     "text": [
      "\n",
      "100%|██████████| 30/30 [00:00<00:00, 209.60it/s]"
     ]
    },
    {
     "name": "stdout",
     "output_type": "stream",
     "text": [
      "\n",
      "FID: 83.7765\n",
      "Time: 0.12 min\n",
      "\n",
      "-- Partial --\n",
      "Best Epoch: epoch-68\n",
      "Best FID: 67.9490\n",
      "\n",
      "--------------------------------\n",
      "\n",
      "Epoch: 120\n"
     ]
    },
    {
     "name": "stderr",
     "output_type": "stream",
     "text": [
      "\n",
      "100%|██████████| 30/30 [00:00<00:00, 208.64it/s]"
     ]
    },
    {
     "name": "stdout",
     "output_type": "stream",
     "text": [
      "\n",
      "FID: 76.0735\n",
      "Time: 0.12 min\n",
      "\n",
      "-- Partial --\n",
      "Best Epoch: epoch-68\n",
      "Best FID: 67.9490\n",
      "\n",
      "--------------------------------\n",
      "\n",
      "Epoch: 121\n"
     ]
    },
    {
     "name": "stderr",
     "output_type": "stream",
     "text": [
      "\n",
      "100%|██████████| 30/30 [00:00<00:00, 209.51it/s]"
     ]
    },
    {
     "name": "stdout",
     "output_type": "stream",
     "text": [
      "\n",
      "FID: 83.2575\n",
      "Time: 0.12 min\n",
      "\n",
      "-- Partial --\n",
      "Best Epoch: epoch-68\n",
      "Best FID: 67.9490\n",
      "\n",
      "--------------------------------\n",
      "\n",
      "Epoch: 122\n"
     ]
    },
    {
     "name": "stderr",
     "output_type": "stream",
     "text": [
      "\n",
      "100%|██████████| 30/30 [00:00<00:00, 212.26it/s]"
     ]
    },
    {
     "name": "stdout",
     "output_type": "stream",
     "text": [
      "\n",
      "FID: 73.3869\n",
      "Time: 0.12 min\n",
      "\n",
      "-- Partial --\n",
      "Best Epoch: epoch-68\n",
      "Best FID: 67.9490\n",
      "\n",
      "--------------------------------\n",
      "\n",
      "Epoch: 123\n"
     ]
    },
    {
     "name": "stderr",
     "output_type": "stream",
     "text": [
      "\n",
      "100%|██████████| 30/30 [00:00<00:00, 208.84it/s]"
     ]
    },
    {
     "name": "stdout",
     "output_type": "stream",
     "text": [
      "\n",
      "FID: 80.2140\n",
      "Time: 0.12 min\n",
      "\n",
      "-- Partial --\n",
      "Best Epoch: epoch-68\n",
      "Best FID: 67.9490\n",
      "\n",
      "--------------------------------\n",
      "\n",
      "Epoch: 124\n"
     ]
    },
    {
     "name": "stderr",
     "output_type": "stream",
     "text": [
      "\n",
      "100%|██████████| 30/30 [00:00<00:00, 214.10it/s]"
     ]
    },
    {
     "name": "stdout",
     "output_type": "stream",
     "text": [
      "\n",
      "FID: 72.9805\n",
      "Time: 0.12 min\n",
      "\n",
      "-- Partial --\n",
      "Best Epoch: epoch-68\n",
      "Best FID: 67.9490\n",
      "\n",
      "--------------------------------\n",
      "\n",
      "Epoch: 125\n"
     ]
    },
    {
     "name": "stderr",
     "output_type": "stream",
     "text": [
      "\n",
      "100%|██████████| 30/30 [00:00<00:00, 210.28it/s]"
     ]
    },
    {
     "name": "stdout",
     "output_type": "stream",
     "text": [
      "\n",
      "FID: 81.6457\n",
      "Time: 0.12 min\n",
      "\n",
      "-- Partial --\n",
      "Best Epoch: epoch-68\n",
      "Best FID: 67.9490\n",
      "\n",
      "--------------------------------\n",
      "\n",
      "Epoch: 126\n"
     ]
    },
    {
     "name": "stderr",
     "output_type": "stream",
     "text": [
      "\n",
      "100%|██████████| 30/30 [00:00<00:00, 214.90it/s]"
     ]
    },
    {
     "name": "stdout",
     "output_type": "stream",
     "text": [
      "\n",
      "FID: 80.3623\n",
      "Time: 0.12 min\n",
      "\n",
      "-- Partial --\n",
      "Best Epoch: epoch-68\n",
      "Best FID: 67.9490\n",
      "\n",
      "--------------------------------\n",
      "\n",
      "Epoch: 127\n"
     ]
    },
    {
     "name": "stderr",
     "output_type": "stream",
     "text": [
      "\n",
      "100%|██████████| 30/30 [00:00<00:00, 203.90it/s]"
     ]
    },
    {
     "name": "stdout",
     "output_type": "stream",
     "text": [
      "\n",
      "FID: 73.0237\n",
      "Time: 0.12 min\n",
      "\n",
      "-- Partial --\n",
      "Best Epoch: epoch-68\n",
      "Best FID: 67.9490\n",
      "\n",
      "--------------------------------\n",
      "\n",
      "Epoch: 128\n"
     ]
    },
    {
     "name": "stderr",
     "output_type": "stream",
     "text": [
      "\n",
      "100%|██████████| 30/30 [00:00<00:00, 211.08it/s]"
     ]
    },
    {
     "name": "stdout",
     "output_type": "stream",
     "text": [
      "\n",
      "FID: 66.7518\n",
      "Time: 0.12 min\n",
      "\n",
      "-- Partial --\n",
      "Best Epoch: epoch-128\n",
      "Best FID: 66.7518\n",
      "\n",
      "--------------------------------\n",
      "\n",
      "Epoch: 129\n"
     ]
    },
    {
     "name": "stderr",
     "output_type": "stream",
     "text": [
      "\n",
      "100%|██████████| 30/30 [00:00<00:00, 205.29it/s]"
     ]
    },
    {
     "name": "stdout",
     "output_type": "stream",
     "text": [
      "\n",
      "FID: 75.3806\n",
      "Time: 0.12 min\n",
      "\n",
      "-- Partial --\n",
      "Best Epoch: epoch-128\n",
      "Best FID: 66.7518\n",
      "\n",
      "--------------------------------\n",
      "\n",
      "Epoch: 130\n"
     ]
    },
    {
     "name": "stderr",
     "output_type": "stream",
     "text": [
      "\n",
      "100%|██████████| 30/30 [00:00<00:00, 214.09it/s]"
     ]
    },
    {
     "name": "stdout",
     "output_type": "stream",
     "text": [
      "\n",
      "FID: 76.2150\n",
      "Time: 0.12 min\n",
      "\n",
      "-- Partial --\n",
      "Best Epoch: epoch-128\n",
      "Best FID: 66.7518\n",
      "\n",
      "--------------------------------\n",
      "\n",
      "Epoch: 131\n"
     ]
    },
    {
     "name": "stderr",
     "output_type": "stream",
     "text": [
      "\n",
      "100%|██████████| 30/30 [00:00<00:00, 220.94it/s]"
     ]
    },
    {
     "name": "stdout",
     "output_type": "stream",
     "text": [
      "\n",
      "FID: 78.0826\n",
      "Time: 0.12 min\n",
      "\n",
      "-- Partial --\n",
      "Best Epoch: epoch-128\n",
      "Best FID: 66.7518\n",
      "\n",
      "--------------------------------\n",
      "\n",
      "Epoch: 132\n"
     ]
    },
    {
     "name": "stderr",
     "output_type": "stream",
     "text": [
      "\n",
      "100%|██████████| 30/30 [00:00<00:00, 208.62it/s]"
     ]
    },
    {
     "name": "stdout",
     "output_type": "stream",
     "text": [
      "\n",
      "FID: 78.2618\n",
      "Time: 0.12 min\n",
      "\n",
      "-- Partial --\n",
      "Best Epoch: epoch-128\n",
      "Best FID: 66.7518\n",
      "\n",
      "--------------------------------\n",
      "\n",
      "Epoch: 133\n"
     ]
    },
    {
     "name": "stderr",
     "output_type": "stream",
     "text": [
      "\n",
      "100%|██████████| 30/30 [00:00<00:00, 216.69it/s]"
     ]
    },
    {
     "name": "stdout",
     "output_type": "stream",
     "text": [
      "\n",
      "FID: 75.8797\n",
      "Time: 0.12 min\n",
      "\n",
      "-- Partial --\n",
      "Best Epoch: epoch-128\n",
      "Best FID: 66.7518\n",
      "\n",
      "--------------------------------\n",
      "\n",
      "Epoch: 134\n"
     ]
    },
    {
     "name": "stderr",
     "output_type": "stream",
     "text": [
      "\n",
      "100%|██████████| 30/30 [00:00<00:00, 214.09it/s]"
     ]
    },
    {
     "name": "stdout",
     "output_type": "stream",
     "text": [
      "\n",
      "FID: 73.8818\n",
      "Time: 0.12 min\n",
      "\n",
      "-- Partial --\n",
      "Best Epoch: epoch-128\n",
      "Best FID: 66.7518\n",
      "\n",
      "--------------------------------\n",
      "\n",
      "Epoch: 135\n"
     ]
    },
    {
     "name": "stderr",
     "output_type": "stream",
     "text": [
      "\n",
      "100%|██████████| 30/30 [00:00<00:00, 206.71it/s]"
     ]
    },
    {
     "name": "stdout",
     "output_type": "stream",
     "text": [
      "\n",
      "FID: 71.3073\n",
      "Time: 0.12 min\n",
      "\n",
      "-- Partial --\n",
      "Best Epoch: epoch-128\n",
      "Best FID: 66.7518\n",
      "\n",
      "--------------------------------\n",
      "\n",
      "Epoch: 136\n"
     ]
    },
    {
     "name": "stderr",
     "output_type": "stream",
     "text": [
      "\n",
      "100%|██████████| 30/30 [00:00<00:00, 208.14it/s]"
     ]
    },
    {
     "name": "stdout",
     "output_type": "stream",
     "text": [
      "\n",
      "FID: 69.9691\n",
      "Time: 0.12 min\n",
      "\n",
      "-- Partial --\n",
      "Best Epoch: epoch-128\n",
      "Best FID: 66.7518\n",
      "\n",
      "--------------------------------\n",
      "\n",
      "Epoch: 137\n"
     ]
    },
    {
     "name": "stderr",
     "output_type": "stream",
     "text": [
      "\n",
      "100%|██████████| 30/30 [00:00<00:00, 218.78it/s]"
     ]
    },
    {
     "name": "stdout",
     "output_type": "stream",
     "text": [
      "\n",
      "FID: 85.2805\n",
      "Time: 0.12 min\n",
      "\n",
      "-- Partial --\n",
      "Best Epoch: epoch-128\n",
      "Best FID: 66.7518\n",
      "\n",
      "--------------------------------\n",
      "\n",
      "Epoch: 138\n"
     ]
    },
    {
     "name": "stderr",
     "output_type": "stream",
     "text": [
      "\n",
      "100%|██████████| 30/30 [00:00<00:00, 217.18it/s]"
     ]
    },
    {
     "name": "stdout",
     "output_type": "stream",
     "text": [
      "\n",
      "FID: 81.8240\n",
      "Time: 0.12 min\n",
      "\n",
      "-- Partial --\n",
      "Best Epoch: epoch-128\n",
      "Best FID: 66.7518\n",
      "\n",
      "--------------------------------\n",
      "\n",
      "Epoch: 139\n"
     ]
    },
    {
     "name": "stderr",
     "output_type": "stream",
     "text": [
      "\n",
      "100%|██████████| 30/30 [00:00<00:00, 209.40it/s]"
     ]
    },
    {
     "name": "stdout",
     "output_type": "stream",
     "text": [
      "\n",
      "FID: 71.0897\n",
      "Time: 0.12 min\n",
      "\n",
      "-- Partial --\n",
      "Best Epoch: epoch-128\n",
      "Best FID: 66.7518\n",
      "\n",
      "--------------------------------\n",
      "\n",
      "Epoch: 140\n"
     ]
    },
    {
     "name": "stderr",
     "output_type": "stream",
     "text": [
      "\n",
      "100%|██████████| 30/30 [00:00<00:00, 220.39it/s]"
     ]
    },
    {
     "name": "stdout",
     "output_type": "stream",
     "text": [
      "\n",
      "FID: 74.0260\n",
      "Time: 0.12 min\n",
      "\n",
      "-- Partial --\n",
      "Best Epoch: epoch-128\n",
      "Best FID: 66.7518\n",
      "\n",
      "--------------------------------\n",
      "\n",
      "Epoch: 141\n"
     ]
    },
    {
     "name": "stderr",
     "output_type": "stream",
     "text": [
      "\n",
      "100%|██████████| 30/30 [00:00<00:00, 215.16it/s]"
     ]
    },
    {
     "name": "stdout",
     "output_type": "stream",
     "text": [
      "\n",
      "FID: 68.9063\n",
      "Time: 0.12 min\n",
      "\n",
      "-- Partial --\n",
      "Best Epoch: epoch-128\n",
      "Best FID: 66.7518\n",
      "\n",
      "--------------------------------\n",
      "\n",
      "Epoch: 142\n"
     ]
    },
    {
     "name": "stderr",
     "output_type": "stream",
     "text": [
      "\n",
      "100%|██████████| 30/30 [00:00<00:00, 198.27it/s]"
     ]
    },
    {
     "name": "stdout",
     "output_type": "stream",
     "text": [
      "\n",
      "FID: 74.3973\n",
      "Time: 0.12 min\n",
      "\n",
      "-- Partial --\n",
      "Best Epoch: epoch-128\n",
      "Best FID: 66.7518\n",
      "\n",
      "--------------------------------\n",
      "\n",
      "Epoch: 143\n"
     ]
    },
    {
     "name": "stderr",
     "output_type": "stream",
     "text": [
      "\n",
      "100%|██████████| 30/30 [00:00<00:00, 212.57it/s]"
     ]
    },
    {
     "name": "stdout",
     "output_type": "stream",
     "text": [
      "\n",
      "FID: 75.0145\n",
      "Time: 0.12 min\n",
      "\n",
      "-- Partial --\n",
      "Best Epoch: epoch-128\n",
      "Best FID: 66.7518\n",
      "\n",
      "--------------------------------\n",
      "\n",
      "Epoch: 144\n"
     ]
    },
    {
     "name": "stderr",
     "output_type": "stream",
     "text": [
      "\n",
      "100%|██████████| 30/30 [00:00<00:00, 212.56it/s]"
     ]
    },
    {
     "name": "stdout",
     "output_type": "stream",
     "text": [
      "\n",
      "FID: 77.6132\n",
      "Time: 0.12 min\n",
      "\n",
      "-- Partial --\n",
      "Best Epoch: epoch-128\n",
      "Best FID: 66.7518\n",
      "\n",
      "--------------------------------\n",
      "\n",
      "Epoch: 145\n"
     ]
    },
    {
     "name": "stderr",
     "output_type": "stream",
     "text": [
      "\n",
      "100%|██████████| 30/30 [00:00<00:00, 213.57it/s]"
     ]
    },
    {
     "name": "stdout",
     "output_type": "stream",
     "text": [
      "\n",
      "FID: 78.5401\n",
      "Time: 0.12 min\n",
      "\n",
      "-- Partial --\n",
      "Best Epoch: epoch-128\n",
      "Best FID: 66.7518\n",
      "\n",
      "--------------------------------\n",
      "\n",
      "Epoch: 146\n"
     ]
    },
    {
     "name": "stderr",
     "output_type": "stream",
     "text": [
      "\n",
      "100%|██████████| 30/30 [00:00<00:00, 210.95it/s]"
     ]
    },
    {
     "name": "stdout",
     "output_type": "stream",
     "text": [
      "\n",
      "FID: 73.7864\n",
      "Time: 0.12 min\n",
      "\n",
      "-- Partial --\n",
      "Best Epoch: epoch-128\n",
      "Best FID: 66.7518\n",
      "\n",
      "--------------------------------\n",
      "\n",
      "Epoch: 147\n"
     ]
    },
    {
     "name": "stderr",
     "output_type": "stream",
     "text": [
      "\n",
      "100%|██████████| 30/30 [00:00<00:00, 209.70it/s]"
     ]
    },
    {
     "name": "stdout",
     "output_type": "stream",
     "text": [
      "\n",
      "FID: 82.4591\n",
      "Time: 0.12 min\n",
      "\n",
      "-- Partial --\n",
      "Best Epoch: epoch-128\n",
      "Best FID: 66.7518\n",
      "\n",
      "--------------------------------\n",
      "\n",
      "Epoch: 148\n"
     ]
    },
    {
     "name": "stderr",
     "output_type": "stream",
     "text": [
      "\n",
      "100%|██████████| 30/30 [00:00<00:00, 212.56it/s]"
     ]
    },
    {
     "name": "stdout",
     "output_type": "stream",
     "text": [
      "\n",
      "FID: 74.1474\n",
      "Time: 0.12 min\n",
      "\n",
      "-- Partial --\n",
      "Best Epoch: epoch-128\n",
      "Best FID: 66.7518\n",
      "\n",
      "--------------------------------\n",
      "\n",
      "Epoch: 149\n"
     ]
    },
    {
     "name": "stderr",
     "output_type": "stream",
     "text": [
      "\n",
      "100%|██████████| 30/30 [00:00<00:00, 223.66it/s]"
     ]
    },
    {
     "name": "stdout",
     "output_type": "stream",
     "text": [
      "\n",
      "FID: 75.3095\n",
      "Time: 0.12 min\n",
      "\n",
      "-- Partial --\n",
      "Best Epoch: epoch-128\n",
      "Best FID: 66.7518\n",
      "\n",
      "--------------------------------\n",
      "\n",
      "Epoch: 150\n"
     ]
    },
    {
     "name": "stderr",
     "output_type": "stream",
     "text": [
      "\n",
      "100%|██████████| 30/30 [00:00<00:00, 212.46it/s]"
     ]
    },
    {
     "name": "stdout",
     "output_type": "stream",
     "text": [
      "\n",
      "FID: 68.7692\n",
      "Time: 0.12 min\n",
      "\n",
      "-- Partial --\n",
      "Best Epoch: epoch-128\n",
      "Best FID: 66.7518\n",
      "\n",
      "--------------------------------\n",
      "\n",
      "Epoch: 151\n"
     ]
    },
    {
     "name": "stderr",
     "output_type": "stream",
     "text": [
      "\n",
      "100%|██████████| 30/30 [00:00<00:00, 218.30it/s]"
     ]
    },
    {
     "name": "stdout",
     "output_type": "stream",
     "text": [
      "\n",
      "FID: 74.6930\n",
      "Time: 0.12 min\n",
      "\n",
      "-- Partial --\n",
      "Best Epoch: epoch-128\n",
      "Best FID: 66.7518\n",
      "\n",
      "--------------------------------\n",
      "\n",
      "Epoch: 152\n"
     ]
    },
    {
     "name": "stderr",
     "output_type": "stream",
     "text": [
      "\n",
      "100%|██████████| 30/30 [00:00<00:00, 214.08it/s]"
     ]
    },
    {
     "name": "stdout",
     "output_type": "stream",
     "text": [
      "\n",
      "FID: 80.8631\n",
      "Time: 0.12 min\n",
      "\n",
      "-- Partial --\n",
      "Best Epoch: epoch-128\n",
      "Best FID: 66.7518\n",
      "\n",
      "--------------------------------\n",
      "\n",
      "Epoch: 153\n"
     ]
    },
    {
     "name": "stderr",
     "output_type": "stream",
     "text": [
      "\n",
      "100%|██████████| 30/30 [00:00<00:00, 217.24it/s]"
     ]
    },
    {
     "name": "stdout",
     "output_type": "stream",
     "text": [
      "\n",
      "FID: 76.4518\n",
      "Time: 0.12 min\n",
      "\n",
      "-- Partial --\n",
      "Best Epoch: epoch-128\n",
      "Best FID: 66.7518\n",
      "\n",
      "--------------------------------\n",
      "\n",
      "Epoch: 154\n"
     ]
    },
    {
     "name": "stderr",
     "output_type": "stream",
     "text": [
      "\n",
      "100%|██████████| 30/30 [00:00<00:00, 220.39it/s]"
     ]
    },
    {
     "name": "stdout",
     "output_type": "stream",
     "text": [
      "\n",
      "FID: 72.1346\n",
      "Time: 0.12 min\n",
      "\n",
      "-- Partial --\n",
      "Best Epoch: epoch-128\n",
      "Best FID: 66.7518\n",
      "\n",
      "--------------------------------\n",
      "\n",
      "Epoch: 155\n"
     ]
    },
    {
     "name": "stderr",
     "output_type": "stream",
     "text": [
      "\n",
      "100%|██████████| 30/30 [00:00<00:00, 215.63it/s]"
     ]
    },
    {
     "name": "stdout",
     "output_type": "stream",
     "text": [
      "\n",
      "FID: 74.0997\n",
      "Time: 0.12 min\n",
      "\n",
      "-- Partial --\n",
      "Best Epoch: epoch-128\n",
      "Best FID: 66.7518\n",
      "\n",
      "--------------------------------\n",
      "\n",
      "Epoch: 156\n"
     ]
    },
    {
     "name": "stderr",
     "output_type": "stream",
     "text": [
      "\n",
      "100%|██████████| 30/30 [00:00<00:00, 218.78it/s]"
     ]
    },
    {
     "name": "stdout",
     "output_type": "stream",
     "text": [
      "\n",
      "FID: 71.3927\n",
      "Time: 0.12 min\n",
      "\n",
      "-- Partial --\n",
      "Best Epoch: epoch-128\n",
      "Best FID: 66.7518\n",
      "\n",
      "--------------------------------\n",
      "\n",
      "Epoch: 157\n"
     ]
    },
    {
     "name": "stderr",
     "output_type": "stream",
     "text": [
      "\n",
      "100%|██████████| 30/30 [00:00<00:00, 220.38it/s]"
     ]
    },
    {
     "name": "stdout",
     "output_type": "stream",
     "text": [
      "\n",
      "FID: 70.3185\n",
      "Time: 0.12 min\n",
      "\n",
      "-- Partial --\n",
      "Best Epoch: epoch-128\n",
      "Best FID: 66.7518\n",
      "\n",
      "--------------------------------\n",
      "\n",
      "Epoch: 158\n"
     ]
    },
    {
     "name": "stderr",
     "output_type": "stream",
     "text": [
      "\n",
      "100%|██████████| 30/30 [00:00<00:00, 212.59it/s]"
     ]
    },
    {
     "name": "stdout",
     "output_type": "stream",
     "text": [
      "\n",
      "FID: 78.6875\n",
      "Time: 0.12 min\n",
      "\n",
      "-- Partial --\n",
      "Best Epoch: epoch-128\n",
      "Best FID: 66.7518\n",
      "\n",
      "--------------------------------\n",
      "\n",
      "Epoch: 159\n"
     ]
    },
    {
     "name": "stderr",
     "output_type": "stream",
     "text": [
      "\n",
      "100%|██████████| 30/30 [00:00<00:00, 215.63it/s]"
     ]
    },
    {
     "name": "stdout",
     "output_type": "stream",
     "text": [
      "\n",
      "FID: 65.8534\n",
      "Time: 0.12 min\n",
      "\n",
      "-- Partial --\n",
      "Best Epoch: epoch-159\n",
      "Best FID: 65.8534\n",
      "\n",
      "--------------------------------\n",
      "\n",
      "Epoch: 160\n"
     ]
    },
    {
     "name": "stderr",
     "output_type": "stream",
     "text": [
      "\n",
      "100%|██████████| 30/30 [00:00<00:00, 221.05it/s]"
     ]
    },
    {
     "name": "stdout",
     "output_type": "stream",
     "text": [
      "\n",
      "FID: 74.0388\n",
      "Time: 0.12 min\n",
      "\n",
      "-- Partial --\n",
      "Best Epoch: epoch-159\n",
      "Best FID: 65.8534\n",
      "\n",
      "--------------------------------\n",
      "\n",
      "Epoch: 161\n"
     ]
    },
    {
     "name": "stderr",
     "output_type": "stream",
     "text": [
      "\n",
      "100%|██████████| 30/30 [00:00<00:00, 220.37it/s]"
     ]
    },
    {
     "name": "stdout",
     "output_type": "stream",
     "text": [
      "\n",
      "FID: 70.5101\n",
      "Time: 0.12 min\n",
      "\n",
      "-- Partial --\n",
      "Best Epoch: epoch-159\n",
      "Best FID: 65.8534\n",
      "\n",
      "--------------------------------\n",
      "\n",
      "Epoch: 162\n"
     ]
    },
    {
     "name": "stderr",
     "output_type": "stream",
     "text": [
      "\n",
      "100%|██████████| 30/30 [00:00<00:00, 212.23it/s]"
     ]
    },
    {
     "name": "stdout",
     "output_type": "stream",
     "text": [
      "\n",
      "FID: 71.4162\n",
      "Time: 0.12 min\n",
      "\n",
      "-- Partial --\n",
      "Best Epoch: epoch-159\n",
      "Best FID: 65.8534\n",
      "\n",
      "--------------------------------\n",
      "\n",
      "Epoch: 163\n"
     ]
    },
    {
     "name": "stderr",
     "output_type": "stream",
     "text": [
      "\n",
      "100%|██████████| 30/30 [00:00<00:00, 213.00it/s]"
     ]
    },
    {
     "name": "stdout",
     "output_type": "stream",
     "text": [
      "\n",
      "FID: 66.1330\n",
      "Time: 0.12 min\n",
      "\n",
      "-- Partial --\n",
      "Best Epoch: epoch-159\n",
      "Best FID: 65.8534\n",
      "\n",
      "--------------------------------\n",
      "\n",
      "Epoch: 164\n"
     ]
    },
    {
     "name": "stderr",
     "output_type": "stream",
     "text": [
      "\n",
      "100%|██████████| 30/30 [00:00<00:00, 214.09it/s]"
     ]
    },
    {
     "name": "stdout",
     "output_type": "stream",
     "text": [
      "\n",
      "FID: 79.5373\n",
      "Time: 0.12 min\n",
      "\n",
      "-- Partial --\n",
      "Best Epoch: epoch-159\n",
      "Best FID: 65.8534\n",
      "\n",
      "--------------------------------\n",
      "\n",
      "Epoch: 165\n"
     ]
    },
    {
     "name": "stderr",
     "output_type": "stream",
     "text": [
      "\n",
      "100%|██████████| 30/30 [00:00<00:00, 213.25it/s]"
     ]
    },
    {
     "name": "stdout",
     "output_type": "stream",
     "text": [
      "\n",
      "FID: 71.6868\n",
      "Time: 0.12 min\n",
      "\n",
      "-- Partial --\n",
      "Best Epoch: epoch-159\n",
      "Best FID: 65.8534\n",
      "\n",
      "--------------------------------\n",
      "\n",
      "Epoch: 166\n"
     ]
    },
    {
     "name": "stderr",
     "output_type": "stream",
     "text": [
      "\n",
      " 53%|█████▎    | 16/30 [00:00<00:00, 155.20it/s]"
     ]
    },
    {
     "name": "stdout",
     "output_type": "stream",
     "text": [
      "\n",
      "FID: 65.0029\n",
      "Time: 0.12 min\n",
      "\n",
      "-- Partial --\n",
      "Best Epoch: epoch-166\n",
      "Best FID: 65.0029\n",
      "\n",
      "--------------------------------\n",
      "\n",
      "Epoch: 167\n"
     ]
    },
    {
     "name": "stderr",
     "output_type": "stream",
     "text": [
      "100%|██████████| 30/30 [00:00<00:00, 168.38it/s]\n",
      "100%|██████████| 30/30 [00:00<00:00, 209.60it/s]"
     ]
    },
    {
     "name": "stdout",
     "output_type": "stream",
     "text": [
      "\n",
      "FID: 65.9449\n",
      "Time: 0.12 min\n",
      "\n",
      "-- Partial --\n",
      "Best Epoch: epoch-166\n",
      "Best FID: 65.0029\n",
      "\n",
      "--------------------------------\n",
      "\n",
      "Epoch: 168\n"
     ]
    },
    {
     "name": "stderr",
     "output_type": "stream",
     "text": [
      "\n",
      "100%|██████████| 30/30 [00:00<00:00, 216.31it/s]"
     ]
    },
    {
     "name": "stdout",
     "output_type": "stream",
     "text": [
      "\n",
      "FID: 66.3585\n",
      "Time: 0.12 min\n",
      "\n",
      "-- Partial --\n",
      "Best Epoch: epoch-166\n",
      "Best FID: 65.0029\n",
      "\n",
      "--------------------------------\n",
      "\n",
      "Epoch: 169\n"
     ]
    },
    {
     "name": "stderr",
     "output_type": "stream",
     "text": [
      "\n",
      "100%|██████████| 30/30 [00:00<00:00, 210.61it/s]"
     ]
    },
    {
     "name": "stdout",
     "output_type": "stream",
     "text": [
      "\n",
      "FID: 70.4382\n",
      "Time: 0.12 min\n",
      "\n",
      "-- Partial --\n",
      "Best Epoch: epoch-166\n",
      "Best FID: 65.0029\n",
      "\n",
      "--------------------------------\n",
      "\n",
      "Epoch: 170\n"
     ]
    },
    {
     "name": "stderr",
     "output_type": "stream",
     "text": [
      "\n",
      "100%|██████████| 30/30 [00:00<00:00, 210.64it/s]"
     ]
    },
    {
     "name": "stdout",
     "output_type": "stream",
     "text": [
      "\n",
      "FID: 70.2632\n",
      "Time: 0.12 min\n",
      "\n",
      "-- Partial --\n",
      "Best Epoch: epoch-166\n",
      "Best FID: 65.0029\n",
      "\n",
      "--------------------------------\n",
      "\n",
      "Epoch: 171\n"
     ]
    },
    {
     "name": "stderr",
     "output_type": "stream",
     "text": [
      "\n",
      "100%|██████████| 30/30 [00:00<00:00, 214.09it/s]"
     ]
    },
    {
     "name": "stdout",
     "output_type": "stream",
     "text": [
      "\n",
      "FID: 71.0031\n",
      "Time: 0.12 min\n",
      "\n",
      "-- Partial --\n",
      "Best Epoch: epoch-166\n",
      "Best FID: 65.0029\n",
      "\n",
      "--------------------------------\n",
      "\n",
      "Epoch: 172\n"
     ]
    },
    {
     "name": "stderr",
     "output_type": "stream",
     "text": [
      "\n",
      "100%|██████████| 30/30 [00:00<00:00, 212.80it/s]"
     ]
    },
    {
     "name": "stdout",
     "output_type": "stream",
     "text": [
      "\n",
      "FID: 66.9506\n",
      "Time: 0.12 min\n",
      "\n",
      "-- Partial --\n",
      "Best Epoch: epoch-166\n",
      "Best FID: 65.0029\n",
      "\n",
      "--------------------------------\n",
      "\n",
      "Epoch: 173\n"
     ]
    },
    {
     "name": "stderr",
     "output_type": "stream",
     "text": [
      "\n",
      "100%|██████████| 30/30 [00:00<00:00, 202.91it/s]"
     ]
    },
    {
     "name": "stdout",
     "output_type": "stream",
     "text": [
      "\n",
      "FID: 72.0888\n",
      "Time: 0.12 min\n",
      "\n",
      "-- Partial --\n",
      "Best Epoch: epoch-166\n",
      "Best FID: 65.0029\n",
      "\n",
      "--------------------------------\n",
      "\n",
      "Epoch: 174\n"
     ]
    },
    {
     "name": "stderr",
     "output_type": "stream",
     "text": [
      "\n",
      "100%|██████████| 30/30 [00:00<00:00, 215.56it/s]"
     ]
    },
    {
     "name": "stdout",
     "output_type": "stream",
     "text": [
      "\n",
      "FID: 71.0949\n",
      "Time: 0.12 min\n",
      "\n",
      "-- Partial --\n",
      "Best Epoch: epoch-166\n",
      "Best FID: 65.0029\n",
      "\n",
      "--------------------------------\n",
      "\n",
      "Epoch: 175\n"
     ]
    },
    {
     "name": "stderr",
     "output_type": "stream",
     "text": [
      "\n",
      "100%|██████████| 30/30 [00:00<00:00, 210.47it/s]"
     ]
    },
    {
     "name": "stdout",
     "output_type": "stream",
     "text": [
      "\n",
      "FID: 77.2132\n",
      "Time: 0.12 min\n",
      "\n",
      "-- Partial --\n",
      "Best Epoch: epoch-166\n",
      "Best FID: 65.0029\n",
      "\n",
      "--------------------------------\n",
      "\n",
      "Epoch: 176\n"
     ]
    },
    {
     "name": "stderr",
     "output_type": "stream",
     "text": [
      "\n",
      "100%|██████████| 30/30 [00:00<00:00, 211.08it/s]"
     ]
    },
    {
     "name": "stdout",
     "output_type": "stream",
     "text": [
      "\n",
      "FID: 81.3488\n",
      "Time: 0.12 min\n",
      "\n",
      "-- Partial --\n",
      "Best Epoch: epoch-166\n",
      "Best FID: 65.0029\n",
      "\n",
      "--------------------------------\n",
      "\n",
      "Epoch: 177\n"
     ]
    },
    {
     "name": "stderr",
     "output_type": "stream",
     "text": [
      "\n",
      "100%|██████████| 30/30 [00:00<00:00, 217.18it/s]"
     ]
    },
    {
     "name": "stdout",
     "output_type": "stream",
     "text": [
      "\n",
      "FID: 76.2424\n",
      "Time: 0.12 min\n",
      "\n",
      "-- Partial --\n",
      "Best Epoch: epoch-166\n",
      "Best FID: 65.0029\n",
      "\n",
      "--------------------------------\n",
      "\n",
      "Epoch: 178\n"
     ]
    },
    {
     "name": "stderr",
     "output_type": "stream",
     "text": [
      "\n",
      "100%|██████████| 30/30 [00:00<00:00, 213.36it/s]"
     ]
    },
    {
     "name": "stdout",
     "output_type": "stream",
     "text": [
      "\n",
      "FID: 88.5030\n",
      "Time: 0.12 min\n",
      "\n",
      "-- Partial --\n",
      "Best Epoch: epoch-166\n",
      "Best FID: 65.0029\n",
      "\n",
      "--------------------------------\n",
      "\n",
      "Epoch: 179\n"
     ]
    },
    {
     "name": "stderr",
     "output_type": "stream",
     "text": [
      "\n",
      "100%|██████████| 30/30 [00:00<00:00, 215.44it/s]"
     ]
    },
    {
     "name": "stdout",
     "output_type": "stream",
     "text": [
      "\n",
      "FID: 74.2507\n",
      "Time: 0.12 min\n",
      "\n",
      "-- Partial --\n",
      "Best Epoch: epoch-166\n",
      "Best FID: 65.0029\n",
      "\n",
      "--------------------------------\n",
      "\n",
      "Epoch: 180\n"
     ]
    },
    {
     "name": "stderr",
     "output_type": "stream",
     "text": [
      "\n",
      "100%|██████████| 30/30 [00:00<00:00, 209.61it/s]"
     ]
    },
    {
     "name": "stdout",
     "output_type": "stream",
     "text": [
      "\n",
      "FID: 68.1238\n",
      "Time: 0.12 min\n",
      "\n",
      "-- Partial --\n",
      "Best Epoch: epoch-166\n",
      "Best FID: 65.0029\n",
      "\n",
      "--------------------------------\n",
      "\n",
      "Epoch: 181\n"
     ]
    },
    {
     "name": "stderr",
     "output_type": "stream",
     "text": [
      "\n",
      "100%|██████████| 30/30 [00:00<00:00, 211.03it/s]"
     ]
    },
    {
     "name": "stdout",
     "output_type": "stream",
     "text": [
      "\n",
      "FID: 71.2786\n",
      "Time: 0.12 min\n",
      "\n",
      "-- Partial --\n",
      "Best Epoch: epoch-166\n",
      "Best FID: 65.0029\n",
      "\n",
      "--------------------------------\n",
      "\n",
      "Epoch: 182\n"
     ]
    },
    {
     "name": "stderr",
     "output_type": "stream",
     "text": [
      "\n",
      "100%|██████████| 30/30 [00:00<00:00, 219.89it/s]"
     ]
    },
    {
     "name": "stdout",
     "output_type": "stream",
     "text": [
      "\n",
      "FID: 66.3318\n",
      "Time: 0.12 min\n",
      "\n",
      "-- Partial --\n",
      "Best Epoch: epoch-166\n",
      "Best FID: 65.0029\n",
      "\n",
      "--------------------------------\n",
      "\n",
      "Epoch: 183\n"
     ]
    },
    {
     "name": "stderr",
     "output_type": "stream",
     "text": [
      "\n",
      "100%|██████████| 30/30 [00:00<00:00, 216.87it/s]"
     ]
    },
    {
     "name": "stdout",
     "output_type": "stream",
     "text": [
      "\n",
      "FID: 75.7797\n",
      "Time: 0.12 min\n",
      "\n",
      "-- Partial --\n",
      "Best Epoch: epoch-166\n",
      "Best FID: 65.0029\n",
      "\n",
      "--------------------------------\n",
      "\n",
      "Epoch: 184\n"
     ]
    },
    {
     "name": "stderr",
     "output_type": "stream",
     "text": [
      "\n",
      "100%|██████████| 30/30 [00:00<00:00, 215.14it/s]"
     ]
    },
    {
     "name": "stdout",
     "output_type": "stream",
     "text": [
      "\n",
      "FID: 67.6176\n",
      "Time: 0.12 min\n",
      "\n",
      "-- Partial --\n",
      "Best Epoch: epoch-166\n",
      "Best FID: 65.0029\n",
      "\n",
      "--------------------------------\n",
      "\n",
      "Epoch: 185\n"
     ]
    },
    {
     "name": "stderr",
     "output_type": "stream",
     "text": [
      "\n",
      "100%|██████████| 30/30 [00:00<00:00, 215.62it/s]"
     ]
    },
    {
     "name": "stdout",
     "output_type": "stream",
     "text": [
      "\n",
      "FID: 80.0147\n",
      "Time: 0.12 min\n",
      "\n",
      "-- Partial --\n",
      "Best Epoch: epoch-166\n",
      "Best FID: 65.0029\n",
      "\n",
      "--------------------------------\n",
      "\n",
      "Epoch: 186\n"
     ]
    },
    {
     "name": "stderr",
     "output_type": "stream",
     "text": [
      "\n",
      "100%|██████████| 30/30 [00:00<00:00, 214.10it/s]"
     ]
    },
    {
     "name": "stdout",
     "output_type": "stream",
     "text": [
      "\n",
      "FID: 64.6677\n",
      "Time: 0.12 min\n",
      "\n",
      "-- Partial --\n",
      "Best Epoch: epoch-186\n",
      "Best FID: 64.6677\n",
      "\n",
      "--------------------------------\n",
      "\n",
      "Epoch: 187\n"
     ]
    },
    {
     "name": "stderr",
     "output_type": "stream",
     "text": [
      "\n",
      "100%|██████████| 30/30 [00:00<00:00, 212.59it/s]"
     ]
    },
    {
     "name": "stdout",
     "output_type": "stream",
     "text": [
      "\n",
      "FID: 78.7534\n",
      "Time: 0.12 min\n",
      "\n",
      "-- Partial --\n",
      "Best Epoch: epoch-186\n",
      "Best FID: 64.6677\n",
      "\n",
      "--------------------------------\n",
      "\n",
      "Epoch: 188\n"
     ]
    },
    {
     "name": "stderr",
     "output_type": "stream",
     "text": [
      "\n",
      "100%|██████████| 30/30 [00:00<00:00, 218.79it/s]"
     ]
    },
    {
     "name": "stdout",
     "output_type": "stream",
     "text": [
      "\n",
      "FID: 76.7686\n",
      "Time: 0.12 min\n",
      "\n",
      "-- Partial --\n",
      "Best Epoch: epoch-186\n",
      "Best FID: 64.6677\n",
      "\n",
      "--------------------------------\n",
      "\n",
      "Epoch: 189\n"
     ]
    },
    {
     "name": "stderr",
     "output_type": "stream",
     "text": [
      "\n",
      "100%|██████████| 30/30 [00:00<00:00, 215.64it/s]"
     ]
    },
    {
     "name": "stdout",
     "output_type": "stream",
     "text": [
      "\n",
      "FID: 68.6290\n",
      "Time: 0.12 min\n",
      "\n",
      "-- Partial --\n",
      "Best Epoch: epoch-186\n",
      "Best FID: 64.6677\n",
      "\n",
      "--------------------------------\n",
      "\n",
      "Epoch: 190\n"
     ]
    },
    {
     "name": "stderr",
     "output_type": "stream",
     "text": [
      "\n",
      "100%|██████████| 30/30 [00:00<00:00, 222.01it/s]"
     ]
    },
    {
     "name": "stdout",
     "output_type": "stream",
     "text": [
      "\n",
      "FID: 68.6330\n",
      "Time: 0.12 min\n",
      "\n",
      "-- Partial --\n",
      "Best Epoch: epoch-186\n",
      "Best FID: 64.6677\n",
      "\n",
      "--------------------------------\n",
      "\n",
      "Epoch: 191\n"
     ]
    },
    {
     "name": "stderr",
     "output_type": "stream",
     "text": [
      "\n",
      "100%|██████████| 30/30 [00:00<00:00, 215.63it/s]"
     ]
    },
    {
     "name": "stdout",
     "output_type": "stream",
     "text": [
      "\n",
      "FID: 73.3278\n",
      "Time: 0.12 min\n",
      "\n",
      "-- Partial --\n",
      "Best Epoch: epoch-186\n",
      "Best FID: 64.6677\n",
      "\n",
      "--------------------------------\n",
      "\n",
      "Epoch: 192\n"
     ]
    },
    {
     "name": "stderr",
     "output_type": "stream",
     "text": [
      "\n",
      "100%|██████████| 30/30 [00:00<00:00, 211.08it/s]"
     ]
    },
    {
     "name": "stdout",
     "output_type": "stream",
     "text": [
      "\n",
      "FID: 71.1571\n",
      "Time: 0.12 min\n",
      "\n",
      "-- Partial --\n",
      "Best Epoch: epoch-186\n",
      "Best FID: 64.6677\n",
      "\n",
      "--------------------------------\n",
      "\n",
      "Epoch: 193\n"
     ]
    },
    {
     "name": "stderr",
     "output_type": "stream",
     "text": [
      "\n",
      "100%|██████████| 30/30 [00:00<00:00, 214.09it/s]"
     ]
    },
    {
     "name": "stdout",
     "output_type": "stream",
     "text": [
      "\n",
      "FID: 70.4427\n",
      "Time: 0.12 min\n",
      "\n",
      "-- Partial --\n",
      "Best Epoch: epoch-186\n",
      "Best FID: 64.6677\n",
      "\n",
      "--------------------------------\n",
      "\n",
      "Epoch: 194\n"
     ]
    },
    {
     "name": "stderr",
     "output_type": "stream",
     "text": [
      "\n",
      "100%|██████████| 30/30 [00:00<00:00, 220.06it/s]"
     ]
    },
    {
     "name": "stdout",
     "output_type": "stream",
     "text": [
      "\n",
      "FID: 66.4294\n",
      "Time: 0.12 min\n",
      "\n",
      "-- Partial --\n",
      "Best Epoch: epoch-186\n",
      "Best FID: 64.6677\n",
      "\n",
      "--------------------------------\n",
      "\n",
      "Epoch: 195\n"
     ]
    },
    {
     "name": "stderr",
     "output_type": "stream",
     "text": [
      "\n",
      "100%|██████████| 30/30 [00:00<00:00, 220.89it/s]"
     ]
    },
    {
     "name": "stdout",
     "output_type": "stream",
     "text": [
      "\n",
      "FID: 63.9402\n",
      "Time: 0.12 min\n",
      "\n",
      "-- Partial --\n",
      "Best Epoch: epoch-195\n",
      "Best FID: 63.9402\n",
      "\n",
      "--------------------------------\n",
      "\n",
      "Epoch: 196\n"
     ]
    },
    {
     "name": "stderr",
     "output_type": "stream",
     "text": [
      "\n",
      "100%|██████████| 30/30 [00:00<00:00, 199.46it/s]"
     ]
    },
    {
     "name": "stdout",
     "output_type": "stream",
     "text": [
      "\n",
      "FID: 77.7324\n",
      "Time: 0.12 min\n",
      "\n",
      "-- Partial --\n",
      "Best Epoch: epoch-195\n",
      "Best FID: 63.9402\n",
      "\n",
      "--------------------------------\n",
      "\n",
      "Epoch: 197\n"
     ]
    },
    {
     "name": "stderr",
     "output_type": "stream",
     "text": [
      "\n",
      "100%|██████████| 30/30 [00:00<00:00, 211.08it/s]"
     ]
    },
    {
     "name": "stdout",
     "output_type": "stream",
     "text": [
      "\n",
      "FID: 65.2319\n",
      "Time: 0.12 min\n",
      "\n",
      "-- Partial --\n",
      "Best Epoch: epoch-195\n",
      "Best FID: 63.9402\n",
      "\n",
      "--------------------------------\n",
      "\n",
      "Epoch: 198\n"
     ]
    },
    {
     "name": "stderr",
     "output_type": "stream",
     "text": [
      "\n",
      "100%|██████████| 30/30 [00:00<00:00, 211.76it/s]"
     ]
    },
    {
     "name": "stdout",
     "output_type": "stream",
     "text": [
      "\n",
      "FID: 68.2976\n",
      "Time: 0.12 min\n",
      "\n",
      "-- Partial --\n",
      "Best Epoch: epoch-195\n",
      "Best FID: 63.9402\n",
      "\n",
      "--------------------------------\n",
      "\n",
      "Epoch: 199\n"
     ]
    },
    {
     "name": "stderr",
     "output_type": "stream",
     "text": [
      "\n",
      "100%|██████████| 30/30 [00:00<00:00, 212.57it/s]"
     ]
    },
    {
     "name": "stdout",
     "output_type": "stream",
     "text": [
      "\n",
      "FID: 59.2264\n",
      "Time: 0.12 min\n",
      "\n",
      "-- Partial --\n",
      "Best Epoch: epoch-199\n",
      "Best FID: 59.2264\n",
      "\n",
      "--------------------------------\n",
      "\n",
      "Epoch: 200\n"
     ]
    },
    {
     "name": "stderr",
     "output_type": "stream",
     "text": [
      "\n"
     ]
    },
    {
     "name": "stdout",
     "output_type": "stream",
     "text": [
      "\n",
      "FID: 73.1630\n",
      "Time: 0.12 min\n",
      "\n",
      "-- Partial --\n",
      "Best Epoch: epoch-199\n",
      "Best FID: 59.2264\n",
      "\n",
      "----------------------------------------------------\n",
      "Finalized\n",
      "Notebook Time: 2.5e+01 min\n",
      "Best Epoch: epoch-199\n",
      "Best FID: 59.2264\n"
     ]
    }
   ],
   "source": [
    "# example of calculating the frechet inception distance in Keras\n",
    "import numpy\n",
    "from numpy import cov\n",
    "from numpy import trace\n",
    "from numpy import iscomplexobj\n",
    "from numpy import asarray\n",
    "from numpy.random import randint\n",
    "from scipy.linalg import sqrtm\n",
    "from keras.applications.inception_v3 import InceptionV3\n",
    "from keras.applications.inception_v3 import preprocess_input\n",
    "from skimage.transform import resize\n",
    "\n",
    "# Daniel\n",
    "import os\n",
    "from tqdm import tqdm\n",
    "import cv2\n",
    "import numpy as np\n",
    "import time\n",
    "import gc\n",
    "\n",
    "lastTimeNotebook = time.time()\n",
    "\n",
    "def scale_images(images, new_shape):\n",
    "    \n",
    "    images_list = list()\n",
    "    for image in images:\n",
    "        \n",
    "        new_image = resize(image, new_shape, 0)\n",
    "        images_list.append(new_image)\n",
    "        \n",
    "    return asarray(images_list)\n",
    "\n",
    "def calculate_fid(model, images1, mu2, sigma2):\n",
    "    \n",
    "    # calculate activations\n",
    "    act1 = model.predict(images1)\n",
    "    \n",
    "    # calculate mean and covariance statistics\n",
    "    mu1, sigma1 = act1.mean(axis=0), cov(act1, rowvar=False)\n",
    "    \n",
    "    # calculate sum squared difference between means\n",
    "    ssdiff = numpy.sum((mu1 - mu2)**2.0)\n",
    "    \n",
    "    # Daniel\n",
    "    sigma1 = np.array(sigma1, ndmin=2) # https://stackoverflow.com/questions/31698242/python-how-can-i-force-1-element-numpy-arrays-to-be-two-dimensional\n",
    "    \n",
    "    # calculate sqrt of product between cov\n",
    "    covmean = sqrtm(sigma1.dot(sigma2))\n",
    "    \n",
    "    # check and correct imaginary numbers from sqrt\n",
    "    if iscomplexobj(covmean):\n",
    "        covmean = covmean.real\n",
    "        \n",
    "    # calculate score\n",
    "    fid = ssdiff + trace(sigma1 + sigma2 - 2.0 * covmean)\n",
    "    \n",
    "    return fid\n",
    "\n",
    "def loadImages(folder):\n",
    "    \n",
    "    path, dirs, files = next( os.walk( folder ) )\n",
    "\n",
    "    images = []\n",
    "    contador = 0\n",
    "    for file in tqdm(files):\n",
    "\n",
    "        image = cv2.imread( folder + file )\n",
    "        images.append( image )\n",
    "        contador += 1\n",
    "        \n",
    "    images = np.asarray(images)\n",
    "    return images\n",
    "\n",
    "def compareTwoGroups(model, images1, mu2, sigma2):\n",
    "\n",
    "    # convert integer to floating point values\n",
    "    images1 = images1.astype('float32')\n",
    "    \n",
    "    # resize images\n",
    "    images1 = scale_images(images1, (299,299,3))\n",
    "\n",
    "    # pre-process images\n",
    "    images1 = preprocess_input(images1)\n",
    "\n",
    "    # fid between images1 and images2\n",
    "    fid = calculate_fid(model, images1, mu2, sigma2)\n",
    "    \n",
    "    return fid\n",
    "\n",
    "# ---\n",
    "\n",
    "print( '\\nProcessing...' )\n",
    "\n",
    "# prepare the inception v3 model\n",
    "model = InceptionV3(include_top=False, pooling='avg', input_shape=(299,299,3))\n",
    "\n",
    "# Real Images used in training\n",
    "realImages = loadImages(padronizedFolder)\n",
    "gc.collect()\n",
    "realImages = realImages.astype('float32')\n",
    "gc.collect()\n",
    "realImages = scale_images(realImages, (299,299,3))\n",
    "gc.collect()\n",
    "realImages = preprocess_input(realImages)\n",
    "gc.collect()\n",
    "\n",
    "act2 = model.predict(realImages)\n",
    "gc.collect()\n",
    "mu2, sigma2 = act2.mean(axis=0), cov(act2, rowvar=False)\n",
    "gc.collect()\n",
    "sigma2 = np.array(sigma2, ndmin=2) # https://stackoverflow.com/questions/31698242/python-how-can-i-force-1-element-numpy-arrays-to-be-two-dimensional\n",
    "gc.collect()\n",
    "\n",
    "epochsFolders = os.listdir(generatedFolder)\n",
    "totalEpochs = len(epochsFolders)\n",
    "\n",
    "bestEpoch = ''\n",
    "bestFID = 9999\n",
    "\n",
    "lastTime = time.time()\n",
    "for i in range(1, totalEpochs + 1):\n",
    "\n",
    "    print('\\n--------------------------------\\n')\n",
    "    print(f'Epoch: {i}')\n",
    "    \n",
    "    epoch = 'epoch-' + str(i)\n",
    "    generatedImages = loadImages( f'{generatedFolder}/{epoch}/' )\n",
    "\n",
    "    fid = compareTwoGroups(model, generatedImages, mu2, sigma2)\n",
    "\n",
    "    print()\n",
    "    print('FID: %.4f' % fid)\n",
    "\n",
    "    if fid < bestFID:\n",
    "        bestFID = fid\n",
    "        bestEpoch = epoch\n",
    "        \n",
    "    # Time\n",
    "    now = time.time()\n",
    "    interval = now - lastTime\n",
    "    lastTime = now\n",
    "    print('Time: %.2f min' % (interval / 60))\n",
    "    print()\n",
    "    print('-- Partial --')\n",
    "    print(f'Best Epoch: {bestEpoch}')\n",
    "    print('Best FID: %.4f' % bestFID)\n",
    "\n",
    "\n",
    "print( '\\n----------------------------------------------------' )\n",
    "print( 'Finalized' )\n",
    "\n",
    "# Time\n",
    "now = time.time()\n",
    "interval = now - lastTimeNotebook\n",
    "print(f'Notebook Time: {(interval / 60):.2} min')\n",
    "\n",
    "print(f'Best Epoch: {bestEpoch}')\n",
    "print('Best FID: %.4f' % bestFID)"
   ]
  }
 ],
 "metadata": {
  "kernelspec": {
   "display_name": "Python 3",
   "language": "python",
   "name": "python3"
  },
  "language_info": {
   "codemirror_mode": {
    "name": "ipython",
    "version": 3
   },
   "file_extension": ".py",
   "mimetype": "text/x-python",
   "name": "python",
   "nbconvert_exporter": "python",
   "pygments_lexer": "ipython3",
   "version": "3.7.7"
  }
 },
 "nbformat": 4,
 "nbformat_minor": 4
}
