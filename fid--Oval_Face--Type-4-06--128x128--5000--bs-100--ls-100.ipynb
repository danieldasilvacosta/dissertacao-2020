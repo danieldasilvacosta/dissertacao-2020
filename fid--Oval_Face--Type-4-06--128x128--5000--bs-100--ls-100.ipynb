{
 "cells": [
  {
   "cell_type": "code",
   "execution_count": 1,
   "metadata": {},
   "outputs": [],
   "source": [
    "images_dimensions = 128\n",
    "attribute = 'Oval_Face--Type-4-06'\n",
    "totalInputImages = 5000\n",
    "BATCH_SIZE = 100\n",
    "latent_dim = 100"
   ]
  },
  {
   "cell_type": "code",
   "execution_count": 2,
   "metadata": {},
   "outputs": [],
   "source": [
    "IMAGES_FOLDER = './images/'\n",
    "folderDimensionsSufix = str( images_dimensions ) + 'x' + str( images_dimensions )\n",
    "\n",
    "padronizedFolder = f'{IMAGES_FOLDER}padronized--{attribute}--{folderDimensionsSufix}--{totalInputImages}--bs-{BATCH_SIZE}--ls-{latent_dim}/'"
   ]
  },
  {
   "cell_type": "code",
   "execution_count": 3,
   "metadata": {},
   "outputs": [],
   "source": [
    "trainedModelFolder = f'./trained-model--{attribute}--{folderDimensionsSufix}--{totalInputImages}--bs-{BATCH_SIZE}--ls-{latent_dim}/'\n",
    "generatedFolder = trainedModelFolder + 'generated/'"
   ]
  },
  {
   "cell_type": "code",
   "execution_count": 4,
   "metadata": {},
   "outputs": [
    {
     "name": "stderr",
     "output_type": "stream",
     "text": [
      "Using TensorFlow backend.\n"
     ]
    },
    {
     "name": "stdout",
     "output_type": "stream",
     "text": [
      "\n",
      "Processing...\n"
     ]
    },
    {
     "name": "stderr",
     "output_type": "stream",
     "text": [
      "100%|██████████| 5000/5000 [01:27<00:00, 57.46it/s]\n",
      "  7%|▋         | 2/30 [00:00<00:01, 19.65it/s]"
     ]
    },
    {
     "name": "stdout",
     "output_type": "stream",
     "text": [
      "\n",
      "--------------------------------\n",
      "\n",
      "Epoch: 1\n"
     ]
    },
    {
     "name": "stderr",
     "output_type": "stream",
     "text": [
      "100%|██████████| 30/30 [00:00<00:00, 102.89it/s]\n",
      " 17%|█▋        | 5/30 [00:00<00:00, 49.33it/s]"
     ]
    },
    {
     "name": "stdout",
     "output_type": "stream",
     "text": [
      "\n",
      "FID: 369.4127\n",
      "Time: 0.14 min\n",
      "\n",
      "-- Partial --\n",
      "Best Epoch: epoch-1\n",
      "Best FID: 369.4127\n",
      "\n",
      "--------------------------------\n",
      "\n",
      "Epoch: 2\n"
     ]
    },
    {
     "name": "stderr",
     "output_type": "stream",
     "text": [
      "100%|██████████| 30/30 [00:00<00:00, 93.61it/s]\n",
      " 37%|███▋      | 11/30 [00:00<00:00, 105.74it/s]"
     ]
    },
    {
     "name": "stdout",
     "output_type": "stream",
     "text": [
      "\n",
      "FID: 376.6093\n",
      "Time: 0.12 min\n",
      "\n",
      "-- Partial --\n",
      "Best Epoch: epoch-1\n",
      "Best FID: 369.4127\n",
      "\n",
      "--------------------------------\n",
      "\n",
      "Epoch: 3\n"
     ]
    },
    {
     "name": "stderr",
     "output_type": "stream",
     "text": [
      "100%|██████████| 30/30 [00:00<00:00, 137.82it/s]\n",
      " 80%|████████  | 24/30 [00:00<00:00, 63.79it/s]"
     ]
    },
    {
     "name": "stdout",
     "output_type": "stream",
     "text": [
      "\n",
      "FID: 370.3086\n",
      "Time: 0.12 min\n",
      "\n",
      "-- Partial --\n",
      "Best Epoch: epoch-1\n",
      "Best FID: 369.4127\n",
      "\n",
      "--------------------------------\n",
      "\n",
      "Epoch: 4\n"
     ]
    },
    {
     "name": "stderr",
     "output_type": "stream",
     "text": [
      "100%|██████████| 30/30 [00:00<00:00, 126.24it/s]\n",
      " 60%|██████    | 18/30 [00:00<00:00, 176.75it/s]"
     ]
    },
    {
     "name": "stdout",
     "output_type": "stream",
     "text": [
      "\n",
      "FID: 391.7924\n",
      "Time: 0.12 min\n",
      "\n",
      "-- Partial --\n",
      "Best Epoch: epoch-1\n",
      "Best FID: 369.4127\n",
      "\n",
      "--------------------------------\n",
      "\n",
      "Epoch: 5\n"
     ]
    },
    {
     "name": "stderr",
     "output_type": "stream",
     "text": [
      "100%|██████████| 30/30 [00:00<00:00, 139.14it/s]\n",
      " 43%|████▎     | 13/30 [00:00<00:00, 124.12it/s]"
     ]
    },
    {
     "name": "stdout",
     "output_type": "stream",
     "text": [
      "\n",
      "FID: 361.2675\n",
      "Time: 0.12 min\n",
      "\n",
      "-- Partial --\n",
      "Best Epoch: epoch-5\n",
      "Best FID: 361.2675\n",
      "\n",
      "--------------------------------\n",
      "\n",
      "Epoch: 6\n"
     ]
    },
    {
     "name": "stderr",
     "output_type": "stream",
     "text": [
      "100%|██████████| 30/30 [00:00<00:00, 146.25it/s]\n",
      " 37%|███▋      | 11/30 [00:00<00:00, 108.23it/s]"
     ]
    },
    {
     "name": "stdout",
     "output_type": "stream",
     "text": [
      "\n",
      "FID: 419.4011\n",
      "Time: 0.12 min\n",
      "\n",
      "-- Partial --\n",
      "Best Epoch: epoch-5\n",
      "Best FID: 361.2675\n",
      "\n",
      "--------------------------------\n",
      "\n",
      "Epoch: 7\n"
     ]
    },
    {
     "name": "stderr",
     "output_type": "stream",
     "text": [
      "100%|██████████| 30/30 [00:00<00:00, 145.64it/s]\n",
      " 20%|██        | 6/30 [00:00<00:00, 59.75it/s]"
     ]
    },
    {
     "name": "stdout",
     "output_type": "stream",
     "text": [
      "\n",
      "FID: 392.9074\n",
      "Time: 0.12 min\n",
      "\n",
      "-- Partial --\n",
      "Best Epoch: epoch-5\n",
      "Best FID: 361.2675\n",
      "\n",
      "--------------------------------\n",
      "\n",
      "Epoch: 8\n"
     ]
    },
    {
     "name": "stderr",
     "output_type": "stream",
     "text": [
      "100%|██████████| 30/30 [00:00<00:00, 131.78it/s]\n",
      " 37%|███▋      | 11/30 [00:00<00:00, 106.53it/s]"
     ]
    },
    {
     "name": "stdout",
     "output_type": "stream",
     "text": [
      "\n",
      "FID: 395.7003\n",
      "Time: 0.12 min\n",
      "\n",
      "-- Partial --\n",
      "Best Epoch: epoch-5\n",
      "Best FID: 361.2675\n",
      "\n",
      "--------------------------------\n",
      "\n",
      "Epoch: 9\n"
     ]
    },
    {
     "name": "stderr",
     "output_type": "stream",
     "text": [
      "100%|██████████| 30/30 [00:00<00:00, 148.51it/s]\n",
      " 40%|████      | 12/30 [00:00<00:00, 115.84it/s]"
     ]
    },
    {
     "name": "stdout",
     "output_type": "stream",
     "text": [
      "\n",
      "FID: 368.1419\n",
      "Time: 0.12 min\n",
      "\n",
      "-- Partial --\n",
      "Best Epoch: epoch-5\n",
      "Best FID: 361.2675\n",
      "\n",
      "--------------------------------\n",
      "\n",
      "Epoch: 10\n"
     ]
    },
    {
     "name": "stderr",
     "output_type": "stream",
     "text": [
      "100%|██████████| 30/30 [00:00<00:00, 149.34it/s]\n",
      " 40%|████      | 12/30 [00:00<00:00, 115.55it/s]"
     ]
    },
    {
     "name": "stdout",
     "output_type": "stream",
     "text": [
      "\n",
      "FID: 423.3362\n",
      "Time: 0.12 min\n",
      "\n",
      "-- Partial --\n",
      "Best Epoch: epoch-5\n",
      "Best FID: 361.2675\n",
      "\n",
      "--------------------------------\n",
      "\n",
      "Epoch: 11\n"
     ]
    },
    {
     "name": "stderr",
     "output_type": "stream",
     "text": [
      "100%|██████████| 30/30 [00:00<00:00, 143.07it/s]\n",
      " 40%|████      | 12/30 [00:00<00:00, 117.41it/s]"
     ]
    },
    {
     "name": "stdout",
     "output_type": "stream",
     "text": [
      "\n",
      "FID: 229.6489\n",
      "Time: 0.12 min\n",
      "\n",
      "-- Partial --\n",
      "Best Epoch: epoch-11\n",
      "Best FID: 229.6489\n",
      "\n",
      "--------------------------------\n",
      "\n",
      "Epoch: 12\n"
     ]
    },
    {
     "name": "stderr",
     "output_type": "stream",
     "text": [
      "100%|██████████| 30/30 [00:00<00:00, 150.70it/s]\n",
      " 20%|██        | 6/30 [00:00<00:00, 59.73it/s]"
     ]
    },
    {
     "name": "stdout",
     "output_type": "stream",
     "text": [
      "\n",
      "FID: 178.1898\n",
      "Time: 0.12 min\n",
      "\n",
      "-- Partial --\n",
      "Best Epoch: epoch-12\n",
      "Best FID: 178.1898\n",
      "\n",
      "--------------------------------\n",
      "\n",
      "Epoch: 13\n"
     ]
    },
    {
     "name": "stderr",
     "output_type": "stream",
     "text": [
      "100%|██████████| 30/30 [00:00<00:00, 121.69it/s]\n",
      " 37%|███▋      | 11/30 [00:00<00:00, 104.07it/s]"
     ]
    },
    {
     "name": "stdout",
     "output_type": "stream",
     "text": [
      "\n",
      "FID: 253.5225\n",
      "Time: 0.12 min\n",
      "\n",
      "-- Partial --\n",
      "Best Epoch: epoch-12\n",
      "Best FID: 178.1898\n",
      "\n",
      "--------------------------------\n",
      "\n",
      "Epoch: 14\n"
     ]
    },
    {
     "name": "stderr",
     "output_type": "stream",
     "text": [
      "100%|██████████| 30/30 [00:00<00:00, 148.24it/s]\n",
      " 17%|█▋        | 5/30 [00:00<00:00, 48.89it/s]"
     ]
    },
    {
     "name": "stdout",
     "output_type": "stream",
     "text": [
      "\n",
      "FID: 192.0123\n",
      "Time: 0.12 min\n",
      "\n",
      "-- Partial --\n",
      "Best Epoch: epoch-12\n",
      "Best FID: 178.1898\n",
      "\n",
      "--------------------------------\n",
      "\n",
      "Epoch: 15\n"
     ]
    },
    {
     "name": "stderr",
     "output_type": "stream",
     "text": [
      "100%|██████████| 30/30 [00:00<00:00, 92.80it/s]\n",
      " 37%|███▋      | 11/30 [00:00<00:00, 107.38it/s]"
     ]
    },
    {
     "name": "stdout",
     "output_type": "stream",
     "text": [
      "\n",
      "FID: 178.5084\n",
      "Time: 0.12 min\n",
      "\n",
      "-- Partial --\n",
      "Best Epoch: epoch-12\n",
      "Best FID: 178.1898\n",
      "\n",
      "--------------------------------\n",
      "\n",
      "Epoch: 16\n"
     ]
    },
    {
     "name": "stderr",
     "output_type": "stream",
     "text": [
      "100%|██████████| 30/30 [00:00<00:00, 146.04it/s]\n",
      " 20%|██        | 6/30 [00:00<00:00, 58.46it/s]"
     ]
    },
    {
     "name": "stdout",
     "output_type": "stream",
     "text": [
      "\n",
      "FID: 128.7632\n",
      "Time: 0.12 min\n",
      "\n",
      "-- Partial --\n",
      "Best Epoch: epoch-16\n",
      "Best FID: 128.7632\n",
      "\n",
      "--------------------------------\n",
      "\n",
      "Epoch: 17\n"
     ]
    },
    {
     "name": "stderr",
     "output_type": "stream",
     "text": [
      "100%|██████████| 30/30 [00:00<00:00, 109.58it/s]\n",
      "100%|██████████| 30/30 [00:00<00:00, 183.65it/s]"
     ]
    },
    {
     "name": "stdout",
     "output_type": "stream",
     "text": [
      "\n",
      "FID: 164.7677\n",
      "Time: 0.12 min\n",
      "\n",
      "-- Partial --\n",
      "Best Epoch: epoch-16\n",
      "Best FID: 128.7632\n",
      "\n",
      "--------------------------------\n",
      "\n",
      "Epoch: 18\n"
     ]
    },
    {
     "name": "stderr",
     "output_type": "stream",
     "text": [
      "\n",
      " 20%|██        | 6/30 [00:00<00:00, 58.83it/s]"
     ]
    },
    {
     "name": "stdout",
     "output_type": "stream",
     "text": [
      "\n",
      "FID: 146.4126\n",
      "Time: 0.12 min\n",
      "\n",
      "-- Partial --\n",
      "Best Epoch: epoch-16\n",
      "Best FID: 128.7632\n",
      "\n",
      "--------------------------------\n",
      "\n",
      "Epoch: 19\n"
     ]
    },
    {
     "name": "stderr",
     "output_type": "stream",
     "text": [
      "100%|██████████| 30/30 [00:00<00:00, 129.67it/s]\n",
      " 27%|██▋       | 8/30 [00:00<00:00, 77.94it/s]"
     ]
    },
    {
     "name": "stdout",
     "output_type": "stream",
     "text": [
      "\n",
      "FID: 137.5017\n",
      "Time: 0.12 min\n",
      "\n",
      "-- Partial --\n",
      "Best Epoch: epoch-16\n",
      "Best FID: 128.7632\n",
      "\n",
      "--------------------------------\n",
      "\n",
      "Epoch: 20\n"
     ]
    },
    {
     "name": "stderr",
     "output_type": "stream",
     "text": [
      "100%|██████████| 30/30 [00:00<00:00, 123.20it/s]\n",
      " 33%|███▎      | 10/30 [00:00<00:00, 96.83it/s]"
     ]
    },
    {
     "name": "stdout",
     "output_type": "stream",
     "text": [
      "\n",
      "FID: 158.8872\n",
      "Time: 0.12 min\n",
      "\n",
      "-- Partial --\n",
      "Best Epoch: epoch-16\n",
      "Best FID: 128.7632\n",
      "\n",
      "--------------------------------\n",
      "\n",
      "Epoch: 21\n"
     ]
    },
    {
     "name": "stderr",
     "output_type": "stream",
     "text": [
      "100%|██████████| 30/30 [00:00<00:00, 146.79it/s]\n",
      " 17%|█▋        | 5/30 [00:00<00:00, 49.81it/s]"
     ]
    },
    {
     "name": "stdout",
     "output_type": "stream",
     "text": [
      "\n",
      "FID: 118.0476\n",
      "Time: 0.12 min\n",
      "\n",
      "-- Partial --\n",
      "Best Epoch: epoch-21\n",
      "Best FID: 118.0476\n",
      "\n",
      "--------------------------------\n",
      "\n",
      "Epoch: 22\n"
     ]
    },
    {
     "name": "stderr",
     "output_type": "stream",
     "text": [
      "100%|██████████| 30/30 [00:00<00:00, 121.21it/s]\n",
      " 40%|████      | 12/30 [00:00<00:00, 119.32it/s]"
     ]
    },
    {
     "name": "stdout",
     "output_type": "stream",
     "text": [
      "\n",
      "FID: 140.0037\n",
      "Time: 0.12 min\n",
      "\n",
      "-- Partial --\n",
      "Best Epoch: epoch-21\n",
      "Best FID: 118.0476\n",
      "\n",
      "--------------------------------\n",
      "\n",
      "Epoch: 23\n"
     ]
    },
    {
     "name": "stderr",
     "output_type": "stream",
     "text": [
      "100%|██████████| 30/30 [00:00<00:00, 157.42it/s]\n",
      " 13%|█▎        | 4/30 [00:00<00:00, 38.27it/s]"
     ]
    },
    {
     "name": "stdout",
     "output_type": "stream",
     "text": [
      "\n",
      "FID: 147.5514\n",
      "Time: 0.12 min\n",
      "\n",
      "-- Partial --\n",
      "Best Epoch: epoch-21\n",
      "Best FID: 118.0476\n",
      "\n",
      "--------------------------------\n",
      "\n",
      "Epoch: 24\n"
     ]
    },
    {
     "name": "stderr",
     "output_type": "stream",
     "text": [
      "100%|██████████| 30/30 [00:00<00:00, 119.30it/s]\n",
      " 40%|████      | 12/30 [00:00<00:00, 116.11it/s]"
     ]
    },
    {
     "name": "stdout",
     "output_type": "stream",
     "text": [
      "\n",
      "FID: 144.5509\n",
      "Time: 0.12 min\n",
      "\n",
      "-- Partial --\n",
      "Best Epoch: epoch-21\n",
      "Best FID: 118.0476\n",
      "\n",
      "--------------------------------\n",
      "\n",
      "Epoch: 25\n"
     ]
    },
    {
     "name": "stderr",
     "output_type": "stream",
     "text": [
      "100%|██████████| 30/30 [00:00<00:00, 152.95it/s]\n",
      "  7%|▋         | 2/30 [00:00<00:01, 19.36it/s]"
     ]
    },
    {
     "name": "stdout",
     "output_type": "stream",
     "text": [
      "\n",
      "FID: 137.4476\n",
      "Time: 0.12 min\n",
      "\n",
      "-- Partial --\n",
      "Best Epoch: epoch-21\n",
      "Best FID: 118.0476\n",
      "\n",
      "--------------------------------\n",
      "\n",
      "Epoch: 26\n"
     ]
    },
    {
     "name": "stderr",
     "output_type": "stream",
     "text": [
      "100%|██████████| 30/30 [00:00<00:00, 113.49it/s]\n",
      " 37%|███▋      | 11/30 [00:00<00:00, 105.31it/s]"
     ]
    },
    {
     "name": "stdout",
     "output_type": "stream",
     "text": [
      "\n",
      "FID: 115.5936\n",
      "Time: 0.12 min\n",
      "\n",
      "-- Partial --\n",
      "Best Epoch: epoch-26\n",
      "Best FID: 115.5936\n",
      "\n",
      "--------------------------------\n",
      "\n",
      "Epoch: 27\n"
     ]
    },
    {
     "name": "stderr",
     "output_type": "stream",
     "text": [
      "100%|██████████| 30/30 [00:00<00:00, 140.53it/s]\n",
      " 43%|████▎     | 13/30 [00:00<00:00, 115.93it/s]"
     ]
    },
    {
     "name": "stdout",
     "output_type": "stream",
     "text": [
      "\n",
      "FID: 133.0956\n",
      "Time: 0.12 min\n",
      "\n",
      "-- Partial --\n",
      "Best Epoch: epoch-26\n",
      "Best FID: 115.5936\n",
      "\n",
      "--------------------------------\n",
      "\n",
      "Epoch: 28\n"
     ]
    },
    {
     "name": "stderr",
     "output_type": "stream",
     "text": [
      "100%|██████████| 30/30 [00:00<00:00, 139.46it/s]\n",
      " 30%|███       | 9/30 [00:00<00:00, 88.78it/s]"
     ]
    },
    {
     "name": "stdout",
     "output_type": "stream",
     "text": [
      "\n",
      "FID: 146.7677\n",
      "Time: 0.12 min\n",
      "\n",
      "-- Partial --\n",
      "Best Epoch: epoch-26\n",
      "Best FID: 115.5936\n",
      "\n",
      "--------------------------------\n",
      "\n",
      "Epoch: 29\n"
     ]
    },
    {
     "name": "stderr",
     "output_type": "stream",
     "text": [
      "100%|██████████| 30/30 [00:00<00:00, 134.54it/s]\n",
      " 33%|███▎      | 10/30 [00:00<00:00, 98.94it/s]"
     ]
    },
    {
     "name": "stdout",
     "output_type": "stream",
     "text": [
      "\n",
      "FID: 90.8787\n",
      "Time: 0.12 min\n",
      "\n",
      "-- Partial --\n",
      "Best Epoch: epoch-29\n",
      "Best FID: 90.8787\n",
      "\n",
      "--------------------------------\n",
      "\n",
      "Epoch: 30\n"
     ]
    },
    {
     "name": "stderr",
     "output_type": "stream",
     "text": [
      "100%|██████████| 30/30 [00:00<00:00, 142.56it/s]\n",
      " 13%|█▎        | 4/30 [00:00<00:00, 39.34it/s]"
     ]
    },
    {
     "name": "stdout",
     "output_type": "stream",
     "text": [
      "\n",
      "FID: 86.6074\n",
      "Time: 0.12 min\n",
      "\n",
      "-- Partial --\n",
      "Best Epoch: epoch-30\n",
      "Best FID: 86.6074\n",
      "\n",
      "--------------------------------\n",
      "\n",
      "Epoch: 31\n"
     ]
    },
    {
     "name": "stderr",
     "output_type": "stream",
     "text": [
      "100%|██████████| 30/30 [00:00<00:00, 105.05it/s]\n",
      " 17%|█▋        | 5/30 [00:00<00:00, 49.72it/s]"
     ]
    },
    {
     "name": "stdout",
     "output_type": "stream",
     "text": [
      "\n",
      "FID: 100.9430\n",
      "Time: 0.12 min\n",
      "\n",
      "-- Partial --\n",
      "Best Epoch: epoch-30\n",
      "Best FID: 86.6074\n",
      "\n",
      "--------------------------------\n",
      "\n",
      "Epoch: 32\n"
     ]
    },
    {
     "name": "stderr",
     "output_type": "stream",
     "text": [
      "100%|██████████| 30/30 [00:00<00:00, 115.58it/s]\n",
      " 37%|███▋      | 11/30 [00:00<00:00, 94.04it/s]"
     ]
    },
    {
     "name": "stdout",
     "output_type": "stream",
     "text": [
      "\n",
      "FID: 101.0062\n",
      "Time: 0.12 min\n",
      "\n",
      "-- Partial --\n",
      "Best Epoch: epoch-30\n",
      "Best FID: 86.6074\n",
      "\n",
      "--------------------------------\n",
      "\n",
      "Epoch: 33\n"
     ]
    },
    {
     "name": "stderr",
     "output_type": "stream",
     "text": [
      "100%|██████████| 30/30 [00:00<00:00, 131.17it/s]\n",
      " 40%|████      | 12/30 [00:00<00:00, 118.21it/s]"
     ]
    },
    {
     "name": "stdout",
     "output_type": "stream",
     "text": [
      "\n",
      "FID: 103.0140\n",
      "Time: 0.12 min\n",
      "\n",
      "-- Partial --\n",
      "Best Epoch: epoch-30\n",
      "Best FID: 86.6074\n",
      "\n",
      "--------------------------------\n",
      "\n",
      "Epoch: 34\n"
     ]
    },
    {
     "name": "stderr",
     "output_type": "stream",
     "text": [
      "100%|██████████| 30/30 [00:00<00:00, 147.04it/s]\n",
      " 33%|███▎      | 10/30 [00:00<00:00, 99.55it/s]"
     ]
    },
    {
     "name": "stdout",
     "output_type": "stream",
     "text": [
      "\n",
      "FID: 107.2084\n",
      "Time: 0.12 min\n",
      "\n",
      "-- Partial --\n",
      "Best Epoch: epoch-30\n",
      "Best FID: 86.6074\n",
      "\n",
      "--------------------------------\n",
      "\n",
      "Epoch: 35\n"
     ]
    },
    {
     "name": "stderr",
     "output_type": "stream",
     "text": [
      "100%|██████████| 30/30 [00:00<00:00, 123.65it/s]\n",
      " 37%|███▋      | 11/30 [00:00<00:00, 107.17it/s]"
     ]
    },
    {
     "name": "stdout",
     "output_type": "stream",
     "text": [
      "\n",
      "FID: 100.4397\n",
      "Time: 0.12 min\n",
      "\n",
      "-- Partial --\n",
      "Best Epoch: epoch-30\n",
      "Best FID: 86.6074\n",
      "\n",
      "--------------------------------\n",
      "\n",
      "Epoch: 36\n"
     ]
    },
    {
     "name": "stderr",
     "output_type": "stream",
     "text": [
      "100%|██████████| 30/30 [00:00<00:00, 137.09it/s]\n",
      " 37%|███▋      | 11/30 [00:00<00:00, 109.55it/s]"
     ]
    },
    {
     "name": "stdout",
     "output_type": "stream",
     "text": [
      "\n",
      "FID: 108.2921\n",
      "Time: 0.12 min\n",
      "\n",
      "-- Partial --\n",
      "Best Epoch: epoch-30\n",
      "Best FID: 86.6074\n",
      "\n",
      "--------------------------------\n",
      "\n",
      "Epoch: 37\n"
     ]
    },
    {
     "name": "stderr",
     "output_type": "stream",
     "text": [
      "100%|██████████| 30/30 [00:00<00:00, 143.03it/s]\n",
      " 43%|████▎     | 13/30 [00:00<00:00, 26.42it/s]"
     ]
    },
    {
     "name": "stdout",
     "output_type": "stream",
     "text": [
      "\n",
      "FID: 93.6800\n",
      "Time: 0.12 min\n",
      "\n",
      "-- Partial --\n",
      "Best Epoch: epoch-30\n",
      "Best FID: 86.6074\n",
      "\n",
      "--------------------------------\n",
      "\n",
      "Epoch: 38\n"
     ]
    },
    {
     "name": "stderr",
     "output_type": "stream",
     "text": [
      "100%|██████████| 30/30 [00:00<00:00, 87.04it/s]\n",
      " 40%|████      | 12/30 [00:00<00:00, 114.56it/s]"
     ]
    },
    {
     "name": "stdout",
     "output_type": "stream",
     "text": [
      "\n",
      "FID: 104.6309\n",
      "Time: 0.12 min\n",
      "\n",
      "-- Partial --\n",
      "Best Epoch: epoch-30\n",
      "Best FID: 86.6074\n",
      "\n",
      "--------------------------------\n",
      "\n",
      "Epoch: 39\n"
     ]
    },
    {
     "name": "stderr",
     "output_type": "stream",
     "text": [
      "100%|██████████| 30/30 [00:00<00:00, 151.93it/s]\n",
      "  7%|▋         | 2/30 [00:00<00:01, 19.56it/s]"
     ]
    },
    {
     "name": "stdout",
     "output_type": "stream",
     "text": [
      "\n",
      "FID: 388.0821\n",
      "Time: 0.12 min\n",
      "\n",
      "-- Partial --\n",
      "Best Epoch: epoch-30\n",
      "Best FID: 86.6074\n",
      "\n",
      "--------------------------------\n",
      "\n",
      "Epoch: 40\n"
     ]
    },
    {
     "name": "stderr",
     "output_type": "stream",
     "text": [
      "100%|██████████| 30/30 [00:00<00:00, 108.08it/s]\n",
      " 47%|████▋     | 14/30 [00:00<00:00, 126.00it/s]"
     ]
    },
    {
     "name": "stdout",
     "output_type": "stream",
     "text": [
      "\n",
      "FID: 396.1827\n",
      "Time: 0.12 min\n",
      "\n",
      "-- Partial --\n",
      "Best Epoch: epoch-30\n",
      "Best FID: 86.6074\n",
      "\n",
      "--------------------------------\n",
      "\n",
      "Epoch: 41\n"
     ]
    },
    {
     "name": "stderr",
     "output_type": "stream",
     "text": [
      "100%|██████████| 30/30 [00:00<00:00, 149.99it/s]\n",
      "  7%|▋         | 2/30 [00:00<00:01, 18.10it/s]"
     ]
    },
    {
     "name": "stdout",
     "output_type": "stream",
     "text": [
      "\n",
      "FID: 403.7013\n",
      "Time: 0.12 min\n",
      "\n",
      "-- Partial --\n",
      "Best Epoch: epoch-30\n",
      "Best FID: 86.6074\n",
      "\n",
      "--------------------------------\n",
      "\n",
      "Epoch: 42\n"
     ]
    },
    {
     "name": "stderr",
     "output_type": "stream",
     "text": [
      "100%|██████████| 30/30 [00:00<00:00, 104.95it/s]\n",
      " 53%|█████▎    | 16/30 [00:00<00:00, 132.23it/s]"
     ]
    },
    {
     "name": "stdout",
     "output_type": "stream",
     "text": [
      "\n",
      "FID: 358.6405\n",
      "Time: 0.12 min\n",
      "\n",
      "-- Partial --\n",
      "Best Epoch: epoch-30\n",
      "Best FID: 86.6074\n",
      "\n",
      "--------------------------------\n",
      "\n",
      "Epoch: 43\n"
     ]
    },
    {
     "name": "stderr",
     "output_type": "stream",
     "text": [
      "100%|██████████| 30/30 [00:00<00:00, 154.04it/s]\n",
      " 33%|███▎      | 10/30 [00:00<00:00, 97.29it/s]"
     ]
    },
    {
     "name": "stdout",
     "output_type": "stream",
     "text": [
      "\n",
      "FID: 315.5284\n",
      "Time: 0.12 min\n",
      "\n",
      "-- Partial --\n",
      "Best Epoch: epoch-30\n",
      "Best FID: 86.6074\n",
      "\n",
      "--------------------------------\n",
      "\n",
      "Epoch: 44\n"
     ]
    },
    {
     "name": "stderr",
     "output_type": "stream",
     "text": [
      "100%|██████████| 30/30 [00:00<00:00, 120.62it/s]\n",
      " 33%|███▎      | 10/30 [00:00<00:00, 97.14it/s]"
     ]
    },
    {
     "name": "stdout",
     "output_type": "stream",
     "text": [
      "\n",
      "FID: 338.3024\n",
      "Time: 0.12 min\n",
      "\n",
      "-- Partial --\n",
      "Best Epoch: epoch-30\n",
      "Best FID: 86.6074\n",
      "\n",
      "--------------------------------\n",
      "\n",
      "Epoch: 45\n"
     ]
    },
    {
     "name": "stderr",
     "output_type": "stream",
     "text": [
      "100%|██████████| 30/30 [00:00<00:00, 107.12it/s]\n",
      " 53%|█████▎    | 16/30 [00:00<00:00, 124.10it/s]"
     ]
    },
    {
     "name": "stdout",
     "output_type": "stream",
     "text": [
      "\n",
      "FID: 249.7749\n",
      "Time: 0.12 min\n",
      "\n",
      "-- Partial --\n",
      "Best Epoch: epoch-30\n",
      "Best FID: 86.6074\n",
      "\n",
      "--------------------------------\n",
      "\n",
      "Epoch: 46\n"
     ]
    },
    {
     "name": "stderr",
     "output_type": "stream",
     "text": [
      "100%|██████████| 30/30 [00:00<00:00, 150.17it/s]\n",
      "100%|██████████| 30/30 [00:00<00:00, 124.28it/s]"
     ]
    },
    {
     "name": "stdout",
     "output_type": "stream",
     "text": [
      "\n",
      "FID: 219.0964\n",
      "Time: 0.12 min\n",
      "\n",
      "-- Partial --\n",
      "Best Epoch: epoch-30\n",
      "Best FID: 86.6074\n",
      "\n",
      "--------------------------------\n",
      "\n",
      "Epoch: 47\n"
     ]
    },
    {
     "name": "stderr",
     "output_type": "stream",
     "text": [
      "100%|██████████| 30/30 [00:00<00:00, 147.92it/s]\n",
      " 53%|█████▎    | 16/30 [00:00<00:00, 126.33it/s]"
     ]
    },
    {
     "name": "stdout",
     "output_type": "stream",
     "text": [
      "\n",
      "FID: 208.1458\n",
      "Time: 0.12 min\n",
      "\n",
      "-- Partial --\n",
      "Best Epoch: epoch-30\n",
      "Best FID: 86.6074\n",
      "\n",
      "--------------------------------\n",
      "\n",
      "Epoch: 48\n"
     ]
    },
    {
     "name": "stderr",
     "output_type": "stream",
     "text": [
      "100%|██████████| 30/30 [00:00<00:00, 141.78it/s]\n",
      "  7%|▋         | 2/30 [00:00<00:01, 18.08it/s]"
     ]
    },
    {
     "name": "stdout",
     "output_type": "stream",
     "text": [
      "\n",
      "FID: 176.9139\n",
      "Time: 0.12 min\n",
      "\n",
      "-- Partial --\n",
      "Best Epoch: epoch-30\n",
      "Best FID: 86.6074\n",
      "\n",
      "--------------------------------\n",
      "\n",
      "Epoch: 49\n"
     ]
    },
    {
     "name": "stderr",
     "output_type": "stream",
     "text": [
      "100%|██████████| 30/30 [00:00<00:00, 100.07it/s]\n",
      " 50%|█████     | 15/30 [00:00<00:00, 147.93it/s]"
     ]
    },
    {
     "name": "stdout",
     "output_type": "stream",
     "text": [
      "\n",
      "FID: 197.1642\n",
      "Time: 0.12 min\n",
      "\n",
      "-- Partial --\n",
      "Best Epoch: epoch-30\n",
      "Best FID: 86.6074\n",
      "\n",
      "--------------------------------\n",
      "\n",
      "Epoch: 50\n"
     ]
    },
    {
     "name": "stderr",
     "output_type": "stream",
     "text": [
      "100%|██████████| 30/30 [00:00<00:00, 168.95it/s]\n",
      " 27%|██▋       | 8/30 [00:00<00:00, 75.92it/s]"
     ]
    },
    {
     "name": "stdout",
     "output_type": "stream",
     "text": [
      "\n",
      "FID: 206.7160\n",
      "Time: 0.12 min\n",
      "\n",
      "-- Partial --\n",
      "Best Epoch: epoch-30\n",
      "Best FID: 86.6074\n",
      "\n",
      "--------------------------------\n",
      "\n",
      "Epoch: 51\n"
     ]
    },
    {
     "name": "stderr",
     "output_type": "stream",
     "text": [
      "100%|██████████| 30/30 [00:00<00:00, 120.14it/s]\n",
      " 97%|█████████▋| 29/30 [00:00<00:00, 107.26it/s]"
     ]
    },
    {
     "name": "stdout",
     "output_type": "stream",
     "text": [
      "\n",
      "FID: 148.6988\n",
      "Time: 0.12 min\n",
      "\n",
      "-- Partial --\n",
      "Best Epoch: epoch-30\n",
      "Best FID: 86.6074\n",
      "\n",
      "--------------------------------\n",
      "\n",
      "Epoch: 52\n"
     ]
    },
    {
     "name": "stderr",
     "output_type": "stream",
     "text": [
      "100%|██████████| 30/30 [00:00<00:00, 143.91it/s]\n",
      "100%|██████████| 30/30 [00:00<00:00, 149.09it/s]"
     ]
    },
    {
     "name": "stdout",
     "output_type": "stream",
     "text": [
      "\n",
      "FID: 143.5157\n",
      "Time: 0.12 min\n",
      "\n",
      "-- Partial --\n",
      "Best Epoch: epoch-30\n",
      "Best FID: 86.6074\n",
      "\n",
      "--------------------------------\n",
      "\n",
      "Epoch: 53\n"
     ]
    },
    {
     "name": "stderr",
     "output_type": "stream",
     "text": [
      "\n",
      " 33%|███▎      | 10/30 [00:00<00:00, 95.96it/s]"
     ]
    },
    {
     "name": "stdout",
     "output_type": "stream",
     "text": [
      "\n",
      "FID: 119.6990\n",
      "Time: 0.12 min\n",
      "\n",
      "-- Partial --\n",
      "Best Epoch: epoch-30\n",
      "Best FID: 86.6074\n",
      "\n",
      "--------------------------------\n",
      "\n",
      "Epoch: 54\n"
     ]
    },
    {
     "name": "stderr",
     "output_type": "stream",
     "text": [
      "100%|██████████| 30/30 [00:00<00:00, 137.81it/s]\n",
      " 27%|██▋       | 8/30 [00:00<00:00, 79.92it/s]"
     ]
    },
    {
     "name": "stdout",
     "output_type": "stream",
     "text": [
      "\n",
      "FID: 109.6287\n",
      "Time: 0.12 min\n",
      "\n",
      "-- Partial --\n",
      "Best Epoch: epoch-30\n",
      "Best FID: 86.6074\n",
      "\n",
      "--------------------------------\n",
      "\n",
      "Epoch: 55\n"
     ]
    },
    {
     "name": "stderr",
     "output_type": "stream",
     "text": [
      "100%|██████████| 30/30 [00:00<00:00, 117.10it/s]\n",
      " 10%|█         | 3/30 [00:00<00:00, 29.12it/s]"
     ]
    },
    {
     "name": "stdout",
     "output_type": "stream",
     "text": [
      "\n",
      "FID: 129.8090\n",
      "Time: 0.12 min\n",
      "\n",
      "-- Partial --\n",
      "Best Epoch: epoch-30\n",
      "Best FID: 86.6074\n",
      "\n",
      "--------------------------------\n",
      "\n",
      "Epoch: 56\n"
     ]
    },
    {
     "name": "stderr",
     "output_type": "stream",
     "text": [
      "100%|██████████| 30/30 [00:00<00:00, 116.73it/s]\n",
      " 57%|█████▋    | 17/30 [00:00<00:00, 122.83it/s]"
     ]
    },
    {
     "name": "stdout",
     "output_type": "stream",
     "text": [
      "\n",
      "FID: 115.8293\n",
      "Time: 0.12 min\n",
      "\n",
      "-- Partial --\n",
      "Best Epoch: epoch-30\n",
      "Best FID: 86.6074\n",
      "\n",
      "--------------------------------\n",
      "\n",
      "Epoch: 57\n"
     ]
    },
    {
     "name": "stderr",
     "output_type": "stream",
     "text": [
      "100%|██████████| 30/30 [00:00<00:00, 121.71it/s]\n",
      "  7%|▋         | 2/30 [00:00<00:01, 18.59it/s]"
     ]
    },
    {
     "name": "stdout",
     "output_type": "stream",
     "text": [
      "\n",
      "FID: 109.8880\n",
      "Time: 0.12 min\n",
      "\n",
      "-- Partial --\n",
      "Best Epoch: epoch-30\n",
      "Best FID: 86.6074\n",
      "\n",
      "--------------------------------\n",
      "\n",
      "Epoch: 58\n"
     ]
    },
    {
     "name": "stderr",
     "output_type": "stream",
     "text": [
      "100%|██████████| 30/30 [00:00<00:00, 104.63it/s]\n",
      " 40%|████      | 12/30 [00:00<00:00, 116.71it/s]"
     ]
    },
    {
     "name": "stdout",
     "output_type": "stream",
     "text": [
      "\n",
      "FID: 120.4677\n",
      "Time: 0.12 min\n",
      "\n",
      "-- Partial --\n",
      "Best Epoch: epoch-30\n",
      "Best FID: 86.6074\n",
      "\n",
      "--------------------------------\n",
      "\n",
      "Epoch: 59\n"
     ]
    },
    {
     "name": "stderr",
     "output_type": "stream",
     "text": [
      "100%|██████████| 30/30 [00:00<00:00, 153.13it/s]\n",
      " 10%|█         | 3/30 [00:00<00:00, 27.05it/s]"
     ]
    },
    {
     "name": "stdout",
     "output_type": "stream",
     "text": [
      "\n",
      "FID: 107.9778\n",
      "Time: 0.12 min\n",
      "\n",
      "-- Partial --\n",
      "Best Epoch: epoch-30\n",
      "Best FID: 86.6074\n",
      "\n",
      "--------------------------------\n",
      "\n",
      "Epoch: 60\n"
     ]
    },
    {
     "name": "stderr",
     "output_type": "stream",
     "text": [
      "100%|██████████| 30/30 [00:00<00:00, 111.97it/s]\n",
      " 33%|███▎      | 10/30 [00:00<00:00, 95.84it/s]"
     ]
    },
    {
     "name": "stdout",
     "output_type": "stream",
     "text": [
      "\n",
      "FID: 107.7348\n",
      "Time: 0.12 min\n",
      "\n",
      "-- Partial --\n",
      "Best Epoch: epoch-30\n",
      "Best FID: 86.6074\n",
      "\n",
      "--------------------------------\n",
      "\n",
      "Epoch: 61\n"
     ]
    },
    {
     "name": "stderr",
     "output_type": "stream",
     "text": [
      "100%|██████████| 30/30 [00:00<00:00, 139.33it/s]\n",
      " 20%|██        | 6/30 [00:00<00:00, 46.67it/s]"
     ]
    },
    {
     "name": "stdout",
     "output_type": "stream",
     "text": [
      "\n",
      "FID: 102.3913\n",
      "Time: 0.12 min\n",
      "\n",
      "-- Partial --\n",
      "Best Epoch: epoch-30\n",
      "Best FID: 86.6074\n",
      "\n",
      "--------------------------------\n",
      "\n",
      "Epoch: 62\n"
     ]
    },
    {
     "name": "stderr",
     "output_type": "stream",
     "text": [
      "100%|██████████| 30/30 [00:00<00:00, 117.52it/s]\n",
      " 23%|██▎       | 7/30 [00:00<00:00, 66.60it/s]"
     ]
    },
    {
     "name": "stdout",
     "output_type": "stream",
     "text": [
      "\n",
      "FID: 101.5976\n",
      "Time: 0.12 min\n",
      "\n",
      "-- Partial --\n",
      "Best Epoch: epoch-30\n",
      "Best FID: 86.6074\n",
      "\n",
      "--------------------------------\n",
      "\n",
      "Epoch: 63\n"
     ]
    },
    {
     "name": "stderr",
     "output_type": "stream",
     "text": [
      "100%|██████████| 30/30 [00:00<00:00, 103.51it/s]\n",
      " 63%|██████▎   | 19/30 [00:00<00:00, 127.73it/s]"
     ]
    },
    {
     "name": "stdout",
     "output_type": "stream",
     "text": [
      "\n",
      "FID: 101.8094\n",
      "Time: 0.12 min\n",
      "\n",
      "-- Partial --\n",
      "Best Epoch: epoch-30\n",
      "Best FID: 86.6074\n",
      "\n",
      "--------------------------------\n",
      "\n",
      "Epoch: 64\n"
     ]
    },
    {
     "name": "stderr",
     "output_type": "stream",
     "text": [
      "100%|██████████| 30/30 [00:00<00:00, 146.49it/s]\n",
      "  7%|▋         | 2/30 [00:00<00:01, 18.66it/s]"
     ]
    },
    {
     "name": "stdout",
     "output_type": "stream",
     "text": [
      "\n",
      "FID: 97.0422\n",
      "Time: 0.12 min\n",
      "\n",
      "-- Partial --\n",
      "Best Epoch: epoch-30\n",
      "Best FID: 86.6074\n",
      "\n",
      "--------------------------------\n",
      "\n",
      "Epoch: 65\n"
     ]
    },
    {
     "name": "stderr",
     "output_type": "stream",
     "text": [
      "100%|██████████| 30/30 [00:00<00:00, 112.94it/s]\n",
      " 37%|███▋      | 11/30 [00:00<00:00, 104.91it/s]"
     ]
    },
    {
     "name": "stdout",
     "output_type": "stream",
     "text": [
      "\n",
      "FID: 104.7817\n",
      "Time: 0.12 min\n",
      "\n",
      "-- Partial --\n",
      "Best Epoch: epoch-30\n",
      "Best FID: 86.6074\n",
      "\n",
      "--------------------------------\n",
      "\n",
      "Epoch: 66\n"
     ]
    },
    {
     "name": "stderr",
     "output_type": "stream",
     "text": [
      "100%|██████████| 30/30 [00:00<00:00, 147.87it/s]\n",
      " 10%|█         | 3/30 [00:00<00:00, 29.73it/s]"
     ]
    },
    {
     "name": "stdout",
     "output_type": "stream",
     "text": [
      "\n",
      "FID: 95.8023\n",
      "Time: 0.12 min\n",
      "\n",
      "-- Partial --\n",
      "Best Epoch: epoch-30\n",
      "Best FID: 86.6074\n",
      "\n",
      "--------------------------------\n",
      "\n",
      "Epoch: 67\n"
     ]
    },
    {
     "name": "stderr",
     "output_type": "stream",
     "text": [
      "100%|██████████| 30/30 [00:00<00:00, 94.75it/s]\n",
      " 37%|███▋      | 11/30 [00:00<00:00, 109.06it/s]"
     ]
    },
    {
     "name": "stdout",
     "output_type": "stream",
     "text": [
      "\n",
      "FID: 101.4329\n",
      "Time: 0.12 min\n",
      "\n",
      "-- Partial --\n",
      "Best Epoch: epoch-30\n",
      "Best FID: 86.6074\n",
      "\n",
      "--------------------------------\n",
      "\n",
      "Epoch: 68\n"
     ]
    },
    {
     "name": "stderr",
     "output_type": "stream",
     "text": [
      "100%|██████████| 30/30 [00:00<00:00, 152.68it/s]\n",
      " 80%|████████  | 24/30 [00:00<00:00, 52.07it/s]"
     ]
    },
    {
     "name": "stdout",
     "output_type": "stream",
     "text": [
      "\n",
      "FID: 107.4974\n",
      "Time: 0.12 min\n",
      "\n",
      "-- Partial --\n",
      "Best Epoch: epoch-30\n",
      "Best FID: 86.6074\n",
      "\n",
      "--------------------------------\n",
      "\n",
      "Epoch: 69\n"
     ]
    },
    {
     "name": "stderr",
     "output_type": "stream",
     "text": [
      "100%|██████████| 30/30 [00:00<00:00, 117.85it/s]\n",
      " 37%|███▋      | 11/30 [00:00<00:00, 109.97it/s]"
     ]
    },
    {
     "name": "stdout",
     "output_type": "stream",
     "text": [
      "\n",
      "FID: 90.9379\n",
      "Time: 0.12 min\n",
      "\n",
      "-- Partial --\n",
      "Best Epoch: epoch-30\n",
      "Best FID: 86.6074\n",
      "\n",
      "--------------------------------\n",
      "\n",
      "Epoch: 70\n"
     ]
    },
    {
     "name": "stderr",
     "output_type": "stream",
     "text": [
      "100%|██████████| 30/30 [00:00<00:00, 146.77it/s]\n",
      " 33%|███▎      | 10/30 [00:00<00:00, 96.53it/s]"
     ]
    },
    {
     "name": "stdout",
     "output_type": "stream",
     "text": [
      "\n",
      "FID: 94.5725\n",
      "Time: 0.12 min\n",
      "\n",
      "-- Partial --\n",
      "Best Epoch: epoch-30\n",
      "Best FID: 86.6074\n",
      "\n",
      "--------------------------------\n",
      "\n",
      "Epoch: 71\n"
     ]
    },
    {
     "name": "stderr",
     "output_type": "stream",
     "text": [
      "100%|██████████| 30/30 [00:00<00:00, 145.15it/s]\n",
      " 10%|█         | 3/30 [00:00<00:00, 29.23it/s]"
     ]
    },
    {
     "name": "stdout",
     "output_type": "stream",
     "text": [
      "\n",
      "FID: 94.8651\n",
      "Time: 0.12 min\n",
      "\n",
      "-- Partial --\n",
      "Best Epoch: epoch-30\n",
      "Best FID: 86.6074\n",
      "\n",
      "--------------------------------\n",
      "\n",
      "Epoch: 72\n"
     ]
    },
    {
     "name": "stderr",
     "output_type": "stream",
     "text": [
      "100%|██████████| 30/30 [00:00<00:00, 107.69it/s]\n",
      " 37%|███▋      | 11/30 [00:00<00:00, 105.67it/s]"
     ]
    },
    {
     "name": "stdout",
     "output_type": "stream",
     "text": [
      "\n",
      "FID: 103.4210\n",
      "Time: 0.12 min\n",
      "\n",
      "-- Partial --\n",
      "Best Epoch: epoch-30\n",
      "Best FID: 86.6074\n",
      "\n",
      "--------------------------------\n",
      "\n",
      "Epoch: 73\n"
     ]
    },
    {
     "name": "stderr",
     "output_type": "stream",
     "text": [
      "100%|██████████| 30/30 [00:00<00:00, 147.65it/s]\n",
      "  7%|▋         | 2/30 [00:00<00:01, 14.97it/s]"
     ]
    },
    {
     "name": "stdout",
     "output_type": "stream",
     "text": [
      "\n",
      "FID: 93.0546\n",
      "Time: 0.12 min\n",
      "\n",
      "-- Partial --\n",
      "Best Epoch: epoch-30\n",
      "Best FID: 86.6074\n",
      "\n",
      "--------------------------------\n",
      "\n",
      "Epoch: 74\n"
     ]
    },
    {
     "name": "stderr",
     "output_type": "stream",
     "text": [
      "100%|██████████| 30/30 [00:00<00:00, 90.08it/s]\n",
      " 63%|██████▎   | 19/30 [00:00<00:00, 187.19it/s]"
     ]
    },
    {
     "name": "stdout",
     "output_type": "stream",
     "text": [
      "\n",
      "FID: 94.3828\n",
      "Time: 0.12 min\n",
      "\n",
      "-- Partial --\n",
      "Best Epoch: epoch-30\n",
      "Best FID: 86.6074\n",
      "\n",
      "--------------------------------\n",
      "\n",
      "Epoch: 75\n"
     ]
    },
    {
     "name": "stderr",
     "output_type": "stream",
     "text": [
      "100%|██████████| 30/30 [00:00<00:00, 155.32it/s]\n",
      " 20%|██        | 6/30 [00:00<00:00, 57.69it/s]"
     ]
    },
    {
     "name": "stdout",
     "output_type": "stream",
     "text": [
      "\n",
      "FID: 91.2436\n",
      "Time: 0.12 min\n",
      "\n",
      "-- Partial --\n",
      "Best Epoch: epoch-30\n",
      "Best FID: 86.6074\n",
      "\n",
      "--------------------------------\n",
      "\n",
      "Epoch: 76\n"
     ]
    },
    {
     "name": "stderr",
     "output_type": "stream",
     "text": [
      "100%|██████████| 30/30 [00:00<00:00, 120.69it/s]\n",
      " 63%|██████▎   | 19/30 [00:00<00:00, 182.48it/s]"
     ]
    },
    {
     "name": "stdout",
     "output_type": "stream",
     "text": [
      "\n",
      "FID: 88.0662\n",
      "Time: 0.12 min\n",
      "\n",
      "-- Partial --\n",
      "Best Epoch: epoch-30\n",
      "Best FID: 86.6074\n",
      "\n",
      "--------------------------------\n",
      "\n",
      "Epoch: 77\n"
     ]
    },
    {
     "name": "stderr",
     "output_type": "stream",
     "text": [
      "100%|██████████| 30/30 [00:00<00:00, 160.09it/s]\n",
      " 43%|████▎     | 13/30 [00:00<00:00, 125.68it/s]"
     ]
    },
    {
     "name": "stdout",
     "output_type": "stream",
     "text": [
      "\n",
      "FID: 91.0590\n",
      "Time: 0.12 min\n",
      "\n",
      "-- Partial --\n",
      "Best Epoch: epoch-30\n",
      "Best FID: 86.6074\n",
      "\n",
      "--------------------------------\n",
      "\n",
      "Epoch: 78\n"
     ]
    },
    {
     "name": "stderr",
     "output_type": "stream",
     "text": [
      "100%|██████████| 30/30 [00:00<00:00, 149.29it/s]\n",
      " 77%|███████▋  | 23/30 [00:00<00:00, 25.47it/s]"
     ]
    },
    {
     "name": "stdout",
     "output_type": "stream",
     "text": [
      "\n",
      "FID: 87.8222\n",
      "Time: 0.12 min\n",
      "\n",
      "-- Partial --\n",
      "Best Epoch: epoch-30\n",
      "Best FID: 86.6074\n",
      "\n",
      "--------------------------------\n",
      "\n",
      "Epoch: 79\n"
     ]
    },
    {
     "name": "stderr",
     "output_type": "stream",
     "text": [
      "100%|██████████| 30/30 [00:00<00:00, 105.18it/s]\n",
      "100%|██████████| 30/30 [00:00<00:00, 154.87it/s]"
     ]
    },
    {
     "name": "stdout",
     "output_type": "stream",
     "text": [
      "\n",
      "FID: 87.7911\n",
      "Time: 0.12 min\n",
      "\n",
      "-- Partial --\n",
      "Best Epoch: epoch-30\n",
      "Best FID: 86.6074\n",
      "\n",
      "--------------------------------\n",
      "\n",
      "Epoch: 80\n"
     ]
    },
    {
     "name": "stderr",
     "output_type": "stream",
     "text": [
      "\n",
      "  7%|▋         | 2/30 [00:00<00:01, 18.38it/s]"
     ]
    },
    {
     "name": "stdout",
     "output_type": "stream",
     "text": [
      "\n",
      "FID: 92.8084\n",
      "Time: 0.12 min\n",
      "\n",
      "-- Partial --\n",
      "Best Epoch: epoch-30\n",
      "Best FID: 86.6074\n",
      "\n",
      "--------------------------------\n",
      "\n",
      "Epoch: 81\n"
     ]
    },
    {
     "name": "stderr",
     "output_type": "stream",
     "text": [
      "100%|██████████| 30/30 [00:00<00:00, 108.08it/s]\n",
      "100%|██████████| 30/30 [00:00<00:00, 152.69it/s]"
     ]
    },
    {
     "name": "stdout",
     "output_type": "stream",
     "text": [
      "\n",
      "FID: 95.1379\n",
      "Time: 0.12 min\n",
      "\n",
      "-- Partial --\n",
      "Best Epoch: epoch-30\n",
      "Best FID: 86.6074\n",
      "\n",
      "--------------------------------\n",
      "\n",
      "Epoch: 82\n"
     ]
    },
    {
     "name": "stderr",
     "output_type": "stream",
     "text": [
      "\n",
      " 73%|███████▎  | 22/30 [00:00<00:00, 26.91it/s]"
     ]
    },
    {
     "name": "stdout",
     "output_type": "stream",
     "text": [
      "\n",
      "FID: 92.7786\n",
      "Time: 0.12 min\n",
      "\n",
      "-- Partial --\n",
      "Best Epoch: epoch-30\n",
      "Best FID: 86.6074\n",
      "\n",
      "--------------------------------\n",
      "\n",
      "Epoch: 83\n"
     ]
    },
    {
     "name": "stderr",
     "output_type": "stream",
     "text": [
      "100%|██████████| 30/30 [00:00<00:00, 103.53it/s]\n",
      "100%|██████████| 30/30 [00:00<00:00, 190.74it/s]"
     ]
    },
    {
     "name": "stdout",
     "output_type": "stream",
     "text": [
      "\n",
      "FID: 80.4719\n",
      "Time: 0.12 min\n",
      "\n",
      "-- Partial --\n",
      "Best Epoch: epoch-83\n",
      "Best FID: 80.4719\n",
      "\n",
      "--------------------------------\n",
      "\n",
      "Epoch: 84\n"
     ]
    },
    {
     "name": "stderr",
     "output_type": "stream",
     "text": [
      "\n",
      " 27%|██▋       | 8/30 [00:00<00:00, 77.22it/s]"
     ]
    },
    {
     "name": "stdout",
     "output_type": "stream",
     "text": [
      "\n",
      "FID: 92.9100\n",
      "Time: 0.12 min\n",
      "\n",
      "-- Partial --\n",
      "Best Epoch: epoch-83\n",
      "Best FID: 80.4719\n",
      "\n",
      "--------------------------------\n",
      "\n",
      "Epoch: 85\n"
     ]
    },
    {
     "name": "stderr",
     "output_type": "stream",
     "text": [
      "100%|██████████| 30/30 [00:00<00:00, 116.49it/s]\n",
      "100%|██████████| 30/30 [00:00<00:00, 149.54it/s]"
     ]
    },
    {
     "name": "stdout",
     "output_type": "stream",
     "text": [
      "\n",
      "FID: 82.0054\n",
      "Time: 0.12 min\n",
      "\n",
      "-- Partial --\n",
      "Best Epoch: epoch-83\n",
      "Best FID: 80.4719\n",
      "\n",
      "--------------------------------\n",
      "\n",
      "Epoch: 86\n"
     ]
    },
    {
     "name": "stderr",
     "output_type": "stream",
     "text": [
      "\n",
      " 37%|███▋      | 11/30 [00:00<00:00, 108.74it/s]"
     ]
    },
    {
     "name": "stdout",
     "output_type": "stream",
     "text": [
      "\n",
      "FID: 92.6884\n",
      "Time: 0.12 min\n",
      "\n",
      "-- Partial --\n",
      "Best Epoch: epoch-83\n",
      "Best FID: 80.4719\n",
      "\n",
      "--------------------------------\n",
      "\n",
      "Epoch: 87\n"
     ]
    },
    {
     "name": "stderr",
     "output_type": "stream",
     "text": [
      "100%|██████████| 30/30 [00:00<00:00, 130.50it/s]\n",
      " 10%|█         | 3/30 [00:00<00:00, 29.78it/s]"
     ]
    },
    {
     "name": "stdout",
     "output_type": "stream",
     "text": [
      "\n",
      "FID: 86.6491\n",
      "Time: 0.12 min\n",
      "\n",
      "-- Partial --\n",
      "Best Epoch: epoch-83\n",
      "Best FID: 80.4719\n",
      "\n",
      "--------------------------------\n",
      "\n",
      "Epoch: 88\n"
     ]
    },
    {
     "name": "stderr",
     "output_type": "stream",
     "text": [
      "100%|██████████| 30/30 [00:00<00:00, 103.76it/s]\n",
      "100%|██████████| 30/30 [00:00<00:00, 149.44it/s]"
     ]
    },
    {
     "name": "stdout",
     "output_type": "stream",
     "text": [
      "\n",
      "FID: 89.2454\n",
      "Time: 0.12 min\n",
      "\n",
      "-- Partial --\n",
      "Best Epoch: epoch-83\n",
      "Best FID: 80.4719\n",
      "\n",
      "--------------------------------\n",
      "\n",
      "Epoch: 89\n"
     ]
    },
    {
     "name": "stderr",
     "output_type": "stream",
     "text": [
      "\n",
      "  7%|▋         | 2/30 [00:00<00:01, 17.92it/s]"
     ]
    },
    {
     "name": "stdout",
     "output_type": "stream",
     "text": [
      "\n",
      "FID: 78.7994\n",
      "Time: 0.12 min\n",
      "\n",
      "-- Partial --\n",
      "Best Epoch: epoch-89\n",
      "Best FID: 78.7994\n",
      "\n",
      "--------------------------------\n",
      "\n",
      "Epoch: 90\n"
     ]
    },
    {
     "name": "stderr",
     "output_type": "stream",
     "text": [
      "100%|██████████| 30/30 [00:00<00:00, 96.73it/s]\n",
      "100%|██████████| 30/30 [00:00<00:00, 192.48it/s]"
     ]
    },
    {
     "name": "stdout",
     "output_type": "stream",
     "text": [
      "\n",
      "FID: 74.0039\n",
      "Time: 0.12 min\n",
      "\n",
      "-- Partial --\n",
      "Best Epoch: epoch-90\n",
      "Best FID: 74.0039\n",
      "\n",
      "--------------------------------\n",
      "\n",
      "Epoch: 91\n"
     ]
    },
    {
     "name": "stderr",
     "output_type": "stream",
     "text": [
      "\n",
      " 17%|█▋        | 5/30 [00:00<00:00, 49.66it/s]"
     ]
    },
    {
     "name": "stdout",
     "output_type": "stream",
     "text": [
      "\n",
      "FID: 83.2194\n",
      "Time: 0.12 min\n",
      "\n",
      "-- Partial --\n",
      "Best Epoch: epoch-90\n",
      "Best FID: 74.0039\n",
      "\n",
      "--------------------------------\n",
      "\n",
      "Epoch: 92\n"
     ]
    },
    {
     "name": "stderr",
     "output_type": "stream",
     "text": [
      "100%|██████████| 30/30 [00:00<00:00, 111.32it/s]\n",
      " 43%|████▎     | 13/30 [00:00<00:00, 123.90it/s]"
     ]
    },
    {
     "name": "stdout",
     "output_type": "stream",
     "text": [
      "\n",
      "FID: 77.9411\n",
      "Time: 0.12 min\n",
      "\n",
      "-- Partial --\n",
      "Best Epoch: epoch-90\n",
      "Best FID: 74.0039\n",
      "\n",
      "--------------------------------\n",
      "\n",
      "Epoch: 93\n"
     ]
    },
    {
     "name": "stderr",
     "output_type": "stream",
     "text": [
      "100%|██████████| 30/30 [00:00<00:00, 152.24it/s]\n",
      " 50%|█████     | 15/30 [00:00<00:00, 148.17it/s]"
     ]
    },
    {
     "name": "stdout",
     "output_type": "stream",
     "text": [
      "\n",
      "FID: 80.3493\n",
      "Time: 0.12 min\n",
      "\n",
      "-- Partial --\n",
      "Best Epoch: epoch-90\n",
      "Best FID: 74.0039\n",
      "\n",
      "--------------------------------\n",
      "\n",
      "Epoch: 94\n"
     ]
    },
    {
     "name": "stderr",
     "output_type": "stream",
     "text": [
      "100%|██████████| 30/30 [00:00<00:00, 163.91it/s]\n",
      " 37%|███▋      | 11/30 [00:00<00:00, 108.15it/s]"
     ]
    },
    {
     "name": "stdout",
     "output_type": "stream",
     "text": [
      "\n",
      "FID: 77.6335\n",
      "Time: 0.12 min\n",
      "\n",
      "-- Partial --\n",
      "Best Epoch: epoch-90\n",
      "Best FID: 74.0039\n",
      "\n",
      "--------------------------------\n",
      "\n",
      "Epoch: 95\n"
     ]
    },
    {
     "name": "stderr",
     "output_type": "stream",
     "text": [
      "100%|██████████| 30/30 [00:00<00:00, 142.04it/s]\n",
      "100%|██████████| 30/30 [00:00<00:00, 123.05it/s]"
     ]
    },
    {
     "name": "stdout",
     "output_type": "stream",
     "text": [
      "\n",
      "FID: 84.8534\n",
      "Time: 0.12 min\n",
      "\n",
      "-- Partial --\n",
      "Best Epoch: epoch-90\n",
      "Best FID: 74.0039\n",
      "\n",
      "--------------------------------\n",
      "\n",
      "Epoch: 96\n"
     ]
    },
    {
     "name": "stderr",
     "output_type": "stream",
     "text": [
      "100%|██████████| 30/30 [00:00<00:00, 146.44it/s]\n",
      " 13%|█▎        | 4/30 [00:00<00:00, 38.90it/s]"
     ]
    },
    {
     "name": "stdout",
     "output_type": "stream",
     "text": [
      "\n",
      "FID: 85.3379\n",
      "Time: 0.12 min\n",
      "\n",
      "-- Partial --\n",
      "Best Epoch: epoch-90\n",
      "Best FID: 74.0039\n",
      "\n",
      "--------------------------------\n",
      "\n",
      "Epoch: 97\n"
     ]
    },
    {
     "name": "stderr",
     "output_type": "stream",
     "text": [
      "100%|██████████| 30/30 [00:00<00:00, 113.52it/s]\n",
      "100%|██████████| 30/30 [00:00<00:00, 185.07it/s]"
     ]
    },
    {
     "name": "stdout",
     "output_type": "stream",
     "text": [
      "\n",
      "FID: 72.9163\n",
      "Time: 0.12 min\n",
      "\n",
      "-- Partial --\n",
      "Best Epoch: epoch-97\n",
      "Best FID: 72.9163\n",
      "\n",
      "--------------------------------\n",
      "\n",
      "Epoch: 98\n"
     ]
    },
    {
     "name": "stderr",
     "output_type": "stream",
     "text": [
      "\n",
      " 13%|█▎        | 4/30 [00:00<00:00, 39.87it/s]"
     ]
    },
    {
     "name": "stdout",
     "output_type": "stream",
     "text": [
      "\n",
      "FID: 88.5851\n",
      "Time: 0.12 min\n",
      "\n",
      "-- Partial --\n",
      "Best Epoch: epoch-97\n",
      "Best FID: 72.9163\n",
      "\n",
      "--------------------------------\n",
      "\n",
      "Epoch: 99\n"
     ]
    },
    {
     "name": "stderr",
     "output_type": "stream",
     "text": [
      "100%|██████████| 30/30 [00:00<00:00, 115.40it/s]\n",
      " 33%|███▎      | 10/30 [00:00<00:00, 99.81it/s]"
     ]
    },
    {
     "name": "stdout",
     "output_type": "stream",
     "text": [
      "\n",
      "FID: 81.9339\n",
      "Time: 0.12 min\n",
      "\n",
      "-- Partial --\n",
      "Best Epoch: epoch-97\n",
      "Best FID: 72.9163\n",
      "\n",
      "--------------------------------\n",
      "\n",
      "Epoch: 100\n"
     ]
    },
    {
     "name": "stderr",
     "output_type": "stream",
     "text": [
      "100%|██████████| 30/30 [00:00<00:00, 140.51it/s]\n",
      " 30%|███       | 9/30 [00:00<00:00, 76.42it/s]"
     ]
    },
    {
     "name": "stdout",
     "output_type": "stream",
     "text": [
      "\n",
      "FID: 78.4409\n",
      "Time: 0.12 min\n",
      "\n",
      "-- Partial --\n",
      "Best Epoch: epoch-97\n",
      "Best FID: 72.9163\n",
      "\n",
      "--------------------------------\n",
      "\n",
      "Epoch: 101\n"
     ]
    },
    {
     "name": "stderr",
     "output_type": "stream",
     "text": [
      "100%|██████████| 30/30 [00:00<00:00, 124.43it/s]\n",
      "  7%|▋         | 2/30 [00:00<00:01, 16.99it/s]"
     ]
    },
    {
     "name": "stdout",
     "output_type": "stream",
     "text": [
      "\n",
      "FID: 81.4046\n",
      "Time: 0.12 min\n",
      "\n",
      "-- Partial --\n",
      "Best Epoch: epoch-97\n",
      "Best FID: 72.9163\n",
      "\n",
      "--------------------------------\n",
      "\n",
      "Epoch: 102\n"
     ]
    },
    {
     "name": "stderr",
     "output_type": "stream",
     "text": [
      "100%|██████████| 30/30 [00:00<00:00, 92.54it/s]\n",
      " 47%|████▋     | 14/30 [00:00<00:00, 119.44it/s]"
     ]
    },
    {
     "name": "stdout",
     "output_type": "stream",
     "text": [
      "\n",
      "FID: 79.7430\n",
      "Time: 0.12 min\n",
      "\n",
      "-- Partial --\n",
      "Best Epoch: epoch-97\n",
      "Best FID: 72.9163\n",
      "\n",
      "--------------------------------\n",
      "\n",
      "Epoch: 103\n"
     ]
    },
    {
     "name": "stderr",
     "output_type": "stream",
     "text": [
      "100%|██████████| 30/30 [00:00<00:00, 136.95it/s]\n",
      " 40%|████      | 12/30 [00:00<00:00, 23.93it/s]"
     ]
    },
    {
     "name": "stdout",
     "output_type": "stream",
     "text": [
      "\n",
      "FID: 86.3862\n",
      "Time: 0.12 min\n",
      "\n",
      "-- Partial --\n",
      "Best Epoch: epoch-97\n",
      "Best FID: 72.9163\n",
      "\n",
      "--------------------------------\n",
      "\n",
      "Epoch: 104\n"
     ]
    },
    {
     "name": "stderr",
     "output_type": "stream",
     "text": [
      "100%|██████████| 30/30 [00:00<00:00, 75.45it/s]\n",
      " 47%|████▋     | 14/30 [00:00<00:00, 137.88it/s]"
     ]
    },
    {
     "name": "stdout",
     "output_type": "stream",
     "text": [
      "\n",
      "FID: 75.3608\n",
      "Time: 0.12 min\n",
      "\n",
      "-- Partial --\n",
      "Best Epoch: epoch-97\n",
      "Best FID: 72.9163\n",
      "\n",
      "--------------------------------\n",
      "\n",
      "Epoch: 105\n"
     ]
    },
    {
     "name": "stderr",
     "output_type": "stream",
     "text": [
      "100%|██████████| 30/30 [00:00<00:00, 163.26it/s]\n",
      " 33%|███▎      | 10/30 [00:00<00:00, 98.87it/s]"
     ]
    },
    {
     "name": "stdout",
     "output_type": "stream",
     "text": [
      "\n",
      "FID: 82.7484\n",
      "Time: 0.12 min\n",
      "\n",
      "-- Partial --\n",
      "Best Epoch: epoch-97\n",
      "Best FID: 72.9163\n",
      "\n",
      "--------------------------------\n",
      "\n",
      "Epoch: 106\n"
     ]
    },
    {
     "name": "stderr",
     "output_type": "stream",
     "text": [
      "100%|██████████| 30/30 [00:00<00:00, 145.58it/s]\n",
      "100%|██████████| 30/30 [00:00<00:00, 151.36it/s]"
     ]
    },
    {
     "name": "stdout",
     "output_type": "stream",
     "text": [
      "\n",
      "FID: 85.4833\n",
      "Time: 0.12 min\n",
      "\n",
      "-- Partial --\n",
      "Best Epoch: epoch-97\n",
      "Best FID: 72.9163\n",
      "\n",
      "--------------------------------\n",
      "\n",
      "Epoch: 107\n"
     ]
    },
    {
     "name": "stderr",
     "output_type": "stream",
     "text": [
      "\n",
      " 77%|███████▋  | 23/30 [00:00<00:00, 40.08it/s]"
     ]
    },
    {
     "name": "stdout",
     "output_type": "stream",
     "text": [
      "\n",
      "FID: 81.8512\n",
      "Time: 0.12 min\n",
      "\n",
      "-- Partial --\n",
      "Best Epoch: epoch-97\n",
      "Best FID: 72.9163\n",
      "\n",
      "--------------------------------\n",
      "\n",
      "Epoch: 108\n"
     ]
    },
    {
     "name": "stderr",
     "output_type": "stream",
     "text": [
      "100%|██████████| 30/30 [00:00<00:00, 112.63it/s]\n",
      "100%|██████████| 30/30 [00:00<00:00, 187.50it/s]"
     ]
    },
    {
     "name": "stdout",
     "output_type": "stream",
     "text": [
      "\n",
      "FID: 84.9917\n",
      "Time: 0.12 min\n",
      "\n",
      "-- Partial --\n",
      "Best Epoch: epoch-97\n",
      "Best FID: 72.9163\n",
      "\n",
      "--------------------------------\n",
      "\n",
      "Epoch: 109\n"
     ]
    },
    {
     "name": "stderr",
     "output_type": "stream",
     "text": [
      "\n",
      " 10%|█         | 3/30 [00:00<00:00, 29.68it/s]"
     ]
    },
    {
     "name": "stdout",
     "output_type": "stream",
     "text": [
      "\n",
      "FID: 81.4569\n",
      "Time: 0.12 min\n",
      "\n",
      "-- Partial --\n",
      "Best Epoch: epoch-97\n",
      "Best FID: 72.9163\n",
      "\n",
      "--------------------------------\n",
      "\n",
      "Epoch: 110\n"
     ]
    },
    {
     "name": "stderr",
     "output_type": "stream",
     "text": [
      "100%|██████████| 30/30 [00:00<00:00, 116.11it/s]\n",
      "100%|██████████| 30/30 [00:00<00:00, 186.48it/s]"
     ]
    },
    {
     "name": "stdout",
     "output_type": "stream",
     "text": [
      "\n",
      "FID: 82.7152\n",
      "Time: 0.12 min\n",
      "\n",
      "-- Partial --\n",
      "Best Epoch: epoch-97\n",
      "Best FID: 72.9163\n",
      "\n",
      "--------------------------------\n",
      "\n",
      "Epoch: 111\n"
     ]
    },
    {
     "name": "stderr",
     "output_type": "stream",
     "text": [
      "\n",
      "100%|██████████| 30/30 [00:00<00:00, 152.40it/s]"
     ]
    },
    {
     "name": "stdout",
     "output_type": "stream",
     "text": [
      "\n",
      "FID: 83.9053\n",
      "Time: 0.12 min\n",
      "\n",
      "-- Partial --\n",
      "Best Epoch: epoch-97\n",
      "Best FID: 72.9163\n",
      "\n",
      "--------------------------------\n",
      "\n",
      "Epoch: 112\n"
     ]
    },
    {
     "name": "stderr",
     "output_type": "stream",
     "text": [
      "\n",
      "  7%|▋         | 2/30 [00:00<00:01, 18.08it/s]"
     ]
    },
    {
     "name": "stdout",
     "output_type": "stream",
     "text": [
      "\n",
      "FID: 81.5017\n",
      "Time: 0.12 min\n",
      "\n",
      "-- Partial --\n",
      "Best Epoch: epoch-97\n",
      "Best FID: 72.9163\n",
      "\n",
      "--------------------------------\n",
      "\n",
      "Epoch: 113\n"
     ]
    },
    {
     "name": "stderr",
     "output_type": "stream",
     "text": [
      "100%|██████████| 30/30 [00:00<00:00, 88.17it/s]\n",
      "100%|██████████| 30/30 [00:00<00:00, 189.94it/s]"
     ]
    },
    {
     "name": "stdout",
     "output_type": "stream",
     "text": [
      "\n",
      "FID: 93.9260\n",
      "Time: 0.12 min\n",
      "\n",
      "-- Partial --\n",
      "Best Epoch: epoch-97\n",
      "Best FID: 72.9163\n",
      "\n",
      "--------------------------------\n",
      "\n",
      "Epoch: 114\n"
     ]
    },
    {
     "name": "stderr",
     "output_type": "stream",
     "text": [
      "\n",
      "  7%|▋         | 2/30 [00:00<00:01, 15.43it/s]"
     ]
    },
    {
     "name": "stdout",
     "output_type": "stream",
     "text": [
      "\n",
      "FID: 79.4835\n",
      "Time: 0.12 min\n",
      "\n",
      "-- Partial --\n",
      "Best Epoch: epoch-97\n",
      "Best FID: 72.9163\n",
      "\n",
      "--------------------------------\n",
      "\n",
      "Epoch: 115\n"
     ]
    },
    {
     "name": "stderr",
     "output_type": "stream",
     "text": [
      "100%|██████████| 30/30 [00:00<00:00, 99.95it/s]\n",
      " 43%|████▎     | 13/30 [00:00<00:00, 125.26it/s]"
     ]
    },
    {
     "name": "stdout",
     "output_type": "stream",
     "text": [
      "\n",
      "FID: 82.6105\n",
      "Time: 0.12 min\n",
      "\n",
      "-- Partial --\n",
      "Best Epoch: epoch-97\n",
      "Best FID: 72.9163\n",
      "\n",
      "--------------------------------\n",
      "\n",
      "Epoch: 116\n"
     ]
    },
    {
     "name": "stderr",
     "output_type": "stream",
     "text": [
      "100%|██████████| 30/30 [00:00<00:00, 148.79it/s]\n",
      " 37%|███▋      | 11/30 [00:00<00:00, 105.80it/s]"
     ]
    },
    {
     "name": "stdout",
     "output_type": "stream",
     "text": [
      "\n",
      "FID: 94.2492\n",
      "Time: 0.12 min\n",
      "\n",
      "-- Partial --\n",
      "Best Epoch: epoch-97\n",
      "Best FID: 72.9163\n",
      "\n",
      "--------------------------------\n",
      "\n",
      "Epoch: 117\n"
     ]
    },
    {
     "name": "stderr",
     "output_type": "stream",
     "text": [
      "100%|██████████| 30/30 [00:00<00:00, 146.76it/s]\n",
      " 43%|████▎     | 13/30 [00:00<00:00, 126.31it/s]"
     ]
    },
    {
     "name": "stdout",
     "output_type": "stream",
     "text": [
      "\n",
      "FID: 77.6997\n",
      "Time: 0.12 min\n",
      "\n",
      "-- Partial --\n",
      "Best Epoch: epoch-97\n",
      "Best FID: 72.9163\n",
      "\n",
      "--------------------------------\n",
      "\n",
      "Epoch: 118\n"
     ]
    },
    {
     "name": "stderr",
     "output_type": "stream",
     "text": [
      "100%|██████████| 30/30 [00:00<00:00, 158.70it/s]\n",
      "100%|██████████| 30/30 [00:00<00:00, 184.23it/s]"
     ]
    },
    {
     "name": "stdout",
     "output_type": "stream",
     "text": [
      "\n",
      "FID: 82.2999\n",
      "Time: 0.12 min\n",
      "\n",
      "-- Partial --\n",
      "Best Epoch: epoch-97\n",
      "Best FID: 72.9163\n",
      "\n",
      "--------------------------------\n",
      "\n",
      "Epoch: 119\n"
     ]
    },
    {
     "name": "stderr",
     "output_type": "stream",
     "text": [
      "\n",
      " 17%|█▋        | 5/30 [00:00<00:00, 49.24it/s]"
     ]
    },
    {
     "name": "stdout",
     "output_type": "stream",
     "text": [
      "\n",
      "FID: 86.7065\n",
      "Time: 0.12 min\n",
      "\n",
      "-- Partial --\n",
      "Best Epoch: epoch-97\n",
      "Best FID: 72.9163\n",
      "\n",
      "--------------------------------\n",
      "\n",
      "Epoch: 120\n"
     ]
    },
    {
     "name": "stderr",
     "output_type": "stream",
     "text": [
      "100%|██████████| 30/30 [00:00<00:00, 120.16it/s]\n",
      " 40%|████      | 12/30 [00:00<00:00, 117.57it/s]"
     ]
    },
    {
     "name": "stdout",
     "output_type": "stream",
     "text": [
      "\n",
      "FID: 82.5760\n",
      "Time: 0.12 min\n",
      "\n",
      "-- Partial --\n",
      "Best Epoch: epoch-97\n",
      "Best FID: 72.9163\n",
      "\n",
      "--------------------------------\n",
      "\n",
      "Epoch: 121\n"
     ]
    },
    {
     "name": "stderr",
     "output_type": "stream",
     "text": [
      "100%|██████████| 30/30 [00:00<00:00, 156.29it/s]\n",
      " 40%|████      | 12/30 [00:00<00:00, 116.87it/s]"
     ]
    },
    {
     "name": "stdout",
     "output_type": "stream",
     "text": [
      "\n",
      "FID: 80.4496\n",
      "Time: 0.12 min\n",
      "\n",
      "-- Partial --\n",
      "Best Epoch: epoch-97\n",
      "Best FID: 72.9163\n",
      "\n",
      "--------------------------------\n",
      "\n",
      "Epoch: 122\n"
     ]
    },
    {
     "name": "stderr",
     "output_type": "stream",
     "text": [
      "100%|██████████| 30/30 [00:00<00:00, 150.92it/s]\n",
      " 43%|████▎     | 13/30 [00:00<00:00, 127.73it/s]"
     ]
    },
    {
     "name": "stdout",
     "output_type": "stream",
     "text": [
      "\n",
      "FID: 87.9227\n",
      "Time: 0.12 min\n",
      "\n",
      "-- Partial --\n",
      "Best Epoch: epoch-97\n",
      "Best FID: 72.9163\n",
      "\n",
      "--------------------------------\n",
      "\n",
      "Epoch: 123\n"
     ]
    },
    {
     "name": "stderr",
     "output_type": "stream",
     "text": [
      "100%|██████████| 30/30 [00:00<00:00, 157.52it/s]\n",
      " 13%|█▎        | 4/30 [00:00<00:00, 38.04it/s]"
     ]
    },
    {
     "name": "stdout",
     "output_type": "stream",
     "text": [
      "\n",
      "FID: 84.0103\n",
      "Time: 0.12 min\n",
      "\n",
      "-- Partial --\n",
      "Best Epoch: epoch-97\n",
      "Best FID: 72.9163\n",
      "\n",
      "--------------------------------\n",
      "\n",
      "Epoch: 124\n"
     ]
    },
    {
     "name": "stderr",
     "output_type": "stream",
     "text": [
      "100%|██████████| 30/30 [00:00<00:00, 115.65it/s]\n",
      "100%|██████████| 30/30 [00:00<00:00, 116.21it/s]"
     ]
    },
    {
     "name": "stdout",
     "output_type": "stream",
     "text": [
      "\n",
      "FID: 89.4706\n",
      "Time: 0.12 min\n",
      "\n",
      "-- Partial --\n",
      "Best Epoch: epoch-97\n",
      "Best FID: 72.9163\n",
      "\n",
      "--------------------------------\n",
      "\n",
      "Epoch: 125\n"
     ]
    },
    {
     "name": "stderr",
     "output_type": "stream",
     "text": [
      "100%|██████████| 30/30 [00:00<00:00, 148.13it/s]\n",
      " 17%|█▋        | 5/30 [00:00<00:00, 48.34it/s]"
     ]
    },
    {
     "name": "stdout",
     "output_type": "stream",
     "text": [
      "\n",
      "FID: 75.5357\n",
      "Time: 0.12 min\n",
      "\n",
      "-- Partial --\n",
      "Best Epoch: epoch-97\n",
      "Best FID: 72.9163\n",
      "\n",
      "--------------------------------\n",
      "\n",
      "Epoch: 126\n"
     ]
    },
    {
     "name": "stderr",
     "output_type": "stream",
     "text": [
      "100%|██████████| 30/30 [00:00<00:00, 120.11it/s]\n",
      "100%|██████████| 30/30 [00:00<00:00, 149.73it/s]"
     ]
    },
    {
     "name": "stdout",
     "output_type": "stream",
     "text": [
      "\n",
      "FID: 81.1613\n",
      "Time: 0.12 min\n",
      "\n",
      "-- Partial --\n",
      "Best Epoch: epoch-97\n",
      "Best FID: 72.9163\n",
      "\n",
      "--------------------------------\n",
      "\n",
      "Epoch: 127\n"
     ]
    },
    {
     "name": "stderr",
     "output_type": "stream",
     "text": [
      "\n",
      "100%|██████████| 30/30 [00:00<00:00, 188.36it/s]"
     ]
    },
    {
     "name": "stdout",
     "output_type": "stream",
     "text": [
      "\n",
      "FID: 76.3588\n",
      "Time: 0.12 min\n",
      "\n",
      "-- Partial --\n",
      "Best Epoch: epoch-97\n",
      "Best FID: 72.9163\n",
      "\n",
      "--------------------------------\n",
      "\n",
      "Epoch: 128\n"
     ]
    },
    {
     "name": "stderr",
     "output_type": "stream",
     "text": [
      "\n",
      "  7%|▋         | 2/30 [00:00<00:01, 18.50it/s]"
     ]
    },
    {
     "name": "stdout",
     "output_type": "stream",
     "text": [
      "\n",
      "FID: 85.1362\n",
      "Time: 0.12 min\n",
      "\n",
      "-- Partial --\n",
      "Best Epoch: epoch-97\n",
      "Best FID: 72.9163\n",
      "\n",
      "--------------------------------\n",
      "\n",
      "Epoch: 129\n"
     ]
    },
    {
     "name": "stderr",
     "output_type": "stream",
     "text": [
      "100%|██████████| 30/30 [00:00<00:00, 108.67it/s]\n",
      " 37%|███▋      | 11/30 [00:00<00:00, 107.96it/s]"
     ]
    },
    {
     "name": "stdout",
     "output_type": "stream",
     "text": [
      "\n",
      "FID: 73.5479\n",
      "Time: 0.12 min\n",
      "\n",
      "-- Partial --\n",
      "Best Epoch: epoch-97\n",
      "Best FID: 72.9163\n",
      "\n",
      "--------------------------------\n",
      "\n",
      "Epoch: 130\n"
     ]
    },
    {
     "name": "stderr",
     "output_type": "stream",
     "text": [
      "100%|██████████| 30/30 [00:00<00:00, 150.40it/s]\n",
      " 57%|█████▋    | 17/30 [00:00<00:00, 167.02it/s]"
     ]
    },
    {
     "name": "stdout",
     "output_type": "stream",
     "text": [
      "\n",
      "FID: 71.6906\n",
      "Time: 0.12 min\n",
      "\n",
      "-- Partial --\n",
      "Best Epoch: epoch-130\n",
      "Best FID: 71.6906\n",
      "\n",
      "--------------------------------\n",
      "\n",
      "Epoch: 131\n"
     ]
    },
    {
     "name": "stderr",
     "output_type": "stream",
     "text": [
      "100%|██████████| 30/30 [00:00<00:00, 173.12it/s]\n",
      "100%|██████████| 30/30 [00:00<00:00, 190.38it/s]"
     ]
    },
    {
     "name": "stdout",
     "output_type": "stream",
     "text": [
      "\n",
      "FID: 85.2475\n",
      "Time: 0.12 min\n",
      "\n",
      "-- Partial --\n",
      "Best Epoch: epoch-130\n",
      "Best FID: 71.6906\n",
      "\n",
      "--------------------------------\n",
      "\n",
      "Epoch: 132\n"
     ]
    },
    {
     "name": "stderr",
     "output_type": "stream",
     "text": [
      "\n",
      "100%|██████████| 30/30 [00:00<00:00, 150.92it/s]"
     ]
    },
    {
     "name": "stdout",
     "output_type": "stream",
     "text": [
      "\n",
      "FID: 71.3764\n",
      "Time: 0.12 min\n",
      "\n",
      "-- Partial --\n",
      "Best Epoch: epoch-132\n",
      "Best FID: 71.3764\n",
      "\n",
      "--------------------------------\n",
      "\n",
      "Epoch: 133\n"
     ]
    },
    {
     "name": "stderr",
     "output_type": "stream",
     "text": [
      "\n",
      "100%|██████████| 30/30 [00:00<00:00, 104.11it/s]"
     ]
    },
    {
     "name": "stdout",
     "output_type": "stream",
     "text": [
      "\n",
      "FID: 83.9357\n",
      "Time: 0.12 min\n",
      "\n",
      "-- Partial --\n",
      "Best Epoch: epoch-132\n",
      "Best FID: 71.3764\n",
      "\n",
      "--------------------------------\n",
      "\n",
      "Epoch: 134\n"
     ]
    },
    {
     "name": "stderr",
     "output_type": "stream",
     "text": [
      "100%|██████████| 30/30 [00:00<00:00, 142.88it/s]\n",
      " 33%|███▎      | 10/30 [00:00<00:00, 95.66it/s]"
     ]
    },
    {
     "name": "stdout",
     "output_type": "stream",
     "text": [
      "\n",
      "FID: 71.1685\n",
      "Time: 0.12 min\n",
      "\n",
      "-- Partial --\n",
      "Best Epoch: epoch-134\n",
      "Best FID: 71.1685\n",
      "\n",
      "--------------------------------\n",
      "\n",
      "Epoch: 135\n"
     ]
    },
    {
     "name": "stderr",
     "output_type": "stream",
     "text": [
      "100%|██████████| 30/30 [00:00<00:00, 120.71it/s]\n",
      " 10%|█         | 3/30 [00:00<00:00, 28.78it/s]"
     ]
    },
    {
     "name": "stdout",
     "output_type": "stream",
     "text": [
      "\n",
      "FID: 74.8339\n",
      "Time: 0.12 min\n",
      "\n",
      "-- Partial --\n",
      "Best Epoch: epoch-134\n",
      "Best FID: 71.1685\n",
      "\n",
      "--------------------------------\n",
      "\n",
      "Epoch: 136\n"
     ]
    },
    {
     "name": "stderr",
     "output_type": "stream",
     "text": [
      "100%|██████████| 30/30 [00:00<00:00, 116.70it/s]\n",
      "100%|██████████| 30/30 [00:00<00:00, 152.88it/s]"
     ]
    },
    {
     "name": "stdout",
     "output_type": "stream",
     "text": [
      "\n",
      "FID: 79.0147\n",
      "Time: 0.12 min\n",
      "\n",
      "-- Partial --\n",
      "Best Epoch: epoch-134\n",
      "Best FID: 71.1685\n",
      "\n",
      "--------------------------------\n",
      "\n",
      "Epoch: 137\n"
     ]
    },
    {
     "name": "stderr",
     "output_type": "stream",
     "text": [
      "\n",
      " 87%|████████▋ | 26/30 [00:00<00:00, 117.77it/s]"
     ]
    },
    {
     "name": "stdout",
     "output_type": "stream",
     "text": [
      "\n",
      "FID: 77.6316\n",
      "Time: 0.12 min\n",
      "\n",
      "-- Partial --\n",
      "Best Epoch: epoch-134\n",
      "Best FID: 71.1685\n",
      "\n",
      "--------------------------------\n",
      "\n",
      "Epoch: 138\n"
     ]
    },
    {
     "name": "stderr",
     "output_type": "stream",
     "text": [
      "100%|██████████| 30/30 [00:00<00:00, 133.10it/s]\n",
      " 20%|██        | 6/30 [00:00<00:00, 59.43it/s]"
     ]
    },
    {
     "name": "stdout",
     "output_type": "stream",
     "text": [
      "\n",
      "FID: 76.5882\n",
      "Time: 0.12 min\n",
      "\n",
      "-- Partial --\n",
      "Best Epoch: epoch-134\n",
      "Best FID: 71.1685\n",
      "\n",
      "--------------------------------\n",
      "\n",
      "Epoch: 139\n"
     ]
    },
    {
     "name": "stderr",
     "output_type": "stream",
     "text": [
      "100%|██████████| 30/30 [00:00<00:00, 128.46it/s]\n",
      " 37%|███▋      | 11/30 [00:00<00:00, 106.33it/s]"
     ]
    },
    {
     "name": "stdout",
     "output_type": "stream",
     "text": [
      "\n",
      "FID: 74.0951\n",
      "Time: 0.12 min\n",
      "\n",
      "-- Partial --\n",
      "Best Epoch: epoch-134\n",
      "Best FID: 71.1685\n",
      "\n",
      "--------------------------------\n",
      "\n",
      "Epoch: 140\n"
     ]
    },
    {
     "name": "stderr",
     "output_type": "stream",
     "text": [
      "100%|██████████| 30/30 [00:00<00:00, 131.95it/s]\n",
      " 40%|████      | 12/30 [00:00<00:00, 119.26it/s]"
     ]
    },
    {
     "name": "stdout",
     "output_type": "stream",
     "text": [
      "\n",
      "FID: 74.7396\n",
      "Time: 0.12 min\n",
      "\n",
      "-- Partial --\n",
      "Best Epoch: epoch-134\n",
      "Best FID: 71.1685\n",
      "\n",
      "--------------------------------\n",
      "\n",
      "Epoch: 141\n"
     ]
    },
    {
     "name": "stderr",
     "output_type": "stream",
     "text": [
      "100%|██████████| 30/30 [00:00<00:00, 145.85it/s]\n",
      " 33%|███▎      | 10/30 [00:00<00:00, 99.19it/s]"
     ]
    },
    {
     "name": "stdout",
     "output_type": "stream",
     "text": [
      "\n",
      "FID: 69.3413\n",
      "Time: 0.12 min\n",
      "\n",
      "-- Partial --\n",
      "Best Epoch: epoch-141\n",
      "Best FID: 69.3413\n",
      "\n",
      "--------------------------------\n",
      "\n",
      "Epoch: 142\n"
     ]
    },
    {
     "name": "stderr",
     "output_type": "stream",
     "text": [
      "100%|██████████| 30/30 [00:00<00:00, 149.27it/s]\n",
      " 33%|███▎      | 10/30 [00:00<00:00, 99.67it/s]"
     ]
    },
    {
     "name": "stdout",
     "output_type": "stream",
     "text": [
      "\n",
      "FID: 73.9587\n",
      "Time: 0.12 min\n",
      "\n",
      "-- Partial --\n",
      "Best Epoch: epoch-141\n",
      "Best FID: 69.3413\n",
      "\n",
      "--------------------------------\n",
      "\n",
      "Epoch: 143\n"
     ]
    },
    {
     "name": "stderr",
     "output_type": "stream",
     "text": [
      "100%|██████████| 30/30 [00:00<00:00, 130.18it/s]\n",
      " 30%|███       | 9/30 [00:00<00:00, 88.68it/s]"
     ]
    },
    {
     "name": "stdout",
     "output_type": "stream",
     "text": [
      "\n",
      "FID: 77.6003\n",
      "Time: 0.12 min\n",
      "\n",
      "-- Partial --\n",
      "Best Epoch: epoch-141\n",
      "Best FID: 69.3413\n",
      "\n",
      "--------------------------------\n",
      "\n",
      "Epoch: 144\n"
     ]
    },
    {
     "name": "stderr",
     "output_type": "stream",
     "text": [
      "100%|██████████| 30/30 [00:00<00:00, 141.78it/s]\n",
      " 77%|███████▋  | 23/30 [00:00<00:00, 37.95it/s]"
     ]
    },
    {
     "name": "stdout",
     "output_type": "stream",
     "text": [
      "\n",
      "FID: 91.4465\n",
      "Time: 0.12 min\n",
      "\n",
      "-- Partial --\n",
      "Best Epoch: epoch-141\n",
      "Best FID: 69.3413\n",
      "\n",
      "--------------------------------\n",
      "\n",
      "Epoch: 145\n"
     ]
    },
    {
     "name": "stderr",
     "output_type": "stream",
     "text": [
      "100%|██████████| 30/30 [00:00<00:00, 105.52it/s]\n",
      " 37%|███▋      | 11/30 [00:00<00:00, 108.02it/s]"
     ]
    },
    {
     "name": "stdout",
     "output_type": "stream",
     "text": [
      "\n",
      "FID: 77.7471\n",
      "Time: 0.12 min\n",
      "\n",
      "-- Partial --\n",
      "Best Epoch: epoch-141\n",
      "Best FID: 69.3413\n",
      "\n",
      "--------------------------------\n",
      "\n",
      "Epoch: 146\n"
     ]
    },
    {
     "name": "stderr",
     "output_type": "stream",
     "text": [
      "100%|██████████| 30/30 [00:00<00:00, 152.27it/s]\n",
      " 13%|█▎        | 4/30 [00:00<00:00, 37.87it/s]"
     ]
    },
    {
     "name": "stdout",
     "output_type": "stream",
     "text": [
      "\n",
      "FID: 69.6327\n",
      "Time: 0.12 min\n",
      "\n",
      "-- Partial --\n",
      "Best Epoch: epoch-141\n",
      "Best FID: 69.3413\n",
      "\n",
      "--------------------------------\n",
      "\n",
      "Epoch: 147\n"
     ]
    },
    {
     "name": "stderr",
     "output_type": "stream",
     "text": [
      "100%|██████████| 30/30 [00:00<00:00, 116.84it/s]\n",
      "100%|██████████| 30/30 [00:00<00:00, 153.06it/s]"
     ]
    },
    {
     "name": "stdout",
     "output_type": "stream",
     "text": [
      "\n",
      "FID: 69.6526\n",
      "Time: 0.12 min\n",
      "\n",
      "-- Partial --\n",
      "Best Epoch: epoch-141\n",
      "Best FID: 69.3413\n",
      "\n",
      "--------------------------------\n",
      "\n",
      "Epoch: 148\n"
     ]
    },
    {
     "name": "stderr",
     "output_type": "stream",
     "text": [
      "\n",
      " 33%|███▎      | 10/30 [00:00<00:00, 95.83it/s]"
     ]
    },
    {
     "name": "stdout",
     "output_type": "stream",
     "text": [
      "\n",
      "FID: 69.4733\n",
      "Time: 0.12 min\n",
      "\n",
      "-- Partial --\n",
      "Best Epoch: epoch-141\n",
      "Best FID: 69.3413\n",
      "\n",
      "--------------------------------\n",
      "\n",
      "Epoch: 149\n"
     ]
    },
    {
     "name": "stderr",
     "output_type": "stream",
     "text": [
      "100%|██████████| 30/30 [00:00<00:00, 145.77it/s]\n",
      " 33%|███▎      | 10/30 [00:00<00:00, 97.81it/s]"
     ]
    },
    {
     "name": "stdout",
     "output_type": "stream",
     "text": [
      "\n",
      "FID: 74.2312\n",
      "Time: 0.12 min\n",
      "\n",
      "-- Partial --\n",
      "Best Epoch: epoch-141\n",
      "Best FID: 69.3413\n",
      "\n",
      "--------------------------------\n",
      "\n",
      "Epoch: 150\n"
     ]
    },
    {
     "name": "stderr",
     "output_type": "stream",
     "text": [
      "100%|██████████| 30/30 [00:00<00:00, 146.77it/s]\n",
      " 60%|██████    | 18/30 [00:00<00:00, 176.31it/s]"
     ]
    },
    {
     "name": "stdout",
     "output_type": "stream",
     "text": [
      "\n",
      "FID: 66.5584\n",
      "Time: 0.12 min\n",
      "\n",
      "-- Partial --\n",
      "Best Epoch: epoch-150\n",
      "Best FID: 66.5584\n",
      "\n",
      "--------------------------------\n",
      "\n",
      "Epoch: 151\n"
     ]
    },
    {
     "name": "stderr",
     "output_type": "stream",
     "text": [
      "100%|██████████| 30/30 [00:00<00:00, 149.79it/s]\n",
      " 60%|██████    | 18/30 [00:00<00:00, 37.73it/s]"
     ]
    },
    {
     "name": "stdout",
     "output_type": "stream",
     "text": [
      "\n",
      "FID: 71.8649\n",
      "Time: 0.12 min\n",
      "\n",
      "-- Partial --\n",
      "Best Epoch: epoch-150\n",
      "Best FID: 66.5584\n",
      "\n",
      "--------------------------------\n",
      "\n",
      "Epoch: 152\n"
     ]
    },
    {
     "name": "stderr",
     "output_type": "stream",
     "text": [
      "100%|██████████| 30/30 [00:00<00:00, 97.85it/s]\n",
      "100%|██████████| 30/30 [00:00<00:00, 154.03it/s]"
     ]
    },
    {
     "name": "stdout",
     "output_type": "stream",
     "text": [
      "\n",
      "FID: 69.8872\n",
      "Time: 0.12 min\n",
      "\n",
      "-- Partial --\n",
      "Best Epoch: epoch-150\n",
      "Best FID: 66.5584\n",
      "\n",
      "--------------------------------\n",
      "\n",
      "Epoch: 153\n"
     ]
    },
    {
     "name": "stderr",
     "output_type": "stream",
     "text": [
      "\n",
      " 73%|███████▎  | 22/30 [00:00<00:00, 39.70it/s]"
     ]
    },
    {
     "name": "stdout",
     "output_type": "stream",
     "text": [
      "\n",
      "FID: 73.0968\n",
      "Time: 0.12 min\n",
      "\n",
      "-- Partial --\n",
      "Best Epoch: epoch-150\n",
      "Best FID: 66.5584\n",
      "\n",
      "--------------------------------\n",
      "\n",
      "Epoch: 154\n"
     ]
    },
    {
     "name": "stderr",
     "output_type": "stream",
     "text": [
      "100%|██████████| 30/30 [00:00<00:00, 112.62it/s]\n",
      "100%|██████████| 30/30 [00:00<00:00, 156.46it/s]"
     ]
    },
    {
     "name": "stdout",
     "output_type": "stream",
     "text": [
      "\n",
      "FID: 79.8014\n",
      "Time: 0.12 min\n",
      "\n",
      "-- Partial --\n",
      "Best Epoch: epoch-150\n",
      "Best FID: 66.5584\n",
      "\n",
      "--------------------------------\n",
      "\n",
      "Epoch: 155\n"
     ]
    },
    {
     "name": "stderr",
     "output_type": "stream",
     "text": [
      "\n",
      " 80%|████████  | 24/30 [00:00<00:00, 114.69it/s]"
     ]
    },
    {
     "name": "stdout",
     "output_type": "stream",
     "text": [
      "\n",
      "FID: 70.3641\n",
      "Time: 0.12 min\n",
      "\n",
      "-- Partial --\n",
      "Best Epoch: epoch-150\n",
      "Best FID: 66.5584\n",
      "\n",
      "--------------------------------\n",
      "\n",
      "Epoch: 156\n"
     ]
    },
    {
     "name": "stderr",
     "output_type": "stream",
     "text": [
      "100%|██████████| 30/30 [00:00<00:00, 121.86it/s]\n",
      " 40%|████      | 12/30 [00:00<00:00, 119.83it/s]"
     ]
    },
    {
     "name": "stdout",
     "output_type": "stream",
     "text": [
      "\n",
      "FID: 78.9212\n",
      "Time: 0.12 min\n",
      "\n",
      "-- Partial --\n",
      "Best Epoch: epoch-150\n",
      "Best FID: 66.5584\n",
      "\n",
      "--------------------------------\n",
      "\n",
      "Epoch: 157\n"
     ]
    },
    {
     "name": "stderr",
     "output_type": "stream",
     "text": [
      "100%|██████████| 30/30 [00:00<00:00, 140.34it/s]\n",
      "100%|██████████| 30/30 [00:00<00:00, 151.66it/s]"
     ]
    },
    {
     "name": "stdout",
     "output_type": "stream",
     "text": [
      "\n",
      "FID: 70.9088\n",
      "Time: 0.12 min\n",
      "\n",
      "-- Partial --\n",
      "Best Epoch: epoch-150\n",
      "Best FID: 66.5584\n",
      "\n",
      "--------------------------------\n",
      "\n",
      "Epoch: 158\n"
     ]
    },
    {
     "name": "stderr",
     "output_type": "stream",
     "text": [
      "\n",
      " 20%|██        | 6/30 [00:00<00:00, 57.22it/s]"
     ]
    },
    {
     "name": "stdout",
     "output_type": "stream",
     "text": [
      "\n",
      "FID: 82.8317\n",
      "Time: 0.12 min\n",
      "\n",
      "-- Partial --\n",
      "Best Epoch: epoch-150\n",
      "Best FID: 66.5584\n",
      "\n",
      "--------------------------------\n",
      "\n",
      "Epoch: 159\n"
     ]
    },
    {
     "name": "stderr",
     "output_type": "stream",
     "text": [
      "100%|██████████| 30/30 [00:00<00:00, 122.97it/s]\n",
      "100%|██████████| 30/30 [00:00<00:00, 153.50it/s]"
     ]
    },
    {
     "name": "stdout",
     "output_type": "stream",
     "text": [
      "\n",
      "FID: 79.4263\n",
      "Time: 0.12 min\n",
      "\n",
      "-- Partial --\n",
      "Best Epoch: epoch-150\n",
      "Best FID: 66.5584\n",
      "\n",
      "--------------------------------\n",
      "\n",
      "Epoch: 160\n"
     ]
    },
    {
     "name": "stderr",
     "output_type": "stream",
     "text": [
      "\n",
      " 87%|████████▋ | 26/30 [00:00<00:00, 85.36it/s]"
     ]
    },
    {
     "name": "stdout",
     "output_type": "stream",
     "text": [
      "\n",
      "FID: 69.2192\n",
      "Time: 0.12 min\n",
      "\n",
      "-- Partial --\n",
      "Best Epoch: epoch-150\n",
      "Best FID: 66.5584\n",
      "\n",
      "--------------------------------\n",
      "\n",
      "Epoch: 161\n"
     ]
    },
    {
     "name": "stderr",
     "output_type": "stream",
     "text": [
      "100%|██████████| 30/30 [00:00<00:00, 133.53it/s]\n",
      " 37%|███▋      | 11/30 [00:00<00:00, 105.46it/s]"
     ]
    },
    {
     "name": "stdout",
     "output_type": "stream",
     "text": [
      "\n",
      "FID: 84.7843\n",
      "Time: 0.12 min\n",
      "\n",
      "-- Partial --\n",
      "Best Epoch: epoch-150\n",
      "Best FID: 66.5584\n",
      "\n",
      "--------------------------------\n",
      "\n",
      "Epoch: 162\n"
     ]
    },
    {
     "name": "stderr",
     "output_type": "stream",
     "text": [
      "100%|██████████| 30/30 [00:00<00:00, 149.51it/s]\n",
      " 20%|██        | 6/30 [00:00<00:00, 59.29it/s]"
     ]
    },
    {
     "name": "stdout",
     "output_type": "stream",
     "text": [
      "\n",
      "FID: 75.0833\n",
      "Time: 0.12 min\n",
      "\n",
      "-- Partial --\n",
      "Best Epoch: epoch-150\n",
      "Best FID: 66.5584\n",
      "\n",
      "--------------------------------\n",
      "\n",
      "Epoch: 163\n"
     ]
    },
    {
     "name": "stderr",
     "output_type": "stream",
     "text": [
      "100%|██████████| 30/30 [00:00<00:00, 124.58it/s]\n",
      " 63%|██████▎   | 19/30 [00:00<00:00, 186.21it/s]"
     ]
    },
    {
     "name": "stdout",
     "output_type": "stream",
     "text": [
      "\n",
      "FID: 77.1933\n",
      "Time: 0.12 min\n",
      "\n",
      "-- Partial --\n",
      "Best Epoch: epoch-150\n",
      "Best FID: 66.5584\n",
      "\n",
      "--------------------------------\n",
      "\n",
      "Epoch: 164\n"
     ]
    },
    {
     "name": "stderr",
     "output_type": "stream",
     "text": [
      "100%|██████████| 30/30 [00:00<00:00, 144.09it/s]\n",
      " 37%|███▋      | 11/30 [00:00<00:00, 109.19it/s]"
     ]
    },
    {
     "name": "stdout",
     "output_type": "stream",
     "text": [
      "\n",
      "FID: 71.5167\n",
      "Time: 0.12 min\n",
      "\n",
      "-- Partial --\n",
      "Best Epoch: epoch-150\n",
      "Best FID: 66.5584\n",
      "\n",
      "--------------------------------\n",
      "\n",
      "Epoch: 165\n"
     ]
    },
    {
     "name": "stderr",
     "output_type": "stream",
     "text": [
      "100%|██████████| 30/30 [00:00<00:00, 151.70it/s]\n",
      " 23%|██▎       | 7/30 [00:00<00:00, 63.45it/s]"
     ]
    },
    {
     "name": "stdout",
     "output_type": "stream",
     "text": [
      "\n",
      "FID: 73.5992\n",
      "Time: 0.12 min\n",
      "\n",
      "-- Partial --\n",
      "Best Epoch: epoch-150\n",
      "Best FID: 66.5584\n",
      "\n",
      "--------------------------------\n",
      "\n",
      "Epoch: 166\n"
     ]
    },
    {
     "name": "stderr",
     "output_type": "stream",
     "text": [
      "100%|██████████| 30/30 [00:00<00:00, 120.22it/s]\n",
      "100%|██████████| 30/30 [00:00<00:00, 153.93it/s]"
     ]
    },
    {
     "name": "stdout",
     "output_type": "stream",
     "text": [
      "\n",
      "FID: 75.6067\n",
      "Time: 0.12 min\n",
      "\n",
      "-- Partial --\n",
      "Best Epoch: epoch-150\n",
      "Best FID: 66.5584\n",
      "\n",
      "--------------------------------\n",
      "\n",
      "Epoch: 167\n"
     ]
    },
    {
     "name": "stderr",
     "output_type": "stream",
     "text": [
      "\n",
      " 23%|██▎       | 7/30 [00:00<00:00, 68.59it/s]"
     ]
    },
    {
     "name": "stdout",
     "output_type": "stream",
     "text": [
      "\n",
      "FID: 83.4442\n",
      "Time: 0.12 min\n",
      "\n",
      "-- Partial --\n",
      "Best Epoch: epoch-150\n",
      "Best FID: 66.5584\n",
      "\n",
      "--------------------------------\n",
      "\n",
      "Epoch: 168\n"
     ]
    },
    {
     "name": "stderr",
     "output_type": "stream",
     "text": [
      "100%|██████████| 30/30 [00:00<00:00, 128.10it/s]\n",
      "100%|██████████| 30/30 [00:00<00:00, 186.12it/s]"
     ]
    },
    {
     "name": "stdout",
     "output_type": "stream",
     "text": [
      "\n",
      "FID: 72.5947\n",
      "Time: 0.12 min\n",
      "\n",
      "-- Partial --\n",
      "Best Epoch: epoch-150\n",
      "Best FID: 66.5584\n",
      "\n",
      "--------------------------------\n",
      "\n",
      "Epoch: 169\n"
     ]
    },
    {
     "name": "stderr",
     "output_type": "stream",
     "text": [
      "\n",
      " 20%|██        | 6/30 [00:00<00:00, 55.66it/s]"
     ]
    },
    {
     "name": "stdout",
     "output_type": "stream",
     "text": [
      "\n",
      "FID: 76.2570\n",
      "Time: 0.12 min\n",
      "\n",
      "-- Partial --\n",
      "Best Epoch: epoch-150\n",
      "Best FID: 66.5584\n",
      "\n",
      "--------------------------------\n",
      "\n",
      "Epoch: 170\n"
     ]
    },
    {
     "name": "stderr",
     "output_type": "stream",
     "text": [
      "100%|██████████| 30/30 [00:00<00:00, 121.34it/s]\n",
      " 50%|█████     | 15/30 [00:00<00:00, 146.83it/s]"
     ]
    },
    {
     "name": "stdout",
     "output_type": "stream",
     "text": [
      "\n",
      "FID: 74.8871\n",
      "Time: 0.12 min\n",
      "\n",
      "-- Partial --\n",
      "Best Epoch: epoch-150\n",
      "Best FID: 66.5584\n",
      "\n",
      "--------------------------------\n",
      "\n",
      "Epoch: 171\n"
     ]
    },
    {
     "name": "stderr",
     "output_type": "stream",
     "text": [
      "100%|██████████| 30/30 [00:00<00:00, 166.08it/s]\n",
      " 33%|███▎      | 10/30 [00:00<00:00, 98.26it/s]"
     ]
    },
    {
     "name": "stdout",
     "output_type": "stream",
     "text": [
      "\n",
      "FID: 81.6578\n",
      "Time: 0.12 min\n",
      "\n",
      "-- Partial --\n",
      "Best Epoch: epoch-150\n",
      "Best FID: 66.5584\n",
      "\n",
      "--------------------------------\n",
      "\n",
      "Epoch: 172\n"
     ]
    },
    {
     "name": "stderr",
     "output_type": "stream",
     "text": [
      "100%|██████████| 30/30 [00:00<00:00, 145.82it/s]\n",
      "100%|██████████| 30/30 [00:00<00:00, 158.17it/s]"
     ]
    },
    {
     "name": "stdout",
     "output_type": "stream",
     "text": [
      "\n",
      "FID: 83.2991\n",
      "Time: 0.12 min\n",
      "\n",
      "-- Partial --\n",
      "Best Epoch: epoch-150\n",
      "Best FID: 66.5584\n",
      "\n",
      "--------------------------------\n",
      "\n",
      "Epoch: 173\n"
     ]
    },
    {
     "name": "stderr",
     "output_type": "stream",
     "text": [
      "\n",
      " 23%|██▎       | 7/30 [00:00<00:00, 68.98it/s]"
     ]
    },
    {
     "name": "stdout",
     "output_type": "stream",
     "text": [
      "\n",
      "FID: 81.4287\n",
      "Time: 0.12 min\n",
      "\n",
      "-- Partial --\n",
      "Best Epoch: epoch-150\n",
      "Best FID: 66.5584\n",
      "\n",
      "--------------------------------\n",
      "\n",
      "Epoch: 174\n"
     ]
    },
    {
     "name": "stderr",
     "output_type": "stream",
     "text": [
      "100%|██████████| 30/30 [00:00<00:00, 125.91it/s]\n",
      " 23%|██▎       | 7/30 [00:00<00:00, 65.96it/s]"
     ]
    },
    {
     "name": "stdout",
     "output_type": "stream",
     "text": [
      "\n",
      "FID: 79.2036\n",
      "Time: 0.12 min\n",
      "\n",
      "-- Partial --\n",
      "Best Epoch: epoch-150\n",
      "Best FID: 66.5584\n",
      "\n",
      "--------------------------------\n",
      "\n",
      "Epoch: 175\n"
     ]
    },
    {
     "name": "stderr",
     "output_type": "stream",
     "text": [
      "100%|██████████| 30/30 [00:00<00:00, 123.31it/s]\n",
      " 30%|███       | 9/30 [00:00<00:00, 89.64it/s]"
     ]
    },
    {
     "name": "stdout",
     "output_type": "stream",
     "text": [
      "\n",
      "FID: 74.4627\n",
      "Time: 0.12 min\n",
      "\n",
      "-- Partial --\n",
      "Best Epoch: epoch-150\n",
      "Best FID: 66.5584\n",
      "\n",
      "--------------------------------\n",
      "\n",
      "Epoch: 176\n"
     ]
    },
    {
     "name": "stderr",
     "output_type": "stream",
     "text": [
      "100%|██████████| 30/30 [00:00<00:00, 143.89it/s]\n",
      " 37%|███▋      | 11/30 [00:00<00:00, 106.57it/s]"
     ]
    },
    {
     "name": "stdout",
     "output_type": "stream",
     "text": [
      "\n",
      "FID: 70.8244\n",
      "Time: 0.12 min\n",
      "\n",
      "-- Partial --\n",
      "Best Epoch: epoch-150\n",
      "Best FID: 66.5584\n",
      "\n",
      "--------------------------------\n",
      "\n",
      "Epoch: 177\n"
     ]
    },
    {
     "name": "stderr",
     "output_type": "stream",
     "text": [
      "100%|██████████| 30/30 [00:00<00:00, 130.60it/s]\n",
      "100%|██████████| 30/30 [00:00<00:00, 116.92it/s]"
     ]
    },
    {
     "name": "stdout",
     "output_type": "stream",
     "text": [
      "\n",
      "FID: 78.2772\n",
      "Time: 0.12 min\n",
      "\n",
      "-- Partial --\n",
      "Best Epoch: epoch-150\n",
      "Best FID: 66.5584\n",
      "\n",
      "--------------------------------\n",
      "\n",
      "Epoch: 178\n"
     ]
    },
    {
     "name": "stderr",
     "output_type": "stream",
     "text": [
      "100%|██████████| 30/30 [00:00<00:00, 148.46it/s]\n",
      " 13%|█▎        | 4/30 [00:00<00:00, 36.03it/s]"
     ]
    },
    {
     "name": "stdout",
     "output_type": "stream",
     "text": [
      "\n",
      "FID: 76.4287\n",
      "Time: 0.12 min\n",
      "\n",
      "-- Partial --\n",
      "Best Epoch: epoch-150\n",
      "Best FID: 66.5584\n",
      "\n",
      "--------------------------------\n",
      "\n",
      "Epoch: 179\n"
     ]
    },
    {
     "name": "stderr",
     "output_type": "stream",
     "text": [
      "100%|██████████| 30/30 [00:00<00:00, 116.41it/s]\n",
      " 63%|██████▎   | 19/30 [00:00<00:00, 181.65it/s]"
     ]
    },
    {
     "name": "stdout",
     "output_type": "stream",
     "text": [
      "\n",
      "FID: 79.3494\n",
      "Time: 0.12 min\n",
      "\n",
      "-- Partial --\n",
      "Best Epoch: epoch-150\n",
      "Best FID: 66.5584\n",
      "\n",
      "--------------------------------\n",
      "\n",
      "Epoch: 180\n"
     ]
    },
    {
     "name": "stderr",
     "output_type": "stream",
     "text": [
      "100%|██████████| 30/30 [00:00<00:00, 156.65it/s]\n",
      " 37%|███▋      | 11/30 [00:00<00:00, 108.65it/s]"
     ]
    },
    {
     "name": "stdout",
     "output_type": "stream",
     "text": [
      "\n",
      "FID: 87.2522\n",
      "Time: 0.12 min\n",
      "\n",
      "-- Partial --\n",
      "Best Epoch: epoch-150\n",
      "Best FID: 66.5584\n",
      "\n",
      "--------------------------------\n",
      "\n",
      "Epoch: 181\n"
     ]
    },
    {
     "name": "stderr",
     "output_type": "stream",
     "text": [
      "100%|██████████| 30/30 [00:00<00:00, 152.15it/s]\n",
      "100%|██████████| 30/30 [00:00<00:00, 149.15it/s]"
     ]
    },
    {
     "name": "stdout",
     "output_type": "stream",
     "text": [
      "\n",
      "FID: 78.7866\n",
      "Time: 0.12 min\n",
      "\n",
      "-- Partial --\n",
      "Best Epoch: epoch-150\n",
      "Best FID: 66.5584\n",
      "\n",
      "--------------------------------\n",
      "\n",
      "Epoch: 182\n"
     ]
    },
    {
     "name": "stderr",
     "output_type": "stream",
     "text": [
      "\n",
      " 10%|█         | 3/30 [00:00<00:00, 29.30it/s]"
     ]
    },
    {
     "name": "stdout",
     "output_type": "stream",
     "text": [
      "\n",
      "FID: 77.4502\n",
      "Time: 0.12 min\n",
      "\n",
      "-- Partial --\n",
      "Best Epoch: epoch-150\n",
      "Best FID: 66.5584\n",
      "\n",
      "--------------------------------\n",
      "\n",
      "Epoch: 183\n"
     ]
    },
    {
     "name": "stderr",
     "output_type": "stream",
     "text": [
      "100%|██████████| 30/30 [00:00<00:00, 108.66it/s]\n",
      " 20%|██        | 6/30 [00:00<00:00, 58.24it/s]"
     ]
    },
    {
     "name": "stdout",
     "output_type": "stream",
     "text": [
      "\n",
      "FID: 78.0971\n",
      "Time: 0.12 min\n",
      "\n",
      "-- Partial --\n",
      "Best Epoch: epoch-150\n",
      "Best FID: 66.5584\n",
      "\n",
      "--------------------------------\n",
      "\n",
      "Epoch: 184\n"
     ]
    },
    {
     "name": "stderr",
     "output_type": "stream",
     "text": [
      "100%|██████████| 30/30 [00:00<00:00, 123.46it/s]\n",
      "100%|██████████| 30/30 [00:00<00:00, 152.30it/s]"
     ]
    },
    {
     "name": "stdout",
     "output_type": "stream",
     "text": [
      "\n",
      "FID: 81.4199\n",
      "Time: 0.12 min\n",
      "\n",
      "-- Partial --\n",
      "Best Epoch: epoch-150\n",
      "Best FID: 66.5584\n",
      "\n",
      "--------------------------------\n",
      "\n",
      "Epoch: 185\n"
     ]
    },
    {
     "name": "stderr",
     "output_type": "stream",
     "text": [
      "100%|██████████| 30/30 [00:00<00:00, 146.03it/s]\n",
      " 10%|█         | 3/30 [00:00<00:00, 29.21it/s]"
     ]
    },
    {
     "name": "stdout",
     "output_type": "stream",
     "text": [
      "\n",
      "FID: 78.9218\n",
      "Time: 0.12 min\n",
      "\n",
      "-- Partial --\n",
      "Best Epoch: epoch-150\n",
      "Best FID: 66.5584\n",
      "\n",
      "--------------------------------\n",
      "\n",
      "Epoch: 186\n"
     ]
    },
    {
     "name": "stderr",
     "output_type": "stream",
     "text": [
      "100%|██████████| 30/30 [00:00<00:00, 92.65it/s]\n",
      " 33%|███▎      | 10/30 [00:00<00:00, 99.54it/s]"
     ]
    },
    {
     "name": "stdout",
     "output_type": "stream",
     "text": [
      "\n",
      "FID: 82.8544\n",
      "Time: 0.12 min\n",
      "\n",
      "-- Partial --\n",
      "Best Epoch: epoch-150\n",
      "Best FID: 66.5584\n",
      "\n",
      "--------------------------------\n",
      "\n",
      "Epoch: 187\n"
     ]
    },
    {
     "name": "stderr",
     "output_type": "stream",
     "text": [
      "100%|██████████| 30/30 [00:00<00:00, 147.35it/s]\n",
      " 80%|████████  | 24/30 [00:00<00:00, 52.03it/s]"
     ]
    },
    {
     "name": "stdout",
     "output_type": "stream",
     "text": [
      "\n",
      "FID: 69.1552\n",
      "Time: 0.12 min\n",
      "\n",
      "-- Partial --\n",
      "Best Epoch: epoch-150\n",
      "Best FID: 66.5584\n",
      "\n",
      "--------------------------------\n",
      "\n",
      "Epoch: 188\n"
     ]
    },
    {
     "name": "stderr",
     "output_type": "stream",
     "text": [
      "100%|██████████| 30/30 [00:00<00:00, 120.74it/s]\n",
      " 37%|███▋      | 11/30 [00:00<00:00, 106.97it/s]"
     ]
    },
    {
     "name": "stdout",
     "output_type": "stream",
     "text": [
      "\n",
      "FID: 75.4718\n",
      "Time: 0.12 min\n",
      "\n",
      "-- Partial --\n",
      "Best Epoch: epoch-150\n",
      "Best FID: 66.5584\n",
      "\n",
      "--------------------------------\n",
      "\n",
      "Epoch: 189\n"
     ]
    },
    {
     "name": "stderr",
     "output_type": "stream",
     "text": [
      "100%|██████████| 30/30 [00:00<00:00, 149.00it/s]\n",
      " 33%|███▎      | 10/30 [00:00<00:00, 95.69it/s]"
     ]
    },
    {
     "name": "stdout",
     "output_type": "stream",
     "text": [
      "\n",
      "FID: 75.6233\n",
      "Time: 0.12 min\n",
      "\n",
      "-- Partial --\n",
      "Best Epoch: epoch-150\n",
      "Best FID: 66.5584\n",
      "\n",
      "--------------------------------\n",
      "\n",
      "Epoch: 190\n"
     ]
    },
    {
     "name": "stderr",
     "output_type": "stream",
     "text": [
      "100%|██████████| 30/30 [00:00<00:00, 146.50it/s]\n",
      " 33%|███▎      | 10/30 [00:00<00:00, 98.66it/s]"
     ]
    },
    {
     "name": "stdout",
     "output_type": "stream",
     "text": [
      "\n",
      "FID: 79.1459\n",
      "Time: 0.12 min\n",
      "\n",
      "-- Partial --\n",
      "Best Epoch: epoch-150\n",
      "Best FID: 66.5584\n",
      "\n",
      "--------------------------------\n",
      "\n",
      "Epoch: 191\n"
     ]
    },
    {
     "name": "stderr",
     "output_type": "stream",
     "text": [
      "100%|██████████| 30/30 [00:00<00:00, 110.04it/s]\n",
      " 37%|███▋      | 11/30 [00:00<00:00, 109.57it/s]"
     ]
    },
    {
     "name": "stdout",
     "output_type": "stream",
     "text": [
      "\n",
      "FID: 74.9193\n",
      "Time: 0.12 min\n",
      "\n",
      "-- Partial --\n",
      "Best Epoch: epoch-150\n",
      "Best FID: 66.5584\n",
      "\n",
      "--------------------------------\n",
      "\n",
      "Epoch: 192\n"
     ]
    },
    {
     "name": "stderr",
     "output_type": "stream",
     "text": [
      "100%|██████████| 30/30 [00:00<00:00, 152.38it/s]\n",
      " 23%|██▎       | 7/30 [00:00<00:00, 69.27it/s]"
     ]
    },
    {
     "name": "stdout",
     "output_type": "stream",
     "text": [
      "\n",
      "FID: 74.4451\n",
      "Time: 0.12 min\n",
      "\n",
      "-- Partial --\n",
      "Best Epoch: epoch-150\n",
      "Best FID: 66.5584\n",
      "\n",
      "--------------------------------\n",
      "\n",
      "Epoch: 193\n"
     ]
    },
    {
     "name": "stderr",
     "output_type": "stream",
     "text": [
      "100%|██████████| 30/30 [00:00<00:00, 121.23it/s]\n",
      " 30%|███       | 9/30 [00:00<00:00, 87.42it/s]"
     ]
    },
    {
     "name": "stdout",
     "output_type": "stream",
     "text": [
      "\n",
      "FID: 78.3622\n",
      "Time: 0.12 min\n",
      "\n",
      "-- Partial --\n",
      "Best Epoch: epoch-150\n",
      "Best FID: 66.5584\n",
      "\n",
      "--------------------------------\n",
      "\n",
      "Epoch: 194\n"
     ]
    },
    {
     "name": "stderr",
     "output_type": "stream",
     "text": [
      "100%|██████████| 30/30 [00:00<00:00, 115.84it/s]\n",
      " 13%|█▎        | 4/30 [00:00<00:00, 38.39it/s]"
     ]
    },
    {
     "name": "stdout",
     "output_type": "stream",
     "text": [
      "\n",
      "FID: 79.3204\n",
      "Time: 0.12 min\n",
      "\n",
      "-- Partial --\n",
      "Best Epoch: epoch-150\n",
      "Best FID: 66.5584\n",
      "\n",
      "--------------------------------\n",
      "\n",
      "Epoch: 195\n"
     ]
    },
    {
     "name": "stderr",
     "output_type": "stream",
     "text": [
      "100%|██████████| 30/30 [00:00<00:00, 106.97it/s]\n",
      "100%|██████████| 30/30 [00:00<00:00, 159.02it/s]"
     ]
    },
    {
     "name": "stdout",
     "output_type": "stream",
     "text": [
      "\n",
      "FID: 87.3047\n",
      "Time: 0.12 min\n",
      "\n",
      "-- Partial --\n",
      "Best Epoch: epoch-150\n",
      "Best FID: 66.5584\n",
      "\n",
      "--------------------------------\n",
      "\n",
      "Epoch: 196\n"
     ]
    },
    {
     "name": "stderr",
     "output_type": "stream",
     "text": [
      "\n",
      " 30%|███       | 9/30 [00:00<00:00, 86.11it/s]"
     ]
    },
    {
     "name": "stdout",
     "output_type": "stream",
     "text": [
      "\n",
      "FID: 66.9838\n",
      "Time: 0.12 min\n",
      "\n",
      "-- Partial --\n",
      "Best Epoch: epoch-150\n",
      "Best FID: 66.5584\n",
      "\n",
      "--------------------------------\n",
      "\n",
      "Epoch: 197\n"
     ]
    },
    {
     "name": "stderr",
     "output_type": "stream",
     "text": [
      "100%|██████████| 30/30 [00:00<00:00, 132.08it/s]\n",
      " 50%|█████     | 15/30 [00:00<00:00, 121.50it/s]"
     ]
    },
    {
     "name": "stdout",
     "output_type": "stream",
     "text": [
      "\n",
      "FID: 74.4137\n",
      "Time: 0.12 min\n",
      "\n",
      "-- Partial --\n",
      "Best Epoch: epoch-150\n",
      "Best FID: 66.5584\n",
      "\n",
      "--------------------------------\n",
      "\n",
      "Epoch: 198\n"
     ]
    },
    {
     "name": "stderr",
     "output_type": "stream",
     "text": [
      "100%|██████████| 30/30 [00:00<00:00, 150.06it/s]\n",
      " 33%|███▎      | 10/30 [00:00<00:00, 99.86it/s]"
     ]
    },
    {
     "name": "stdout",
     "output_type": "stream",
     "text": [
      "\n",
      "FID: 73.5209\n",
      "Time: 0.12 min\n",
      "\n",
      "-- Partial --\n",
      "Best Epoch: epoch-150\n",
      "Best FID: 66.5584\n",
      "\n",
      "--------------------------------\n",
      "\n",
      "Epoch: 199\n"
     ]
    },
    {
     "name": "stderr",
     "output_type": "stream",
     "text": [
      "100%|██████████| 30/30 [00:00<00:00, 134.82it/s]\n",
      " 20%|██        | 6/30 [00:00<00:00, 57.21it/s]"
     ]
    },
    {
     "name": "stdout",
     "output_type": "stream",
     "text": [
      "\n",
      "FID: 74.4187\n",
      "Time: 0.12 min\n",
      "\n",
      "-- Partial --\n",
      "Best Epoch: epoch-150\n",
      "Best FID: 66.5584\n",
      "\n",
      "--------------------------------\n",
      "\n",
      "Epoch: 200\n"
     ]
    },
    {
     "name": "stderr",
     "output_type": "stream",
     "text": [
      "100%|██████████| 30/30 [00:00<00:00, 124.75it/s]\n"
     ]
    },
    {
     "name": "stdout",
     "output_type": "stream",
     "text": [
      "\n",
      "FID: 80.5040\n",
      "Time: 0.12 min\n",
      "\n",
      "-- Partial --\n",
      "Best Epoch: epoch-150\n",
      "Best FID: 66.5584\n",
      "\n",
      "----------------------------------------------------\n",
      "Finalized\n",
      "Notebook Time: 2.6e+01 min\n",
      "Best Epoch: epoch-150\n",
      "Best FID: 66.5584\n"
     ]
    }
   ],
   "source": [
    "# example of calculating the frechet inception distance in Keras\n",
    "import numpy\n",
    "from numpy import cov\n",
    "from numpy import trace\n",
    "from numpy import iscomplexobj\n",
    "from numpy import asarray\n",
    "from numpy.random import randint\n",
    "from scipy.linalg import sqrtm\n",
    "from keras.applications.inception_v3 import InceptionV3\n",
    "from keras.applications.inception_v3 import preprocess_input\n",
    "from skimage.transform import resize\n",
    "\n",
    "# Daniel\n",
    "import os\n",
    "from tqdm import tqdm\n",
    "import cv2\n",
    "import numpy as np\n",
    "import time\n",
    "import gc\n",
    "\n",
    "lastTimeNotebook = time.time()\n",
    "\n",
    "def scale_images(images, new_shape):\n",
    "    \n",
    "    images_list = list()\n",
    "    for image in images:\n",
    "        \n",
    "        new_image = resize(image, new_shape, 0)\n",
    "        images_list.append(new_image)\n",
    "        \n",
    "    return asarray(images_list)\n",
    "\n",
    "def calculate_fid(model, images1, mu2, sigma2):\n",
    "    \n",
    "    # calculate activations\n",
    "    act1 = model.predict(images1)\n",
    "    \n",
    "    # calculate mean and covariance statistics\n",
    "    mu1, sigma1 = act1.mean(axis=0), cov(act1, rowvar=False)\n",
    "    \n",
    "    # calculate sum squared difference between means\n",
    "    ssdiff = numpy.sum((mu1 - mu2)**2.0)\n",
    "    \n",
    "    # Daniel\n",
    "    sigma1 = np.array(sigma1, ndmin=2) # https://stackoverflow.com/questions/31698242/python-how-can-i-force-1-element-numpy-arrays-to-be-two-dimensional\n",
    "    \n",
    "    # calculate sqrt of product between cov\n",
    "    covmean = sqrtm(sigma1.dot(sigma2))\n",
    "    \n",
    "    # check and correct imaginary numbers from sqrt\n",
    "    if iscomplexobj(covmean):\n",
    "        covmean = covmean.real\n",
    "        \n",
    "    # calculate score\n",
    "    fid = ssdiff + trace(sigma1 + sigma2 - 2.0 * covmean)\n",
    "    \n",
    "    return fid\n",
    "\n",
    "def loadImages(folder):\n",
    "    \n",
    "    path, dirs, files = next( os.walk( folder ) )\n",
    "\n",
    "    images = []\n",
    "    contador = 0\n",
    "    for file in tqdm(files):\n",
    "\n",
    "        image = cv2.imread( folder + file )\n",
    "        images.append( image )\n",
    "        contador += 1\n",
    "        \n",
    "    images = np.asarray(images)\n",
    "    return images\n",
    "\n",
    "def compareTwoGroups(model, images1, mu2, sigma2):\n",
    "\n",
    "    # convert integer to floating point values\n",
    "    images1 = images1.astype('float32')\n",
    "    \n",
    "    # resize images\n",
    "    images1 = scale_images(images1, (299,299,3))\n",
    "\n",
    "    # pre-process images\n",
    "    images1 = preprocess_input(images1)\n",
    "\n",
    "    # fid between images1 and images2\n",
    "    fid = calculate_fid(model, images1, mu2, sigma2)\n",
    "    \n",
    "    return fid\n",
    "\n",
    "# ---\n",
    "\n",
    "print( '\\nProcessing...' )\n",
    "\n",
    "# prepare the inception v3 model\n",
    "model = InceptionV3(include_top=False, pooling='avg', input_shape=(299,299,3))\n",
    "\n",
    "# Real Images used in training\n",
    "realImages = loadImages(padronizedFolder)\n",
    "gc.collect()\n",
    "realImages = realImages.astype('float32')\n",
    "gc.collect()\n",
    "realImages = scale_images(realImages, (299,299,3))\n",
    "gc.collect()\n",
    "realImages = preprocess_input(realImages)\n",
    "gc.collect()\n",
    "\n",
    "act2 = model.predict(realImages)\n",
    "gc.collect()\n",
    "mu2, sigma2 = act2.mean(axis=0), cov(act2, rowvar=False)\n",
    "gc.collect()\n",
    "sigma2 = np.array(sigma2, ndmin=2) # https://stackoverflow.com/questions/31698242/python-how-can-i-force-1-element-numpy-arrays-to-be-two-dimensional\n",
    "gc.collect()\n",
    "\n",
    "epochsFolders = os.listdir(generatedFolder)\n",
    "totalEpochs = len(epochsFolders)\n",
    "\n",
    "bestEpoch = ''\n",
    "bestFID = 9999\n",
    "\n",
    "lastTime = time.time()\n",
    "for i in range(1, totalEpochs + 1):\n",
    "\n",
    "    print('\\n--------------------------------\\n')\n",
    "    print(f'Epoch: {i}')\n",
    "    \n",
    "    epoch = 'epoch-' + str(i)\n",
    "    generatedImages = loadImages( f'{generatedFolder}/{epoch}/' )\n",
    "\n",
    "    fid = compareTwoGroups(model, generatedImages, mu2, sigma2)\n",
    "\n",
    "    print()\n",
    "    print('FID: %.4f' % fid)\n",
    "\n",
    "    if fid < bestFID:\n",
    "        bestFID = fid\n",
    "        bestEpoch = epoch\n",
    "        \n",
    "    # Time\n",
    "    now = time.time()\n",
    "    interval = now - lastTime\n",
    "    lastTime = now\n",
    "    print('Time: %.2f min' % (interval / 60))\n",
    "    print()\n",
    "    print('-- Partial --')\n",
    "    print(f'Best Epoch: {bestEpoch}')\n",
    "    print('Best FID: %.4f' % bestFID)\n",
    "\n",
    "\n",
    "print( '\\n----------------------------------------------------' )\n",
    "print( 'Finalized' )\n",
    "\n",
    "# Time\n",
    "now = time.time()\n",
    "interval = now - lastTimeNotebook\n",
    "print(f'Notebook Time: {(interval / 60):.2} min')\n",
    "\n",
    "print(f'Best Epoch: {bestEpoch}')\n",
    "print('Best FID: %.4f' % bestFID)"
   ]
  }
 ],
 "metadata": {
  "kernelspec": {
   "display_name": "Python 3",
   "language": "python",
   "name": "python3"
  },
  "language_info": {
   "codemirror_mode": {
    "name": "ipython",
    "version": 3
   },
   "file_extension": ".py",
   "mimetype": "text/x-python",
   "name": "python",
   "nbconvert_exporter": "python",
   "pygments_lexer": "ipython3",
   "version": "3.7.7"
  }
 },
 "nbformat": 4,
 "nbformat_minor": 4
}
