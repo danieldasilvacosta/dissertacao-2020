{
 "cells": [
  {
   "cell_type": "code",
   "execution_count": 1,
   "metadata": {},
   "outputs": [],
   "source": [
    "images_dimensions = 128\n",
    "attribute = 'initial-set--Type-4-02'\n",
    "totalInputImages = 5000\n",
    "BATCH_SIZE = 100\n",
    "latent_dim = 100"
   ]
  },
  {
   "cell_type": "code",
   "execution_count": 2,
   "metadata": {},
   "outputs": [],
   "source": [
    "IMAGES_FOLDER = './images/'\n",
    "folderDimensionsSufix = str( images_dimensions ) + 'x' + str( images_dimensions )\n",
    "\n",
    "padronizedFolder = f'{IMAGES_FOLDER}padronized--{attribute}--{folderDimensionsSufix}--{totalInputImages}--bs-{BATCH_SIZE}--ls-{latent_dim}/'"
   ]
  },
  {
   "cell_type": "code",
   "execution_count": 3,
   "metadata": {},
   "outputs": [],
   "source": [
    "trainedModelFolder = f'./trained-model--{attribute}--{folderDimensionsSufix}--{totalInputImages}--bs-{BATCH_SIZE}--ls-{latent_dim}/'\n",
    "generatedFolder = trainedModelFolder + 'generated/'"
   ]
  },
  {
   "cell_type": "code",
   "execution_count": 4,
   "metadata": {},
   "outputs": [
    {
     "name": "stderr",
     "output_type": "stream",
     "text": [
      "Using TensorFlow backend.\n"
     ]
    },
    {
     "name": "stdout",
     "output_type": "stream",
     "text": [
      "\n",
      "Processing...\n"
     ]
    },
    {
     "name": "stderr",
     "output_type": "stream",
     "text": [
      "100%|██████████| 5000/5000 [00:02<00:00, 2451.50it/s]\n",
      "100%|██████████| 30/30 [00:00<00:00, 218.78it/s]"
     ]
    },
    {
     "name": "stdout",
     "output_type": "stream",
     "text": [
      "\n",
      "--------------------------------\n",
      "\n",
      "Epoch: 1\n"
     ]
    },
    {
     "name": "stderr",
     "output_type": "stream",
     "text": [
      "\n",
      "100%|██████████| 30/30 [00:00<00:00, 202.48it/s]"
     ]
    },
    {
     "name": "stdout",
     "output_type": "stream",
     "text": [
      "\n",
      "FID: 409.6658\n",
      "Time: 0.14 min\n",
      "\n",
      "-- Partial --\n",
      "Best Epoch: epoch-1\n",
      "Best FID: 409.6658\n",
      "\n",
      "--------------------------------\n",
      "\n",
      "Epoch: 2\n"
     ]
    },
    {
     "name": "stderr",
     "output_type": "stream",
     "text": [
      "\n",
      "100%|██████████| 30/30 [00:00<00:00, 202.51it/s]"
     ]
    },
    {
     "name": "stdout",
     "output_type": "stream",
     "text": [
      "\n",
      "FID: 519.0805\n",
      "Time: 0.11 min\n",
      "\n",
      "-- Partial --\n",
      "Best Epoch: epoch-1\n",
      "Best FID: 409.6658\n",
      "\n",
      "--------------------------------\n",
      "\n",
      "Epoch: 3\n"
     ]
    },
    {
     "name": "stderr",
     "output_type": "stream",
     "text": [
      "\n",
      "100%|██████████| 30/30 [00:00<00:00, 208.14it/s]"
     ]
    },
    {
     "name": "stdout",
     "output_type": "stream",
     "text": [
      "\n",
      "FID: 443.9010\n",
      "Time: 0.11 min\n",
      "\n",
      "-- Partial --\n",
      "Best Epoch: epoch-1\n",
      "Best FID: 409.6658\n",
      "\n",
      "--------------------------------\n",
      "\n",
      "Epoch: 4\n"
     ]
    },
    {
     "name": "stderr",
     "output_type": "stream",
     "text": [
      "\n",
      "100%|██████████| 30/30 [00:00<00:00, 208.79it/s]"
     ]
    },
    {
     "name": "stdout",
     "output_type": "stream",
     "text": [
      "\n",
      "FID: 383.8420\n",
      "Time: 0.12 min\n",
      "\n",
      "-- Partial --\n",
      "Best Epoch: epoch-4\n",
      "Best FID: 383.8420\n",
      "\n",
      "--------------------------------\n",
      "\n",
      "Epoch: 5\n"
     ]
    },
    {
     "name": "stderr",
     "output_type": "stream",
     "text": [
      "\n",
      "100%|██████████| 30/30 [00:00<00:00, 207.92it/s]"
     ]
    },
    {
     "name": "stdout",
     "output_type": "stream",
     "text": [
      "\n",
      "FID: 426.6333\n",
      "Time: 0.12 min\n",
      "\n",
      "-- Partial --\n",
      "Best Epoch: epoch-4\n",
      "Best FID: 383.8420\n",
      "\n",
      "--------------------------------\n",
      "\n",
      "Epoch: 6\n"
     ]
    },
    {
     "name": "stderr",
     "output_type": "stream",
     "text": [
      "\n",
      "100%|██████████| 30/30 [00:00<00:00, 214.68it/s]"
     ]
    },
    {
     "name": "stdout",
     "output_type": "stream",
     "text": [
      "\n",
      "FID: 470.4996\n",
      "Time: 0.12 min\n",
      "\n",
      "-- Partial --\n",
      "Best Epoch: epoch-4\n",
      "Best FID: 383.8420\n",
      "\n",
      "--------------------------------\n",
      "\n",
      "Epoch: 7\n"
     ]
    },
    {
     "name": "stderr",
     "output_type": "stream",
     "text": [
      "\n",
      "100%|██████████| 30/30 [00:00<00:00, 206.71it/s]"
     ]
    },
    {
     "name": "stdout",
     "output_type": "stream",
     "text": [
      "\n",
      "FID: 434.7170\n",
      "Time: 0.12 min\n",
      "\n",
      "-- Partial --\n",
      "Best Epoch: epoch-4\n",
      "Best FID: 383.8420\n",
      "\n",
      "--------------------------------\n",
      "\n",
      "Epoch: 8\n"
     ]
    },
    {
     "name": "stderr",
     "output_type": "stream",
     "text": [
      "\n",
      "100%|██████████| 30/30 [00:00<00:00, 208.12it/s]"
     ]
    },
    {
     "name": "stdout",
     "output_type": "stream",
     "text": [
      "\n",
      "FID: 425.1320\n",
      "Time: 0.12 min\n",
      "\n",
      "-- Partial --\n",
      "Best Epoch: epoch-4\n",
      "Best FID: 383.8420\n",
      "\n",
      "--------------------------------\n",
      "\n",
      "Epoch: 9\n"
     ]
    },
    {
     "name": "stderr",
     "output_type": "stream",
     "text": [
      "\n",
      "100%|██████████| 30/30 [00:00<00:00, 214.09it/s]"
     ]
    },
    {
     "name": "stdout",
     "output_type": "stream",
     "text": [
      "\n",
      "FID: 385.1575\n",
      "Time: 0.12 min\n",
      "\n",
      "-- Partial --\n",
      "Best Epoch: epoch-4\n",
      "Best FID: 383.8420\n",
      "\n",
      "--------------------------------\n",
      "\n",
      "Epoch: 10\n"
     ]
    },
    {
     "name": "stderr",
     "output_type": "stream",
     "text": [
      "\n",
      "100%|██████████| 30/30 [00:00<00:00, 221.20it/s]"
     ]
    },
    {
     "name": "stdout",
     "output_type": "stream",
     "text": [
      "\n",
      "FID: 311.6685\n",
      "Time: 0.12 min\n",
      "\n",
      "-- Partial --\n",
      "Best Epoch: epoch-10\n",
      "Best FID: 311.6685\n",
      "\n",
      "--------------------------------\n",
      "\n",
      "Epoch: 11\n"
     ]
    },
    {
     "name": "stderr",
     "output_type": "stream",
     "text": [
      "\n",
      "100%|██████████| 30/30 [00:00<00:00, 202.28it/s]"
     ]
    },
    {
     "name": "stdout",
     "output_type": "stream",
     "text": [
      "\n",
      "FID: 352.1959\n",
      "Time: 0.12 min\n",
      "\n",
      "-- Partial --\n",
      "Best Epoch: epoch-10\n",
      "Best FID: 311.6685\n",
      "\n",
      "--------------------------------\n",
      "\n",
      "Epoch: 12\n"
     ]
    },
    {
     "name": "stderr",
     "output_type": "stream",
     "text": [
      "\n",
      "100%|██████████| 30/30 [00:00<00:00, 190.91it/s]"
     ]
    },
    {
     "name": "stdout",
     "output_type": "stream",
     "text": [
      "\n",
      "FID: 206.5354\n",
      "Time: 0.12 min\n",
      "\n",
      "-- Partial --\n",
      "Best Epoch: epoch-12\n",
      "Best FID: 206.5354\n",
      "\n",
      "--------------------------------\n",
      "\n",
      "Epoch: 13\n"
     ]
    },
    {
     "name": "stderr",
     "output_type": "stream",
     "text": [
      "\n",
      "100%|██████████| 30/30 [00:00<00:00, 214.08it/s]"
     ]
    },
    {
     "name": "stdout",
     "output_type": "stream",
     "text": [
      "\n",
      "FID: 191.0990\n",
      "Time: 0.12 min\n",
      "\n",
      "-- Partial --\n",
      "Best Epoch: epoch-13\n",
      "Best FID: 191.0990\n",
      "\n",
      "--------------------------------\n",
      "\n",
      "Epoch: 14\n"
     ]
    },
    {
     "name": "stderr",
     "output_type": "stream",
     "text": [
      "\n",
      "100%|██████████| 30/30 [00:00<00:00, 197.77it/s]"
     ]
    },
    {
     "name": "stdout",
     "output_type": "stream",
     "text": [
      "\n",
      "FID: 170.9068\n",
      "Time: 0.12 min\n",
      "\n",
      "-- Partial --\n",
      "Best Epoch: epoch-14\n",
      "Best FID: 170.9068\n",
      "\n",
      "--------------------------------\n",
      "\n",
      "Epoch: 15\n"
     ]
    },
    {
     "name": "stderr",
     "output_type": "stream",
     "text": [
      "\n",
      "100%|██████████| 30/30 [00:00<00:00, 206.36it/s]"
     ]
    },
    {
     "name": "stdout",
     "output_type": "stream",
     "text": [
      "\n",
      "FID: 220.7977\n",
      "Time: 0.12 min\n",
      "\n",
      "-- Partial --\n",
      "Best Epoch: epoch-14\n",
      "Best FID: 170.9068\n",
      "\n",
      "--------------------------------\n",
      "\n",
      "Epoch: 16\n"
     ]
    },
    {
     "name": "stderr",
     "output_type": "stream",
     "text": [
      "\n",
      "100%|██████████| 30/30 [00:00<00:00, 198.50it/s]"
     ]
    },
    {
     "name": "stdout",
     "output_type": "stream",
     "text": [
      "\n",
      "FID: 148.8349\n",
      "Time: 0.12 min\n",
      "\n",
      "-- Partial --\n",
      "Best Epoch: epoch-16\n",
      "Best FID: 148.8349\n",
      "\n",
      "--------------------------------\n",
      "\n",
      "Epoch: 17\n"
     ]
    },
    {
     "name": "stderr",
     "output_type": "stream",
     "text": [
      "\n",
      "100%|██████████| 30/30 [00:00<00:00, 199.29it/s]"
     ]
    },
    {
     "name": "stdout",
     "output_type": "stream",
     "text": [
      "\n",
      "FID: 209.5126\n",
      "Time: 0.13 min\n",
      "\n",
      "-- Partial --\n",
      "Best Epoch: epoch-16\n",
      "Best FID: 148.8349\n",
      "\n",
      "--------------------------------\n",
      "\n",
      "Epoch: 18\n"
     ]
    },
    {
     "name": "stderr",
     "output_type": "stream",
     "text": [
      "\n",
      "100%|██████████| 30/30 [00:00<00:00, 201.16it/s]"
     ]
    },
    {
     "name": "stdout",
     "output_type": "stream",
     "text": [
      "\n",
      "FID: 170.4917\n",
      "Time: 0.12 min\n",
      "\n",
      "-- Partial --\n",
      "Best Epoch: epoch-16\n",
      "Best FID: 148.8349\n",
      "\n",
      "--------------------------------\n",
      "\n",
      "Epoch: 19\n"
     ]
    },
    {
     "name": "stderr",
     "output_type": "stream",
     "text": [
      "\n",
      "100%|██████████| 30/30 [00:00<00:00, 197.19it/s]"
     ]
    },
    {
     "name": "stdout",
     "output_type": "stream",
     "text": [
      "\n",
      "FID: 147.2755\n",
      "Time: 0.12 min\n",
      "\n",
      "-- Partial --\n",
      "Best Epoch: epoch-19\n",
      "Best FID: 147.2755\n",
      "\n",
      "--------------------------------\n",
      "\n",
      "Epoch: 20\n"
     ]
    },
    {
     "name": "stderr",
     "output_type": "stream",
     "text": [
      "\n",
      "100%|██████████| 30/30 [00:00<00:00, 195.13it/s]"
     ]
    },
    {
     "name": "stdout",
     "output_type": "stream",
     "text": [
      "\n",
      "FID: 160.1654\n",
      "Time: 0.12 min\n",
      "\n",
      "-- Partial --\n",
      "Best Epoch: epoch-19\n",
      "Best FID: 147.2755\n",
      "\n",
      "--------------------------------\n",
      "\n",
      "Epoch: 21\n"
     ]
    },
    {
     "name": "stderr",
     "output_type": "stream",
     "text": [
      "\n",
      "100%|██████████| 30/30 [00:00<00:00, 198.51it/s]"
     ]
    },
    {
     "name": "stdout",
     "output_type": "stream",
     "text": [
      "\n",
      "FID: 150.3442\n",
      "Time: 0.12 min\n",
      "\n",
      "-- Partial --\n",
      "Best Epoch: epoch-19\n",
      "Best FID: 147.2755\n",
      "\n",
      "--------------------------------\n",
      "\n",
      "Epoch: 22\n"
     ]
    },
    {
     "name": "stderr",
     "output_type": "stream",
     "text": [
      "\n",
      "100%|██████████| 30/30 [00:00<00:00, 202.52it/s]"
     ]
    },
    {
     "name": "stdout",
     "output_type": "stream",
     "text": [
      "\n",
      "FID: 113.3909\n",
      "Time: 0.12 min\n",
      "\n",
      "-- Partial --\n",
      "Best Epoch: epoch-22\n",
      "Best FID: 113.3909\n",
      "\n",
      "--------------------------------\n",
      "\n",
      "Epoch: 23\n"
     ]
    },
    {
     "name": "stderr",
     "output_type": "stream",
     "text": [
      "\n",
      "100%|██████████| 30/30 [00:00<00:00, 206.17it/s]"
     ]
    },
    {
     "name": "stdout",
     "output_type": "stream",
     "text": [
      "\n",
      "FID: 102.9292\n",
      "Time: 0.12 min\n",
      "\n",
      "-- Partial --\n",
      "Best Epoch: epoch-23\n",
      "Best FID: 102.9292\n",
      "\n",
      "--------------------------------\n",
      "\n",
      "Epoch: 24\n"
     ]
    },
    {
     "name": "stderr",
     "output_type": "stream",
     "text": [
      "\n",
      "100%|██████████| 30/30 [00:00<00:00, 205.29it/s]"
     ]
    },
    {
     "name": "stdout",
     "output_type": "stream",
     "text": [
      "\n",
      "FID: 110.3036\n",
      "Time: 0.12 min\n",
      "\n",
      "-- Partial --\n",
      "Best Epoch: epoch-23\n",
      "Best FID: 102.9292\n",
      "\n",
      "--------------------------------\n",
      "\n",
      "Epoch: 25\n"
     ]
    },
    {
     "name": "stderr",
     "output_type": "stream",
     "text": [
      "\n",
      "100%|██████████| 30/30 [00:00<00:00, 198.50it/s]"
     ]
    },
    {
     "name": "stdout",
     "output_type": "stream",
     "text": [
      "\n",
      "FID: 102.7091\n",
      "Time: 0.12 min\n",
      "\n",
      "-- Partial --\n",
      "Best Epoch: epoch-25\n",
      "Best FID: 102.7091\n",
      "\n",
      "--------------------------------\n",
      "\n",
      "Epoch: 26\n"
     ]
    },
    {
     "name": "stderr",
     "output_type": "stream",
     "text": [
      "\n",
      "100%|██████████| 30/30 [00:00<00:00, 203.44it/s]"
     ]
    },
    {
     "name": "stdout",
     "output_type": "stream",
     "text": [
      "\n",
      "FID: 110.1095\n",
      "Time: 0.12 min\n",
      "\n",
      "-- Partial --\n",
      "Best Epoch: epoch-25\n",
      "Best FID: 102.7091\n",
      "\n",
      "--------------------------------\n",
      "\n",
      "Epoch: 27\n"
     ]
    },
    {
     "name": "stderr",
     "output_type": "stream",
     "text": [
      "\n",
      "100%|██████████| 30/30 [00:00<00:00, 197.12it/s]"
     ]
    },
    {
     "name": "stdout",
     "output_type": "stream",
     "text": [
      "\n",
      "FID: 96.7134\n",
      "Time: 0.12 min\n",
      "\n",
      "-- Partial --\n",
      "Best Epoch: epoch-27\n",
      "Best FID: 96.7134\n",
      "\n",
      "--------------------------------\n",
      "\n",
      "Epoch: 28\n"
     ]
    },
    {
     "name": "stderr",
     "output_type": "stream",
     "text": [
      "\n",
      "100%|██████████| 30/30 [00:00<00:00, 193.88it/s]"
     ]
    },
    {
     "name": "stdout",
     "output_type": "stream",
     "text": [
      "\n",
      "FID: 88.6733\n",
      "Time: 0.12 min\n",
      "\n",
      "-- Partial --\n",
      "Best Epoch: epoch-28\n",
      "Best FID: 88.6733\n",
      "\n",
      "--------------------------------\n",
      "\n",
      "Epoch: 29\n"
     ]
    },
    {
     "name": "stderr",
     "output_type": "stream",
     "text": [
      "\n",
      "100%|██████████| 30/30 [00:00<00:00, 200.45it/s]"
     ]
    },
    {
     "name": "stdout",
     "output_type": "stream",
     "text": [
      "\n",
      "FID: 107.6872\n",
      "Time: 0.12 min\n",
      "\n",
      "-- Partial --\n",
      "Best Epoch: epoch-28\n",
      "Best FID: 88.6733\n",
      "\n",
      "--------------------------------\n",
      "\n",
      "Epoch: 30\n"
     ]
    },
    {
     "name": "stderr",
     "output_type": "stream",
     "text": [
      "\n",
      " 27%|██▋       | 8/30 [00:00<00:00, 57.50it/s]"
     ]
    },
    {
     "name": "stdout",
     "output_type": "stream",
     "text": [
      "\n",
      "FID: 105.8636\n",
      "Time: 0.14 min\n",
      "\n",
      "-- Partial --\n",
      "Best Epoch: epoch-28\n",
      "Best FID: 88.6733\n",
      "\n",
      "--------------------------------\n",
      "\n",
      "Epoch: 31\n"
     ]
    },
    {
     "name": "stderr",
     "output_type": "stream",
     "text": [
      "100%|██████████| 30/30 [00:00<00:00, 71.36it/s]\n",
      "100%|██████████| 30/30 [00:00<00:00, 170.30it/s]"
     ]
    },
    {
     "name": "stdout",
     "output_type": "stream",
     "text": [
      "\n",
      "FID: 97.3145\n",
      "Time: 0.16 min\n",
      "\n",
      "-- Partial --\n",
      "Best Epoch: epoch-28\n",
      "Best FID: 88.6733\n",
      "\n",
      "--------------------------------\n",
      "\n",
      "Epoch: 32\n"
     ]
    },
    {
     "name": "stderr",
     "output_type": "stream",
     "text": [
      "\n",
      "100%|██████████| 30/30 [00:00<00:00, 209.60it/s]"
     ]
    },
    {
     "name": "stdout",
     "output_type": "stream",
     "text": [
      "\n",
      "FID: 95.0943\n",
      "Time: 0.12 min\n",
      "\n",
      "-- Partial --\n",
      "Best Epoch: epoch-28\n",
      "Best FID: 88.6733\n",
      "\n",
      "--------------------------------\n",
      "\n",
      "Epoch: 33\n"
     ]
    },
    {
     "name": "stderr",
     "output_type": "stream",
     "text": [
      "\n",
      " 53%|█████▎    | 16/30 [00:00<00:00, 153.71it/s]"
     ]
    },
    {
     "name": "stdout",
     "output_type": "stream",
     "text": [
      "\n",
      "FID: 95.2580\n",
      "Time: 0.13 min\n",
      "\n",
      "-- Partial --\n",
      "Best Epoch: epoch-28\n",
      "Best FID: 88.6733\n",
      "\n",
      "--------------------------------\n",
      "\n",
      "Epoch: 34\n"
     ]
    },
    {
     "name": "stderr",
     "output_type": "stream",
     "text": [
      "100%|██████████| 30/30 [00:00<00:00, 144.80it/s]\n",
      "100%|██████████| 30/30 [00:00<00:00, 208.14it/s]"
     ]
    },
    {
     "name": "stdout",
     "output_type": "stream",
     "text": [
      "\n",
      "FID: 105.4591\n",
      "Time: 0.14 min\n",
      "\n",
      "-- Partial --\n",
      "Best Epoch: epoch-28\n",
      "Best FID: 88.6733\n",
      "\n",
      "--------------------------------\n",
      "\n",
      "Epoch: 35\n"
     ]
    },
    {
     "name": "stderr",
     "output_type": "stream",
     "text": [
      "\n",
      "100%|██████████| 30/30 [00:00<00:00, 212.57it/s]"
     ]
    },
    {
     "name": "stdout",
     "output_type": "stream",
     "text": [
      "\n",
      "FID: 89.5342\n",
      "Time: 0.13 min\n",
      "\n",
      "-- Partial --\n",
      "Best Epoch: epoch-28\n",
      "Best FID: 88.6733\n",
      "\n",
      "--------------------------------\n",
      "\n",
      "Epoch: 36\n"
     ]
    },
    {
     "name": "stderr",
     "output_type": "stream",
     "text": [
      "\n",
      "100%|██████████| 30/30 [00:00<00:00, 183.88it/s]"
     ]
    },
    {
     "name": "stdout",
     "output_type": "stream",
     "text": [
      "\n",
      "FID: 98.1876\n",
      "Time: 0.13 min\n",
      "\n",
      "-- Partial --\n",
      "Best Epoch: epoch-28\n",
      "Best FID: 88.6733\n",
      "\n",
      "--------------------------------\n",
      "\n",
      "Epoch: 37\n"
     ]
    },
    {
     "name": "stderr",
     "output_type": "stream",
     "text": [
      "\n",
      "100%|██████████| 30/30 [00:00<00:00, 202.52it/s]"
     ]
    },
    {
     "name": "stdout",
     "output_type": "stream",
     "text": [
      "\n",
      "FID: 95.0724\n",
      "Time: 0.12 min\n",
      "\n",
      "-- Partial --\n",
      "Best Epoch: epoch-28\n",
      "Best FID: 88.6733\n",
      "\n",
      "--------------------------------\n",
      "\n",
      "Epoch: 38\n"
     ]
    },
    {
     "name": "stderr",
     "output_type": "stream",
     "text": [
      "\n",
      "100%|██████████| 30/30 [00:00<00:00, 212.59it/s]"
     ]
    },
    {
     "name": "stdout",
     "output_type": "stream",
     "text": [
      "\n",
      "FID: 103.0107\n",
      "Time: 0.13 min\n",
      "\n",
      "-- Partial --\n",
      "Best Epoch: epoch-28\n",
      "Best FID: 88.6733\n",
      "\n",
      "--------------------------------\n",
      "\n",
      "Epoch: 39\n"
     ]
    },
    {
     "name": "stderr",
     "output_type": "stream",
     "text": [
      "\n",
      "100%|██████████| 30/30 [00:00<00:00, 197.19it/s]"
     ]
    },
    {
     "name": "stdout",
     "output_type": "stream",
     "text": [
      "\n",
      "FID: 99.4623\n",
      "Time: 0.13 min\n",
      "\n",
      "-- Partial --\n",
      "Best Epoch: epoch-28\n",
      "Best FID: 88.6733\n",
      "\n",
      "--------------------------------\n",
      "\n",
      "Epoch: 40\n"
     ]
    },
    {
     "name": "stderr",
     "output_type": "stream",
     "text": [
      "\n",
      "100%|██████████| 30/30 [00:00<00:00, 212.59it/s]"
     ]
    },
    {
     "name": "stdout",
     "output_type": "stream",
     "text": [
      "\n",
      "FID: 87.6643\n",
      "Time: 0.13 min\n",
      "\n",
      "-- Partial --\n",
      "Best Epoch: epoch-40\n",
      "Best FID: 87.6643\n",
      "\n",
      "--------------------------------\n",
      "\n",
      "Epoch: 41\n"
     ]
    },
    {
     "name": "stderr",
     "output_type": "stream",
     "text": [
      "\n",
      "100%|██████████| 30/30 [00:00<00:00, 211.07it/s]"
     ]
    },
    {
     "name": "stdout",
     "output_type": "stream",
     "text": [
      "\n",
      "FID: 100.9432\n",
      "Time: 0.13 min\n",
      "\n",
      "-- Partial --\n",
      "Best Epoch: epoch-40\n",
      "Best FID: 87.6643\n",
      "\n",
      "--------------------------------\n",
      "\n",
      "Epoch: 42\n"
     ]
    },
    {
     "name": "stderr",
     "output_type": "stream",
     "text": [
      "\n",
      "100%|██████████| 30/30 [00:00<00:00, 208.14it/s]"
     ]
    },
    {
     "name": "stdout",
     "output_type": "stream",
     "text": [
      "\n",
      "FID: 89.1650\n",
      "Time: 0.13 min\n",
      "\n",
      "-- Partial --\n",
      "Best Epoch: epoch-40\n",
      "Best FID: 87.6643\n",
      "\n",
      "--------------------------------\n",
      "\n",
      "Epoch: 43\n"
     ]
    },
    {
     "name": "stderr",
     "output_type": "stream",
     "text": [
      "\n",
      "100%|██████████| 30/30 [00:00<00:00, 199.82it/s]"
     ]
    },
    {
     "name": "stdout",
     "output_type": "stream",
     "text": [
      "\n",
      "FID: 92.1442\n",
      "Time: 0.13 min\n",
      "\n",
      "-- Partial --\n",
      "Best Epoch: epoch-40\n",
      "Best FID: 87.6643\n",
      "\n",
      "--------------------------------\n",
      "\n",
      "Epoch: 44\n"
     ]
    },
    {
     "name": "stderr",
     "output_type": "stream",
     "text": [
      "\n",
      "100%|██████████| 30/30 [00:00<00:00, 198.49it/s]"
     ]
    },
    {
     "name": "stdout",
     "output_type": "stream",
     "text": [
      "\n",
      "FID: 90.0536\n",
      "Time: 0.13 min\n",
      "\n",
      "-- Partial --\n",
      "Best Epoch: epoch-40\n",
      "Best FID: 87.6643\n",
      "\n",
      "--------------------------------\n",
      "\n",
      "Epoch: 45\n"
     ]
    },
    {
     "name": "stderr",
     "output_type": "stream",
     "text": [
      "\n",
      "100%|██████████| 30/30 [00:00<00:00, 208.14it/s]"
     ]
    },
    {
     "name": "stdout",
     "output_type": "stream",
     "text": [
      "\n",
      "FID: 112.1183\n",
      "Time: 0.13 min\n",
      "\n",
      "-- Partial --\n",
      "Best Epoch: epoch-40\n",
      "Best FID: 87.6643\n",
      "\n",
      "--------------------------------\n",
      "\n",
      "Epoch: 46\n"
     ]
    },
    {
     "name": "stderr",
     "output_type": "stream",
     "text": [
      "\n",
      "100%|██████████| 30/30 [00:00<00:00, 202.52it/s]"
     ]
    },
    {
     "name": "stdout",
     "output_type": "stream",
     "text": [
      "\n",
      "FID: 111.5661\n",
      "Time: 0.13 min\n",
      "\n",
      "-- Partial --\n",
      "Best Epoch: epoch-40\n",
      "Best FID: 87.6643\n",
      "\n",
      "--------------------------------\n",
      "\n",
      "Epoch: 47\n"
     ]
    },
    {
     "name": "stderr",
     "output_type": "stream",
     "text": [
      "\n",
      "100%|██████████| 30/30 [00:00<00:00, 195.90it/s]"
     ]
    },
    {
     "name": "stdout",
     "output_type": "stream",
     "text": [
      "\n",
      "FID: 96.0903\n",
      "Time: 0.13 min\n",
      "\n",
      "-- Partial --\n",
      "Best Epoch: epoch-40\n",
      "Best FID: 87.6643\n",
      "\n",
      "--------------------------------\n",
      "\n",
      "Epoch: 48\n"
     ]
    },
    {
     "name": "stderr",
     "output_type": "stream",
     "text": [
      "\n",
      "100%|██████████| 30/30 [00:00<00:00, 181.65it/s]"
     ]
    },
    {
     "name": "stdout",
     "output_type": "stream",
     "text": [
      "\n",
      "FID: 111.4150\n",
      "Time: 0.14 min\n",
      "\n",
      "-- Partial --\n",
      "Best Epoch: epoch-40\n",
      "Best FID: 87.6643\n",
      "\n",
      "--------------------------------\n",
      "\n",
      "Epoch: 49\n"
     ]
    },
    {
     "name": "stderr",
     "output_type": "stream",
     "text": [
      "\n",
      " 53%|█████▎    | 16/30 [00:00<00:00, 159.85it/s]"
     ]
    },
    {
     "name": "stdout",
     "output_type": "stream",
     "text": [
      "\n",
      "FID: 103.7320\n",
      "Time: 0.15 min\n",
      "\n",
      "-- Partial --\n",
      "Best Epoch: epoch-40\n",
      "Best FID: 87.6643\n",
      "\n",
      "--------------------------------\n",
      "\n",
      "Epoch: 50\n"
     ]
    },
    {
     "name": "stderr",
     "output_type": "stream",
     "text": [
      "100%|██████████| 30/30 [00:00<00:00, 158.58it/s]\n",
      " 43%|████▎     | 13/30 [00:00<00:00, 126.10it/s]"
     ]
    },
    {
     "name": "stdout",
     "output_type": "stream",
     "text": [
      "\n",
      "FID: 111.1390\n",
      "Time: 0.14 min\n",
      "\n",
      "-- Partial --\n",
      "Best Epoch: epoch-40\n",
      "Best FID: 87.6643\n",
      "\n",
      "--------------------------------\n",
      "\n",
      "Epoch: 51\n"
     ]
    },
    {
     "name": "stderr",
     "output_type": "stream",
     "text": [
      "100%|██████████| 30/30 [00:00<00:00, 136.86it/s]\n",
      " 53%|█████▎    | 16/30 [00:00<00:00, 159.85it/s]"
     ]
    },
    {
     "name": "stdout",
     "output_type": "stream",
     "text": [
      "\n",
      "FID: 116.8272\n",
      "Time: 0.15 min\n",
      "\n",
      "-- Partial --\n",
      "Best Epoch: epoch-40\n",
      "Best FID: 87.6643\n",
      "\n",
      "--------------------------------\n",
      "\n",
      "Epoch: 52\n"
     ]
    },
    {
     "name": "stderr",
     "output_type": "stream",
     "text": [
      "100%|██████████| 30/30 [00:00<00:00, 162.02it/s]\n",
      " 47%|████▋     | 14/30 [00:00<00:00, 138.49it/s]"
     ]
    },
    {
     "name": "stdout",
     "output_type": "stream",
     "text": [
      "\n",
      "FID: 104.8898\n",
      "Time: 0.14 min\n",
      "\n",
      "-- Partial --\n",
      "Best Epoch: epoch-40\n",
      "Best FID: 87.6643\n",
      "\n",
      "--------------------------------\n",
      "\n",
      "Epoch: 53\n"
     ]
    },
    {
     "name": "stderr",
     "output_type": "stream",
     "text": [
      "100%|██████████| 30/30 [00:00<00:00, 128.09it/s]\n",
      " 60%|██████    | 18/30 [00:00<00:00, 179.84it/s]"
     ]
    },
    {
     "name": "stdout",
     "output_type": "stream",
     "text": [
      "\n",
      "FID: 89.1172\n",
      "Time: 0.15 min\n",
      "\n",
      "-- Partial --\n",
      "Best Epoch: epoch-40\n",
      "Best FID: 87.6643\n",
      "\n",
      "--------------------------------\n",
      "\n",
      "Epoch: 54\n"
     ]
    },
    {
     "name": "stderr",
     "output_type": "stream",
     "text": [
      "100%|██████████| 30/30 [00:00<00:00, 176.31it/s]\n",
      "100%|██████████| 30/30 [00:00<00:00, 189.70it/s]"
     ]
    },
    {
     "name": "stdout",
     "output_type": "stream",
     "text": [
      "\n",
      "FID: 92.6412\n",
      "Time: 0.13 min\n",
      "\n",
      "-- Partial --\n",
      "Best Epoch: epoch-40\n",
      "Best FID: 87.6643\n",
      "\n",
      "--------------------------------\n",
      "\n",
      "Epoch: 55\n"
     ]
    },
    {
     "name": "stderr",
     "output_type": "stream",
     "text": [
      "\n",
      " 47%|████▋     | 14/30 [00:00<00:00, 137.13it/s]"
     ]
    },
    {
     "name": "stdout",
     "output_type": "stream",
     "text": [
      "\n",
      "FID: 106.5660\n",
      "Time: 0.14 min\n",
      "\n",
      "-- Partial --\n",
      "Best Epoch: epoch-40\n",
      "Best FID: 87.6643\n",
      "\n",
      "--------------------------------\n",
      "\n",
      "Epoch: 56\n"
     ]
    },
    {
     "name": "stderr",
     "output_type": "stream",
     "text": [
      "100%|██████████| 30/30 [00:00<00:00, 144.10it/s]\n",
      " 50%|█████     | 15/30 [00:00<00:00, 146.93it/s]"
     ]
    },
    {
     "name": "stdout",
     "output_type": "stream",
     "text": [
      "\n",
      "FID: 94.7627\n",
      "Time: 0.14 min\n",
      "\n",
      "-- Partial --\n",
      "Best Epoch: epoch-40\n",
      "Best FID: 87.6643\n",
      "\n",
      "--------------------------------\n",
      "\n",
      "Epoch: 57\n"
     ]
    },
    {
     "name": "stderr",
     "output_type": "stream",
     "text": [
      "100%|██████████| 30/30 [00:00<00:00, 153.71it/s]\n",
      "100%|██████████| 30/30 [00:00<00:00, 201.16it/s]"
     ]
    },
    {
     "name": "stdout",
     "output_type": "stream",
     "text": [
      "\n",
      "FID: 100.3114\n",
      "Time: 0.13 min\n",
      "\n",
      "-- Partial --\n",
      "Best Epoch: epoch-40\n",
      "Best FID: 87.6643\n",
      "\n",
      "--------------------------------\n",
      "\n",
      "Epoch: 58\n"
     ]
    },
    {
     "name": "stderr",
     "output_type": "stream",
     "text": [
      "\n",
      "100%|██████████| 30/30 [00:00<00:00, 180.56it/s]"
     ]
    },
    {
     "name": "stdout",
     "output_type": "stream",
     "text": [
      "\n",
      "FID: 89.8366\n",
      "Time: 0.14 min\n",
      "\n",
      "-- Partial --\n",
      "Best Epoch: epoch-40\n",
      "Best FID: 87.6643\n",
      "\n",
      "--------------------------------\n",
      "\n",
      "Epoch: 59\n"
     ]
    },
    {
     "name": "stderr",
     "output_type": "stream",
     "text": [
      "\n",
      "100%|██████████| 30/30 [00:00<00:00, 189.70it/s]"
     ]
    },
    {
     "name": "stdout",
     "output_type": "stream",
     "text": [
      "\n",
      "FID: 104.1737\n",
      "Time: 0.14 min\n",
      "\n",
      "-- Partial --\n",
      "Best Epoch: epoch-40\n",
      "Best FID: 87.6643\n",
      "\n",
      "--------------------------------\n",
      "\n",
      "Epoch: 60\n"
     ]
    },
    {
     "name": "stderr",
     "output_type": "stream",
     "text": [
      "\n",
      " 50%|█████     | 15/30 [00:00<00:00, 149.86it/s]"
     ]
    },
    {
     "name": "stdout",
     "output_type": "stream",
     "text": [
      "\n",
      "FID: 98.8332\n",
      "Time: 0.14 min\n",
      "\n",
      "-- Partial --\n",
      "Best Epoch: epoch-40\n",
      "Best FID: 87.6643\n",
      "\n",
      "--------------------------------\n",
      "\n",
      "Epoch: 61\n"
     ]
    },
    {
     "name": "stderr",
     "output_type": "stream",
     "text": [
      "100%|██████████| 30/30 [00:00<00:00, 142.72it/s]\n",
      "100%|██████████| 30/30 [00:00<00:00, 201.16it/s]"
     ]
    },
    {
     "name": "stdout",
     "output_type": "stream",
     "text": [
      "\n",
      "FID: 98.4173\n",
      "Time: 0.15 min\n",
      "\n",
      "-- Partial --\n",
      "Best Epoch: epoch-40\n",
      "Best FID: 87.6643\n",
      "\n",
      "--------------------------------\n",
      "\n",
      "Epoch: 62\n"
     ]
    },
    {
     "name": "stderr",
     "output_type": "stream",
     "text": [
      "\n",
      "100%|██████████| 30/30 [00:00<00:00, 193.37it/s]"
     ]
    },
    {
     "name": "stdout",
     "output_type": "stream",
     "text": [
      "\n",
      "FID: 102.8123\n",
      "Time: 0.14 min\n",
      "\n",
      "-- Partial --\n",
      "Best Epoch: epoch-40\n",
      "Best FID: 87.6643\n",
      "\n",
      "--------------------------------\n",
      "\n",
      "Epoch: 63\n"
     ]
    },
    {
     "name": "stderr",
     "output_type": "stream",
     "text": [
      "\n",
      "100%|██████████| 30/30 [00:00<00:00, 192.12it/s]"
     ]
    },
    {
     "name": "stdout",
     "output_type": "stream",
     "text": [
      "\n",
      "FID: 93.0108\n",
      "Time: 0.13 min\n",
      "\n",
      "-- Partial --\n",
      "Best Epoch: epoch-40\n",
      "Best FID: 87.6643\n",
      "\n",
      "--------------------------------\n",
      "\n",
      "Epoch: 64\n"
     ]
    },
    {
     "name": "stderr",
     "output_type": "stream",
     "text": [
      "\n",
      "100%|██████████| 30/30 [00:00<00:00, 195.90it/s]"
     ]
    },
    {
     "name": "stdout",
     "output_type": "stream",
     "text": [
      "\n",
      "FID: 84.4677\n",
      "Time: 0.13 min\n",
      "\n",
      "-- Partial --\n",
      "Best Epoch: epoch-64\n",
      "Best FID: 84.4677\n",
      "\n",
      "--------------------------------\n",
      "\n",
      "Epoch: 65\n"
     ]
    },
    {
     "name": "stderr",
     "output_type": "stream",
     "text": [
      "\n",
      "100%|██████████| 30/30 [00:00<00:00, 198.49it/s]"
     ]
    },
    {
     "name": "stdout",
     "output_type": "stream",
     "text": [
      "\n",
      "FID: 89.2477\n",
      "Time: 0.13 min\n",
      "\n",
      "-- Partial --\n",
      "Best Epoch: epoch-64\n",
      "Best FID: 84.4677\n",
      "\n",
      "--------------------------------\n",
      "\n",
      "Epoch: 66\n"
     ]
    },
    {
     "name": "stderr",
     "output_type": "stream",
     "text": [
      "\n",
      "100%|██████████| 30/30 [00:00<00:00, 198.49it/s]"
     ]
    },
    {
     "name": "stdout",
     "output_type": "stream",
     "text": [
      "\n",
      "FID: 95.2631\n",
      "Time: 0.13 min\n",
      "\n",
      "-- Partial --\n",
      "Best Epoch: epoch-64\n",
      "Best FID: 84.4677\n",
      "\n",
      "--------------------------------\n",
      "\n",
      "Epoch: 67\n"
     ]
    },
    {
     "name": "stderr",
     "output_type": "stream",
     "text": [
      "\n",
      "100%|██████████| 30/30 [00:00<00:00, 195.90it/s]"
     ]
    },
    {
     "name": "stdout",
     "output_type": "stream",
     "text": [
      "\n",
      "FID: 86.7852\n",
      "Time: 0.13 min\n",
      "\n",
      "-- Partial --\n",
      "Best Epoch: epoch-64\n",
      "Best FID: 84.4677\n",
      "\n",
      "--------------------------------\n",
      "\n",
      "Epoch: 68\n"
     ]
    },
    {
     "name": "stderr",
     "output_type": "stream",
     "text": [
      "\n",
      "100%|██████████| 30/30 [00:00<00:00, 202.52it/s]"
     ]
    },
    {
     "name": "stdout",
     "output_type": "stream",
     "text": [
      "\n",
      "FID: 90.2307\n",
      "Time: 0.13 min\n",
      "\n",
      "-- Partial --\n",
      "Best Epoch: epoch-64\n",
      "Best FID: 84.4677\n",
      "\n",
      "--------------------------------\n",
      "\n",
      "Epoch: 69\n"
     ]
    },
    {
     "name": "stderr",
     "output_type": "stream",
     "text": [
      "\n",
      "100%|██████████| 30/30 [00:00<00:00, 203.88it/s]"
     ]
    },
    {
     "name": "stdout",
     "output_type": "stream",
     "text": [
      "\n",
      "FID: 81.6901\n",
      "Time: 0.12 min\n",
      "\n",
      "-- Partial --\n",
      "Best Epoch: epoch-69\n",
      "Best FID: 81.6901\n",
      "\n",
      "--------------------------------\n",
      "\n",
      "Epoch: 70\n"
     ]
    },
    {
     "name": "stderr",
     "output_type": "stream",
     "text": [
      "\n",
      " 53%|█████▎    | 16/30 [00:00<00:00, 158.27it/s]"
     ]
    },
    {
     "name": "stdout",
     "output_type": "stream",
     "text": [
      "\n",
      "FID: 92.3661\n",
      "Time: 0.13 min\n",
      "\n",
      "-- Partial --\n",
      "Best Epoch: epoch-69\n",
      "Best FID: 81.6901\n",
      "\n",
      "--------------------------------\n",
      "\n",
      "Epoch: 71\n"
     ]
    },
    {
     "name": "stderr",
     "output_type": "stream",
     "text": [
      "100%|██████████| 30/30 [00:00<00:00, 160.28it/s]\n",
      "100%|██████████| 30/30 [00:00<00:00, 187.32it/s]"
     ]
    },
    {
     "name": "stdout",
     "output_type": "stream",
     "text": [
      "\n",
      "FID: 91.2173\n",
      "Time: 0.15 min\n",
      "\n",
      "-- Partial --\n",
      "Best Epoch: epoch-69\n",
      "Best FID: 81.6901\n",
      "\n",
      "--------------------------------\n",
      "\n",
      "Epoch: 72\n"
     ]
    },
    {
     "name": "stderr",
     "output_type": "stream",
     "text": [
      "\n",
      "100%|██████████| 30/30 [00:00<00:00, 175.27it/s]"
     ]
    },
    {
     "name": "stdout",
     "output_type": "stream",
     "text": [
      "\n",
      "FID: 88.9574\n",
      "Time: 0.14 min\n",
      "\n",
      "-- Partial --\n",
      "Best Epoch: epoch-69\n",
      "Best FID: 81.6901\n",
      "\n",
      "--------------------------------\n",
      "\n",
      "Epoch: 73\n"
     ]
    },
    {
     "name": "stderr",
     "output_type": "stream",
     "text": [
      "\n",
      "100%|██████████| 30/30 [00:00<00:00, 195.90it/s]"
     ]
    },
    {
     "name": "stdout",
     "output_type": "stream",
     "text": [
      "\n",
      "FID: 86.9426\n",
      "Time: 0.14 min\n",
      "\n",
      "-- Partial --\n",
      "Best Epoch: epoch-69\n",
      "Best FID: 81.6901\n",
      "\n",
      "--------------------------------\n",
      "\n",
      "Epoch: 74\n"
     ]
    },
    {
     "name": "stderr",
     "output_type": "stream",
     "text": [
      "\n",
      "100%|██████████| 30/30 [00:00<00:00, 217.19it/s]"
     ]
    },
    {
     "name": "stdout",
     "output_type": "stream",
     "text": [
      "\n",
      "FID: 90.6922\n",
      "Time: 0.13 min\n",
      "\n",
      "-- Partial --\n",
      "Best Epoch: epoch-69\n",
      "Best FID: 81.6901\n",
      "\n",
      "--------------------------------\n",
      "\n",
      "Epoch: 75\n"
     ]
    },
    {
     "name": "stderr",
     "output_type": "stream",
     "text": [
      "\n",
      "100%|██████████| 30/30 [00:00<00:00, 212.56it/s]"
     ]
    },
    {
     "name": "stdout",
     "output_type": "stream",
     "text": [
      "\n",
      "FID: 82.8072\n",
      "Time: 0.12 min\n",
      "\n",
      "-- Partial --\n",
      "Best Epoch: epoch-69\n",
      "Best FID: 81.6901\n",
      "\n",
      "--------------------------------\n",
      "\n",
      "Epoch: 76\n"
     ]
    },
    {
     "name": "stderr",
     "output_type": "stream",
     "text": [
      "\n",
      "100%|██████████| 30/30 [00:00<00:00, 195.90it/s]"
     ]
    },
    {
     "name": "stdout",
     "output_type": "stream",
     "text": [
      "\n",
      "FID: 79.7213\n",
      "Time: 0.13 min\n",
      "\n",
      "-- Partial --\n",
      "Best Epoch: epoch-76\n",
      "Best FID: 79.7213\n",
      "\n",
      "--------------------------------\n",
      "\n",
      "Epoch: 77\n"
     ]
    },
    {
     "name": "stderr",
     "output_type": "stream",
     "text": [
      "\n",
      "100%|██████████| 30/30 [00:00<00:00, 174.26it/s]"
     ]
    },
    {
     "name": "stdout",
     "output_type": "stream",
     "text": [
      "\n",
      "FID: 92.6385\n",
      "Time: 0.13 min\n",
      "\n",
      "-- Partial --\n",
      "Best Epoch: epoch-76\n",
      "Best FID: 79.7213\n",
      "\n",
      "--------------------------------\n",
      "\n",
      "Epoch: 78\n"
     ]
    },
    {
     "name": "stderr",
     "output_type": "stream",
     "text": [
      "\n",
      "100%|██████████| 30/30 [00:00<00:00, 206.71it/s]"
     ]
    },
    {
     "name": "stdout",
     "output_type": "stream",
     "text": [
      "\n",
      "FID: 88.5910\n",
      "Time: 0.13 min\n",
      "\n",
      "-- Partial --\n",
      "Best Epoch: epoch-76\n",
      "Best FID: 79.7213\n",
      "\n",
      "--------------------------------\n",
      "\n",
      "Epoch: 79\n"
     ]
    },
    {
     "name": "stderr",
     "output_type": "stream",
     "text": [
      "\n",
      "100%|██████████| 30/30 [00:00<00:00, 194.54it/s]"
     ]
    },
    {
     "name": "stdout",
     "output_type": "stream",
     "text": [
      "\n",
      "FID: 96.4675\n",
      "Time: 0.12 min\n",
      "\n",
      "-- Partial --\n",
      "Best Epoch: epoch-76\n",
      "Best FID: 79.7213\n",
      "\n",
      "--------------------------------\n",
      "\n",
      "Epoch: 80\n"
     ]
    },
    {
     "name": "stderr",
     "output_type": "stream",
     "text": [
      "\n",
      "100%|██████████| 30/30 [00:00<00:00, 209.20it/s]"
     ]
    },
    {
     "name": "stdout",
     "output_type": "stream",
     "text": [
      "\n",
      "FID: 94.6667\n",
      "Time: 0.13 min\n",
      "\n",
      "-- Partial --\n",
      "Best Epoch: epoch-76\n",
      "Best FID: 79.7213\n",
      "\n",
      "--------------------------------\n",
      "\n",
      "Epoch: 81\n"
     ]
    },
    {
     "name": "stderr",
     "output_type": "stream",
     "text": [
      "\n",
      "100%|██████████| 30/30 [00:00<00:00, 203.90it/s]"
     ]
    },
    {
     "name": "stdout",
     "output_type": "stream",
     "text": [
      "\n",
      "FID: 83.2036\n",
      "Time: 0.12 min\n",
      "\n",
      "-- Partial --\n",
      "Best Epoch: epoch-76\n",
      "Best FID: 79.7213\n",
      "\n",
      "--------------------------------\n",
      "\n",
      "Epoch: 82\n"
     ]
    },
    {
     "name": "stderr",
     "output_type": "stream",
     "text": [
      "\n",
      "100%|██████████| 30/30 [00:00<00:00, 205.28it/s]"
     ]
    },
    {
     "name": "stdout",
     "output_type": "stream",
     "text": [
      "\n",
      "FID: 83.0365\n",
      "Time: 0.12 min\n",
      "\n",
      "-- Partial --\n",
      "Best Epoch: epoch-76\n",
      "Best FID: 79.7213\n",
      "\n",
      "--------------------------------\n",
      "\n",
      "Epoch: 83\n"
     ]
    },
    {
     "name": "stderr",
     "output_type": "stream",
     "text": [
      "\n",
      "100%|██████████| 30/30 [00:00<00:00, 213.41it/s]"
     ]
    },
    {
     "name": "stdout",
     "output_type": "stream",
     "text": [
      "\n",
      "FID: 86.0164\n",
      "Time: 0.12 min\n",
      "\n",
      "-- Partial --\n",
      "Best Epoch: epoch-76\n",
      "Best FID: 79.7213\n",
      "\n",
      "--------------------------------\n",
      "\n",
      "Epoch: 84\n"
     ]
    },
    {
     "name": "stderr",
     "output_type": "stream",
     "text": [
      "\n",
      "100%|██████████| 30/30 [00:00<00:00, 214.09it/s]"
     ]
    },
    {
     "name": "stdout",
     "output_type": "stream",
     "text": [
      "\n",
      "FID: 88.3803\n",
      "Time: 0.12 min\n",
      "\n",
      "-- Partial --\n",
      "Best Epoch: epoch-76\n",
      "Best FID: 79.7213\n",
      "\n",
      "--------------------------------\n",
      "\n",
      "Epoch: 85\n"
     ]
    },
    {
     "name": "stderr",
     "output_type": "stream",
     "text": [
      "\n",
      "100%|██████████| 30/30 [00:00<00:00, 202.52it/s]"
     ]
    },
    {
     "name": "stdout",
     "output_type": "stream",
     "text": [
      "\n",
      "FID: 87.8861\n",
      "Time: 0.12 min\n",
      "\n",
      "-- Partial --\n",
      "Best Epoch: epoch-76\n",
      "Best FID: 79.7213\n",
      "\n",
      "--------------------------------\n",
      "\n",
      "Epoch: 86\n"
     ]
    },
    {
     "name": "stderr",
     "output_type": "stream",
     "text": [
      "\n",
      "100%|██████████| 30/30 [00:00<00:00, 198.40it/s]"
     ]
    },
    {
     "name": "stdout",
     "output_type": "stream",
     "text": [
      "\n",
      "FID: 90.9865\n",
      "Time: 0.12 min\n",
      "\n",
      "-- Partial --\n",
      "Best Epoch: epoch-76\n",
      "Best FID: 79.7213\n",
      "\n",
      "--------------------------------\n",
      "\n",
      "Epoch: 87\n"
     ]
    },
    {
     "name": "stderr",
     "output_type": "stream",
     "text": [
      "\n",
      "100%|██████████| 30/30 [00:00<00:00, 205.06it/s]"
     ]
    },
    {
     "name": "stdout",
     "output_type": "stream",
     "text": [
      "\n",
      "FID: 94.8098\n",
      "Time: 0.12 min\n",
      "\n",
      "-- Partial --\n",
      "Best Epoch: epoch-76\n",
      "Best FID: 79.7213\n",
      "\n",
      "--------------------------------\n",
      "\n",
      "Epoch: 88\n"
     ]
    },
    {
     "name": "stderr",
     "output_type": "stream",
     "text": [
      "\n",
      "100%|██████████| 30/30 [00:00<00:00, 205.29it/s]"
     ]
    },
    {
     "name": "stdout",
     "output_type": "stream",
     "text": [
      "\n",
      "FID: 80.8324\n",
      "Time: 0.12 min\n",
      "\n",
      "-- Partial --\n",
      "Best Epoch: epoch-76\n",
      "Best FID: 79.7213\n",
      "\n",
      "--------------------------------\n",
      "\n",
      "Epoch: 89\n"
     ]
    },
    {
     "name": "stderr",
     "output_type": "stream",
     "text": [
      "\n",
      "100%|██████████| 30/30 [00:00<00:00, 198.49it/s]"
     ]
    },
    {
     "name": "stdout",
     "output_type": "stream",
     "text": [
      "\n",
      "FID: 84.1122\n",
      "Time: 0.12 min\n",
      "\n",
      "-- Partial --\n",
      "Best Epoch: epoch-76\n",
      "Best FID: 79.7213\n",
      "\n",
      "--------------------------------\n",
      "\n",
      "Epoch: 90\n"
     ]
    },
    {
     "name": "stderr",
     "output_type": "stream",
     "text": [
      "\n",
      "100%|██████████| 30/30 [00:00<00:00, 201.16it/s]"
     ]
    },
    {
     "name": "stdout",
     "output_type": "stream",
     "text": [
      "\n",
      "FID: 80.2163\n",
      "Time: 0.12 min\n",
      "\n",
      "-- Partial --\n",
      "Best Epoch: epoch-76\n",
      "Best FID: 79.7213\n",
      "\n",
      "--------------------------------\n",
      "\n",
      "Epoch: 91\n"
     ]
    },
    {
     "name": "stderr",
     "output_type": "stream",
     "text": [
      "\n",
      "100%|██████████| 30/30 [00:00<00:00, 205.29it/s]"
     ]
    },
    {
     "name": "stdout",
     "output_type": "stream",
     "text": [
      "\n",
      "FID: 88.4760\n",
      "Time: 0.12 min\n",
      "\n",
      "-- Partial --\n",
      "Best Epoch: epoch-76\n",
      "Best FID: 79.7213\n",
      "\n",
      "--------------------------------\n",
      "\n",
      "Epoch: 92\n"
     ]
    },
    {
     "name": "stderr",
     "output_type": "stream",
     "text": [
      "\n",
      "100%|██████████| 30/30 [00:00<00:00, 209.60it/s]"
     ]
    },
    {
     "name": "stdout",
     "output_type": "stream",
     "text": [
      "\n",
      "FID: 84.4582\n",
      "Time: 0.12 min\n",
      "\n",
      "-- Partial --\n",
      "Best Epoch: epoch-76\n",
      "Best FID: 79.7213\n",
      "\n",
      "--------------------------------\n",
      "\n",
      "Epoch: 93\n"
     ]
    },
    {
     "name": "stderr",
     "output_type": "stream",
     "text": [
      "\n",
      "100%|██████████| 30/30 [00:00<00:00, 199.82it/s]"
     ]
    },
    {
     "name": "stdout",
     "output_type": "stream",
     "text": [
      "\n",
      "FID: 90.4667\n",
      "Time: 0.12 min\n",
      "\n",
      "-- Partial --\n",
      "Best Epoch: epoch-76\n",
      "Best FID: 79.7213\n",
      "\n",
      "--------------------------------\n",
      "\n",
      "Epoch: 94\n"
     ]
    },
    {
     "name": "stderr",
     "output_type": "stream",
     "text": [
      "\n",
      "100%|██████████| 30/30 [00:00<00:00, 212.57it/s]"
     ]
    },
    {
     "name": "stdout",
     "output_type": "stream",
     "text": [
      "\n",
      "FID: 81.5805\n",
      "Time: 0.12 min\n",
      "\n",
      "-- Partial --\n",
      "Best Epoch: epoch-76\n",
      "Best FID: 79.7213\n",
      "\n",
      "--------------------------------\n",
      "\n",
      "Epoch: 95\n"
     ]
    },
    {
     "name": "stderr",
     "output_type": "stream",
     "text": [
      "\n",
      "100%|██████████| 30/30 [00:00<00:00, 209.61it/s]"
     ]
    },
    {
     "name": "stdout",
     "output_type": "stream",
     "text": [
      "\n",
      "FID: 82.8226\n",
      "Time: 0.12 min\n",
      "\n",
      "-- Partial --\n",
      "Best Epoch: epoch-76\n",
      "Best FID: 79.7213\n",
      "\n",
      "--------------------------------\n",
      "\n",
      "Epoch: 96\n"
     ]
    },
    {
     "name": "stderr",
     "output_type": "stream",
     "text": [
      "\n",
      "100%|██████████| 30/30 [00:00<00:00, 211.08it/s]"
     ]
    },
    {
     "name": "stdout",
     "output_type": "stream",
     "text": [
      "\n",
      "FID: 93.1024\n",
      "Time: 0.12 min\n",
      "\n",
      "-- Partial --\n",
      "Best Epoch: epoch-76\n",
      "Best FID: 79.7213\n",
      "\n",
      "--------------------------------\n",
      "\n",
      "Epoch: 97\n"
     ]
    },
    {
     "name": "stderr",
     "output_type": "stream",
     "text": [
      "\n",
      "100%|██████████| 30/30 [00:00<00:00, 203.91it/s]"
     ]
    },
    {
     "name": "stdout",
     "output_type": "stream",
     "text": [
      "\n",
      "FID: 89.5178\n",
      "Time: 0.12 min\n",
      "\n",
      "-- Partial --\n",
      "Best Epoch: epoch-76\n",
      "Best FID: 79.7213\n",
      "\n",
      "--------------------------------\n",
      "\n",
      "Epoch: 98\n"
     ]
    },
    {
     "name": "stderr",
     "output_type": "stream",
     "text": [
      "\n",
      "100%|██████████| 30/30 [00:00<00:00, 209.60it/s]"
     ]
    },
    {
     "name": "stdout",
     "output_type": "stream",
     "text": [
      "\n",
      "FID: 89.1930\n",
      "Time: 0.12 min\n",
      "\n",
      "-- Partial --\n",
      "Best Epoch: epoch-76\n",
      "Best FID: 79.7213\n",
      "\n",
      "--------------------------------\n",
      "\n",
      "Epoch: 99\n"
     ]
    },
    {
     "name": "stderr",
     "output_type": "stream",
     "text": [
      "\n",
      "100%|██████████| 30/30 [00:00<00:00, 209.87it/s]"
     ]
    },
    {
     "name": "stdout",
     "output_type": "stream",
     "text": [
      "\n",
      "FID: 83.5035\n",
      "Time: 0.12 min\n",
      "\n",
      "-- Partial --\n",
      "Best Epoch: epoch-76\n",
      "Best FID: 79.7213\n",
      "\n",
      "--------------------------------\n",
      "\n",
      "Epoch: 100\n"
     ]
    },
    {
     "name": "stderr",
     "output_type": "stream",
     "text": [
      "\n",
      "100%|██████████| 30/30 [00:00<00:00, 208.14it/s]"
     ]
    },
    {
     "name": "stdout",
     "output_type": "stream",
     "text": [
      "\n",
      "FID: 83.4376\n",
      "Time: 0.12 min\n",
      "\n",
      "-- Partial --\n",
      "Best Epoch: epoch-76\n",
      "Best FID: 79.7213\n",
      "\n",
      "--------------------------------\n",
      "\n",
      "Epoch: 101\n"
     ]
    },
    {
     "name": "stderr",
     "output_type": "stream",
     "text": [
      "\n",
      "100%|██████████| 30/30 [00:00<00:00, 206.71it/s]"
     ]
    },
    {
     "name": "stdout",
     "output_type": "stream",
     "text": [
      "\n",
      "FID: 85.7378\n",
      "Time: 0.12 min\n",
      "\n",
      "-- Partial --\n",
      "Best Epoch: epoch-76\n",
      "Best FID: 79.7213\n",
      "\n",
      "--------------------------------\n",
      "\n",
      "Epoch: 102\n"
     ]
    },
    {
     "name": "stderr",
     "output_type": "stream",
     "text": [
      "\n",
      "100%|██████████| 30/30 [00:00<00:00, 204.55it/s]"
     ]
    },
    {
     "name": "stdout",
     "output_type": "stream",
     "text": [
      "\n",
      "FID: 83.6236\n",
      "Time: 0.12 min\n",
      "\n",
      "-- Partial --\n",
      "Best Epoch: epoch-76\n",
      "Best FID: 79.7213\n",
      "\n",
      "--------------------------------\n",
      "\n",
      "Epoch: 103\n"
     ]
    },
    {
     "name": "stderr",
     "output_type": "stream",
     "text": [
      "\n",
      "100%|██████████| 30/30 [00:00<00:00, 207.30it/s]"
     ]
    },
    {
     "name": "stdout",
     "output_type": "stream",
     "text": [
      "\n",
      "FID: 89.2470\n",
      "Time: 0.12 min\n",
      "\n",
      "-- Partial --\n",
      "Best Epoch: epoch-76\n",
      "Best FID: 79.7213\n",
      "\n",
      "--------------------------------\n",
      "\n",
      "Epoch: 104\n"
     ]
    },
    {
     "name": "stderr",
     "output_type": "stream",
     "text": [
      "\n",
      "100%|██████████| 30/30 [00:00<00:00, 212.11it/s]"
     ]
    },
    {
     "name": "stdout",
     "output_type": "stream",
     "text": [
      "\n",
      "FID: 91.6584\n",
      "Time: 0.12 min\n",
      "\n",
      "-- Partial --\n",
      "Best Epoch: epoch-76\n",
      "Best FID: 79.7213\n",
      "\n",
      "--------------------------------\n",
      "\n",
      "Epoch: 105\n"
     ]
    },
    {
     "name": "stderr",
     "output_type": "stream",
     "text": [
      "\n",
      "100%|██████████| 30/30 [00:00<00:00, 208.14it/s]"
     ]
    },
    {
     "name": "stdout",
     "output_type": "stream",
     "text": [
      "\n",
      "FID: 84.6643\n",
      "Time: 0.12 min\n",
      "\n",
      "-- Partial --\n",
      "Best Epoch: epoch-76\n",
      "Best FID: 79.7213\n",
      "\n",
      "--------------------------------\n",
      "\n",
      "Epoch: 106\n"
     ]
    },
    {
     "name": "stderr",
     "output_type": "stream",
     "text": [
      "\n",
      "100%|██████████| 30/30 [00:00<00:00, 203.91it/s]"
     ]
    },
    {
     "name": "stdout",
     "output_type": "stream",
     "text": [
      "\n",
      "FID: 78.4276\n",
      "Time: 0.12 min\n",
      "\n",
      "-- Partial --\n",
      "Best Epoch: epoch-106\n",
      "Best FID: 78.4276\n",
      "\n",
      "--------------------------------\n",
      "\n",
      "Epoch: 107\n"
     ]
    },
    {
     "name": "stderr",
     "output_type": "stream",
     "text": [
      "\n",
      "100%|██████████| 30/30 [00:00<00:00, 209.91it/s]"
     ]
    },
    {
     "name": "stdout",
     "output_type": "stream",
     "text": [
      "\n",
      "FID: 94.1801\n",
      "Time: 0.12 min\n",
      "\n",
      "-- Partial --\n",
      "Best Epoch: epoch-106\n",
      "Best FID: 78.4276\n",
      "\n",
      "--------------------------------\n",
      "\n",
      "Epoch: 108\n"
     ]
    },
    {
     "name": "stderr",
     "output_type": "stream",
     "text": [
      "\n",
      "100%|██████████| 30/30 [00:00<00:00, 211.16it/s]"
     ]
    },
    {
     "name": "stdout",
     "output_type": "stream",
     "text": [
      "\n",
      "FID: 80.6352\n",
      "Time: 0.12 min\n",
      "\n",
      "-- Partial --\n",
      "Best Epoch: epoch-106\n",
      "Best FID: 78.4276\n",
      "\n",
      "--------------------------------\n",
      "\n",
      "Epoch: 109\n"
     ]
    },
    {
     "name": "stderr",
     "output_type": "stream",
     "text": [
      "\n",
      "100%|██████████| 30/30 [00:00<00:00, 202.51it/s]"
     ]
    },
    {
     "name": "stdout",
     "output_type": "stream",
     "text": [
      "\n",
      "FID: 87.4113\n",
      "Time: 0.12 min\n",
      "\n",
      "-- Partial --\n",
      "Best Epoch: epoch-106\n",
      "Best FID: 78.4276\n",
      "\n",
      "--------------------------------\n",
      "\n",
      "Epoch: 110\n"
     ]
    },
    {
     "name": "stderr",
     "output_type": "stream",
     "text": [
      "\n",
      "100%|██████████| 30/30 [00:00<00:00, 203.90it/s]"
     ]
    },
    {
     "name": "stdout",
     "output_type": "stream",
     "text": [
      "\n",
      "FID: 84.0956\n",
      "Time: 0.12 min\n",
      "\n",
      "-- Partial --\n",
      "Best Epoch: epoch-106\n",
      "Best FID: 78.4276\n",
      "\n",
      "--------------------------------\n",
      "\n",
      "Epoch: 111\n"
     ]
    },
    {
     "name": "stderr",
     "output_type": "stream",
     "text": [
      "\n",
      "100%|██████████| 30/30 [00:00<00:00, 208.93it/s]"
     ]
    },
    {
     "name": "stdout",
     "output_type": "stream",
     "text": [
      "\n",
      "FID: 77.3652\n",
      "Time: 0.12 min\n",
      "\n",
      "-- Partial --\n",
      "Best Epoch: epoch-111\n",
      "Best FID: 77.3652\n",
      "\n",
      "--------------------------------\n",
      "\n",
      "Epoch: 112\n"
     ]
    },
    {
     "name": "stderr",
     "output_type": "stream",
     "text": [
      "\n",
      "100%|██████████| 30/30 [00:00<00:00, 203.85it/s]"
     ]
    },
    {
     "name": "stdout",
     "output_type": "stream",
     "text": [
      "\n",
      "FID: 86.6867\n",
      "Time: 0.12 min\n",
      "\n",
      "-- Partial --\n",
      "Best Epoch: epoch-111\n",
      "Best FID: 77.3652\n",
      "\n",
      "--------------------------------\n",
      "\n",
      "Epoch: 113\n"
     ]
    },
    {
     "name": "stderr",
     "output_type": "stream",
     "text": [
      "\n",
      "100%|██████████| 30/30 [00:00<00:00, 212.59it/s]"
     ]
    },
    {
     "name": "stdout",
     "output_type": "stream",
     "text": [
      "\n",
      "FID: 79.8315\n",
      "Time: 0.12 min\n",
      "\n",
      "-- Partial --\n",
      "Best Epoch: epoch-111\n",
      "Best FID: 77.3652\n",
      "\n",
      "--------------------------------\n",
      "\n",
      "Epoch: 114\n"
     ]
    },
    {
     "name": "stderr",
     "output_type": "stream",
     "text": [
      "\n",
      "100%|██████████| 30/30 [00:00<00:00, 205.28it/s]"
     ]
    },
    {
     "name": "stdout",
     "output_type": "stream",
     "text": [
      "\n",
      "FID: 86.9103\n",
      "Time: 0.12 min\n",
      "\n",
      "-- Partial --\n",
      "Best Epoch: epoch-111\n",
      "Best FID: 77.3652\n",
      "\n",
      "--------------------------------\n",
      "\n",
      "Epoch: 115\n"
     ]
    },
    {
     "name": "stderr",
     "output_type": "stream",
     "text": [
      "\n",
      "100%|██████████| 30/30 [00:00<00:00, 205.06it/s]"
     ]
    },
    {
     "name": "stdout",
     "output_type": "stream",
     "text": [
      "\n",
      "FID: 88.0949\n",
      "Time: 0.12 min\n",
      "\n",
      "-- Partial --\n",
      "Best Epoch: epoch-111\n",
      "Best FID: 77.3652\n",
      "\n",
      "--------------------------------\n",
      "\n",
      "Epoch: 116\n"
     ]
    },
    {
     "name": "stderr",
     "output_type": "stream",
     "text": [
      "\n",
      "100%|██████████| 30/30 [00:00<00:00, 202.52it/s]"
     ]
    },
    {
     "name": "stdout",
     "output_type": "stream",
     "text": [
      "\n",
      "FID: 84.4827\n",
      "Time: 0.12 min\n",
      "\n",
      "-- Partial --\n",
      "Best Epoch: epoch-111\n",
      "Best FID: 77.3652\n",
      "\n",
      "--------------------------------\n",
      "\n",
      "Epoch: 117\n"
     ]
    },
    {
     "name": "stderr",
     "output_type": "stream",
     "text": [
      "\n",
      "100%|██████████| 30/30 [00:00<00:00, 206.71it/s]"
     ]
    },
    {
     "name": "stdout",
     "output_type": "stream",
     "text": [
      "\n",
      "FID: 103.8940\n",
      "Time: 0.12 min\n",
      "\n",
      "-- Partial --\n",
      "Best Epoch: epoch-111\n",
      "Best FID: 77.3652\n",
      "\n",
      "--------------------------------\n",
      "\n",
      "Epoch: 118\n"
     ]
    },
    {
     "name": "stderr",
     "output_type": "stream",
     "text": [
      "\n",
      "100%|██████████| 30/30 [00:00<00:00, 211.08it/s]"
     ]
    },
    {
     "name": "stdout",
     "output_type": "stream",
     "text": [
      "\n",
      "FID: 88.8265\n",
      "Time: 0.12 min\n",
      "\n",
      "-- Partial --\n",
      "Best Epoch: epoch-111\n",
      "Best FID: 77.3652\n",
      "\n",
      "--------------------------------\n",
      "\n",
      "Epoch: 119\n"
     ]
    },
    {
     "name": "stderr",
     "output_type": "stream",
     "text": [
      "\n",
      "100%|██████████| 30/30 [00:00<00:00, 205.28it/s]"
     ]
    },
    {
     "name": "stdout",
     "output_type": "stream",
     "text": [
      "\n",
      "FID: 82.1521\n",
      "Time: 0.12 min\n",
      "\n",
      "-- Partial --\n",
      "Best Epoch: epoch-111\n",
      "Best FID: 77.3652\n",
      "\n",
      "--------------------------------\n",
      "\n",
      "Epoch: 120\n"
     ]
    },
    {
     "name": "stderr",
     "output_type": "stream",
     "text": [
      "\n",
      "100%|██████████| 30/30 [00:00<00:00, 216.16it/s]"
     ]
    },
    {
     "name": "stdout",
     "output_type": "stream",
     "text": [
      "\n",
      "FID: 79.7762\n",
      "Time: 0.12 min\n",
      "\n",
      "-- Partial --\n",
      "Best Epoch: epoch-111\n",
      "Best FID: 77.3652\n",
      "\n",
      "--------------------------------\n",
      "\n",
      "Epoch: 121\n"
     ]
    },
    {
     "name": "stderr",
     "output_type": "stream",
     "text": [
      "\n",
      "100%|██████████| 30/30 [00:00<00:00, 206.71it/s]"
     ]
    },
    {
     "name": "stdout",
     "output_type": "stream",
     "text": [
      "\n",
      "FID: 80.1483\n",
      "Time: 0.12 min\n",
      "\n",
      "-- Partial --\n",
      "Best Epoch: epoch-111\n",
      "Best FID: 77.3652\n",
      "\n",
      "--------------------------------\n",
      "\n",
      "Epoch: 122\n"
     ]
    },
    {
     "name": "stderr",
     "output_type": "stream",
     "text": [
      "\n",
      "100%|██████████| 30/30 [00:00<00:00, 217.19it/s]"
     ]
    },
    {
     "name": "stdout",
     "output_type": "stream",
     "text": [
      "\n",
      "FID: 86.4634\n",
      "Time: 0.12 min\n",
      "\n",
      "-- Partial --\n",
      "Best Epoch: epoch-111\n",
      "Best FID: 77.3652\n",
      "\n",
      "--------------------------------\n",
      "\n",
      "Epoch: 123\n"
     ]
    },
    {
     "name": "stderr",
     "output_type": "stream",
     "text": [
      "\n",
      "100%|██████████| 30/30 [00:00<00:00, 211.06it/s]"
     ]
    },
    {
     "name": "stdout",
     "output_type": "stream",
     "text": [
      "\n",
      "FID: 78.3221\n",
      "Time: 0.12 min\n",
      "\n",
      "-- Partial --\n",
      "Best Epoch: epoch-111\n",
      "Best FID: 77.3652\n",
      "\n",
      "--------------------------------\n",
      "\n",
      "Epoch: 124\n"
     ]
    },
    {
     "name": "stderr",
     "output_type": "stream",
     "text": [
      "\n",
      "100%|██████████| 30/30 [00:00<00:00, 205.28it/s]"
     ]
    },
    {
     "name": "stdout",
     "output_type": "stream",
     "text": [
      "\n",
      "FID: 82.3766\n",
      "Time: 0.12 min\n",
      "\n",
      "-- Partial --\n",
      "Best Epoch: epoch-111\n",
      "Best FID: 77.3652\n",
      "\n",
      "--------------------------------\n",
      "\n",
      "Epoch: 125\n"
     ]
    },
    {
     "name": "stderr",
     "output_type": "stream",
     "text": [
      "\n",
      "100%|██████████| 30/30 [00:00<00:00, 209.84it/s]"
     ]
    },
    {
     "name": "stdout",
     "output_type": "stream",
     "text": [
      "\n",
      "FID: 81.2512\n",
      "Time: 0.12 min\n",
      "\n",
      "-- Partial --\n",
      "Best Epoch: epoch-111\n",
      "Best FID: 77.3652\n",
      "\n",
      "--------------------------------\n",
      "\n",
      "Epoch: 126\n"
     ]
    },
    {
     "name": "stderr",
     "output_type": "stream",
     "text": [
      "\n",
      "100%|██████████| 30/30 [00:00<00:00, 211.07it/s]"
     ]
    },
    {
     "name": "stdout",
     "output_type": "stream",
     "text": [
      "\n",
      "FID: 86.1459\n",
      "Time: 0.12 min\n",
      "\n",
      "-- Partial --\n",
      "Best Epoch: epoch-111\n",
      "Best FID: 77.3652\n",
      "\n",
      "--------------------------------\n",
      "\n",
      "Epoch: 127\n"
     ]
    },
    {
     "name": "stderr",
     "output_type": "stream",
     "text": [
      "\n",
      "100%|██████████| 30/30 [00:00<00:00, 210.86it/s]"
     ]
    },
    {
     "name": "stdout",
     "output_type": "stream",
     "text": [
      "\n",
      "FID: 86.3876\n",
      "Time: 0.12 min\n",
      "\n",
      "-- Partial --\n",
      "Best Epoch: epoch-111\n",
      "Best FID: 77.3652\n",
      "\n",
      "--------------------------------\n",
      "\n",
      "Epoch: 128\n"
     ]
    },
    {
     "name": "stderr",
     "output_type": "stream",
     "text": [
      "\n",
      "100%|██████████| 30/30 [00:00<00:00, 212.57it/s]"
     ]
    },
    {
     "name": "stdout",
     "output_type": "stream",
     "text": [
      "\n",
      "FID: 88.8276\n",
      "Time: 0.12 min\n",
      "\n",
      "-- Partial --\n",
      "Best Epoch: epoch-111\n",
      "Best FID: 77.3652\n",
      "\n",
      "--------------------------------\n",
      "\n",
      "Epoch: 129\n"
     ]
    },
    {
     "name": "stderr",
     "output_type": "stream",
     "text": [
      "\n",
      "100%|██████████| 30/30 [00:00<00:00, 205.29it/s]"
     ]
    },
    {
     "name": "stdout",
     "output_type": "stream",
     "text": [
      "\n",
      "FID: 76.3604\n",
      "Time: 0.12 min\n",
      "\n",
      "-- Partial --\n",
      "Best Epoch: epoch-129\n",
      "Best FID: 76.3604\n",
      "\n",
      "--------------------------------\n",
      "\n",
      "Epoch: 130\n"
     ]
    },
    {
     "name": "stderr",
     "output_type": "stream",
     "text": [
      "\n",
      "100%|██████████| 30/30 [00:00<00:00, 212.57it/s]"
     ]
    },
    {
     "name": "stdout",
     "output_type": "stream",
     "text": [
      "\n",
      "FID: 79.1015\n",
      "Time: 0.12 min\n",
      "\n",
      "-- Partial --\n",
      "Best Epoch: epoch-129\n",
      "Best FID: 76.3604\n",
      "\n",
      "--------------------------------\n",
      "\n",
      "Epoch: 131\n"
     ]
    },
    {
     "name": "stderr",
     "output_type": "stream",
     "text": [
      "\n",
      "100%|██████████| 30/30 [00:00<00:00, 214.46it/s]"
     ]
    },
    {
     "name": "stdout",
     "output_type": "stream",
     "text": [
      "\n",
      "FID: 86.7787\n",
      "Time: 0.12 min\n",
      "\n",
      "-- Partial --\n",
      "Best Epoch: epoch-129\n",
      "Best FID: 76.3604\n",
      "\n",
      "--------------------------------\n",
      "\n",
      "Epoch: 132\n"
     ]
    },
    {
     "name": "stderr",
     "output_type": "stream",
     "text": [
      "\n",
      "100%|██████████| 30/30 [00:00<00:00, 211.33it/s]"
     ]
    },
    {
     "name": "stdout",
     "output_type": "stream",
     "text": [
      "\n",
      "FID: 82.0930\n",
      "Time: 0.12 min\n",
      "\n",
      "-- Partial --\n",
      "Best Epoch: epoch-129\n",
      "Best FID: 76.3604\n",
      "\n",
      "--------------------------------\n",
      "\n",
      "Epoch: 133\n"
     ]
    },
    {
     "name": "stderr",
     "output_type": "stream",
     "text": [
      "\n",
      "100%|██████████| 30/30 [00:00<00:00, 209.59it/s]"
     ]
    },
    {
     "name": "stdout",
     "output_type": "stream",
     "text": [
      "\n",
      "FID: 86.9940\n",
      "Time: 0.12 min\n",
      "\n",
      "-- Partial --\n",
      "Best Epoch: epoch-129\n",
      "Best FID: 76.3604\n",
      "\n",
      "--------------------------------\n",
      "\n",
      "Epoch: 134\n"
     ]
    },
    {
     "name": "stderr",
     "output_type": "stream",
     "text": [
      "\n",
      "100%|██████████| 30/30 [00:00<00:00, 206.69it/s]"
     ]
    },
    {
     "name": "stdout",
     "output_type": "stream",
     "text": [
      "\n",
      "FID: 91.3581\n",
      "Time: 0.12 min\n",
      "\n",
      "-- Partial --\n",
      "Best Epoch: epoch-129\n",
      "Best FID: 76.3604\n",
      "\n",
      "--------------------------------\n",
      "\n",
      "Epoch: 135\n"
     ]
    },
    {
     "name": "stderr",
     "output_type": "stream",
     "text": [
      "\n",
      "100%|██████████| 30/30 [00:00<00:00, 206.71it/s]"
     ]
    },
    {
     "name": "stdout",
     "output_type": "stream",
     "text": [
      "\n",
      "FID: 89.8892\n",
      "Time: 0.12 min\n",
      "\n",
      "-- Partial --\n",
      "Best Epoch: epoch-129\n",
      "Best FID: 76.3604\n",
      "\n",
      "--------------------------------\n",
      "\n",
      "Epoch: 136\n"
     ]
    },
    {
     "name": "stderr",
     "output_type": "stream",
     "text": [
      "\n",
      "100%|██████████| 30/30 [00:00<00:00, 209.61it/s]"
     ]
    },
    {
     "name": "stdout",
     "output_type": "stream",
     "text": [
      "\n",
      "FID: 84.5175\n",
      "Time: 0.12 min\n",
      "\n",
      "-- Partial --\n",
      "Best Epoch: epoch-129\n",
      "Best FID: 76.3604\n",
      "\n",
      "--------------------------------\n",
      "\n",
      "Epoch: 137\n"
     ]
    },
    {
     "name": "stderr",
     "output_type": "stream",
     "text": [
      "\n",
      "100%|██████████| 30/30 [00:00<00:00, 203.90it/s]"
     ]
    },
    {
     "name": "stdout",
     "output_type": "stream",
     "text": [
      "\n",
      "FID: 88.7342\n",
      "Time: 0.12 min\n",
      "\n",
      "-- Partial --\n",
      "Best Epoch: epoch-129\n",
      "Best FID: 76.3604\n",
      "\n",
      "--------------------------------\n",
      "\n",
      "Epoch: 138\n"
     ]
    },
    {
     "name": "stderr",
     "output_type": "stream",
     "text": [
      "\n",
      "100%|██████████| 30/30 [00:00<00:00, 204.34it/s]"
     ]
    },
    {
     "name": "stdout",
     "output_type": "stream",
     "text": [
      "\n",
      "FID: 80.1006\n",
      "Time: 0.12 min\n",
      "\n",
      "-- Partial --\n",
      "Best Epoch: epoch-129\n",
      "Best FID: 76.3604\n",
      "\n",
      "--------------------------------\n",
      "\n",
      "Epoch: 139\n"
     ]
    },
    {
     "name": "stderr",
     "output_type": "stream",
     "text": [
      "\n",
      "100%|██████████| 30/30 [00:00<00:00, 208.14it/s]"
     ]
    },
    {
     "name": "stdout",
     "output_type": "stream",
     "text": [
      "\n",
      "FID: 81.4963\n",
      "Time: 0.12 min\n",
      "\n",
      "-- Partial --\n",
      "Best Epoch: epoch-129\n",
      "Best FID: 76.3604\n",
      "\n",
      "--------------------------------\n",
      "\n",
      "Epoch: 140\n"
     ]
    },
    {
     "name": "stderr",
     "output_type": "stream",
     "text": [
      "\n",
      "100%|██████████| 30/30 [00:00<00:00, 203.90it/s]"
     ]
    },
    {
     "name": "stdout",
     "output_type": "stream",
     "text": [
      "\n",
      "FID: 84.9082\n",
      "Time: 0.12 min\n",
      "\n",
      "-- Partial --\n",
      "Best Epoch: epoch-129\n",
      "Best FID: 76.3604\n",
      "\n",
      "--------------------------------\n",
      "\n",
      "Epoch: 141\n"
     ]
    },
    {
     "name": "stderr",
     "output_type": "stream",
     "text": [
      "\n",
      "100%|██████████| 30/30 [00:00<00:00, 209.58it/s]"
     ]
    },
    {
     "name": "stdout",
     "output_type": "stream",
     "text": [
      "\n",
      "FID: 80.1087\n",
      "Time: 0.12 min\n",
      "\n",
      "-- Partial --\n",
      "Best Epoch: epoch-129\n",
      "Best FID: 76.3604\n",
      "\n",
      "--------------------------------\n",
      "\n",
      "Epoch: 142\n"
     ]
    },
    {
     "name": "stderr",
     "output_type": "stream",
     "text": [
      "\n",
      "100%|██████████| 30/30 [00:00<00:00, 206.82it/s]"
     ]
    },
    {
     "name": "stdout",
     "output_type": "stream",
     "text": [
      "\n",
      "FID: 80.9694\n",
      "Time: 0.12 min\n",
      "\n",
      "-- Partial --\n",
      "Best Epoch: epoch-129\n",
      "Best FID: 76.3604\n",
      "\n",
      "--------------------------------\n",
      "\n",
      "Epoch: 143\n"
     ]
    },
    {
     "name": "stderr",
     "output_type": "stream",
     "text": [
      "\n",
      "100%|██████████| 30/30 [00:00<00:00, 205.28it/s]"
     ]
    },
    {
     "name": "stdout",
     "output_type": "stream",
     "text": [
      "\n",
      "FID: 82.7565\n",
      "Time: 0.12 min\n",
      "\n",
      "-- Partial --\n",
      "Best Epoch: epoch-129\n",
      "Best FID: 76.3604\n",
      "\n",
      "--------------------------------\n",
      "\n",
      "Epoch: 144\n"
     ]
    },
    {
     "name": "stderr",
     "output_type": "stream",
     "text": [
      "\n",
      "100%|██████████| 30/30 [00:00<00:00, 212.59it/s]"
     ]
    },
    {
     "name": "stdout",
     "output_type": "stream",
     "text": [
      "\n",
      "FID: 82.5374\n",
      "Time: 0.12 min\n",
      "\n",
      "-- Partial --\n",
      "Best Epoch: epoch-129\n",
      "Best FID: 76.3604\n",
      "\n",
      "--------------------------------\n",
      "\n",
      "Epoch: 145\n"
     ]
    },
    {
     "name": "stderr",
     "output_type": "stream",
     "text": [
      "\n",
      "100%|██████████| 30/30 [00:00<00:00, 208.72it/s]"
     ]
    },
    {
     "name": "stdout",
     "output_type": "stream",
     "text": [
      "\n",
      "FID: 89.1441\n",
      "Time: 0.12 min\n",
      "\n",
      "-- Partial --\n",
      "Best Epoch: epoch-129\n",
      "Best FID: 76.3604\n",
      "\n",
      "--------------------------------\n",
      "\n",
      "Epoch: 146\n"
     ]
    },
    {
     "name": "stderr",
     "output_type": "stream",
     "text": [
      "\n",
      "100%|██████████| 30/30 [00:00<00:00, 205.29it/s]"
     ]
    },
    {
     "name": "stdout",
     "output_type": "stream",
     "text": [
      "\n",
      "FID: 81.6709\n",
      "Time: 0.12 min\n",
      "\n",
      "-- Partial --\n",
      "Best Epoch: epoch-129\n",
      "Best FID: 76.3604\n",
      "\n",
      "--------------------------------\n",
      "\n",
      "Epoch: 147\n"
     ]
    },
    {
     "name": "stderr",
     "output_type": "stream",
     "text": [
      "\n",
      "100%|██████████| 30/30 [00:00<00:00, 204.71it/s]"
     ]
    },
    {
     "name": "stdout",
     "output_type": "stream",
     "text": [
      "\n",
      "FID: 79.1882\n",
      "Time: 0.12 min\n",
      "\n",
      "-- Partial --\n",
      "Best Epoch: epoch-129\n",
      "Best FID: 76.3604\n",
      "\n",
      "--------------------------------\n",
      "\n",
      "Epoch: 148\n"
     ]
    },
    {
     "name": "stderr",
     "output_type": "stream",
     "text": [
      "\n",
      "100%|██████████| 30/30 [00:00<00:00, 211.16it/s]"
     ]
    },
    {
     "name": "stdout",
     "output_type": "stream",
     "text": [
      "\n",
      "FID: 92.0634\n",
      "Time: 0.12 min\n",
      "\n",
      "-- Partial --\n",
      "Best Epoch: epoch-129\n",
      "Best FID: 76.3604\n",
      "\n",
      "--------------------------------\n",
      "\n",
      "Epoch: 149\n"
     ]
    },
    {
     "name": "stderr",
     "output_type": "stream",
     "text": [
      "\n",
      "100%|██████████| 30/30 [00:00<00:00, 205.29it/s]"
     ]
    },
    {
     "name": "stdout",
     "output_type": "stream",
     "text": [
      "\n",
      "FID: 89.1345\n",
      "Time: 0.12 min\n",
      "\n",
      "-- Partial --\n",
      "Best Epoch: epoch-129\n",
      "Best FID: 76.3604\n",
      "\n",
      "--------------------------------\n",
      "\n",
      "Epoch: 150\n"
     ]
    },
    {
     "name": "stderr",
     "output_type": "stream",
     "text": [
      "\n",
      "100%|██████████| 30/30 [00:00<00:00, 203.90it/s]"
     ]
    },
    {
     "name": "stdout",
     "output_type": "stream",
     "text": [
      "\n",
      "FID: 85.5499\n",
      "Time: 0.12 min\n",
      "\n",
      "-- Partial --\n",
      "Best Epoch: epoch-129\n",
      "Best FID: 76.3604\n",
      "\n",
      "--------------------------------\n",
      "\n",
      "Epoch: 151\n"
     ]
    },
    {
     "name": "stderr",
     "output_type": "stream",
     "text": [
      "\n",
      "100%|██████████| 30/30 [00:00<00:00, 202.22it/s]"
     ]
    },
    {
     "name": "stdout",
     "output_type": "stream",
     "text": [
      "\n",
      "FID: 89.5307\n",
      "Time: 0.12 min\n",
      "\n",
      "-- Partial --\n",
      "Best Epoch: epoch-129\n",
      "Best FID: 76.3604\n",
      "\n",
      "--------------------------------\n",
      "\n",
      "Epoch: 152\n"
     ]
    },
    {
     "name": "stderr",
     "output_type": "stream",
     "text": [
      "\n",
      "100%|██████████| 30/30 [00:00<00:00, 195.89it/s]"
     ]
    },
    {
     "name": "stdout",
     "output_type": "stream",
     "text": [
      "\n",
      "FID: 78.8316\n",
      "Time: 0.12 min\n",
      "\n",
      "-- Partial --\n",
      "Best Epoch: epoch-129\n",
      "Best FID: 76.3604\n",
      "\n",
      "--------------------------------\n",
      "\n",
      "Epoch: 153\n"
     ]
    },
    {
     "name": "stderr",
     "output_type": "stream",
     "text": [
      "\n",
      "100%|██████████| 30/30 [00:00<00:00, 203.91it/s]"
     ]
    },
    {
     "name": "stdout",
     "output_type": "stream",
     "text": [
      "\n",
      "FID: 93.6108\n",
      "Time: 0.12 min\n",
      "\n",
      "-- Partial --\n",
      "Best Epoch: epoch-129\n",
      "Best FID: 76.3604\n",
      "\n",
      "--------------------------------\n",
      "\n",
      "Epoch: 154\n"
     ]
    },
    {
     "name": "stderr",
     "output_type": "stream",
     "text": [
      "\n",
      "100%|██████████| 30/30 [00:00<00:00, 200.64it/s]"
     ]
    },
    {
     "name": "stdout",
     "output_type": "stream",
     "text": [
      "\n",
      "FID: 78.8563\n",
      "Time: 0.12 min\n",
      "\n",
      "-- Partial --\n",
      "Best Epoch: epoch-129\n",
      "Best FID: 76.3604\n",
      "\n",
      "--------------------------------\n",
      "\n",
      "Epoch: 155\n"
     ]
    },
    {
     "name": "stderr",
     "output_type": "stream",
     "text": [
      "\n",
      "100%|██████████| 30/30 [00:00<00:00, 202.52it/s]"
     ]
    },
    {
     "name": "stdout",
     "output_type": "stream",
     "text": [
      "\n",
      "FID: 80.2366\n",
      "Time: 0.12 min\n",
      "\n",
      "-- Partial --\n",
      "Best Epoch: epoch-129\n",
      "Best FID: 76.3604\n",
      "\n",
      "--------------------------------\n",
      "\n",
      "Epoch: 156\n"
     ]
    },
    {
     "name": "stderr",
     "output_type": "stream",
     "text": [
      "\n",
      "100%|██████████| 30/30 [00:00<00:00, 205.30it/s]"
     ]
    },
    {
     "name": "stdout",
     "output_type": "stream",
     "text": [
      "\n",
      "FID: 87.0570\n",
      "Time: 0.12 min\n",
      "\n",
      "-- Partial --\n",
      "Best Epoch: epoch-129\n",
      "Best FID: 76.3604\n",
      "\n",
      "--------------------------------\n",
      "\n",
      "Epoch: 157\n"
     ]
    },
    {
     "name": "stderr",
     "output_type": "stream",
     "text": [
      "\n",
      "100%|██████████| 30/30 [00:00<00:00, 204.74it/s]"
     ]
    },
    {
     "name": "stdout",
     "output_type": "stream",
     "text": [
      "\n",
      "FID: 93.3960\n",
      "Time: 0.12 min\n",
      "\n",
      "-- Partial --\n",
      "Best Epoch: epoch-129\n",
      "Best FID: 76.3604\n",
      "\n",
      "--------------------------------\n",
      "\n",
      "Epoch: 158\n"
     ]
    },
    {
     "name": "stderr",
     "output_type": "stream",
     "text": [
      "\n",
      "100%|██████████| 30/30 [00:00<00:00, 206.71it/s]"
     ]
    },
    {
     "name": "stdout",
     "output_type": "stream",
     "text": [
      "\n",
      "FID: 87.7712\n",
      "Time: 0.12 min\n",
      "\n",
      "-- Partial --\n",
      "Best Epoch: epoch-129\n",
      "Best FID: 76.3604\n",
      "\n",
      "--------------------------------\n",
      "\n",
      "Epoch: 159\n"
     ]
    },
    {
     "name": "stderr",
     "output_type": "stream",
     "text": [
      "\n",
      "100%|██████████| 30/30 [00:00<00:00, 203.90it/s]"
     ]
    },
    {
     "name": "stdout",
     "output_type": "stream",
     "text": [
      "\n",
      "FID: 97.4296\n",
      "Time: 0.12 min\n",
      "\n",
      "-- Partial --\n",
      "Best Epoch: epoch-129\n",
      "Best FID: 76.3604\n",
      "\n",
      "--------------------------------\n",
      "\n",
      "Epoch: 160\n"
     ]
    },
    {
     "name": "stderr",
     "output_type": "stream",
     "text": [
      "\n",
      "100%|██████████| 30/30 [00:00<00:00, 205.34it/s]"
     ]
    },
    {
     "name": "stdout",
     "output_type": "stream",
     "text": [
      "\n",
      "FID: 86.4112\n",
      "Time: 0.12 min\n",
      "\n",
      "-- Partial --\n",
      "Best Epoch: epoch-129\n",
      "Best FID: 76.3604\n",
      "\n",
      "--------------------------------\n",
      "\n",
      "Epoch: 161\n"
     ]
    },
    {
     "name": "stderr",
     "output_type": "stream",
     "text": [
      "\n",
      "100%|██████████| 30/30 [00:00<00:00, 211.08it/s]"
     ]
    },
    {
     "name": "stdout",
     "output_type": "stream",
     "text": [
      "\n",
      "FID: 79.3228\n",
      "Time: 0.12 min\n",
      "\n",
      "-- Partial --\n",
      "Best Epoch: epoch-129\n",
      "Best FID: 76.3604\n",
      "\n",
      "--------------------------------\n",
      "\n",
      "Epoch: 162\n"
     ]
    },
    {
     "name": "stderr",
     "output_type": "stream",
     "text": [
      "\n",
      "100%|██████████| 30/30 [00:00<00:00, 203.89it/s]"
     ]
    },
    {
     "name": "stdout",
     "output_type": "stream",
     "text": [
      "\n",
      "FID: 86.9887\n",
      "Time: 0.12 min\n",
      "\n",
      "-- Partial --\n",
      "Best Epoch: epoch-129\n",
      "Best FID: 76.3604\n",
      "\n",
      "--------------------------------\n",
      "\n",
      "Epoch: 163\n"
     ]
    },
    {
     "name": "stderr",
     "output_type": "stream",
     "text": [
      "\n",
      "100%|██████████| 30/30 [00:00<00:00, 212.85it/s]"
     ]
    },
    {
     "name": "stdout",
     "output_type": "stream",
     "text": [
      "\n",
      "FID: 88.8539\n",
      "Time: 0.12 min\n",
      "\n",
      "-- Partial --\n",
      "Best Epoch: epoch-129\n",
      "Best FID: 76.3604\n",
      "\n",
      "--------------------------------\n",
      "\n",
      "Epoch: 164\n"
     ]
    },
    {
     "name": "stderr",
     "output_type": "stream",
     "text": [
      "\n",
      "100%|██████████| 30/30 [00:00<00:00, 208.14it/s]"
     ]
    },
    {
     "name": "stdout",
     "output_type": "stream",
     "text": [
      "\n",
      "FID: 95.6496\n",
      "Time: 0.12 min\n",
      "\n",
      "-- Partial --\n",
      "Best Epoch: epoch-129\n",
      "Best FID: 76.3604\n",
      "\n",
      "--------------------------------\n",
      "\n",
      "Epoch: 165\n"
     ]
    },
    {
     "name": "stderr",
     "output_type": "stream",
     "text": [
      "\n",
      "100%|██████████| 30/30 [00:00<00:00, 209.60it/s]"
     ]
    },
    {
     "name": "stdout",
     "output_type": "stream",
     "text": [
      "\n",
      "FID: 87.9486\n",
      "Time: 0.12 min\n",
      "\n",
      "-- Partial --\n",
      "Best Epoch: epoch-129\n",
      "Best FID: 76.3604\n",
      "\n",
      "--------------------------------\n",
      "\n",
      "Epoch: 166\n"
     ]
    },
    {
     "name": "stderr",
     "output_type": "stream",
     "text": [
      "\n",
      "100%|██████████| 30/30 [00:00<00:00, 207.48it/s]"
     ]
    },
    {
     "name": "stdout",
     "output_type": "stream",
     "text": [
      "\n",
      "FID: 81.5192\n",
      "Time: 0.12 min\n",
      "\n",
      "-- Partial --\n",
      "Best Epoch: epoch-129\n",
      "Best FID: 76.3604\n",
      "\n",
      "--------------------------------\n",
      "\n",
      "Epoch: 167\n"
     ]
    },
    {
     "name": "stderr",
     "output_type": "stream",
     "text": [
      "\n",
      "100%|██████████| 30/30 [00:00<00:00, 205.31it/s]"
     ]
    },
    {
     "name": "stdout",
     "output_type": "stream",
     "text": [
      "\n",
      "FID: 81.5313\n",
      "Time: 0.12 min\n",
      "\n",
      "-- Partial --\n",
      "Best Epoch: epoch-129\n",
      "Best FID: 76.3604\n",
      "\n",
      "--------------------------------\n",
      "\n",
      "Epoch: 168\n"
     ]
    },
    {
     "name": "stderr",
     "output_type": "stream",
     "text": [
      "\n",
      "100%|██████████| 30/30 [00:00<00:00, 206.71it/s]"
     ]
    },
    {
     "name": "stdout",
     "output_type": "stream",
     "text": [
      "\n",
      "FID: 84.6457\n",
      "Time: 0.12 min\n",
      "\n",
      "-- Partial --\n",
      "Best Epoch: epoch-129\n",
      "Best FID: 76.3604\n",
      "\n",
      "--------------------------------\n",
      "\n",
      "Epoch: 169\n"
     ]
    },
    {
     "name": "stderr",
     "output_type": "stream",
     "text": [
      "\n",
      "100%|██████████| 30/30 [00:00<00:00, 211.62it/s]"
     ]
    },
    {
     "name": "stdout",
     "output_type": "stream",
     "text": [
      "\n",
      "FID: 80.8242\n",
      "Time: 0.12 min\n",
      "\n",
      "-- Partial --\n",
      "Best Epoch: epoch-129\n",
      "Best FID: 76.3604\n",
      "\n",
      "--------------------------------\n",
      "\n",
      "Epoch: 170\n"
     ]
    },
    {
     "name": "stderr",
     "output_type": "stream",
     "text": [
      "\n",
      "100%|██████████| 30/30 [00:00<00:00, 208.13it/s]"
     ]
    },
    {
     "name": "stdout",
     "output_type": "stream",
     "text": [
      "\n",
      "FID: 80.1035\n",
      "Time: 0.12 min\n",
      "\n",
      "-- Partial --\n",
      "Best Epoch: epoch-129\n",
      "Best FID: 76.3604\n",
      "\n",
      "--------------------------------\n",
      "\n",
      "Epoch: 171\n"
     ]
    },
    {
     "name": "stderr",
     "output_type": "stream",
     "text": [
      "\n",
      "100%|██████████| 30/30 [00:00<00:00, 206.71it/s]"
     ]
    },
    {
     "name": "stdout",
     "output_type": "stream",
     "text": [
      "\n",
      "FID: 85.0272\n",
      "Time: 0.12 min\n",
      "\n",
      "-- Partial --\n",
      "Best Epoch: epoch-129\n",
      "Best FID: 76.3604\n",
      "\n",
      "--------------------------------\n",
      "\n",
      "Epoch: 172\n"
     ]
    },
    {
     "name": "stderr",
     "output_type": "stream",
     "text": [
      "\n",
      "100%|██████████| 30/30 [00:00<00:00, 205.29it/s]"
     ]
    },
    {
     "name": "stdout",
     "output_type": "stream",
     "text": [
      "\n",
      "FID: 80.9230\n",
      "Time: 0.12 min\n",
      "\n",
      "-- Partial --\n",
      "Best Epoch: epoch-129\n",
      "Best FID: 76.3604\n",
      "\n",
      "--------------------------------\n",
      "\n",
      "Epoch: 173\n"
     ]
    },
    {
     "name": "stderr",
     "output_type": "stream",
     "text": [
      "\n",
      "100%|██████████| 30/30 [00:00<00:00, 201.15it/s]"
     ]
    },
    {
     "name": "stdout",
     "output_type": "stream",
     "text": [
      "\n",
      "FID: 83.6637\n",
      "Time: 0.12 min\n",
      "\n",
      "-- Partial --\n",
      "Best Epoch: epoch-129\n",
      "Best FID: 76.3604\n",
      "\n",
      "--------------------------------\n",
      "\n",
      "Epoch: 174\n"
     ]
    },
    {
     "name": "stderr",
     "output_type": "stream",
     "text": [
      "\n",
      "100%|██████████| 30/30 [00:00<00:00, 211.09it/s]"
     ]
    },
    {
     "name": "stdout",
     "output_type": "stream",
     "text": [
      "\n",
      "FID: 77.5965\n",
      "Time: 0.12 min\n",
      "\n",
      "-- Partial --\n",
      "Best Epoch: epoch-129\n",
      "Best FID: 76.3604\n",
      "\n",
      "--------------------------------\n",
      "\n",
      "Epoch: 175\n"
     ]
    },
    {
     "name": "stderr",
     "output_type": "stream",
     "text": [
      "\n",
      "100%|██████████| 30/30 [00:00<00:00, 214.25it/s]"
     ]
    },
    {
     "name": "stdout",
     "output_type": "stream",
     "text": [
      "\n",
      "FID: 85.2904\n",
      "Time: 0.12 min\n",
      "\n",
      "-- Partial --\n",
      "Best Epoch: epoch-129\n",
      "Best FID: 76.3604\n",
      "\n",
      "--------------------------------\n",
      "\n",
      "Epoch: 176\n"
     ]
    },
    {
     "name": "stderr",
     "output_type": "stream",
     "text": [
      "\n",
      "100%|██████████| 30/30 [00:00<00:00, 208.13it/s]"
     ]
    },
    {
     "name": "stdout",
     "output_type": "stream",
     "text": [
      "\n",
      "FID: 86.1904\n",
      "Time: 0.12 min\n",
      "\n",
      "-- Partial --\n",
      "Best Epoch: epoch-129\n",
      "Best FID: 76.3604\n",
      "\n",
      "--------------------------------\n",
      "\n",
      "Epoch: 177\n"
     ]
    },
    {
     "name": "stderr",
     "output_type": "stream",
     "text": [
      "\n",
      "100%|██████████| 30/30 [00:00<00:00, 208.13it/s]"
     ]
    },
    {
     "name": "stdout",
     "output_type": "stream",
     "text": [
      "\n",
      "FID: 84.2385\n",
      "Time: 0.12 min\n",
      "\n",
      "-- Partial --\n",
      "Best Epoch: epoch-129\n",
      "Best FID: 76.3604\n",
      "\n",
      "--------------------------------\n",
      "\n",
      "Epoch: 178\n"
     ]
    },
    {
     "name": "stderr",
     "output_type": "stream",
     "text": [
      "\n",
      "100%|██████████| 30/30 [00:00<00:00, 213.53it/s]"
     ]
    },
    {
     "name": "stdout",
     "output_type": "stream",
     "text": [
      "\n",
      "FID: 77.2718\n",
      "Time: 0.12 min\n",
      "\n",
      "-- Partial --\n",
      "Best Epoch: epoch-129\n",
      "Best FID: 76.3604\n",
      "\n",
      "--------------------------------\n",
      "\n",
      "Epoch: 179\n"
     ]
    },
    {
     "name": "stderr",
     "output_type": "stream",
     "text": [
      "\n",
      "100%|██████████| 30/30 [00:00<00:00, 209.60it/s]"
     ]
    },
    {
     "name": "stdout",
     "output_type": "stream",
     "text": [
      "\n",
      "FID: 79.6672\n",
      "Time: 0.12 min\n",
      "\n",
      "-- Partial --\n",
      "Best Epoch: epoch-129\n",
      "Best FID: 76.3604\n",
      "\n",
      "--------------------------------\n",
      "\n",
      "Epoch: 180\n"
     ]
    },
    {
     "name": "stderr",
     "output_type": "stream",
     "text": [
      "\n",
      "100%|██████████| 30/30 [00:00<00:00, 210.35it/s]"
     ]
    },
    {
     "name": "stdout",
     "output_type": "stream",
     "text": [
      "\n",
      "FID: 81.7653\n",
      "Time: 0.12 min\n",
      "\n",
      "-- Partial --\n",
      "Best Epoch: epoch-129\n",
      "Best FID: 76.3604\n",
      "\n",
      "--------------------------------\n",
      "\n",
      "Epoch: 181\n"
     ]
    },
    {
     "name": "stderr",
     "output_type": "stream",
     "text": [
      "\n",
      "100%|██████████| 30/30 [00:00<00:00, 206.71it/s]"
     ]
    },
    {
     "name": "stdout",
     "output_type": "stream",
     "text": [
      "\n",
      "FID: 80.3357\n",
      "Time: 0.12 min\n",
      "\n",
      "-- Partial --\n",
      "Best Epoch: epoch-129\n",
      "Best FID: 76.3604\n",
      "\n",
      "--------------------------------\n",
      "\n",
      "Epoch: 182\n"
     ]
    },
    {
     "name": "stderr",
     "output_type": "stream",
     "text": [
      "\n",
      "100%|██████████| 30/30 [00:00<00:00, 193.78it/s]"
     ]
    },
    {
     "name": "stdout",
     "output_type": "stream",
     "text": [
      "\n",
      "FID: 81.9108\n",
      "Time: 0.12 min\n",
      "\n",
      "-- Partial --\n",
      "Best Epoch: epoch-129\n",
      "Best FID: 76.3604\n",
      "\n",
      "--------------------------------\n",
      "\n",
      "Epoch: 183\n"
     ]
    },
    {
     "name": "stderr",
     "output_type": "stream",
     "text": [
      "\n",
      "100%|██████████| 30/30 [00:00<00:00, 208.16it/s]"
     ]
    },
    {
     "name": "stdout",
     "output_type": "stream",
     "text": [
      "\n",
      "FID: 74.9063\n",
      "Time: 0.12 min\n",
      "\n",
      "-- Partial --\n",
      "Best Epoch: epoch-183\n",
      "Best FID: 74.9063\n",
      "\n",
      "--------------------------------\n",
      "\n",
      "Epoch: 184\n"
     ]
    },
    {
     "name": "stderr",
     "output_type": "stream",
     "text": [
      "\n",
      "100%|██████████| 30/30 [00:00<00:00, 211.04it/s]"
     ]
    },
    {
     "name": "stdout",
     "output_type": "stream",
     "text": [
      "\n",
      "FID: 75.5243\n",
      "Time: 0.12 min\n",
      "\n",
      "-- Partial --\n",
      "Best Epoch: epoch-183\n",
      "Best FID: 74.9063\n",
      "\n",
      "--------------------------------\n",
      "\n",
      "Epoch: 185\n"
     ]
    },
    {
     "name": "stderr",
     "output_type": "stream",
     "text": [
      "\n",
      "100%|██████████| 30/30 [00:00<00:00, 205.29it/s]"
     ]
    },
    {
     "name": "stdout",
     "output_type": "stream",
     "text": [
      "\n",
      "FID: 79.5203\n",
      "Time: 0.12 min\n",
      "\n",
      "-- Partial --\n",
      "Best Epoch: epoch-183\n",
      "Best FID: 74.9063\n",
      "\n",
      "--------------------------------\n",
      "\n",
      "Epoch: 186\n"
     ]
    },
    {
     "name": "stderr",
     "output_type": "stream",
     "text": [
      "\n",
      "100%|██████████| 30/30 [00:00<00:00, 203.90it/s]"
     ]
    },
    {
     "name": "stdout",
     "output_type": "stream",
     "text": [
      "\n",
      "FID: 82.4665\n",
      "Time: 0.12 min\n",
      "\n",
      "-- Partial --\n",
      "Best Epoch: epoch-183\n",
      "Best FID: 74.9063\n",
      "\n",
      "--------------------------------\n",
      "\n",
      "Epoch: 187\n"
     ]
    },
    {
     "name": "stderr",
     "output_type": "stream",
     "text": [
      "\n",
      "100%|██████████| 30/30 [00:00<00:00, 206.71it/s]"
     ]
    },
    {
     "name": "stdout",
     "output_type": "stream",
     "text": [
      "\n",
      "FID: 85.9019\n",
      "Time: 0.12 min\n",
      "\n",
      "-- Partial --\n",
      "Best Epoch: epoch-183\n",
      "Best FID: 74.9063\n",
      "\n",
      "--------------------------------\n",
      "\n",
      "Epoch: 188\n"
     ]
    },
    {
     "name": "stderr",
     "output_type": "stream",
     "text": [
      "\n",
      "100%|██████████| 30/30 [00:00<00:00, 212.57it/s]"
     ]
    },
    {
     "name": "stdout",
     "output_type": "stream",
     "text": [
      "\n",
      "FID: 81.9619\n",
      "Time: 0.12 min\n",
      "\n",
      "-- Partial --\n",
      "Best Epoch: epoch-183\n",
      "Best FID: 74.9063\n",
      "\n",
      "--------------------------------\n",
      "\n",
      "Epoch: 189\n"
     ]
    },
    {
     "name": "stderr",
     "output_type": "stream",
     "text": [
      "\n",
      "100%|██████████| 30/30 [00:00<00:00, 209.47it/s]"
     ]
    },
    {
     "name": "stdout",
     "output_type": "stream",
     "text": [
      "\n",
      "FID: 92.9110\n",
      "Time: 0.12 min\n",
      "\n",
      "-- Partial --\n",
      "Best Epoch: epoch-183\n",
      "Best FID: 74.9063\n",
      "\n",
      "--------------------------------\n",
      "\n",
      "Epoch: 190\n"
     ]
    },
    {
     "name": "stderr",
     "output_type": "stream",
     "text": [
      "\n",
      "100%|██████████| 30/30 [00:00<00:00, 208.13it/s]"
     ]
    },
    {
     "name": "stdout",
     "output_type": "stream",
     "text": [
      "\n",
      "FID: 87.3183\n",
      "Time: 0.12 min\n",
      "\n",
      "-- Partial --\n",
      "Best Epoch: epoch-183\n",
      "Best FID: 74.9063\n",
      "\n",
      "--------------------------------\n",
      "\n",
      "Epoch: 191\n"
     ]
    },
    {
     "name": "stderr",
     "output_type": "stream",
     "text": [
      "\n",
      "100%|██████████| 30/30 [00:00<00:00, 211.08it/s]"
     ]
    },
    {
     "name": "stdout",
     "output_type": "stream",
     "text": [
      "\n",
      "FID: 85.0594\n",
      "Time: 0.12 min\n",
      "\n",
      "-- Partial --\n",
      "Best Epoch: epoch-183\n",
      "Best FID: 74.9063\n",
      "\n",
      "--------------------------------\n",
      "\n",
      "Epoch: 192\n"
     ]
    },
    {
     "name": "stderr",
     "output_type": "stream",
     "text": [
      "\n",
      "100%|██████████| 30/30 [00:00<00:00, 202.52it/s]"
     ]
    },
    {
     "name": "stdout",
     "output_type": "stream",
     "text": [
      "\n",
      "FID: 87.6932\n",
      "Time: 0.12 min\n",
      "\n",
      "-- Partial --\n",
      "Best Epoch: epoch-183\n",
      "Best FID: 74.9063\n",
      "\n",
      "--------------------------------\n",
      "\n",
      "Epoch: 193\n"
     ]
    },
    {
     "name": "stderr",
     "output_type": "stream",
     "text": [
      "\n",
      "100%|██████████| 30/30 [00:00<00:00, 208.85it/s]"
     ]
    },
    {
     "name": "stdout",
     "output_type": "stream",
     "text": [
      "\n",
      "FID: 85.0938\n",
      "Time: 0.12 min\n",
      "\n",
      "-- Partial --\n",
      "Best Epoch: epoch-183\n",
      "Best FID: 74.9063\n",
      "\n",
      "--------------------------------\n",
      "\n",
      "Epoch: 194\n"
     ]
    },
    {
     "name": "stderr",
     "output_type": "stream",
     "text": [
      "\n",
      "100%|██████████| 30/30 [00:00<00:00, 211.81it/s]"
     ]
    },
    {
     "name": "stdout",
     "output_type": "stream",
     "text": [
      "\n",
      "FID: 81.2748\n",
      "Time: 0.12 min\n",
      "\n",
      "-- Partial --\n",
      "Best Epoch: epoch-183\n",
      "Best FID: 74.9063\n",
      "\n",
      "--------------------------------\n",
      "\n",
      "Epoch: 195\n"
     ]
    },
    {
     "name": "stderr",
     "output_type": "stream",
     "text": [
      "\n",
      "100%|██████████| 30/30 [00:00<00:00, 210.35it/s]"
     ]
    },
    {
     "name": "stdout",
     "output_type": "stream",
     "text": [
      "\n",
      "FID: 83.4373\n",
      "Time: 0.12 min\n",
      "\n",
      "-- Partial --\n",
      "Best Epoch: epoch-183\n",
      "Best FID: 74.9063\n",
      "\n",
      "--------------------------------\n",
      "\n",
      "Epoch: 196\n"
     ]
    },
    {
     "name": "stderr",
     "output_type": "stream",
     "text": [
      "\n",
      "100%|██████████| 30/30 [00:00<00:00, 205.54it/s]"
     ]
    },
    {
     "name": "stdout",
     "output_type": "stream",
     "text": [
      "\n",
      "FID: 82.4005\n",
      "Time: 0.12 min\n",
      "\n",
      "-- Partial --\n",
      "Best Epoch: epoch-183\n",
      "Best FID: 74.9063\n",
      "\n",
      "--------------------------------\n",
      "\n",
      "Epoch: 197\n"
     ]
    },
    {
     "name": "stderr",
     "output_type": "stream",
     "text": [
      "\n",
      "100%|██████████| 30/30 [00:00<00:00, 208.14it/s]"
     ]
    },
    {
     "name": "stdout",
     "output_type": "stream",
     "text": [
      "\n",
      "FID: 78.0744\n",
      "Time: 0.12 min\n",
      "\n",
      "-- Partial --\n",
      "Best Epoch: epoch-183\n",
      "Best FID: 74.9063\n",
      "\n",
      "--------------------------------\n",
      "\n",
      "Epoch: 198\n"
     ]
    },
    {
     "name": "stderr",
     "output_type": "stream",
     "text": [
      "\n",
      "100%|██████████| 30/30 [00:00<00:00, 208.14it/s]"
     ]
    },
    {
     "name": "stdout",
     "output_type": "stream",
     "text": [
      "\n",
      "FID: 85.5478\n",
      "Time: 0.12 min\n",
      "\n",
      "-- Partial --\n",
      "Best Epoch: epoch-183\n",
      "Best FID: 74.9063\n",
      "\n",
      "--------------------------------\n",
      "\n",
      "Epoch: 199\n"
     ]
    },
    {
     "name": "stderr",
     "output_type": "stream",
     "text": [
      "\n",
      "100%|██████████| 30/30 [00:00<00:00, 208.14it/s]"
     ]
    },
    {
     "name": "stdout",
     "output_type": "stream",
     "text": [
      "\n",
      "FID: 83.3998\n",
      "Time: 0.12 min\n",
      "\n",
      "-- Partial --\n",
      "Best Epoch: epoch-183\n",
      "Best FID: 74.9063\n",
      "\n",
      "--------------------------------\n",
      "\n",
      "Epoch: 200\n"
     ]
    },
    {
     "name": "stderr",
     "output_type": "stream",
     "text": [
      "\n"
     ]
    },
    {
     "name": "stdout",
     "output_type": "stream",
     "text": [
      "\n",
      "FID: 344.2927\n",
      "Time: 0.12 min\n",
      "\n",
      "-- Partial --\n",
      "Best Epoch: epoch-183\n",
      "Best FID: 74.9063\n",
      "\n",
      "----------------------------------------------------\n",
      "Finalized\n",
      "Notebook Time: 2.6e+01 min\n",
      "Best Epoch: epoch-183\n",
      "Best FID: 74.9063\n"
     ]
    }
   ],
   "source": [
    "# example of calculating the frechet inception distance in Keras\n",
    "import numpy\n",
    "from numpy import cov\n",
    "from numpy import trace\n",
    "from numpy import iscomplexobj\n",
    "from numpy import asarray\n",
    "from numpy.random import randint\n",
    "from scipy.linalg import sqrtm\n",
    "from keras.applications.inception_v3 import InceptionV3\n",
    "from keras.applications.inception_v3 import preprocess_input\n",
    "from skimage.transform import resize\n",
    "\n",
    "# Daniel\n",
    "import os\n",
    "from tqdm import tqdm\n",
    "import cv2\n",
    "import numpy as np\n",
    "import time\n",
    "import gc\n",
    "\n",
    "lastTimeNotebook = time.time()\n",
    "\n",
    "def scale_images(images, new_shape):\n",
    "    \n",
    "    images_list = list()\n",
    "    for image in images:\n",
    "        \n",
    "        new_image = resize(image, new_shape, 0)\n",
    "        images_list.append(new_image)\n",
    "        \n",
    "    return asarray(images_list)\n",
    "\n",
    "def calculate_fid(model, images1, mu2, sigma2):\n",
    "    \n",
    "    # calculate activations\n",
    "    act1 = model.predict(images1)\n",
    "    \n",
    "    # calculate mean and covariance statistics\n",
    "    mu1, sigma1 = act1.mean(axis=0), cov(act1, rowvar=False)\n",
    "    \n",
    "    # calculate sum squared difference between means\n",
    "    ssdiff = numpy.sum((mu1 - mu2)**2.0)\n",
    "    \n",
    "    # Daniel\n",
    "    sigma1 = np.array(sigma1, ndmin=2) # https://stackoverflow.com/questions/31698242/python-how-can-i-force-1-element-numpy-arrays-to-be-two-dimensional\n",
    "    \n",
    "    # calculate sqrt of product between cov\n",
    "    covmean = sqrtm(sigma1.dot(sigma2))\n",
    "    \n",
    "    # check and correct imaginary numbers from sqrt\n",
    "    if iscomplexobj(covmean):\n",
    "        covmean = covmean.real\n",
    "        \n",
    "    # calculate score\n",
    "    fid = ssdiff + trace(sigma1 + sigma2 - 2.0 * covmean)\n",
    "    \n",
    "    return fid\n",
    "\n",
    "def loadImages(folder):\n",
    "    \n",
    "    path, dirs, files = next( os.walk( folder ) )\n",
    "\n",
    "    images = []\n",
    "    contador = 0\n",
    "    for file in tqdm(files):\n",
    "\n",
    "        image = cv2.imread( folder + file )\n",
    "        images.append( image )\n",
    "        contador += 1\n",
    "        \n",
    "    images = np.asarray(images)\n",
    "    return images\n",
    "\n",
    "def compareTwoGroups(model, images1, mu2, sigma2):\n",
    "\n",
    "    # convert integer to floating point values\n",
    "    images1 = images1.astype('float32')\n",
    "    \n",
    "    # resize images\n",
    "    images1 = scale_images(images1, (299,299,3))\n",
    "\n",
    "    # pre-process images\n",
    "    images1 = preprocess_input(images1)\n",
    "\n",
    "    # fid between images1 and images2\n",
    "    fid = calculate_fid(model, images1, mu2, sigma2)\n",
    "    \n",
    "    return fid\n",
    "\n",
    "# ---\n",
    "\n",
    "print( '\\nProcessing...' )\n",
    "\n",
    "# prepare the inception v3 model\n",
    "model = InceptionV3(include_top=False, pooling='avg', input_shape=(299,299,3))\n",
    "\n",
    "# Real Images used in training\n",
    "realImages = loadImages(padronizedFolder)\n",
    "gc.collect()\n",
    "realImages = realImages.astype('float32')\n",
    "gc.collect()\n",
    "realImages = scale_images(realImages, (299,299,3))\n",
    "gc.collect()\n",
    "realImages = preprocess_input(realImages)\n",
    "gc.collect()\n",
    "\n",
    "act2 = model.predict(realImages)\n",
    "gc.collect()\n",
    "mu2, sigma2 = act2.mean(axis=0), cov(act2, rowvar=False)\n",
    "gc.collect()\n",
    "sigma2 = np.array(sigma2, ndmin=2) # https://stackoverflow.com/questions/31698242/python-how-can-i-force-1-element-numpy-arrays-to-be-two-dimensional\n",
    "gc.collect()\n",
    "\n",
    "epochsFolders = os.listdir(generatedFolder)\n",
    "totalEpochs = len(epochsFolders)\n",
    "\n",
    "bestEpoch = ''\n",
    "bestFID = 9999\n",
    "\n",
    "lastTime = time.time()\n",
    "for i in range(1, totalEpochs + 1):\n",
    "\n",
    "    print('\\n--------------------------------\\n')\n",
    "    print(f'Epoch: {i}')\n",
    "    \n",
    "    epoch = 'epoch-' + str(i)\n",
    "    generatedImages = loadImages( f'{generatedFolder}/{epoch}/' )\n",
    "\n",
    "    fid = compareTwoGroups(model, generatedImages, mu2, sigma2)\n",
    "\n",
    "    print()\n",
    "    print('FID: %.4f' % fid)\n",
    "\n",
    "    if fid < bestFID:\n",
    "        bestFID = fid\n",
    "        bestEpoch = epoch\n",
    "        \n",
    "    # Time\n",
    "    now = time.time()\n",
    "    interval = now - lastTime\n",
    "    lastTime = now\n",
    "    print('Time: %.2f min' % (interval / 60))\n",
    "    print()\n",
    "    print('-- Partial --')\n",
    "    print(f'Best Epoch: {bestEpoch}')\n",
    "    print('Best FID: %.4f' % bestFID)\n",
    "\n",
    "\n",
    "print( '\\n----------------------------------------------------' )\n",
    "print( 'Finalized' )\n",
    "\n",
    "# Time\n",
    "now = time.time()\n",
    "interval = now - lastTimeNotebook\n",
    "print(f'Notebook Time: {(interval / 60):.2} min')\n",
    "\n",
    "print(f'Best Epoch: {bestEpoch}')\n",
    "print('Best FID: %.4f' % bestFID)"
   ]
  }
 ],
 "metadata": {
  "kernelspec": {
   "display_name": "Python 3",
   "language": "python",
   "name": "python3"
  },
  "language_info": {
   "codemirror_mode": {
    "name": "ipython",
    "version": 3
   },
   "file_extension": ".py",
   "mimetype": "text/x-python",
   "name": "python",
   "nbconvert_exporter": "python",
   "pygments_lexer": "ipython3",
   "version": "3.7.7"
  }
 },
 "nbformat": 4,
 "nbformat_minor": 4
}
